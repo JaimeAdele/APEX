{
  "nbformat": 4,
  "nbformat_minor": 0,
  "metadata": {
    "kernelspec": {
      "display_name": "Python 3",
      "language": "python",
      "name": "python3"
    },
    "language_info": {
      "codemirror_mode": {
        "name": "ipython",
        "version": 3
      },
      "file_extension": ".py",
      "mimetype": "text/x-python",
      "name": "python",
      "nbconvert_exporter": "python",
      "pygments_lexer": "ipython3",
      "version": "3.7.1"
    },
    "colab": {
      "name": "Module3_strings.ipynb",
      "provenance": [],
      "collapsed_sections": [],
      "include_colab_link": true
    }
  },
  "cells": [
    {
      "cell_type": "markdown",
      "metadata": {
        "id": "view-in-github",
        "colab_type": "text"
      },
      "source": [
        "<a href=\"https://colab.research.google.com/github/JaimeAdele/APEX/blob/main/Module3_strings.ipynb\" target=\"_parent\"><img src=\"https://colab.research.google.com/assets/colab-badge.svg\" alt=\"Open In Colab\"/></a>"
      ]
    },
    {
      "cell_type": "markdown",
      "metadata": {
        "id": "tcP2h0QW0A6X"
      },
      "source": [
        "<img src='https://images.pexels.com/photos/247819/pexels-photo-247819.jpeg?w=700&h=250&fit=crop' height=300px witdth=700px>  "
      ]
    },
    {
      "cell_type": "markdown",
      "metadata": {
        "id": "L3vFn9_lzweJ"
      },
      "source": [
        "# APEX Faculty Training, Module 3: Strings\n",
        "Created by Valerie Carr and Jaime Zuspann  \n",
        "Licensed under Creative Commons/MIT License  \n",
        "Last updated: Oct 30, 2021  \n",
        "\n",
        "**Learning outcomes**  \n",
        "1. To learn another Python data type: Strings\n",
        "2. To gain practice with strings and string operators"
      ]
    },
    {
      "cell_type": "markdown",
      "metadata": {
        "id": "LiPDUmfw3Np7"
      },
      "source": [
        "## Remember: Make a copy"
      ]
    },
    {
      "cell_type": "markdown",
      "metadata": {
        "id": "nneRhSTYzweK"
      },
      "source": [
        "## 1. Document your notebook\n",
        "Enter you name as well as today's date at the top of this notebook. \n",
        "\n",
        "Keep in mind PEP8 rules regarding spaces:\n",
        "* Spaces before and after operators\n",
        "* Don't put unnecessary spaces after a function name; just go straight to the parentheses\n",
        "* Don't put unnecessary spaces at the beginning or end of parentheses"
      ]
    },
    {
      "cell_type": "markdown",
      "metadata": {
        "id": "92XS6HDw3dtR"
      },
      "source": [
        "## 2. Determining data type  \n",
        "### 2a. The `type()` function  \n",
        "Python has a built-in function that can be used to determine data type: `type()`. This function can be used to directly determine a value's type or to determine the type of value assigned to a variable.  \n",
        "\n",
        "Run the cells below to see how the `type()` function works on various inputs and feel free to try your own."
      ]
    },
    {
      "cell_type": "code",
      "metadata": {
        "id": "W2n55OBr9mgP"
      },
      "source": [
        "type(6)"
      ],
      "execution_count": null,
      "outputs": []
    },
    {
      "cell_type": "code",
      "metadata": {
        "id": "qhEy9M6G9omU"
      },
      "source": [
        "type(3.14)"
      ],
      "execution_count": null,
      "outputs": []
    },
    {
      "cell_type": "code",
      "metadata": {
        "id": "eCq9kY2t9qi3"
      },
      "source": [
        "type(False)"
      ],
      "execution_count": null,
      "outputs": []
    },
    {
      "cell_type": "code",
      "metadata": {
        "id": "hEXyOfig9svv",
        "colab": {
          "base_uri": "https://localhost:8080/"
        },
        "outputId": "98747354-39f6-444b-8e3d-3f801ef6a902"
      },
      "source": [
        "a = 6 * 4\n",
        "type(a)"
      ],
      "execution_count": null,
      "outputs": [
        {
          "output_type": "execute_result",
          "data": {
            "text/plain": [
              "int"
            ]
          },
          "metadata": {},
          "execution_count": 1
        }
      ]
    },
    {
      "cell_type": "markdown",
      "metadata": {
        "id": "tviipT9y-uQD"
      },
      "source": [
        "### 2b. So why does Python have different data types?  \n",
        "In everyday life, we treat letters and numbers differently:  \n",
        "* We can multiply, divide, or square numbers  \n",
        "* We can use letters to form words and sentences  \n",
        "* But, \"economics\" divided by \"psychology\" doesn't make sense  \n",
        "\n",
        "In other words, we perform different operations on numbers than we do on letters. Python is exactly the same. By knowing the data type, Python knows what operations can be performed."
      ]
    },
    {
      "cell_type": "markdown",
      "metadata": {
        "id": "xteTOWiezweK"
      },
      "source": [
        "### Try it yourself  \n",
        "Each of the cells below contains a value. Insert the built-in function `type()` in front of each value to determine its data type. Remember that the input should go between the parentheses of the function."
      ]
    },
    {
      "cell_type": "code",
      "metadata": {
        "id": "loYySOlczweL",
        "colab": {
          "base_uri": "https://localhost:8080/"
        },
        "outputId": "7cc55096-b4c7-4a2e-b8f6-07139a28bb42"
      },
      "source": [
        "# 2a. 1) \n",
        "False"
      ],
      "execution_count": null,
      "outputs": [
        {
          "output_type": "execute_result",
          "data": {
            "text/plain": [
              "bool"
            ]
          },
          "metadata": {},
          "execution_count": 1
        }
      ]
    },
    {
      "cell_type": "code",
      "metadata": {
        "id": "mVWG1ToIzweO",
        "colab": {
          "base_uri": "https://localhost:8080/"
        },
        "outputId": "9976ed28-be8c-4cda-d84a-bc57b90319c3"
      },
      "source": [
        "# 2a. 2) \n",
        "164.80"
      ],
      "execution_count": null,
      "outputs": [
        {
          "output_type": "execute_result",
          "data": {
            "text/plain": [
              "float"
            ]
          },
          "metadata": {},
          "execution_count": 2
        }
      ]
    },
    {
      "cell_type": "code",
      "metadata": {
        "id": "n4g4iyBYzweQ",
        "colab": {
          "base_uri": "https://localhost:8080/"
        },
        "outputId": "8c252275-5938-4e8e-ea7e-b452ccb5a53d"
      },
      "source": [
        "# 2a. 3) \n",
        "106"
      ],
      "execution_count": null,
      "outputs": [
        {
          "output_type": "execute_result",
          "data": {
            "text/plain": [
              "int"
            ]
          },
          "metadata": {},
          "execution_count": 3
        }
      ]
    },
    {
      "cell_type": "code",
      "metadata": {
        "id": "o7DNvbRNzweT",
        "colab": {
          "base_uri": "https://localhost:8080/"
        },
        "outputId": "69f2ab81-0b4b-4c0b-d923-23975c29e19f"
      },
      "source": [
        "# 2a. 4) \n",
        "'Are you enjoying learning Python so far?'"
      ],
      "execution_count": null,
      "outputs": [
        {
          "output_type": "execute_result",
          "data": {
            "text/plain": [
              "str"
            ]
          },
          "metadata": {},
          "execution_count": 4
        }
      ]
    },
    {
      "cell_type": "markdown",
      "metadata": {
        "id": "Mi25LSVOzweV"
      },
      "source": [
        "In the cell below, create a new line underneath the one I've already written, and use the `type()` function to determine the data type for the value assigned to `answer`."
      ]
    },
    {
      "cell_type": "code",
      "metadata": {
        "id": "Nw1M4i0dzweW",
        "colab": {
          "base_uri": "https://localhost:8080/"
        },
        "outputId": "7617a6e6-c32a-4ed4-9477-9ba710a92e43"
      },
      "source": [
        "# 2a. 5) \n",
        "answer = 'yes'\n"
      ],
      "execution_count": null,
      "outputs": [
        {
          "output_type": "execute_result",
          "data": {
            "text/plain": [
              "str"
            ]
          },
          "metadata": {},
          "execution_count": 5
        }
      ]
    },
    {
      "cell_type": "markdown",
      "metadata": {
        "id": "_vYLpuqNzweY"
      },
      "source": [
        "## 3. Strings  \n",
        "So far, we have learned three different Python data types: integers, floats, and booleans. Now, we'll introduce the fourth type, strings.  \n",
        "\n",
        "A string is a data type that you can think of as text or characters. Letters, punctuation, symbols, spaces, and numbers (when treated as text) can be used in a string.  \n",
        "\n",
        "* 'Hello World!'\n",
        "* 'a'\n",
        "* '555-123-4567'\n",
        "* '#strings'"
      ]
    },
    {
      "cell_type": "markdown",
      "metadata": {
        "id": "6Di6o9wMzweY"
      },
      "source": [
        "### 3a. Quotes\n",
        "The way we tell Python that something is a string is by putting quote marks around it. Python doesn't care if you use single or double quotes. Throughout these modules, you'll see that single quotes are used for strings, but you can choose which you prefer to use, neither is more correct than the other. The important thing is to stay consistent.  \n",
        "\n",
        "Try running the cells below to see the difference quotes make for a number."
      ]
    },
    {
      "cell_type": "code",
      "metadata": {
        "id": "RFQc_jW_Havy",
        "colab": {
          "base_uri": "https://localhost:8080/"
        },
        "outputId": "470793e3-91b2-4115-d888-e5feec57e362"
      },
      "source": [
        "type(2021)"
      ],
      "execution_count": null,
      "outputs": [
        {
          "output_type": "execute_result",
          "data": {
            "text/plain": [
              "int"
            ]
          },
          "metadata": {},
          "execution_count": 4
        }
      ]
    },
    {
      "cell_type": "code",
      "metadata": {
        "id": "Jd64MRNpHd1L",
        "colab": {
          "base_uri": "https://localhost:8080/"
        },
        "outputId": "691c2006-c4a0-4e50-847e-e38061af00f5"
      },
      "source": [
        "type('2021')"
      ],
      "execution_count": null,
      "outputs": [
        {
          "output_type": "execute_result",
          "data": {
            "text/plain": [
              "str"
            ]
          },
          "metadata": {},
          "execution_count": 5
        }
      ]
    },
    {
      "cell_type": "markdown",
      "metadata": {
        "id": "1lSVA2Abqojm"
      },
      "source": [
        "Now, assign the variable `fav_drink` with the name of your favorite type of drink (coffee, tea, boba, etc.), as a string with single quotes. For instance: `fav_drink = 'cappuccino'`. If you'd like to see the value as an output, you can type the variable name in the line below. Then do the same thing, but try using double quotes around the string. Finally, try not using any quotes at all, and see what happens when you run the cell. "
      ]
    },
    {
      "cell_type": "code",
      "metadata": {
        "id": "tW9Lmjd-zweZ",
        "colab": {
          "base_uri": "https://localhost:8080/",
          "height": 35
        },
        "outputId": "4298c6ed-91d9-4350-d57c-6856ef0ebc64"
      },
      "source": [
        "# 3a. 1) \n",
        "# Single quotes\n"
      ],
      "execution_count": 3,
      "outputs": [
        {
          "output_type": "execute_result",
          "data": {
            "application/vnd.google.colaboratory.intrinsic+json": {
              "type": "string"
            },
            "text/plain": [
              "'ENGR102'"
            ]
          },
          "metadata": {},
          "execution_count": 3
        }
      ]
    },
    {
      "cell_type": "code",
      "metadata": {
        "id": "f5dfo_fqpWMp",
        "outputId": "e7867cf4-fb97-465f-ebde-64cdcb981bc6",
        "colab": {
          "base_uri": "https://localhost:8080/",
          "height": 35
        }
      },
      "source": [
        "# 3a. 2) \n",
        "# Double quotes\n"
      ],
      "execution_count": 4,
      "outputs": [
        {
          "output_type": "execute_result",
          "data": {
            "application/vnd.google.colaboratory.intrinsic+json": {
              "type": "string"
            },
            "text/plain": [
              "'ENGR102'"
            ]
          },
          "metadata": {},
          "execution_count": 4
        }
      ]
    },
    {
      "cell_type": "code",
      "metadata": {
        "id": "cwyWDNJ1pWkf",
        "outputId": "e90f3932-bf8a-4100-d74f-322c704c01a0",
        "colab": {
          "base_uri": "https://localhost:8080/",
          "height": 215
        }
      },
      "source": [
        "# 3a. 3) \n",
        "# No quotes\n"
      ],
      "execution_count": 6,
      "outputs": [
        {
          "output_type": "error",
          "ename": "NameError",
          "evalue": "ignored",
          "traceback": [
            "\u001b[0;31m---------------------------------------------------------------------------\u001b[0m",
            "\u001b[0;31mNameError\u001b[0m                                 Traceback (most recent call last)",
            "\u001b[0;32m<ipython-input-6-627625bdcb11>\u001b[0m in \u001b[0;36m<module>\u001b[0;34m()\u001b[0m\n\u001b[1;32m      1\u001b[0m \u001b[0;31m# 3a. 3)\u001b[0m\u001b[0;34m\u001b[0m\u001b[0;34m\u001b[0m\u001b[0;34m\u001b[0m\u001b[0m\n\u001b[1;32m      2\u001b[0m \u001b[0;31m# No quotes\u001b[0m\u001b[0;34m\u001b[0m\u001b[0;34m\u001b[0m\u001b[0;34m\u001b[0m\u001b[0m\n\u001b[0;32m----> 3\u001b[0;31m \u001b[0mcourse_num\u001b[0m \u001b[0;34m=\u001b[0m \u001b[0mENGR102\u001b[0m\u001b[0;34m\u001b[0m\u001b[0;34m\u001b[0m\u001b[0m\n\u001b[0m\u001b[1;32m      4\u001b[0m \u001b[0mtype\u001b[0m\u001b[0;34m(\u001b[0m\u001b[0mcourse_num\u001b[0m\u001b[0;34m)\u001b[0m\u001b[0;34m\u001b[0m\u001b[0;34m\u001b[0m\u001b[0m\n",
            "\u001b[0;31mNameError\u001b[0m: name 'ENGR102' is not defined"
          ]
        }
      ]
    },
    {
      "cell_type": "markdown",
      "metadata": {
        "id": "n-akXs5SscJ0"
      },
      "source": [
        "Do you get a `NameError` when you don't use any quotes around the string? That is because Pyton doesn't know that it was meant as a string and is trying to treat it a different way, specifically, as a variable. However, since it wasn't defined as a variable previously, Python doesn't recognize it and therefore throws an error."
      ]
    },
    {
      "cell_type": "markdown",
      "metadata": {
        "id": "75BVOVVudE5x"
      },
      "source": [
        "### 3b. Print  \n",
        "Python has another built in function called `print()`. This function \"prints\" any string you provide as input, that is, it displays the string on the console when the function is run. Unlike the input, the output will not display the quote marks.  \n",
        "\n",
        "To see how this works, follow the steps below."
      ]
    },
    {
      "cell_type": "markdown",
      "metadata": {
        "id": "BdJpRtKjzweb"
      },
      "source": [
        "First, run the cell below, which contains a string:"
      ]
    },
    {
      "cell_type": "code",
      "metadata": {
        "id": "Ndidu8Bbzwec"
      },
      "source": [
        "econ = 'The four letter abbreviation for economics is ECON'"
      ],
      "execution_count": null,
      "outputs": []
    },
    {
      "cell_type": "markdown",
      "metadata": {
        "id": "SCW5fGvDzwee"
      },
      "source": [
        "On line 2 of the cell below, simply type `econ` (i.e., the variable name) and run the cell. In the cell below that, use the built-in function `print()` with the variable name inside the parentheses. Can you see how the outut for the two cells are different? In later modules, we'll do much more interesting things with the print function!"
      ]
    },
    {
      "cell_type": "code",
      "metadata": {
        "id": "8hWANUR_zwef",
        "colab": {
          "base_uri": "https://localhost:8080/",
          "height": 35
        },
        "outputId": "abefc251-f784-47b6-bf5b-59d381614b36"
      },
      "source": [
        "# 3b. 1) \n",
        "# Variable only\n"
      ],
      "execution_count": null,
      "outputs": [
        {
          "output_type": "execute_result",
          "data": {
            "application/vnd.google.colaboratory.intrinsic+json": {
              "type": "string"
            },
            "text/plain": [
              "'The four letter abbreviation for economics is ECON'"
            ]
          },
          "metadata": {},
          "execution_count": 2
        }
      ]
    },
    {
      "cell_type": "code",
      "metadata": {
        "id": "yMLCnlT2zweh",
        "colab": {
          "base_uri": "https://localhost:8080/"
        },
        "outputId": "34b9c6e0-70a5-405b-911c-995a98e3c7c1"
      },
      "source": [
        "# 3b. 2) \n",
        "# Print variable\n"
      ],
      "execution_count": null,
      "outputs": [
        {
          "output_type": "stream",
          "name": "stdout",
          "text": [
            "The four letter abbreviation for economics is ECON\n"
          ]
        }
      ]
    },
    {
      "cell_type": "markdown",
      "metadata": {
        "id": "-4gwKLRszwej"
      },
      "source": [
        "## 4. String operators"
      ]
    },
    {
      "cell_type": "markdown",
      "metadata": {
        "id": "Yq3psZmaowF2"
      },
      "source": [
        "### 4a. Comparison operators  \n",
        "Like with the other data types we worked with in the previous module, comparison operators can also be applied to strings to create a Boolean expression.  \n",
        "\n",
        "**i. Equality/inequality**  \n",
        "To test for equality, use `==` and `!=`. Run the following cells to see how this works for strings."
      ]
    },
    {
      "cell_type": "code",
      "metadata": {
        "id": "0bpaWyd8pEwm"
      },
      "source": [
        "my_string = 'hello' # = assigns a value"
      ],
      "execution_count": 18,
      "outputs": []
    },
    {
      "cell_type": "code",
      "metadata": {
        "id": "Kmg0Pf_itUra",
        "outputId": "6ca44683-2913-4cf9-e849-b973f984dcdb",
        "colab": {
          "base_uri": "https://localhost:8080/"
        }
      },
      "source": [
        "my_string == 'hello' # == tests for equality"
      ],
      "execution_count": 19,
      "outputs": [
        {
          "output_type": "execute_result",
          "data": {
            "text/plain": [
              "True"
            ]
          },
          "metadata": {},
          "execution_count": 19
        }
      ]
    },
    {
      "cell_type": "code",
      "metadata": {
        "id": "0uwg9ElttVXJ",
        "outputId": "fe1d0033-d63b-42d9-ecc8-8f16f5daa878",
        "colab": {
          "base_uri": "https://localhost:8080/"
        }
      },
      "source": [
        "my_string != 'hello' # != tests for inequality"
      ],
      "execution_count": 20,
      "outputs": [
        {
          "output_type": "execute_result",
          "data": {
            "text/plain": [
              "False"
            ]
          },
          "metadata": {},
          "execution_count": 20
        }
      ]
    },
    {
      "cell_type": "markdown",
      "metadata": {
        "id": "UO3hAM-Bzwej"
      },
      "source": [
        "### Try it yourself  \n",
        "In the cell below, create the variable `fav_band1` and assign it a string of your current favorite band. In the same cell, start a new line and create the variable `fav_band2`, then assign it the name of your favorite band when you were in middle school. Ensure that you run the cell when you're done."
      ]
    },
    {
      "cell_type": "code",
      "metadata": {
        "id": "dF1k2Kndzwek"
      },
      "source": [
        "# 4ai. 1) \n",
        "fav_band1 = 'LCD Soundsystem'\n",
        "fav_band2 = 'Led Zeppelin'"
      ],
      "execution_count": 10,
      "outputs": []
    },
    {
      "cell_type": "markdown",
      "metadata": {
        "id": "kvQZsRimzwem"
      },
      "source": [
        "Next, determine whether your favorite band has remained the same through the years, i.e., test for equality of the two variables."
      ]
    },
    {
      "cell_type": "code",
      "metadata": {
        "id": "Vt7PK0Elzwem",
        "colab": {
          "base_uri": "https://localhost:8080/"
        },
        "outputId": "baf08303-df8c-46a5-cea0-87e413f6c625"
      },
      "source": [
        "# 4ai. 2) \n",
        "fav_band1 == fav_band2"
      ],
      "execution_count": 11,
      "outputs": [
        {
          "output_type": "execute_result",
          "data": {
            "text/plain": [
              "False"
            ]
          },
          "metadata": {},
          "execution_count": 11
        }
      ]
    },
    {
      "cell_type": "markdown",
      "metadata": {
        "id": "tEGM6eBPwO5y"
      },
      "source": [
        "**ii. Alphabetical order**  \n",
        "Python uses `<` and `>` to determine aphabetical order of strings. Think of < as meaning “appears before” and > as meaning “appears after” with respect to alphabetical order. It might also help to think of 'a' as having the smallest value in the alphabet (1), and 'z' having the largest value (26).  \n",
        "\n",
        "Run the cell below to test the order of the strings stored in the variables."
      ]
    },
    {
      "cell_type": "code",
      "metadata": {
        "id": "Gy700qUFwt-A",
        "outputId": "a74f92be-7fbc-45e8-b4ac-41c3e7bd2d6f",
        "colab": {
          "base_uri": "https://localhost:8080/"
        }
      },
      "source": [
        "word1 = 'cat'\n",
        "word2 = 'dog'\n",
        "word1 > word2"
      ],
      "execution_count": 21,
      "outputs": [
        {
          "output_type": "execute_result",
          "data": {
            "text/plain": [
              "False"
            ]
          },
          "metadata": {},
          "execution_count": 21
        }
      ]
    },
    {
      "cell_type": "markdown",
      "metadata": {
        "id": "wysdndnwzweo"
      },
      "source": [
        "### Try it yourself  \n",
        "In the cell below, create the variable `fav_book` and assign it the value of your favorite book. In the same cell, start a new line and create the variable `fav_movie`, and then assign it the value of your favorite movie."
      ]
    },
    {
      "cell_type": "code",
      "metadata": {
        "id": "7YxjaVC_zwep"
      },
      "source": [
        "# 4aii. 1) \n",
        "# Favorite book\n",
        "\n",
        "# Favorite movie\n"
      ],
      "execution_count": 22,
      "outputs": []
    },
    {
      "cell_type": "markdown",
      "metadata": {
        "id": "MkzJ4z8Yzwer"
      },
      "source": [
        "Next, determine whether `fav_book` appears before `fav_movie` in the alphabet."
      ]
    },
    {
      "cell_type": "code",
      "metadata": {
        "id": "1B7PoxxVzwes",
        "colab": {
          "base_uri": "https://localhost:8080/"
        },
        "outputId": "8fd0f2e1-ea0f-4d18-a274-3414c18c1bd8"
      },
      "source": [
        "# 4aii. 2) Does fav_book come before fav_movie in the alphabet?\n"
      ],
      "execution_count": 23,
      "outputs": [
        {
          "output_type": "execute_result",
          "data": {
            "text/plain": [
              "True"
            ]
          },
          "metadata": {},
          "execution_count": 23
        }
      ]
    },
    {
      "cell_type": "markdown",
      "metadata": {
        "id": "MKPLxTswN6Sl"
      },
      "source": [
        "Now create a test to see if these comparison operators are case sensitive. Hint: Does 'cat' come before or after 'Dog'?"
      ]
    },
    {
      "cell_type": "code",
      "metadata": {
        "id": "Fbs84uR9NzGc",
        "outputId": "c206b1f5-03ce-4053-a7c4-1e0d439dee70",
        "colab": {
          "base_uri": "https://localhost:8080/"
        }
      },
      "source": [
        "# 4aii. 3) What about different cases?\n"
      ],
      "execution_count": 52,
      "outputs": [
        {
          "output_type": "execute_result",
          "data": {
            "text/plain": [
              "True"
            ]
          },
          "metadata": {},
          "execution_count": 52
        }
      ]
    },
    {
      "cell_type": "markdown",
      "metadata": {
        "id": "FpvHOwpCzwey"
      },
      "source": [
        "### 4b. Algebraic operators"
      ]
    },
    {
      "cell_type": "markdown",
      "metadata": {
        "id": "-wVt4jkIzwez"
      },
      "source": [
        "**i. Concatenation**  \n",
        "Strings can be joined together (concatenated) with the `+` operator.  \n",
        "\n",
        "Run the cell below to see the output of two cells concatenated together."
      ]
    },
    {
      "cell_type": "code",
      "metadata": {
        "id": "oE0A30ipzqba",
        "outputId": "aa5210d8-d5d4-4aa1-a74d-ccea025092c4",
        "colab": {
          "base_uri": "https://localhost:8080/",
          "height": 35
        }
      },
      "source": [
        "str1 = 'hello'\n",
        "str2 = 'world'\n",
        "str1 + str2"
      ],
      "execution_count": 24,
      "outputs": [
        {
          "output_type": "execute_result",
          "data": {
            "application/vnd.google.colaboratory.intrinsic+json": {
              "type": "string"
            },
            "text/plain": [
              "'helloworld'"
            ]
          },
          "metadata": {},
          "execution_count": 24
        }
      ]
    },
    {
      "cell_type": "markdown",
      "metadata": {
        "id": "ItaaVDtA0RWO"
      },
      "source": [
        "Notice that string contactenation with the `+` operator will not add any spaces for you, but will put the two strings together exactly as they are. Run the cell below to see how to concatenate the two strings with a space between them."
      ]
    },
    {
      "cell_type": "code",
      "metadata": {
        "id": "LDvMkBw50p68",
        "outputId": "05c8a14b-2b57-4285-c4a6-8e887c5b67ae",
        "colab": {
          "base_uri": "https://localhost:8080/",
          "height": 35
        }
      },
      "source": [
        "str1 + ' ' + str2"
      ],
      "execution_count": 15,
      "outputs": [
        {
          "output_type": "execute_result",
          "data": {
            "application/vnd.google.colaboratory.intrinsic+json": {
              "type": "string"
            },
            "text/plain": [
              "'hello world'"
            ]
          },
          "metadata": {},
          "execution_count": 15
        }
      ]
    },
    {
      "cell_type": "markdown",
      "metadata": {
        "id": "7MlOSv_Lzjcv"
      },
      "source": [
        "### Try it yourself  \n",
        "In the cell below, create the variable `pizza` after the existing lines and assign it the joint value of `top1` and `top2`. In the same cell, insert a new line and type `pizza` to check what the output looks like."
      ]
    },
    {
      "cell_type": "code",
      "metadata": {
        "id": "1o3fxkBWzwez"
      },
      "source": [
        "# 4bi. 1)\n",
        "top1 = 'artichokes'\n",
        "top2 = 'olives'\n",
        "\n",
        "## Your code here\n"
      ],
      "execution_count": 16,
      "outputs": []
    },
    {
      "cell_type": "markdown",
      "metadata": {
        "id": "xArsaZuhzwe1"
      },
      "source": [
        "Next, repeat the above process, but this time think about how you can include a space and a comma between the two toppings so that the output looks better. "
      ]
    },
    {
      "cell_type": "code",
      "metadata": {
        "id": "vSMYxvD1zwe2",
        "colab": {
          "base_uri": "https://localhost:8080/",
          "height": 35
        },
        "outputId": "8d5839b0-2321-40d9-b4f4-0d63c3dc28cc"
      },
      "source": [
        "# 4bi. 2) \n"
      ],
      "execution_count": null,
      "outputs": [
        {
          "output_type": "execute_result",
          "data": {
            "application/vnd.google.colaboratory.intrinsic+json": {
              "type": "string"
            },
            "text/plain": [
              "'artichokes olives'"
            ]
          },
          "metadata": {},
          "execution_count": 16
        }
      ]
    },
    {
      "cell_type": "markdown",
      "metadata": {
        "id": "hhDCmNp1zwe4"
      },
      "source": [
        "**ii. Copies**  \n",
        "Multiple copies of a string can be concatenated with the `*` operator and an integer. The integer can go before the `*` operator with the string after, or vice versa. Run the cells below to see how this works."
      ]
    },
    {
      "cell_type": "code",
      "metadata": {
        "id": "N4ayKGJ310jT"
      },
      "source": [
        "# Integer first\n",
        "2 * 'yo'"
      ],
      "execution_count": null,
      "outputs": []
    },
    {
      "cell_type": "code",
      "metadata": {
        "id": "TmSZxOdW12wO"
      },
      "source": [
        "# String first\n",
        "'yo' * 2"
      ],
      "execution_count": null,
      "outputs": []
    },
    {
      "cell_type": "code",
      "metadata": {
        "id": "JUIforDQ14Gk",
        "outputId": "50857cba-11aa-4459-b321-232ece67e05c",
        "colab": {
          "base_uri": "https://localhost:8080/",
          "height": 35
        }
      },
      "source": [
        "# Include spaces\n",
        "3 * 'yo '"
      ],
      "execution_count": 17,
      "outputs": [
        {
          "output_type": "execute_result",
          "data": {
            "application/vnd.google.colaboratory.intrinsic+json": {
              "type": "string"
            },
            "text/plain": [
              "'yo yo yo '"
            ]
          },
          "metadata": {},
          "execution_count": 17
        }
      ]
    },
    {
      "cell_type": "markdown",
      "metadata": {
        "id": "RncZrCB31VgP"
      },
      "source": [
        "### Try it yourself  \n",
        "In the cell below, assign a new value to `pizza` that evaluates to double `top1`."
      ]
    },
    {
      "cell_type": "code",
      "metadata": {
        "id": "LqCj66iyzwe4",
        "colab": {
          "base_uri": "https://localhost:8080/",
          "height": 35
        },
        "outputId": "06768121-47bf-49cd-c1b6-dbdf6621a130"
      },
      "source": [
        "# 4bii. 1)\n",
        "# Pizza with double top1\n"
      ],
      "execution_count": null,
      "outputs": [
        {
          "output_type": "execute_result",
          "data": {
            "application/vnd.google.colaboratory.intrinsic+json": {
              "type": "string"
            },
            "text/plain": [
              "'olivesolives'"
            ]
          },
          "metadata": {},
          "execution_count": 19
        }
      ]
    },
    {
      "cell_type": "markdown",
      "metadata": {
        "id": "xVcW94tDzwe6"
      },
      "source": [
        "### 4c. `in` and `not in`  \n",
        "Sometimes it's necessary to check whether a string contains a particular substring of characters (or not). To do this, Python has the keywords `in` and `not in`. Both of these work like the other Boolean operators we just learned: they take two string arguments and return either `True` or `False`. "
      ]
    },
    {
      "cell_type": "code",
      "metadata": {
        "id": "-ZJdmz3q_s4U",
        "outputId": "08f7447a-f85f-4653-83e6-2c9b7eba6914",
        "colab": {
          "base_uri": "https://localhost:8080/"
        }
      },
      "source": [
        "my_alphabet = 'abcdefghijkmnopqrstuvwxyz'\n",
        "'z' in my_alphabet"
      ],
      "execution_count": 29,
      "outputs": [
        {
          "output_type": "execute_result",
          "data": {
            "text/plain": [
              "True"
            ]
          },
          "metadata": {},
          "execution_count": 29
        }
      ]
    },
    {
      "cell_type": "markdown",
      "metadata": {
        "id": "Ls3hgBHy__Hd"
      },
      "source": [
        "The character 'z' is in the string so the return value is `True`"
      ]
    },
    {
      "cell_type": "code",
      "metadata": {
        "id": "08vfMYZ9AKiL",
        "outputId": "6fc6bb1d-7fe7-4ac9-fe93-cd76c887866d",
        "colab": {
          "base_uri": "https://localhost:8080/"
        }
      },
      "source": [
        "'l' in my_alphabet"
      ],
      "execution_count": 31,
      "outputs": [
        {
          "output_type": "execute_result",
          "data": {
            "text/plain": [
              "False"
            ]
          },
          "metadata": {},
          "execution_count": 31
        }
      ]
    },
    {
      "cell_type": "markdown",
      "metadata": {
        "id": "yGlVLSoMAP-U"
      },
      "source": [
        "We seemed to have missed the letter 'l' when creating our alphabet, so it returns `False`."
      ]
    },
    {
      "cell_type": "markdown",
      "metadata": {
        "id": "xjB2Cgol-2Lj"
      },
      "source": [
        "### Try it yourself\n",
        "You meet a new friend from Croatia, who tells you that her name is Ksenija. In the cell below, write an expression to determine whether the letter `y` is in her name."
      ]
    },
    {
      "cell_type": "code",
      "metadata": {
        "id": "-gIIc5Nqzwe6",
        "colab": {
          "base_uri": "https://localhost:8080/"
        },
        "outputId": "ade1026e-83c9-481d-9a9c-fb96e29ed837"
      },
      "source": [
        "# 4c. 1) Does 'Ksenija' contain the letter 'y'?\n"
      ],
      "execution_count": null,
      "outputs": [
        {
          "output_type": "execute_result",
          "data": {
            "text/plain": [
              "False"
            ]
          },
          "metadata": {},
          "execution_count": 20
        }
      ]
    },
    {
      "cell_type": "code",
      "metadata": {
        "id": "uDoc4tFBP5z2",
        "outputId": "0c9a0bed-e700-4fb2-8ee3-d585f047573f",
        "colab": {
          "base_uri": "https://localhost:8080/"
        }
      },
      "source": [
        "# 4c. 2) Does the following sentence contain the word 'try'?\n",
        "sentence = 'Do or do not, there is no try.'\n",
        "\n",
        "# Your code here\n"
      ],
      "execution_count": 53,
      "outputs": [
        {
          "output_type": "execute_result",
          "data": {
            "text/plain": [
              "True"
            ]
          },
          "metadata": {},
          "execution_count": 53
        }
      ]
    },
    {
      "cell_type": "markdown",
      "metadata": {
        "id": "rluj1e--zwe8"
      },
      "source": [
        "### 4d. `len()`\n",
        "Sometimes it is valuable to know how many characters are in a string. Python has a built-in function `len()` that will return the length of the item within its parentheses. Run the cells below to see how this works."
      ]
    },
    {
      "cell_type": "code",
      "metadata": {
        "id": "k-F3760H-RxR",
        "outputId": "eecbe590-2a09-4212-dcd4-73c38779b70d",
        "colab": {
          "base_uri": "https://localhost:8080/"
        }
      },
      "source": [
        "my_string = \"Hello\"\n",
        "len(my_string)"
      ],
      "execution_count": 28,
      "outputs": [
        {
          "output_type": "execute_result",
          "data": {
            "text/plain": [
              "5"
            ]
          },
          "metadata": {},
          "execution_count": 28
        }
      ]
    },
    {
      "cell_type": "code",
      "metadata": {
        "id": "plQG2ZtT9wL8",
        "outputId": "f0eb52fc-add4-48d3-928d-7b8bd18fd8f9",
        "colab": {
          "base_uri": "https://localhost:8080/"
        }
      },
      "source": [
        "my_string = 'Hello World'\n",
        "len(my_string)"
      ],
      "execution_count": 26,
      "outputs": [
        {
          "output_type": "execute_result",
          "data": {
            "text/plain": [
              "11"
            ]
          },
          "metadata": {},
          "execution_count": 26
        }
      ]
    },
    {
      "cell_type": "markdown",
      "metadata": {
        "id": "5qraSUE1-Hvr"
      },
      "source": [
        "Notice how a space still counts as a character and therefore adds to the total number of characters in the string."
      ]
    },
    {
      "cell_type": "markdown",
      "metadata": {
        "id": "1K2T9Lxj9dLt"
      },
      "source": [
        "### Try it yourself\n",
        "In the cell below, start by creating the variable `school` and assign it the name of your school (as a string).  \n",
        "\n",
        "Then, in the same cell, insert a new line and determine the length of the string assigned to `school`. "
      ]
    },
    {
      "cell_type": "code",
      "metadata": {
        "id": "k9orE1F2zwe8",
        "colab": {
          "base_uri": "https://localhost:8080/"
        },
        "outputId": "22c1f46a-e4b2-46a9-b308-8836b9a207f3"
      },
      "source": [
        "# 4d. 1) Determine the length of the name of your school\n"
      ],
      "execution_count": 40,
      "outputs": [
        {
          "output_type": "execute_result",
          "data": {
            "text/plain": [
              "43"
            ]
          },
          "metadata": {},
          "execution_count": 40
        }
      ]
    },
    {
      "cell_type": "markdown",
      "metadata": {
        "id": "FKakXxOdzwe-"
      },
      "source": [
        "## 5. String operators: Indexing\n",
        "### 5a. Indexing operator `[]`  \n",
        "A character's index is simply its position within the string.  \n",
        "\n",
        "\n",
        "---\n",
        "\n",
        "\n",
        "**IMPORTANT** - Python, unlike humans, starts counting at 0 instead of 1. This means that the first position, or index, of a string is 0.  \n",
        "\n",
        "Also remember that all spaces, punctuation, and symbols count as characters in a string. \n",
        "\n",
        "\n",
        "---\n",
        "\n",
        "In Python, we can see which character is at a certain index in a string by typing the variable it's stored in, followed by square brackets containing the index value we want to consider. See the following cells for a few examples. "
      ]
    },
    {
      "cell_type": "code",
      "metadata": {
        "id": "I3gb-2UsXrSB"
      },
      "source": [
        "my_string = 'Python is the best coding language!'"
      ],
      "execution_count": 58,
      "outputs": []
    },
    {
      "cell_type": "code",
      "metadata": {
        "id": "PgUTWgEyYPiD",
        "outputId": "1f4c534a-1da6-4e30-e5d9-dc7f0273a1a2",
        "colab": {
          "base_uri": "https://localhost:8080/",
          "height": 35
        }
      },
      "source": [
        "my_string[0] # First character"
      ],
      "execution_count": 59,
      "outputs": [
        {
          "output_type": "execute_result",
          "data": {
            "application/vnd.google.colaboratory.intrinsic+json": {
              "type": "string"
            },
            "text/plain": [
              "'P'"
            ]
          },
          "metadata": {},
          "execution_count": 59
        }
      ]
    },
    {
      "cell_type": "code",
      "metadata": {
        "id": "u6pHDWwQZizM"
      },
      "source": [
        "my_string[9] # Tenth character"
      ],
      "execution_count": null,
      "outputs": []
    },
    {
      "cell_type": "code",
      "metadata": {
        "id": "NIsZ7KKoYY-K",
        "outputId": "afcf08b3-ddff-4416-fbb3-9867c24dbef1",
        "colab": {
          "base_uri": "https://localhost:8080/",
          "height": 35
        }
      },
      "source": [
        "my_string[16] # Seventeenth character"
      ],
      "execution_count": 60,
      "outputs": [
        {
          "output_type": "execute_result",
          "data": {
            "application/vnd.google.colaboratory.intrinsic+json": {
              "type": "string"
            },
            "text/plain": [
              "'s'"
            ]
          },
          "metadata": {},
          "execution_count": 60
        }
      ]
    },
    {
      "cell_type": "markdown",
      "metadata": {
        "id": "DOVxKhgWBMlx"
      },
      "source": [
        "### Try it yourself\n",
        "Continuing with the variable `school` from above (4d. 1), use the indexing operator to determine the first and fourth character of the string assigned to this variable. Reminder: Python starts indexing at zero, so when I say \"the first character in the string\", I mean the character at index 0. "
      ]
    },
    {
      "cell_type": "code",
      "metadata": {
        "id": "BYXWNoh4zwe_"
      },
      "source": [
        "# 5a. 1) First character of string assigned to variable school\n"
      ],
      "execution_count": 63,
      "outputs": []
    },
    {
      "cell_type": "code",
      "metadata": {
        "id": "WB9nvpiazwfB"
      },
      "source": [
        "# 5a. 2)  Fourth character of string assigned to variable school\n"
      ],
      "execution_count": 64,
      "outputs": []
    },
    {
      "cell_type": "markdown",
      "metadata": {
        "id": "hnCa_be6zwfF"
      },
      "source": [
        "## 5b. Negative indexing  \n",
        "**Last character**  \n",
        "What if we want to index the last character of a string? You may think immediately that we can use our `len()` function minus 1 as the value in the square brackets, and you'd be right. However, Python has a way to do this much more easily: negative indexing. All you need to do to get the last character of any string is use -1 as the value in the brackets."
      ]
    },
    {
      "cell_type": "code",
      "metadata": {
        "id": "LCW7gAMTbQzW",
        "outputId": "52fceb75-2f76-40be-fb1e-47aaeff833c7",
        "colab": {
          "base_uri": "https://localhost:8080/",
          "height": 35
        }
      },
      "source": [
        "# If it hasn't been changed, my_string contains 'Python is the best coding language!'\n",
        "my_string[-1]"
      ],
      "execution_count": 65,
      "outputs": [
        {
          "output_type": "execute_result",
          "data": {
            "application/vnd.google.colaboratory.intrinsic+json": {
              "type": "string"
            },
            "text/plain": [
              "'!'"
            ]
          },
          "metadata": {},
          "execution_count": 65
        }
      ]
    },
    {
      "cell_type": "markdown",
      "metadata": {
        "id": "oM2h0gDzbiFu"
      },
      "source": [
        "Negative indexing isn't just useful for getting the last character of a string, but for counting any number from the end of a string. For instance, the second to last character can be accessed with -2, the third from last with -3, and so on.  \n",
        "\n",
        "Run the cell below, and also try your hand at using and predicting the result of negative indexing."
      ]
    },
    {
      "cell_type": "code",
      "metadata": {
        "id": "HnnFYctNb41c",
        "outputId": "8f8eba29-cceb-4dfa-d627-5e207565aeaf",
        "colab": {
          "base_uri": "https://localhost:8080/",
          "height": 35
        }
      },
      "source": [
        "my_string[-2]"
      ],
      "execution_count": 66,
      "outputs": [
        {
          "output_type": "execute_result",
          "data": {
            "application/vnd.google.colaboratory.intrinsic+json": {
              "type": "string"
            },
            "text/plain": [
              "'e'"
            ]
          },
          "metadata": {},
          "execution_count": 66
        }
      ]
    },
    {
      "cell_type": "markdown",
      "metadata": {
        "id": "zXjuJOq7bRs7"
      },
      "source": [
        "### Try it yourself  \n",
        "Continuing with the variable `school`, use negative indexing to determine the last character of the string assigned to this variable, then the fifth from last."
      ]
    },
    {
      "cell_type": "code",
      "metadata": {
        "id": "WB2UWn2CzwfF",
        "colab": {
          "base_uri": "https://localhost:8080/",
          "height": 35
        },
        "outputId": "e45223df-1f32-4931-e7f8-028f2df4d7c2"
      },
      "source": [
        "# 5b. 1) Last character of string assigned to variable school\n"
      ],
      "execution_count": 42,
      "outputs": [
        {
          "output_type": "execute_result",
          "data": {
            "application/vnd.google.colaboratory.intrinsic+json": {
              "type": "string"
            },
            "text/plain": [
              "'!'"
            ]
          },
          "metadata": {},
          "execution_count": 42
        }
      ]
    },
    {
      "cell_type": "code",
      "metadata": {
        "id": "NFQZFPD1ciJ8"
      },
      "source": [
        "# 5b. 2) Fifth from last character of string assigned to variable school\n"
      ],
      "execution_count": null,
      "outputs": []
    },
    {
      "cell_type": "markdown",
      "metadata": {
        "id": "egtzZcdvzwfH"
      },
      "source": [
        "## Congrats, you're done! \n",
        "In this module, we've gone through the basics of strings: what they are and what operations we can perform on them. If you'd like more practice using strings in Python, continue below. Otherwise, continue to the next module to learn about lists and tuples!"
      ]
    },
    {
      "cell_type": "markdown",
      "metadata": {
        "id": "wtNikADazwfH"
      },
      "source": [
        "## OPTIONAL: Looking for more practice? \n",
        "Start by running the cell below."
      ]
    },
    {
      "cell_type": "code",
      "metadata": {
        "id": "sla48BSRzwfI"
      },
      "source": [
        "s1 = 'ant'\n",
        "s2 = 'bat'\n",
        "s3 = 'cod'"
      ],
      "execution_count": null,
      "outputs": []
    },
    {
      "cell_type": "markdown",
      "metadata": {
        "id": "GL7Xu0m7zwfK"
      },
      "source": [
        "Next, in separate cells below, write expressions using the variables above and the `+` and `*` operators that evaluate to the following. Note: Pay attention to spaces!\n",
        "\n",
        "* `'ant bat cod'`\n",
        "* `'ant ant ant ant ant ant ant ant ant ant '`\n",
        "* `'ant bat bat cod cod cod'`\n",
        "* `'ant bat ant bat ant bat ant bat ant bat ant bat ant bat '`\n",
        "* `'batbatcod batbatcod batbatcod batbatcod batbatcod '`"
      ]
    },
    {
      "cell_type": "code",
      "metadata": {
        "id": "kb_sY0-czwfK",
        "colab": {
          "base_uri": "https://localhost:8080/",
          "height": 35
        },
        "outputId": "5413eb9c-e50f-45ff-f992-33bf4efe1025"
      },
      "source": [
        "# 'ant bat cod'\n",
        "s1 + ' ' + s2 + ' ' + s3"
      ],
      "execution_count": null,
      "outputs": [
        {
          "output_type": "execute_result",
          "data": {
            "application/vnd.google.colaboratory.intrinsic+json": {
              "type": "string"
            },
            "text/plain": [
              "'ant bat cod'"
            ]
          },
          "metadata": {},
          "execution_count": 27
        }
      ]
    },
    {
      "cell_type": "code",
      "metadata": {
        "id": "x59n8Ub3zwfM",
        "colab": {
          "base_uri": "https://localhost:8080/",
          "height": 35
        },
        "outputId": "f2201a35-b0a7-4e10-8097-0e4da06df421"
      },
      "source": [
        "# 'ant ant ant ant ant ant ant ant ant ant '\n",
        "10 * (s1 + ' ')"
      ],
      "execution_count": null,
      "outputs": [
        {
          "output_type": "execute_result",
          "data": {
            "application/vnd.google.colaboratory.intrinsic+json": {
              "type": "string"
            },
            "text/plain": [
              "'ant ant ant ant ant ant ant ant ant ant '"
            ]
          },
          "metadata": {},
          "execution_count": 28
        }
      ]
    },
    {
      "cell_type": "code",
      "metadata": {
        "id": "3pQtz5-DzwfO",
        "colab": {
          "base_uri": "https://localhost:8080/",
          "height": 35
        },
        "outputId": "b75a7e33-a5ba-456e-b028-9447759671b0"
      },
      "source": [
        "# 'ant bat bat cod cod cod'\n",
        "s1 + ' ' + 2 * (s2 + ' ') + 2 * (s3 + ' ') + s3"
      ],
      "execution_count": null,
      "outputs": [
        {
          "output_type": "execute_result",
          "data": {
            "application/vnd.google.colaboratory.intrinsic+json": {
              "type": "string"
            },
            "text/plain": [
              "'ant bat bat cod cod cod'"
            ]
          },
          "metadata": {},
          "execution_count": 29
        }
      ]
    },
    {
      "cell_type": "code",
      "metadata": {
        "id": "p5O2ndpTzwfQ",
        "colab": {
          "base_uri": "https://localhost:8080/",
          "height": 35
        },
        "outputId": "278316f5-b9e3-4f8f-e30e-a8808c07997e"
      },
      "source": [
        "# 'ant bat ant bat ant bat ant bat ant bat ant bat ant bat '\n",
        "7 * (s1 + ' ' + s2 + ' ')"
      ],
      "execution_count": null,
      "outputs": [
        {
          "output_type": "execute_result",
          "data": {
            "application/vnd.google.colaboratory.intrinsic+json": {
              "type": "string"
            },
            "text/plain": [
              "'ant bat ant bat ant bat ant bat ant bat ant bat ant bat '"
            ]
          },
          "metadata": {},
          "execution_count": 30
        }
      ]
    },
    {
      "cell_type": "code",
      "metadata": {
        "id": "btqjo1NNzwfT",
        "colab": {
          "base_uri": "https://localhost:8080/",
          "height": 35
        },
        "outputId": "13b7a03a-fcd4-4da8-e343-a6d680f357ae"
      },
      "source": [
        "# 'batbatcod batbatcod batbatcod batbatcod batbatcod '\n",
        "5 * (2 * s2 + s3 + ' ')"
      ],
      "execution_count": null,
      "outputs": [
        {
          "output_type": "execute_result",
          "data": {
            "application/vnd.google.colaboratory.intrinsic+json": {
              "type": "string"
            },
            "text/plain": [
              "'batbatcod batbatcod batbatcod batbatcod batbatcod '"
            ]
          },
          "metadata": {},
          "execution_count": 32
        }
      ]
    }
  ]
}