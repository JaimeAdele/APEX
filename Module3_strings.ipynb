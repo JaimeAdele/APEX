{
  "nbformat": 4,
  "nbformat_minor": 0,
  "metadata": {
    "kernelspec": {
      "display_name": "Python 3",
      "language": "python",
      "name": "python3"
    },
    "language_info": {
      "codemirror_mode": {
        "name": "ipython",
        "version": 3
      },
      "file_extension": ".py",
      "mimetype": "text/x-python",
      "name": "python",
      "nbconvert_exporter": "python",
      "pygments_lexer": "ipython3",
      "version": "3.7.1"
    },
    "colab": {
      "name": "Module3_strings.ipynb",
      "provenance": [],
      "collapsed_sections": [],
      "include_colab_link": true
    }
  },
  "cells": [
    {
      "cell_type": "markdown",
      "metadata": {
        "id": "view-in-github",
        "colab_type": "text"
      },
      "source": [
        "<a href=\"https://colab.research.google.com/github/JaimeAdele/APEX/blob/main/Module3_strings.ipynb\" target=\"_parent\"><img src=\"https://colab.research.google.com/assets/colab-badge.svg\" alt=\"Open In Colab\"/></a>"
      ]
    },
    {
      "cell_type": "markdown",
      "metadata": {
        "id": "tcP2h0QW0A6X"
      },
      "source": [
        "<img src='https://images.pexels.com/photos/247819/pexels-photo-247819.jpeg?w=700&h=250&fit=crop' height=300px witdth=700px>  "
      ]
    },
    {
      "cell_type": "markdown",
      "metadata": {
        "id": "L3vFn9_lzweJ"
      },
      "source": [
        "# APEX Faculty Training, Module 3: Strings\n",
        "Created by Valerie Carr and Jaime Zuspann  \n",
        "Licensed under Creative Commons/MIT License  \n",
        "Last updated: Oct 30, 2021  \n",
        "\n",
        "**Learning outcomes**  \n",
        "1. To learn another Python data type: Strings\n",
        "2. To gain practice with strings and string operators"
      ]
    },
    {
      "cell_type": "markdown",
      "metadata": {
        "id": "LiPDUmfw3Np7"
      },
      "source": [
        "## Remember: Make a copy"
      ]
    },
    {
      "cell_type": "markdown",
      "metadata": {
        "id": "nneRhSTYzweK"
      },
      "source": [
        "## 1. Document your notebook\n",
        "Enter you name as well as today's date in the cell above. \n",
        "\n",
        "Keep in mind PEP8 rules regarding spaces:\n",
        "* Spaces before and after operators\n",
        "* Don't put unnecessary spaces after a function name; just go straight to the parentheses\n",
        "* Don't put unnecessary spaces at the beginning or end of parentheses"
      ]
    },
    {
      "cell_type": "markdown",
      "metadata": {
        "id": "92XS6HDw3dtR"
      },
      "source": [
        "## 2. Determining data type  \n",
        "### 2a. The `type()` function  \n",
        "Python has a built-in function that can be used to determine data type: `type()`. This function can be used to directly determine a value's type or to determine the type of value assigned to a variable.  \n",
        "\n",
        "Run the cells below to see how the `type()` function works on various inputs and feel free to try your own."
      ]
    },
    {
      "cell_type": "code",
      "metadata": {
        "id": "W2n55OBr9mgP"
      },
      "source": [
        "type(6)"
      ],
      "execution_count": null,
      "outputs": []
    },
    {
      "cell_type": "code",
      "metadata": {
        "id": "qhEy9M6G9omU"
      },
      "source": [
        "type(3.14)"
      ],
      "execution_count": null,
      "outputs": []
    },
    {
      "cell_type": "code",
      "metadata": {
        "id": "eCq9kY2t9qi3"
      },
      "source": [
        "type(False)"
      ],
      "execution_count": null,
      "outputs": []
    },
    {
      "cell_type": "code",
      "metadata": {
        "id": "hEXyOfig9svv",
        "outputId": "98747354-39f6-444b-8e3d-3f801ef6a902",
        "colab": {
          "base_uri": "https://localhost:8080/"
        }
      },
      "source": [
        "a = 6 * 4\n",
        "type(a)"
      ],
      "execution_count": 1,
      "outputs": [
        {
          "output_type": "execute_result",
          "data": {
            "text/plain": [
              "int"
            ]
          },
          "metadata": {},
          "execution_count": 1
        }
      ]
    },
    {
      "cell_type": "markdown",
      "metadata": {
        "id": "tviipT9y-uQD"
      },
      "source": [
        "### 2b. So why does Python have different data types?  \n",
        "In everyday life, we treat letters and numbers differently:  \n",
        "* We can multiply, divide, or square numbers  \n",
        "* We can use letters to form words and sentences  \n",
        "* But, \"economics\" divided by \"psychology\" doesn't make sense  \n",
        "\n",
        "In other words, we perform different operations on numbers than we do on letters. Python is exactly the same. By knowing the data type, Python knows what operations can be performed."
      ]
    },
    {
      "cell_type": "markdown",
      "metadata": {
        "id": "xteTOWiezweK"
      },
      "source": [
        "### Try it yourself  \n",
        "Each of the cells below contains a value. Insert the built-in function `type()` in front of each value to determine its data type. Remember that the input should go between the parentheses of the function."
      ]
    },
    {
      "cell_type": "code",
      "metadata": {
        "id": "loYySOlczweL",
        "colab": {
          "base_uri": "https://localhost:8080/"
        },
        "outputId": "7cc55096-b4c7-4a2e-b8f6-07139a28bb42"
      },
      "source": [
        "# 2a. 1) \n",
        "False"
      ],
      "execution_count": null,
      "outputs": [
        {
          "output_type": "execute_result",
          "data": {
            "text/plain": [
              "bool"
            ]
          },
          "metadata": {},
          "execution_count": 1
        }
      ]
    },
    {
      "cell_type": "code",
      "metadata": {
        "id": "mVWG1ToIzweO",
        "colab": {
          "base_uri": "https://localhost:8080/"
        },
        "outputId": "9976ed28-be8c-4cda-d84a-bc57b90319c3"
      },
      "source": [
        "# 2a. 2) \n",
        "164.80"
      ],
      "execution_count": null,
      "outputs": [
        {
          "output_type": "execute_result",
          "data": {
            "text/plain": [
              "float"
            ]
          },
          "metadata": {},
          "execution_count": 2
        }
      ]
    },
    {
      "cell_type": "code",
      "metadata": {
        "id": "n4g4iyBYzweQ",
        "colab": {
          "base_uri": "https://localhost:8080/"
        },
        "outputId": "8c252275-5938-4e8e-ea7e-b452ccb5a53d"
      },
      "source": [
        "# 2a. 3) \n",
        "106"
      ],
      "execution_count": null,
      "outputs": [
        {
          "output_type": "execute_result",
          "data": {
            "text/plain": [
              "int"
            ]
          },
          "metadata": {},
          "execution_count": 3
        }
      ]
    },
    {
      "cell_type": "code",
      "metadata": {
        "id": "o7DNvbRNzweT",
        "colab": {
          "base_uri": "https://localhost:8080/"
        },
        "outputId": "69f2ab81-0b4b-4c0b-d923-23975c29e19f"
      },
      "source": [
        "# 2a. 4) \n",
        "'Are you enjoying learning Python so far?'"
      ],
      "execution_count": null,
      "outputs": [
        {
          "output_type": "execute_result",
          "data": {
            "text/plain": [
              "str"
            ]
          },
          "metadata": {},
          "execution_count": 4
        }
      ]
    },
    {
      "cell_type": "markdown",
      "metadata": {
        "id": "Mi25LSVOzweV"
      },
      "source": [
        "In the cell below, create a new line underneath the one I've already written, and use the `type()` function to determine the data type for the value assigned to `answer`."
      ]
    },
    {
      "cell_type": "code",
      "metadata": {
        "id": "Nw1M4i0dzweW",
        "colab": {
          "base_uri": "https://localhost:8080/"
        },
        "outputId": "7617a6e6-c32a-4ed4-9477-9ba710a92e43"
      },
      "source": [
        "# 2a. 5) \n",
        "answer = 'yes'\n"
      ],
      "execution_count": null,
      "outputs": [
        {
          "output_type": "execute_result",
          "data": {
            "text/plain": [
              "str"
            ]
          },
          "metadata": {},
          "execution_count": 5
        }
      ]
    },
    {
      "cell_type": "markdown",
      "metadata": {
        "id": "_vYLpuqNzweY"
      },
      "source": [
        "## 3. Strings  \n",
        "So far, we have learned three different Python data types: integers, floats, and booleans. Now, we'll introduce the fourth type, strings.  \n",
        "\n",
        "A string is a data type that you can think of as text or characters. Letters, punctuation, symbols, spaces, and numbers (when treated as text) can be used in a string.  \n",
        "\n",
        "* 'Hello World!'\n",
        "* 'a'\n",
        "* '555-123-4567'\n",
        "* '#strings'"
      ]
    },
    {
      "cell_type": "markdown",
      "metadata": {
        "id": "6Di6o9wMzweY"
      },
      "source": [
        "### 3a. Quotes\n",
        "The way we tell Python that something is a string is by putting quote marks around it. Python doesn't care if you use single or double quotes. Throughout these modules, you'll see that single quotes are used for strings, but you can choose which you prefer to use, neither is more correct than the other. The important thing is to stay consistent.  \n",
        "\n",
        "Try running the cells below to see the difference quotes make for a number."
      ]
    },
    {
      "cell_type": "code",
      "metadata": {
        "id": "RFQc_jW_Havy",
        "outputId": "470793e3-91b2-4115-d888-e5feec57e362",
        "colab": {
          "base_uri": "https://localhost:8080/"
        }
      },
      "source": [
        "type(2021)"
      ],
      "execution_count": 4,
      "outputs": [
        {
          "output_type": "execute_result",
          "data": {
            "text/plain": [
              "int"
            ]
          },
          "metadata": {},
          "execution_count": 4
        }
      ]
    },
    {
      "cell_type": "code",
      "metadata": {
        "id": "Jd64MRNpHd1L",
        "outputId": "691c2006-c4a0-4e50-847e-e38061af00f5",
        "colab": {
          "base_uri": "https://localhost:8080/"
        }
      },
      "source": [
        "type('2021')"
      ],
      "execution_count": 5,
      "outputs": [
        {
          "output_type": "execute_result",
          "data": {
            "text/plain": [
              "str"
            ]
          },
          "metadata": {},
          "execution_count": 5
        }
      ]
    },
    {
      "cell_type": "markdown",
      "metadata": {
        "id": "1lSVA2Abqojm"
      },
      "source": [
        "Now, assign the variable `course_num` with the code for the course you will use Python in, as a string with single quotes. For instance: `course_num = 'ENGR120'`. Then do the same thing, but try using double quotes around the string. Finally, try not using any quotes at all, and see what happens when you run the cell. "
      ]
    },
    {
      "cell_type": "code",
      "metadata": {
        "id": "tW9Lmjd-zweZ",
        "colab": {
          "base_uri": "https://localhost:8080/",
          "height": 198
        },
        "outputId": "7be9de36-17b4-4da7-c141-65767a997030"
      },
      "source": [
        "# 3a. 1) \n",
        "# Single quotes\n",
        "course_num = 'ENGR120'\n",
        "# Double quotes\n",
        "course_num = \"ENGR120\"\n",
        "# No quotes\n",
        "course_num = ENGR120"
      ],
      "execution_count": null,
      "outputs": [
        {
          "output_type": "error",
          "ename": "NameError",
          "evalue": "ignored",
          "traceback": [
            "\u001b[0;31m---------------------------------------------------------------------------\u001b[0m",
            "\u001b[0;31mNameError\u001b[0m                                 Traceback (most recent call last)",
            "\u001b[0;32m<ipython-input-6-25ca008d2085>\u001b[0m in \u001b[0;36m<module>\u001b[0;34m()\u001b[0m\n\u001b[1;32m      4\u001b[0m \u001b[0mcourse_num\u001b[0m \u001b[0;34m=\u001b[0m \u001b[0;34m\"ENGR120\"\u001b[0m\u001b[0;34m\u001b[0m\u001b[0;34m\u001b[0m\u001b[0m\n\u001b[1;32m      5\u001b[0m \u001b[0;31m# No quotes\u001b[0m\u001b[0;34m\u001b[0m\u001b[0;34m\u001b[0m\u001b[0;34m\u001b[0m\u001b[0m\n\u001b[0;32m----> 6\u001b[0;31m \u001b[0mcourse_num\u001b[0m \u001b[0;34m=\u001b[0m \u001b[0mENGR120\u001b[0m\u001b[0;34m\u001b[0m\u001b[0;34m\u001b[0m\u001b[0m\n\u001b[0m",
            "\u001b[0;31mNameError\u001b[0m: name 'ENGR120' is not defined"
          ]
        }
      ]
    },
    {
      "cell_type": "markdown",
      "metadata": {
        "id": "n-akXs5SscJ0"
      },
      "source": [
        "Do you get a `NameError` when you don't use any quotes around the string? That is because Pyton doesn't know that it was meant as a string and is trying to treat it a different way, specifically, as a variable. However, since it wasn't defined as a variable previously, Python doesn't recognize it and therefore throws an error."
      ]
    },
    {
      "cell_type": "markdown",
      "metadata": {
        "id": "75BVOVVudE5x"
      },
      "source": [
        "### 3b. Print  \n",
        "Python has another built in function called `print()`. This function \"prints\" any string you provide as input, that is, it displays the string on the console when the function is run. Unlike the input, the output will not display the quote marks.  \n",
        "\n",
        "To see how this works, follow the steps below."
      ]
    },
    {
      "cell_type": "markdown",
      "metadata": {
        "id": "BdJpRtKjzweb"
      },
      "source": [
        "First, run the cell below, which contains a string:"
      ]
    },
    {
      "cell_type": "code",
      "metadata": {
        "id": "Ndidu8Bbzwec"
      },
      "source": [
        "econ = 'The four letter abbreviation for economics is ECON'"
      ],
      "execution_count": 1,
      "outputs": []
    },
    {
      "cell_type": "markdown",
      "metadata": {
        "id": "SCW5fGvDzwee"
      },
      "source": [
        "On line 2 of the cell below, simply type `econ` (i.e., the variable name) and run the cell. In the cell below that, use the built-in function `print()` with the variable name inside the parentheses. Can you see how the outut for the two cells are different? In later modules, we'll do much more interesting things with the print function!"
      ]
    },
    {
      "cell_type": "code",
      "metadata": {
        "id": "8hWANUR_zwef",
        "colab": {
          "base_uri": "https://localhost:8080/",
          "height": 35
        },
        "outputId": "abefc251-f784-47b6-bf5b-59d381614b36"
      },
      "source": [
        "# Variable only\n"
      ],
      "execution_count": 2,
      "outputs": [
        {
          "output_type": "execute_result",
          "data": {
            "application/vnd.google.colaboratory.intrinsic+json": {
              "type": "string"
            },
            "text/plain": [
              "'The four letter abbreviation for economics is ECON'"
            ]
          },
          "metadata": {},
          "execution_count": 2
        }
      ]
    },
    {
      "cell_type": "code",
      "metadata": {
        "id": "yMLCnlT2zweh",
        "colab": {
          "base_uri": "https://localhost:8080/"
        },
        "outputId": "34b9c6e0-70a5-405b-911c-995a98e3c7c1"
      },
      "source": [
        "# Print variable\n"
      ],
      "execution_count": null,
      "outputs": [
        {
          "output_type": "stream",
          "name": "stdout",
          "text": [
            "The four letter abbreviation for economics is ECON\n"
          ]
        }
      ]
    },
    {
      "cell_type": "markdown",
      "metadata": {
        "id": "-4gwKLRszwej"
      },
      "source": [
        "## 4. String operators"
      ]
    },
    {
      "cell_type": "markdown",
      "metadata": {
        "id": "UO3hAM-Bzwej"
      },
      "source": [
        "### 4a. Comparison operators\n",
        "\n",
        "**Equality/inequality**  \n",
        "In the cell below, create the variable `fav_band1` and assign it a string of your favorite band. In the same cell, start a new line and create the variable `fav_band2`, then assign it one of your group member's favorite band. Ensure that you run the cell when you're done."
      ]
    },
    {
      "cell_type": "code",
      "metadata": {
        "id": "dF1k2Kndzwek"
      },
      "source": [
        "fav_band1 = 'LCD Soundsystem'\n",
        "fav_band2 = 'The Velvet Underground'"
      ],
      "execution_count": null,
      "outputs": []
    },
    {
      "cell_type": "markdown",
      "metadata": {
        "id": "kvQZsRimzwem"
      },
      "source": [
        "Next, determine whether you have the same favorite band, i.e., test for equality."
      ]
    },
    {
      "cell_type": "code",
      "metadata": {
        "id": "Vt7PK0Elzwem",
        "colab": {
          "base_uri": "https://localhost:8080/"
        },
        "outputId": "8e904fc4-1b2b-474b-a2bc-d1e88f2a3409"
      },
      "source": [
        "fav_band1 == fav_band2"
      ],
      "execution_count": null,
      "outputs": [
        {
          "output_type": "execute_result",
          "data": {
            "text/plain": [
              "False"
            ]
          },
          "metadata": {},
          "execution_count": 11
        }
      ]
    },
    {
      "cell_type": "markdown",
      "metadata": {
        "id": "wysdndnwzweo"
      },
      "source": [
        "**Alphabetical order**  \n",
        "In the cell below, create the variable `fav_top1` and assign it the value of your favorite pizza topping. In the same cell, start a new line and create the variable `fav_top2`, and then assign it the value of your group member's favorite pizza topping."
      ]
    },
    {
      "cell_type": "code",
      "metadata": {
        "id": "7YxjaVC_zwep"
      },
      "source": [
        "fav_top1 = 'artichokes'\n",
        "fav_top2 = 'olives'"
      ],
      "execution_count": null,
      "outputs": []
    },
    {
      "cell_type": "markdown",
      "metadata": {
        "id": "MkzJ4z8Yzwer"
      },
      "source": [
        "Next, determine whether `fav_top1` appears before `fav_top2` in the alphabet."
      ]
    },
    {
      "cell_type": "code",
      "metadata": {
        "id": "1B7PoxxVzwes",
        "colab": {
          "base_uri": "https://localhost:8080/"
        },
        "outputId": "fec44f33-175e-4190-f539-b3ad688f3198"
      },
      "source": [
        "fav_top1 < fav_top2"
      ],
      "execution_count": null,
      "outputs": [
        {
          "output_type": "execute_result",
          "data": {
            "text/plain": [
              "True"
            ]
          },
          "metadata": {},
          "execution_count": 14
        }
      ]
    },
    {
      "cell_type": "markdown",
      "metadata": {
        "id": "FpvHOwpCzwey"
      },
      "source": [
        "### 4b. Algebraic operators"
      ]
    },
    {
      "cell_type": "markdown",
      "metadata": {
        "id": "-wVt4jkIzwez"
      },
      "source": [
        "**i. Concatenation**  \n",
        "Strings can be joined together (concatenated) with the `+` operator, just like numbers. In the cell below, create the variable `pizza` and assign it the joint value of `fav_top1` and `fav_top2`. In the same cell, insert a new line and type `pizza` to check what the output looks like."
      ]
    },
    {
      "cell_type": "code",
      "metadata": {
        "id": "1o3fxkBWzwez",
        "colab": {
          "base_uri": "https://localhost:8080/",
          "height": 35
        },
        "outputId": "2b6c1c11-137e-4f89-880f-260a459fd042"
      },
      "source": [
        "pizza = fav_top1 + fav_top2\n",
        "pizza"
      ],
      "execution_count": null,
      "outputs": [
        {
          "output_type": "execute_result",
          "data": {
            "application/vnd.google.colaboratory.intrinsic+json": {
              "type": "string"
            },
            "text/plain": [
              "'artichokesolives'"
            ]
          },
          "metadata": {},
          "execution_count": 15
        }
      ]
    },
    {
      "cell_type": "markdown",
      "metadata": {
        "id": "xArsaZuhzwe1"
      },
      "source": [
        "Next, repeat the above process, but this time think about how you can include a space between your two favorite toppings so that the output looks better. "
      ]
    },
    {
      "cell_type": "code",
      "metadata": {
        "id": "vSMYxvD1zwe2",
        "colab": {
          "base_uri": "https://localhost:8080/",
          "height": 35
        },
        "outputId": "8d5839b0-2321-40d9-b4f4-0d63c3dc28cc"
      },
      "source": [
        "pizza = fav_top1 + ' ' + fav_top2\n",
        "pizza"
      ],
      "execution_count": null,
      "outputs": [
        {
          "output_type": "execute_result",
          "data": {
            "application/vnd.google.colaboratory.intrinsic+json": {
              "type": "string"
            },
            "text/plain": [
              "'artichokes olives'"
            ]
          },
          "metadata": {},
          "execution_count": 16
        }
      ]
    },
    {
      "cell_type": "markdown",
      "metadata": {
        "id": "hhDCmNp1zwe4"
      },
      "source": [
        "**ii. Copies**  \n",
        "Multiple copies of a string can be created with the `*` operator. In the cell below, assign a new value to `pizza` that evaluates to double `fav_top2`."
      ]
    },
    {
      "cell_type": "code",
      "metadata": {
        "id": "LqCj66iyzwe4",
        "colab": {
          "base_uri": "https://localhost:8080/",
          "height": 35
        },
        "outputId": "06768121-47bf-49cd-c1b6-dbdf6621a130"
      },
      "source": [
        "pizza = fav_top2 * 2\n",
        "pizza"
      ],
      "execution_count": null,
      "outputs": [
        {
          "output_type": "execute_result",
          "data": {
            "application/vnd.google.colaboratory.intrinsic+json": {
              "type": "string"
            },
            "text/plain": [
              "'olivesolives'"
            ]
          },
          "metadata": {},
          "execution_count": 19
        }
      ]
    },
    {
      "cell_type": "markdown",
      "metadata": {
        "id": "xVcW94tDzwe6"
      },
      "source": [
        "### 4c. `in` and `not in`\n",
        "You meet a new friend from Croatia, who tells you that her name is Ksenija. In the cell below, write an expression to determine whether the letter `y` is in her name."
      ]
    },
    {
      "cell_type": "code",
      "metadata": {
        "id": "-gIIc5Nqzwe6",
        "colab": {
          "base_uri": "https://localhost:8080/"
        },
        "outputId": "ade1026e-83c9-481d-9a9c-fb96e29ed837"
      },
      "source": [
        "'y' in 'Ksenija'"
      ],
      "execution_count": null,
      "outputs": [
        {
          "output_type": "execute_result",
          "data": {
            "text/plain": [
              "False"
            ]
          },
          "metadata": {},
          "execution_count": 20
        }
      ]
    },
    {
      "cell_type": "code",
      "metadata": {
        "colab": {
          "base_uri": "https://localhost:8080/"
        },
        "id": "6at5MOqocS5o",
        "outputId": "59130139-c1ad-4258-d1e9-f076332cb4b9"
      },
      "source": [
        "name = 'Ksenija'\n",
        "'y' in name"
      ],
      "execution_count": null,
      "outputs": [
        {
          "output_type": "execute_result",
          "data": {
            "text/plain": [
              "False"
            ]
          },
          "metadata": {},
          "execution_count": 21
        }
      ]
    },
    {
      "cell_type": "markdown",
      "metadata": {
        "id": "rluj1e--zwe8"
      },
      "source": [
        "### 4d. `len()`\n",
        "In the cell below, start by creating the variable `fav_class` and assign it this (extremely true) string:\n",
        "\n",
        "`ENGR120 is my favorite class this semester!`\n",
        "\n",
        "Then, in the same cell, insert a new line and determine the length of the string assigned to `fav_class`. "
      ]
    },
    {
      "cell_type": "code",
      "metadata": {
        "id": "k9orE1F2zwe8",
        "colab": {
          "base_uri": "https://localhost:8080/"
        },
        "outputId": "ab1be54d-c122-4952-a037-af10bf75e189"
      },
      "source": [
        "fav_class = 'ENGR120 is my favorite class this semester!'\n",
        "len(fav_class)"
      ],
      "execution_count": null,
      "outputs": [
        {
          "output_type": "execute_result",
          "data": {
            "text/plain": [
              "43"
            ]
          },
          "metadata": {},
          "execution_count": 22
        }
      ]
    },
    {
      "cell_type": "markdown",
      "metadata": {
        "id": "FKakXxOdzwe-"
      },
      "source": [
        "## 5. String operators: Indexing\n",
        "**i. Indexing**  \n",
        "Continuing with the variable `fav_class` from above, use the indexing operator to determine the first and fourth character of the string assigned to this variable. Reminder: Python starts indexing at zero, so when I say \"the first character in the string\", I mean the character at index 0. "
      ]
    },
    {
      "cell_type": "code",
      "metadata": {
        "id": "BYXWNoh4zwe_",
        "colab": {
          "base_uri": "https://localhost:8080/",
          "height": 35
        },
        "outputId": "ea15fd46-de43-44c8-8704-c063625c54c5"
      },
      "source": [
        "# First\n",
        "fav_class[0]"
      ],
      "execution_count": null,
      "outputs": [
        {
          "output_type": "execute_result",
          "data": {
            "application/vnd.google.colaboratory.intrinsic+json": {
              "type": "string"
            },
            "text/plain": [
              "'E'"
            ]
          },
          "metadata": {},
          "execution_count": 23
        }
      ]
    },
    {
      "cell_type": "code",
      "metadata": {
        "id": "WB9nvpiazwfB",
        "colab": {
          "base_uri": "https://localhost:8080/",
          "height": 35
        },
        "outputId": "d5409d1f-15c9-4630-a657-1fc40d5dfcc2"
      },
      "source": [
        "# Fourth\n",
        "fav_class[3]"
      ],
      "execution_count": null,
      "outputs": [
        {
          "output_type": "execute_result",
          "data": {
            "application/vnd.google.colaboratory.intrinsic+json": {
              "type": "string"
            },
            "text/plain": [
              "'R'"
            ]
          },
          "metadata": {},
          "execution_count": 24
        }
      ]
    },
    {
      "cell_type": "markdown",
      "metadata": {
        "id": "hnCa_be6zwfF"
      },
      "source": [
        "**ii. Last character: Negative indexing**  \n",
        "Continuing with the variable `fav_class`, use negative indexing to determine the last character of the string assigned to this variable."
      ]
    },
    {
      "cell_type": "code",
      "metadata": {
        "id": "WB2UWn2CzwfF",
        "colab": {
          "base_uri": "https://localhost:8080/",
          "height": 35
        },
        "outputId": "6f7be020-6f34-436b-8f58-b71ff68a078c"
      },
      "source": [
        "fav_class[-1]"
      ],
      "execution_count": null,
      "outputs": [
        {
          "output_type": "execute_result",
          "data": {
            "application/vnd.google.colaboratory.intrinsic+json": {
              "type": "string"
            },
            "text/plain": [
              "'!'"
            ]
          },
          "metadata": {},
          "execution_count": 25
        }
      ]
    },
    {
      "cell_type": "markdown",
      "metadata": {
        "id": "egtzZcdvzwfH"
      },
      "source": [
        "## Congrats, you're done! \n",
        "If you're done early, you're welcome to continue on to the additional (optional) practice problems below. Alternatively, you can use them as extra practice to help you study for this week's quiz!"
      ]
    },
    {
      "cell_type": "markdown",
      "metadata": {
        "id": "wtNikADazwfH"
      },
      "source": [
        "## OPTIONAL: Looking for more practice? \n",
        "Start by running the cell below."
      ]
    },
    {
      "cell_type": "code",
      "metadata": {
        "id": "sla48BSRzwfI"
      },
      "source": [
        "s1 = 'ant'\n",
        "s2 = 'bat'\n",
        "s3 = 'cod'"
      ],
      "execution_count": null,
      "outputs": []
    },
    {
      "cell_type": "markdown",
      "metadata": {
        "id": "GL7Xu0m7zwfK"
      },
      "source": [
        "Next, in separate cells below, write expressions using the variables above and the `+` and `*` operators that evaluate to the following. Note: Pay attention to spaces!\n",
        "\n",
        "* `'ant bat cod'`\n",
        "* `'ant ant ant ant ant ant ant ant ant ant '`\n",
        "* `'ant bat bat cod cod cod'`\n",
        "* `'ant bat ant bat ant bat ant bat ant bat ant bat ant bat '`\n",
        "* `'batbatcod batbatcod batbatcod batbatcod batbatcod '`"
      ]
    },
    {
      "cell_type": "code",
      "metadata": {
        "id": "kb_sY0-czwfK",
        "colab": {
          "base_uri": "https://localhost:8080/",
          "height": 35
        },
        "outputId": "5413eb9c-e50f-45ff-f992-33bf4efe1025"
      },
      "source": [
        "# 'ant bat cod'\n",
        "s1 + ' ' + s2 + ' ' + s3"
      ],
      "execution_count": null,
      "outputs": [
        {
          "output_type": "execute_result",
          "data": {
            "application/vnd.google.colaboratory.intrinsic+json": {
              "type": "string"
            },
            "text/plain": [
              "'ant bat cod'"
            ]
          },
          "metadata": {},
          "execution_count": 27
        }
      ]
    },
    {
      "cell_type": "code",
      "metadata": {
        "id": "x59n8Ub3zwfM",
        "colab": {
          "base_uri": "https://localhost:8080/",
          "height": 35
        },
        "outputId": "f2201a35-b0a7-4e10-8097-0e4da06df421"
      },
      "source": [
        "# 'ant ant ant ant ant ant ant ant ant ant '\n",
        "10 * (s1 + ' ')"
      ],
      "execution_count": null,
      "outputs": [
        {
          "output_type": "execute_result",
          "data": {
            "application/vnd.google.colaboratory.intrinsic+json": {
              "type": "string"
            },
            "text/plain": [
              "'ant ant ant ant ant ant ant ant ant ant '"
            ]
          },
          "metadata": {},
          "execution_count": 28
        }
      ]
    },
    {
      "cell_type": "code",
      "metadata": {
        "id": "3pQtz5-DzwfO",
        "colab": {
          "base_uri": "https://localhost:8080/",
          "height": 35
        },
        "outputId": "b75a7e33-a5ba-456e-b028-9447759671b0"
      },
      "source": [
        "# 'ant bat bat cod cod cod'\n",
        "s1 + ' ' + 2 * (s2 + ' ') + 2 * (s3 + ' ') + s3"
      ],
      "execution_count": null,
      "outputs": [
        {
          "output_type": "execute_result",
          "data": {
            "application/vnd.google.colaboratory.intrinsic+json": {
              "type": "string"
            },
            "text/plain": [
              "'ant bat bat cod cod cod'"
            ]
          },
          "metadata": {},
          "execution_count": 29
        }
      ]
    },
    {
      "cell_type": "code",
      "metadata": {
        "id": "p5O2ndpTzwfQ",
        "colab": {
          "base_uri": "https://localhost:8080/",
          "height": 35
        },
        "outputId": "278316f5-b9e3-4f8f-e30e-a8808c07997e"
      },
      "source": [
        "# 'ant bat ant bat ant bat ant bat ant bat ant bat ant bat '\n",
        "7 * (s1 + ' ' + s2 + ' ')"
      ],
      "execution_count": null,
      "outputs": [
        {
          "output_type": "execute_result",
          "data": {
            "application/vnd.google.colaboratory.intrinsic+json": {
              "type": "string"
            },
            "text/plain": [
              "'ant bat ant bat ant bat ant bat ant bat ant bat ant bat '"
            ]
          },
          "metadata": {},
          "execution_count": 30
        }
      ]
    },
    {
      "cell_type": "code",
      "metadata": {
        "id": "btqjo1NNzwfT",
        "colab": {
          "base_uri": "https://localhost:8080/",
          "height": 35
        },
        "outputId": "13b7a03a-fcd4-4da8-e343-a6d680f357ae"
      },
      "source": [
        "# 'batbatcod batbatcod batbatcod batbatcod batbatcod '\n",
        "5 * (2 * s2 + s3 + ' ')"
      ],
      "execution_count": null,
      "outputs": [
        {
          "output_type": "execute_result",
          "data": {
            "application/vnd.google.colaboratory.intrinsic+json": {
              "type": "string"
            },
            "text/plain": [
              "'batbatcod batbatcod batbatcod batbatcod batbatcod '"
            ]
          },
          "metadata": {},
          "execution_count": 32
        }
      ]
    }
  ]
}
