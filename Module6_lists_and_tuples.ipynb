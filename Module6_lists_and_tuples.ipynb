{
  "nbformat": 4,
  "nbformat_minor": 0,
  "metadata": {
    "kernelspec": {
      "display_name": "Python 3",
      "language": "python",
      "name": "python3"
    },
    "language_info": {
      "codemirror_mode": {
        "name": "ipython",
        "version": 3
      },
      "file_extension": ".py",
      "mimetype": "text/x-python",
      "name": "python",
      "nbconvert_exporter": "python",
      "pygments_lexer": "ipython3",
      "version": "3.7.1"
    },
    "colab": {
      "name": "Module6_lists_and_tuples.ipynb",
      "provenance": [],
      "collapsed_sections": [],
      "include_colab_link": true
    }
  },
  "cells": [
    {
      "cell_type": "markdown",
      "metadata": {
        "id": "view-in-github",
        "colab_type": "text"
      },
      "source": [
        "<a href=\"https://colab.research.google.com/github/JaimeAdele/APEX/blob/main/Module6_lists_and_tuples.ipynb\" target=\"_parent\"><img src=\"https://colab.research.google.com/assets/colab-badge.svg\" alt=\"Open In Colab\"/></a>"
      ]
    },
    {
      "cell_type": "markdown",
      "metadata": {
        "id": "Zhf5vzIRS9y6"
      },
      "source": [
        "<img src='https://images.pexels.com/photos/131979/pexels-photo-131979.jpeg?auto=compress&cs=tinysrgb&dpr=2&h=750&w=1260' width=700>  \n",
        "Photo by freestocks.org from Pexels\n"
      ]
    },
    {
      "cell_type": "markdown",
      "metadata": {
        "id": "1_Z_JpWjb1Vq"
      },
      "source": [
        "# APEX Faculty Training, Module 6: Lists and tuples\n",
        "\n",
        "Created by Valerie Carr and Jaime Zuspann  \n",
        "Licensed under a Creative Commons license: CC BY-NC-SA  \n",
        "Last updated: Dec 5, 2021  \n",
        "\n",
        "**Learning outcomes**  \n",
        "To learn about variables:  \n"
      ]
    },
    {
      "cell_type": "markdown",
      "metadata": {
        "id": "Tkk6HcLgb1Vr"
      },
      "source": [
        "## 1. Documentation and PEP8\n",
        "First, make a copy of this notebook! Then, enter you name as well as today's date in the cell above. Finally, keep in mind PEP8 guidelines regarding variable names and spaces when completing this lab activity!\n",
        "\n",
        "Note: As you go, make sure to run example cells as you come across them, because some later cells depend on them and won't run properly if the previous cells haven't been run."
      ]
    },
    {
      "cell_type": "markdown",
      "metadata": {
        "id": "nkUWwSYf_QKt"
      },
      "source": [
        "## 2. Lists  \n",
        "A list is a data type containing a sequence of objects. The objects in a list can be of any type: integers, floats, strings, etc. Objects of different data types can also be contained in the same list, though that is not as common in practice.  \n",
        " \n",
        "To tell Python that something is a list, we use square brackets to surround the list, with the items separated by commas. The following cells show various valid lists:"
      ]
    },
    {
      "cell_type": "code",
      "metadata": {
        "id": "Fvlj6_F-AKv2"
      },
      "source": [
        "int_list = [1, 2, 3, 4]"
      ],
      "execution_count": null,
      "outputs": []
    },
    {
      "cell_type": "code",
      "metadata": {
        "id": "ymQZTZBWAPo0"
      },
      "source": [
        "float_list = [1.41, 1.61, 2.71, 3.14]"
      ],
      "execution_count": null,
      "outputs": []
    },
    {
      "cell_type": "code",
      "metadata": {
        "id": "EtfOFKHrAcc_"
      },
      "source": [
        "bool_list = [True, True, False, True]"
      ],
      "execution_count": null,
      "outputs": []
    },
    {
      "cell_type": "code",
      "metadata": {
        "id": "nGdrjrH1AhEM"
      },
      "source": [
        "str_list = ['alpha', 'beta', 'gamma', 'delta']"
      ],
      "execution_count": null,
      "outputs": []
    },
    {
      "cell_type": "code",
      "metadata": {
        "id": "Ps020CmyA5lH"
      },
      "source": [
        "mix_list = [1, 1.61, False, 'delta']"
      ],
      "execution_count": null,
      "outputs": []
    },
    {
      "cell_type": "markdown",
      "metadata": {
        "id": "HNZquc7Kb1Vs"
      },
      "source": [
        "In the cells below, create lists consisting of the following objects:"
      ]
    },
    {
      "cell_type": "markdown",
      "metadata": {
        "id": "0g8rWiFRneXu"
      },
      "source": [
        "<font color='red'>Exercise 1</font>  \n",
        "* My first name, your first name, and a family member's name, assigned to the variable `names`"
      ]
    },
    {
      "cell_type": "code",
      "metadata": {
        "id": "nKx3eaHsb1Vu"
      },
      "source": [
        "# Names\n",
        "names = ['Valerie', 'Chloe', 'Kurt']"
      ],
      "execution_count": null,
      "outputs": []
    },
    {
      "cell_type": "markdown",
      "metadata": {
        "id": "q44nKi-Vnk4C"
      },
      "source": [
        "<font color='red'>Exercise 2</font>  \n",
        "* All of the odd numbers from 1-10, assigned to the variable `odd_nums`"
      ]
    },
    {
      "cell_type": "code",
      "metadata": {
        "id": "eIvLKkQHXImp"
      },
      "source": [
        "# Odd numbers\n",
        "odd_nums = [1, 3, 5, 7, 9]"
      ],
      "execution_count": null,
      "outputs": []
    },
    {
      "cell_type": "markdown",
      "metadata": {
        "id": "piDu9pw1b1Vy"
      },
      "source": [
        "## 3. List operators  \n",
        "Similar to how Python performs different operations on number types and strings, Python also performs special operations on lists. Some operations will be familiar (like those of strings), but some will be new!"
      ]
    },
    {
      "cell_type": "markdown",
      "metadata": {
        "id": "_aB9Ulvzb1Vy"
      },
      "source": [
        "### 3a. Algebraic operators"
      ]
    },
    {
      "cell_type": "markdown",
      "metadata": {
        "id": "UDFBfMVNb1Vz"
      },
      "source": [
        "**i. Concatenation**  \n",
        "Just like strings, lists can be joined together (concatenated). In the cell below, the following have been done:\n",
        "\n",
        "1. Create the variable `fav_tops1` and assign it a list of your two favorite ice cream sundae toppings\n",
        "2. Create the variable `fav_tops2` and assign it a list of your group member's two favorite toppings\n",
        "3. Create the variable `our_tops` and assign it the concatenation of `fav_tops1` and `fav_tops2`\n",
        "4. Type `our_tops` to ensure that the new list looks like you expect it to  \n",
        "\n",
        "Run the cell and confirm that the output is what you expect."
      ]
    },
    {
      "cell_type": "code",
      "metadata": {
        "id": "5A-tTUM1b1Vz"
      },
      "source": [
        "fav_tops1 = ['oreos', 'chocolate sprinkles']\n",
        "fav_tops2 = ['caramel', 'peanuts']\n",
        "our_tops = fav_tops1 + fav_tops2\n",
        "our_tops"
      ],
      "execution_count": null,
      "outputs": []
    },
    {
      "cell_type": "markdown",
      "metadata": {
        "id": "2KWtSZd3b1V2"
      },
      "source": [
        "**ii. Copies**  \n",
        "Multiple copies of a list can be created, similar to how you created multiple copies of a string. In the cell below, the variable `dubs` has been created and two copies of `our_tops` has been assign to it.  \n",
        "\n",
        "Again, run the cell to ensure the output is what you expect."
      ]
    },
    {
      "cell_type": "code",
      "metadata": {
        "id": "7TP6bJ8Jb1V2"
      },
      "source": [
        "dubs = our_tops * 2\n",
        "dubs"
      ],
      "execution_count": null,
      "outputs": []
    },
    {
      "cell_type": "markdown",
      "metadata": {
        "id": "6QboUABjb1V4"
      },
      "source": [
        "**iii. Min and max**  \n",
        "For lists containing either numbers or strings (but not a mix of both), you can use the `min()` and `max()` functions. Remember, for strings, min and max refer to alphabetical order.  \n",
        "\n",
        "In the cells below, two lists, one of numbers and one of floats, have been created. Run the cells to see the max price and the alphabetically earliest name."
      ]
    },
    {
      "cell_type": "code",
      "metadata": {
        "id": "j2n3OOB5ThNh"
      },
      "source": [
        "prices = [2.99, 1.49, 9.99, 6.29]\n",
        "max(prices)"
      ],
      "execution_count": null,
      "outputs": []
    },
    {
      "cell_type": "code",
      "metadata": {
        "id": "dLt1MYiPTri8"
      },
      "source": [
        "names = ['Aurora', 'Natalia', 'Isabella', 'Emilia']\n",
        "min(names)"
      ],
      "execution_count": null,
      "outputs": []
    },
    {
      "cell_type": "markdown",
      "metadata": {
        "id": "vD90OxBwb1V7"
      },
      "source": [
        "**iv. Sum**  \n",
        "For lists containing numbers, you can use the `sum()` function to determine the sum of all values in the list.  \n",
        "\n",
        "Run the cell below to determine the sum of the list of odd numbers defined earlier in this module."
      ]
    },
    {
      "cell_type": "code",
      "metadata": {
        "id": "07s99uR2b1V8"
      },
      "source": [
        "sum(odd_nums)"
      ],
      "execution_count": null,
      "outputs": []
    },
    {
      "cell_type": "markdown",
      "metadata": {
        "id": "a3muCjEyoKJf"
      },
      "source": [
        "###Now it's your turn.  \n",
        "Try to do these on your own if possible, but if you need help, refer to the section mentioned in each exercise.\n",
        "\n",
        "<font color='red'>Exercise 3</font>  \n",
        "In the cell below, complete the following (part i. of this section):  \n",
        "1. Create the variable `common_pets` and assign it a list of two common pets people keep.\n",
        "2. Create the variable `uncommon_pets` and assign it a list of two less common pets people keep.\n",
        "3. Create the variable `all_pets` and assign it the concatenation of `common_pets` and `uncommon_pets`.\n",
        "4. Type `all_pets` to ensure that the new list looks like you expect it to."
      ]
    },
    {
      "cell_type": "code",
      "metadata": {
        "id": "LB3nt0bBSSLS"
      },
      "source": [
        ""
      ],
      "execution_count": null,
      "outputs": []
    },
    {
      "cell_type": "markdown",
      "metadata": {
        "id": "QWK-I5EporNE"
      },
      "source": [
        "<font color='red'>Exercise 4</font>  \n",
        "Now create a variable called `uncommon_pets` and assign to it 5 copies of the `uncommon_pets` variable from the previous exercise (part ii. of this section): "
      ]
    },
    {
      "cell_type": "code",
      "metadata": {
        "id": "BXr8ApI2SwnZ"
      },
      "source": [
        ""
      ],
      "execution_count": null,
      "outputs": []
    },
    {
      "cell_type": "markdown",
      "metadata": {
        "id": "tYlYwU5vojBX"
      },
      "source": [
        "<font color='red'>Exercise 5</font>  \n",
        "Use Python to determine which of the pet types in `all_pets` appear latest in a dictionary (part iii. of this section):"
      ]
    },
    {
      "cell_type": "code",
      "metadata": {
        "id": "c8t0JLloq4jB"
      },
      "source": [
        ""
      ],
      "execution_count": null,
      "outputs": []
    },
    {
      "cell_type": "markdown",
      "metadata": {
        "id": "YDm1Xf7xpW0t"
      },
      "source": [
        "<font color='red'>Exercise 6</font>  \n",
        "Now, onto numbers, see what the sum of the list of `prices` from part iii. of this section is in the cell below (refer to part iv. of this section):"
      ]
    },
    {
      "cell_type": "code",
      "metadata": {
        "id": "9aZpJ9Jzptof"
      },
      "source": [
        ""
      ],
      "execution_count": null,
      "outputs": []
    },
    {
      "cell_type": "markdown",
      "metadata": {
        "id": "uwVGWU7Fb1V_"
      },
      "source": [
        "### 3b. Length\n",
        "The function `len()` is used to determine the number of objects in a list. Below, the length of the list `names` is determined. Run the cell to see the output."
      ]
    },
    {
      "cell_type": "code",
      "metadata": {
        "id": "rUJ6W_PVUimu"
      },
      "source": [
        "len(names)"
      ],
      "execution_count": null,
      "outputs": []
    },
    {
      "cell_type": "markdown",
      "metadata": {
        "id": "S-cBkkYUrteX"
      },
      "source": [
        "<font color='red'>Exercise 7</font>  \n",
        "Using the `all_pets` you created in Exercise 3, determine the length of this list in the cell below."
      ]
    },
    {
      "cell_type": "code",
      "metadata": {
        "id": "8zukiVcIb1WA"
      },
      "source": [
        ""
      ],
      "execution_count": null,
      "outputs": []
    },
    {
      "cell_type": "markdown",
      "metadata": {
        "id": "H2igputGb1WD"
      },
      "source": [
        "### 3c. `in` and `not in`\n"
      ]
    },
    {
      "cell_type": "code",
      "metadata": {
        "id": "ycmtk6ydVG4e"
      },
      "source": [
        "'Natalia' in names"
      ],
      "execution_count": null,
      "outputs": []
    },
    {
      "cell_type": "code",
      "metadata": {
        "id": "xViQCkuhVSOd"
      },
      "source": [
        "'Octavia' not in names"
      ],
      "execution_count": null,
      "outputs": []
    },
    {
      "cell_type": "markdown",
      "metadata": {
        "id": "ahvu2J2CsV89"
      },
      "source": [
        "<font color='red'>Exercise 8</font>  \n",
        "Sticking to the `all_pets` list, in the cell below, write an expression to determine whether `turtle` is in the list."
      ]
    },
    {
      "cell_type": "code",
      "metadata": {
        "id": "J47td1B1b1WD"
      },
      "source": [
        ""
      ],
      "execution_count": null,
      "outputs": []
    },
    {
      "cell_type": "markdown",
      "metadata": {
        "id": "Fy5ukzFrb1WF"
      },
      "source": [
        "### 3d. Indexing"
      ]
    },
    {
      "cell_type": "markdown",
      "metadata": {
        "id": "MUQE8og4NVNb"
      },
      "source": [
        "We can use the indexing operator (just like with strings!) to index specific items within a list.  \n",
        "\n",
        ">Remember:  \n",
        "• Indexing starts with 0, not 1.  \n",
        "• Negative indexing counts from the end of the list backwards.\n",
        "\n",
        "Run the cells below."
      ]
    },
    {
      "cell_type": "code",
      "metadata": {
        "id": "OrKhw4AOV_A3"
      },
      "source": [
        "names[0]"
      ],
      "execution_count": null,
      "outputs": []
    },
    {
      "cell_type": "code",
      "metadata": {
        "colab": {
          "base_uri": "https://localhost:8080/",
          "height": 35
        },
        "id": "SdLazOGAWapm",
        "outputId": "4d9fc3a4-e020-4bc4-bae8-ef83563bc0d1"
      },
      "source": [
        "names[-3]"
      ],
      "execution_count": null,
      "outputs": [
        {
          "output_type": "execute_result",
          "data": {
            "application/vnd.google.colaboratory.intrinsic+json": {
              "type": "string"
            },
            "text/plain": [
              "'Natalia'"
            ]
          },
          "metadata": {},
          "execution_count": 6
        }
      ]
    },
    {
      "cell_type": "code",
      "metadata": {
        "colab": {
          "base_uri": "https://localhost:8080/"
        },
        "id": "1UrgBwjXkQ7u",
        "outputId": "e23ab9aa-2f6e-474c-da0b-eae842809e7a"
      },
      "source": [
        "names[-3] = 'Octavia'\n",
        "names"
      ],
      "execution_count": null,
      "outputs": [
        {
          "output_type": "execute_result",
          "data": {
            "text/plain": [
              "['Aurora', 'Octavia', 'Isabella', 'Emilia']"
            ]
          },
          "metadata": {},
          "execution_count": 9
        }
      ]
    },
    {
      "cell_type": "markdown",
      "metadata": {
        "id": "OJeHSKze27Jw"
      },
      "source": [
        "<font color='red'>Exercise 9-10</font>  \n",
        "Using the list `prices` from above, use the indexing operator to determine (a) the second, and (b) the second to last items in the list, keeping in mind that Python starts indexing at zero. Note: There is more than one correct way to solve each problem – you could use regular forwards indexing or negative indexing."
      ]
    },
    {
      "cell_type": "code",
      "metadata": {
        "id": "EQdq4TyJb1WF"
      },
      "source": [
        "# Second\n"
      ],
      "execution_count": null,
      "outputs": []
    },
    {
      "cell_type": "code",
      "metadata": {
        "id": "Bv8jxrWFb1WH"
      },
      "source": [
        "# Second to last\n"
      ],
      "execution_count": null,
      "outputs": []
    },
    {
      "cell_type": "markdown",
      "metadata": {
        "id": "w2paQXBjb1WK"
      },
      "source": [
        "### 3e. Converting a string to a list of characters\n",
        "The built-in function `list()` can be used to convert a string to a list of characters. Below, we've created the variable `team` and assigned it the name of a sports team. The `list()` function then converts this string to a list of characters."
      ]
    },
    {
      "cell_type": "code",
      "metadata": {
        "id": "4KUeU0znb1WK",
        "colab": {
          "base_uri": "https://localhost:8080/"
        },
        "outputId": "25f1a8ff-100c-4860-98ad-69b75270cb0a"
      },
      "source": [
        "team = 'Spartans'\n",
        "list(team)"
      ],
      "execution_count": null,
      "outputs": [
        {
          "output_type": "execute_result",
          "data": {
            "text/plain": [
              "['S', 'p', 'a', 'r', 't', 'a', 'n', 's']"
            ]
          },
          "metadata": {},
          "execution_count": 17
        }
      ]
    },
    {
      "cell_type": "markdown",
      "metadata": {
        "id": "mzKRJt6Vb1WM"
      },
      "source": [
        "## 4. List mutability\n",
        "It is possible to change objects within a list using the indexing operator, meaning that lists are mutable. Strings, however, are immutable--they can't be changed. Evaluate the following code to help clarify this point, noting that **you'll receive an error for the string exercise.**"
      ]
    },
    {
      "cell_type": "code",
      "metadata": {
        "id": "lZe1v07T49Wh"
      },
      "source": [
        "words = ['these', 'are', 'my', 'words']\n",
        "words[0] = 'those'\n",
        "words"
      ],
      "execution_count": null,
      "outputs": []
    },
    {
      "cell_type": "code",
      "metadata": {
        "id": "VqVz05fM5bo6"
      },
      "source": [
        "word = 'word'\n",
        "word[3] = 'k'\n",
        "word"
      ],
      "execution_count": null,
      "outputs": []
    },
    {
      "cell_type": "markdown",
      "metadata": {
        "id": "Pq-__HMj4zRk"
      },
      "source": [
        "<font color='red'>Exercise 12</font>  \n",
        "* Using the indexing operator on the list `words` from above, change the last object in the list to be `'fruits'`. Type the variable name to ensure that the change was made properly."
      ]
    },
    {
      "cell_type": "code",
      "metadata": {
        "id": "lcRUYszCb1WN"
      },
      "source": [
        "# List mutability\n"
      ],
      "execution_count": null,
      "outputs": []
    },
    {
      "cell_type": "markdown",
      "metadata": {
        "id": "G__5IdhD41R9"
      },
      "source": [
        "<font color='red'>Exercise 13</font>  \n",
        "* Create the variable `pet_name` and assign it the value`'buddy'`. Next, try to use the indexing operator to change the second letter to an `'a'` to make the word `'baddy'`, given that buddy just peed on the rug."
      ]
    },
    {
      "cell_type": "code",
      "metadata": {
        "id": "ZcdisLaab1WP"
      },
      "source": [
        "# String immutability\n"
      ],
      "execution_count": null,
      "outputs": []
    },
    {
      "cell_type": "markdown",
      "metadata": {
        "id": "9-P65nGAv2Q8"
      },
      "source": [
        "Remember, since strings are immutable, you should have received an error (a TypeError to be exact) from running the last section. \n",
        "\n",
        "Though strings are immutable so you can't change them once they're defined, you can reassign a variable to a different, even similar string. For instance, while you couldn't change a letter within the string in the previous cell, we can reassign the variable `pet_name` with the string we want, like below."
      ]
    },
    {
      "cell_type": "code",
      "metadata": {
        "id": "C_67xMYHwjvT"
      },
      "source": [
        "pet_name = 'baddy'\n",
        "pet_name"
      ],
      "execution_count": null,
      "outputs": []
    },
    {
      "cell_type": "markdown",
      "metadata": {
        "id": "thbAi99XwpD7"
      },
      "source": [
        "In this case, we did not change the string, we replaced it with a different one by assigning it to the same variable. "
      ]
    },
    {
      "cell_type": "markdown",
      "metadata": {
        "id": "w1Wj-XOVb1WX"
      },
      "source": [
        "## 5. Tuples  \n",
        "Tuples are another Python data type that are quite similar to lists. Tuples can also contain various data types, but unlike lists, tuples are immutable. Tuples are enclosed in parentheses rather than the square brackets of lists. Other than these differences, tuples function very much like lists, and the same operations apply as well.  \n",
        "\n",
        "Run the cell below to see how Python outputs a tuple, and maybe try using the `type()` function to see how Python tells you this object is a tuple."
      ]
    },
    {
      "cell_type": "code",
      "metadata": {
        "id": "AsWHn_Egh8e2"
      },
      "source": [
        "factors_of_24 = (1, 2, 3, 4, 6, 8, 12, 24)\n",
        "factors_of_24"
      ],
      "execution_count": null,
      "outputs": []
    },
    {
      "cell_type": "markdown",
      "metadata": {
        "id": "7v-jaTEa61Su"
      },
      "source": [
        "To gain practice with what does *and doesn't* work with tuples, complete the following:  \n",
        "<font color='red'>Exercise 14</font>  \n",
        "1. Create the variable `pres` and assign it a tuple with the names of the three most recent presidents. "
      ]
    },
    {
      "cell_type": "code",
      "metadata": {
        "id": "GlMtSt8ob1WX"
      },
      "source": [
        "# Create tuple\n"
      ],
      "execution_count": null,
      "outputs": []
    },
    {
      "cell_type": "markdown",
      "metadata": {
        "id": "rtpOqkgpjLxK"
      },
      "source": [
        "<font color='red'>Exercise 15</font>  \n",
        "2. Create the variable `pres_dubs` and use the `*` operator to create two copies of the `pres` tuple. Type the variable name to ensure that everything looks as it should. (Refer to section 3a. part ii.)"
      ]
    },
    {
      "cell_type": "code",
      "metadata": {
        "id": "zv8WfiQdb1Wa"
      },
      "source": [
        "# Make copies\n"
      ],
      "execution_count": null,
      "outputs": []
    },
    {
      "cell_type": "markdown",
      "metadata": {
        "id": "HD1P46mNjQYO"
      },
      "source": [
        "<font color='red'>Exercise 16</font>  \n",
        "3. Try to change the second name in the `pres_dubs` tuple to be your own last name. You'll receive an error like when you tried to change a letter within a string above. (Refer to section 3d. and 4)"
      ]
    },
    {
      "cell_type": "code",
      "metadata": {
        "id": "zgf3fzvDb1Wc"
      },
      "source": [
        "# Change name\n"
      ],
      "execution_count": null,
      "outputs": []
    },
    {
      "cell_type": "markdown",
      "metadata": {
        "id": "nW8tZwJGjWl4"
      },
      "source": [
        "<font color='red'>Exercise 17</font>  \n",
        "4. Unrelated to presidents, convert the string assigned to the variable `pet_name` to a tuple of characters. (Refer to section 3e. Remember, we're talking about a tuple now, not a list). Use the `type()` function to be sure you've converted the string to a tuple."
      ]
    },
    {
      "cell_type": "code",
      "metadata": {
        "id": "1F7Cdb9mb1We"
      },
      "source": [
        "# Convert to tuple\n"
      ],
      "execution_count": null,
      "outputs": []
    },
    {
      "cell_type": "markdown",
      "metadata": {
        "id": "2TpJU702b1Wf"
      },
      "source": [
        "## Congrats, you're done! \n",
        "You've learned the basic functionality of lists and tuples, two very useful Python data types. Next, we'll learn about another very useful Python data type: dictionaries."
      ]
    }
  ]
}