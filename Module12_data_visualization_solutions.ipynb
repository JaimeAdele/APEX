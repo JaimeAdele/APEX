{
  "nbformat": 4,
  "nbformat_minor": 0,
  "metadata": {
    "kernelspec": {
      "display_name": "Python 3",
      "language": "python",
      "name": "python3"
    },
    "language_info": {
      "codemirror_mode": {
        "name": "ipython",
        "version": 3
      },
      "file_extension": ".py",
      "mimetype": "text/x-python",
      "name": "python",
      "nbconvert_exporter": "python",
      "pygments_lexer": "ipython3",
      "version": "3.7.1"
    },
    "colab": {
      "name": "Module12_data_visualization_solutions.ipynb",
      "provenance": [],
      "collapsed_sections": [],
      "include_colab_link": true
    }
  },
  "cells": [
    {
      "cell_type": "markdown",
      "metadata": {
        "id": "view-in-github",
        "colab_type": "text"
      },
      "source": [
        "<a href=\"https://colab.research.google.com/github/JaimeAdele/APEX/blob/main/Module12_data_visualization_solutions.ipynb\" target=\"_parent\"><img src=\"https://colab.research.google.com/assets/colab-badge.svg\" alt=\"Open In Colab\"/></a>"
      ]
    },
    {
      "cell_type": "markdown",
      "metadata": {
        "id": "lnXOxVPEkZ5f"
      },
      "source": [
        "<img src='https://images.pexels.com/photos/5561923/pexels-photo-5561923.jpeg?auto=compress&cs=tinysrgb&w=1260&h=750&dpr=2' width=700>  \n",
        "Photo by Olya Kobruseva from Pexels"
      ]
    },
    {
      "cell_type": "markdown",
      "metadata": {
        "id": "svAPrOFekdFH"
      },
      "source": [
        "# APEX Faculty Training, Module 12: Data Visualization Solutions\n",
        "\n",
        "Created by Valerie Carr and Jaime Zuspann  \n",
        "Licensed under a Creative Commons license: CC BY-NC-SA  \n",
        "Last updated: May 8, 2022  "
      ]
    },
    {
      "cell_type": "markdown",
      "source": [
        "## 2. Overview of Data Visualization\n",
        "\n",
        "<font color='red'>Exercise 1 solution</font>  \n",
        "Run the cell below to import the `matplotlib` and `seaborn` libraries as well as `pandas`. As usual, you will not see an output from importing libraries."
      ],
      "metadata": {
        "id": "g_6fH22iMn1P"
      }
    },
    {
      "cell_type": "code",
      "source": [
        "# Library for dataframes\n",
        "import pandas as pd\n",
        "\n",
        "# Libraries for plotting\n",
        "import matplotlib\n",
        "%matplotlib inline\n",
        "import seaborn as sns"
      ],
      "metadata": {
        "id": "zwb0bXjYMm_9"
      },
      "execution_count": null,
      "outputs": []
    },
    {
      "cell_type": "markdown",
      "source": [
        "<font color='red'>Exercise 2 solution</font>  \n",
        "Run the cell below, which will create the dataframes for use in this module."
      ],
      "metadata": {
        "id": "--NSWPBDxZsl"
      }
    },
    {
      "cell_type": "code",
      "source": [
        "movies_df = pd.read_csv('https://raw.githubusercontent.com/valeriecarr/engr120/main/S21/movie_ratings.csv')\n",
        "biopics_df = pd.read_csv('https://raw.githubusercontent.com/valeriecarr/engr120/main/S21/biopics.csv')\n",
        "drugs_df = pd.read_csv('https://raw.githubusercontent.com/valeriecarr/engr120/0f146f266ca577467be93f726956a9ff17711282/S21/drug_use_wide.csv')\n",
        "drugs_df_long = pd.read_csv('https://raw.githubusercontent.com/valeriecarr/engr120/main/S21/drug_use_long.csv')"
      ],
      "metadata": {
        "id": "UCij2Lx5xaBr"
      },
      "execution_count": null,
      "outputs": []
    },
    {
      "cell_type": "markdown",
      "metadata": {
        "id": "DKwAYq8KJjo7"
      },
      "source": [
        "## 3. Scatter Plots\n",
        "\n",
        "<font color='red'>Exercise 3 solution</font>  \n",
        "Run the first cell below to see a scatter plot of the `rotten_tom` and `metacritic` columns of the `movies_df` dataframe. \n",
        "\n",
        "In the cell beneath that, write code to create a regression plot using the same data, but this time assign the plot to a variable called `movie_reg`."
      ]
    },
    {
      "cell_type": "code",
      "source": [
        "# Scatter plot of movie_df\n",
        "movie_scatter = sns.scatterplot(x = 'rotten_tom', y = 'metacritic', data = movies_df)"
      ],
      "metadata": {
        "id": "i9xlGRA5ONPw"
      },
      "execution_count": null,
      "outputs": []
    },
    {
      "cell_type": "code",
      "source": [
        "# Regression plot of movie_df\n",
        "movie_reg = sns.regplot(x = 'rotten_tom', y = 'metacritic', data = movies_df)"
      ],
      "metadata": {
        "id": "2UnfTSVqFRLu"
      },
      "execution_count": null,
      "outputs": []
    },
    {
      "cell_type": "markdown",
      "source": [
        "<font color='red'>Exercise 4 solution</font>  \n",
        "Create a new version of your regression plot from above so that it uses a non-default color of your choosing. Also make sure to use a different variable name for the plot.  \n",
        "\n",
        "The color you've chosen will likely be different."
      ],
      "metadata": {
        "id": "hqcsT44wEL1T"
      }
    },
    {
      "cell_type": "code",
      "source": [
        "# New Regression plot with a custom color\n",
        "movie_reg_teal = sns.regplot(x = 'rotten_tom', y = 'metacritic', data = movies_df, color = 'teal')"
      ],
      "metadata": {
        "id": "lXi0kNW9EfZi"
      },
      "execution_count": null,
      "outputs": []
    },
    {
      "cell_type": "markdown",
      "source": [
        "<font color='red'>Exercise 5 solution</font>  \n",
        "Run the cell below, which will open a series of windows prompting you to connect this notebook with your desired Drive account."
      ],
      "metadata": {
        "id": "0B9zGZXmFw4p"
      }
    },
    {
      "cell_type": "code",
      "source": [
        "# Connect notebook to Drive\n",
        "from google.colab import drive\n",
        "drive.mount('/content/drive')"
      ],
      "metadata": {
        "id": "dxRTiRfPFxe6"
      },
      "execution_count": null,
      "outputs": []
    },
    {
      "cell_type": "markdown",
      "source": [
        "<font color='red'>Exercise 6 solution</font>  \n",
        "In this exercise, you'll save the regression plot you created in Exercise 4. In the cell below:\n",
        "1. On line 2, edit the file path to fit your preferred location on Drive and your preferred name for the PDF you'll be creating.   \n",
        "2. On line 5, change `my_plot` to fit the name of your plot from Exercise 4.\n",
        "\n",
        "Note 1: If you run this cell, you will get an error because the file path has not been appropriately edited. Make sure you edit the filepath where it says `EDIT HERE` to match where you'd like to save the file.\n",
        "\n",
        "Note 2: Your variable name will be different than this solution--make sure it matches the one you chose for Exercise 4. We used the one we chose for our solution to Exercise 4.  "
      ],
      "metadata": {
        "id": "t8DZAQQcQun6"
      }
    },
    {
      "cell_type": "code",
      "source": [
        "# Define where to save the file, including what to call the file\n",
        "filepath = '/content/drive/My Drive/EDIT HERE/file.pdf'\n",
        "\n",
        "# Do the actual saving\n",
        "fig = movie_reg_teal.get_figure()\n",
        "fig.savefig(filepath)"
      ],
      "metadata": {
        "id": "36Pu6R7UEj-E"
      },
      "execution_count": null,
      "outputs": []
    },
    {
      "cell_type": "markdown",
      "source": [
        "## 4. Histograms\n",
        "<font color='red'>Exercise 7 solution</font>  \n",
        "Run each of the cells below to see histograms for movie ratings from Rotten Tomatoes, plotted either vertically or horizontally:\n"
      ],
      "metadata": {
        "id": "UTWCpB0FO9U7"
      }
    },
    {
      "cell_type": "code",
      "source": [
        "movie_hg = sns.histplot(x = 'rotten_tom', data = movies_df)"
      ],
      "metadata": {
        "id": "QCqLyNldPJl0"
      },
      "execution_count": null,
      "outputs": []
    },
    {
      "cell_type": "code",
      "source": [
        "movie_hg = sns.histplot(y = 'rotten_tom', data = movies_df)"
      ],
      "metadata": {
        "id": "9uCHjdKTEpoT"
      },
      "execution_count": null,
      "outputs": []
    },
    {
      "cell_type": "markdown",
      "source": [
        "<font color='red'>Exercise 8 solution</font>  \n",
        "Create a histogram of movie ratings from the '`fandango`' column of  `movies_df`, selecting a non-default color and a non-default number of bins. Remember to use a different variable name than you used in Exercise 7.\n",
        "\n",
        "Again, your values and variable name will be different, but you should use this structure in your solution."
      ],
      "metadata": {
        "id": "vxs0fI7gRtf1"
      }
    },
    {
      "cell_type": "code",
      "source": [
        "# New Histogram with custom color and number of bins\n",
        "movie_hg_teal = sns.histplot(x = 'fandango', data = movies_df, color = 'teal', bins = 10)"
      ],
      "metadata": {
        "id": "rlU7mZOcRuJw"
      },
      "execution_count": null,
      "outputs": []
    },
    {
      "cell_type": "markdown",
      "source": [
        "## 5. Count plots\n",
        "<font color='red'>Exercise 9 solution</font>  \n",
        "Run the following cell to see a count plot, displayed with vertical bars, for the column `type_of_subject` within `biopics_df`."
      ],
      "metadata": {
        "id": "jdzrlRL8SjXa"
      }
    },
    {
      "cell_type": "code",
      "source": [
        "# Count plot with vertical bars\n",
        "job = sns.countplot(x = 'type_of_subject', data = biopics_df)"
      ],
      "metadata": {
        "id": "4llN28aOSj8H"
      },
      "execution_count": null,
      "outputs": []
    },
    {
      "cell_type": "markdown",
      "source": [
        "<font color='red'>Exercise 10 solution</font>  \n",
        "Recreate the plot from above with vertical, rather than horizontal bars. Remember to use a new variable name."
      ],
      "metadata": {
        "id": "0Ne_PAs7USxO"
      }
    },
    {
      "cell_type": "code",
      "source": [
        "# Count plot with horizontal bars\n",
        "job_horiz = sns.countplot(y = 'type_of_subject', data = biopics_df)"
      ],
      "metadata": {
        "id": "JbeC-F60Uj-a"
      },
      "execution_count": null,
      "outputs": []
    },
    {
      "cell_type": "markdown",
      "source": [
        "## 6. Dataframe formatting (wide vs. long)\n",
        "<font color='red'>Exercise 11 solution</font>  \n",
        "Run each of the cells below to view the difference between wide and long formatting."
      ],
      "metadata": {
        "id": "oejN8BI0P3lp"
      }
    },
    {
      "cell_type": "code",
      "source": [
        "# Wide format\n",
        "drugs_df"
      ],
      "metadata": {
        "id": "9j7UNdUjQhlX"
      },
      "execution_count": null,
      "outputs": []
    },
    {
      "cell_type": "code",
      "source": [
        "# Same data, but in long format\n",
        "drugs_df_long"
      ],
      "metadata": {
        "id": "ROBvlsc_E-nA"
      },
      "execution_count": null,
      "outputs": []
    },
    {
      "cell_type": "markdown",
      "source": [
        "## 7. Point Plots\n",
        "<font color='red'>Exercise 12 solution</font>  \n",
        "Run the cell below, which produces a point plot for the `drugs_df_long` dataframe, with the `age` column displayed on the x axis, the `percentage` column on the y axis, and each drug displayed as a different color."
      ],
      "metadata": {
        "id": "WH-O5zHi2yIy"
      }
    },
    {
      "cell_type": "code",
      "source": [
        "# Point plot for drugs_df_long\n",
        "drugs_point = sns.pointplot(x = 'age', y = 'percentage', hue = 'drug', \n",
        "                            data = drugs_df_long)"
      ],
      "metadata": {
        "id": "SYVQHpgz6zYR"
      },
      "execution_count": null,
      "outputs": []
    },
    {
      "cell_type": "markdown",
      "source": [
        "## 8. Bar Plots\n",
        "<font color='red'>Exercise 13 solution</font>  \n",
        "Create a bar plot using the same data as the point plot above:\n",
        "* `age` displayed on the x axis\n",
        "* `percentage` displayed on the y axis\n",
        "* `drug` displayed as different line colors"
      ],
      "metadata": {
        "id": "dfTqbn7DXuDX"
      }
    },
    {
      "cell_type": "code",
      "source": [
        "# Bar plot for drugs_df_long\n",
        "drugs_bar = sns.barplot(x = 'age', y = 'percentage', hue = 'drug', data = drugs_df_long)"
      ],
      "metadata": {
        "id": "CsD2k1ujYeaX"
      },
      "execution_count": null,
      "outputs": []
    }
  ]
}