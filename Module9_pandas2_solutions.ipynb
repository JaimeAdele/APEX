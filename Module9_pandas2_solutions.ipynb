{
  "nbformat": 4,
  "nbformat_minor": 0,
  "metadata": {
    "kernelspec": {
      "display_name": "Python 3",
      "language": "python",
      "name": "python3"
    },
    "language_info": {
      "codemirror_mode": {
        "name": "ipython",
        "version": 3
      },
      "file_extension": ".py",
      "mimetype": "text/x-python",
      "name": "python",
      "nbconvert_exporter": "python",
      "pygments_lexer": "ipython3",
      "version": "3.7.1"
    },
    "colab": {
      "name": "Module9_pandas2_solutions.ipynb",
      "provenance": [],
      "collapsed_sections": [],
      "include_colab_link": true
    }
  },
  "cells": [
    {
      "cell_type": "markdown",
      "metadata": {
        "id": "view-in-github",
        "colab_type": "text"
      },
      "source": [
        "<a href=\"https://colab.research.google.com/github/JaimeAdele/APEX/blob/main/Module9_pandas2_solutions.ipynb\" target=\"_parent\"><img src=\"https://colab.research.google.com/assets/colab-badge.svg\" alt=\"Open In Colab\"/></a>"
      ]
    },
    {
      "cell_type": "markdown",
      "metadata": {
        "id": "lnXOxVPEkZ5f"
      },
      "source": [
        "<img src='https://images.pexels.com/photos/1661535/pexels-photo-1661535.jpeg?cs=srgb&dl=pexels-diana-silaraja-1661535.jpg&fm=jpg' width=700>  \n",
        "Photo by Diana Silaraja production from Pexels"
      ]
    },
    {
      "cell_type": "markdown",
      "metadata": {
        "id": "svAPrOFekdFH"
      },
      "source": [
        "# APEX Faculty Training, Module 9: Pandas Part 2 Solutions\n",
        "\n",
        "Created by Valerie Carr and Jaime Zuspann  \n",
        "Licensed under a Creative Commons license: CC BY-NC-SA  \n",
        "Last updated: Feb 21, 2022  "
      ]
    },
    {
      "cell_type": "markdown",
      "metadata": {
        "id": "hI79e_J1lAAH"
      },
      "source": [
        "## 1. Before You Start\n",
        "<font color='red'>Exercise 0 solution</font>  \n",
        "Run the cell to import the Pandas library and read the dataset into a dataframe."
      ]
    },
    {
      "cell_type": "code",
      "source": [
        "import pandas as pd\n",
        "filepath = \"https://raw.githubusercontent.com/valeriecarr/engr120/main/S21/state_pop.csv\"\n",
        "my_df = pd.read_csv(filepath)"
      ],
      "metadata": {
        "id": "wkbD145FMFJ4"
      },
      "execution_count": 1,
      "outputs": []
    },
    {
      "cell_type": "markdown",
      "metadata": {
        "id": "DKwAYq8KJjo7"
      },
      "source": [
        "## 2. Smallest or Largest Observations\n",
        "<font color='red'>Exercise 1 solution</font>  \n",
        "Run the cell to see the output."
      ]
    },
    {
      "cell_type": "code",
      "source": [
        "my_df.nlargest(1, 'totalPop')"
      ],
      "metadata": {
        "id": "PH9Dlp2KL87W"
      },
      "execution_count": null,
      "outputs": []
    },
    {
      "cell_type": "markdown",
      "source": [
        "<font color='red'>Exercise 2 solution</font>  \n",
        "Now subset the dataframe to show the five states with the smallest Hispanic population."
      ],
      "metadata": {
        "id": "xCHsi7i8VkMb"
      }
    },
    {
      "cell_type": "code",
      "source": [
        "my_df.nsmallest(5, 'hispPop')"
      ],
      "metadata": {
        "id": "qNMHnpYdVsd8"
      },
      "execution_count": null,
      "outputs": []
    },
    {
      "cell_type": "markdown",
      "metadata": {
        "id": "E48I6l-ervev"
      },
      "source": [
        "## 3. Random Selection\n",
        "<font color='red'>Exercise 3 solution</font> "
      ]
    },
    {
      "cell_type": "code",
      "metadata": {
        "id": "sjOCmnIDfaw8"
      },
      "source": [
        "my_df.sample(n = 6)"
      ],
      "execution_count": null,
      "outputs": []
    },
    {
      "cell_type": "markdown",
      "metadata": {
        "id": "m0TsiC-If58b"
      },
      "source": [
        "## 4. Subsetting Variables (Columns)\n",
        "<font color='red'>Exercise 4 solution</font>  "
      ]
    },
    {
      "cell_type": "code",
      "metadata": {
        "id": "zGuiFay7gr4a"
      },
      "source": [
        "my_df[['state', 'totalPop']]"
      ],
      "execution_count": null,
      "outputs": []
    },
    {
      "cell_type": "markdown",
      "metadata": {
        "id": "06jff3d4eil-"
      },
      "source": [
        "## 5. Subsetting Rows and Columns\n",
        "<font color='red'>Exercise 5 solution</font>  \n",
        "Run the cell below to see the output."
      ]
    },
    {
      "cell_type": "code",
      "metadata": {
        "id": "BcDZjBqmrvew"
      },
      "source": [
        "my_df.loc[my_df.totalPop > 15000000, ['state', 'totalPop']]"
      ],
      "execution_count": null,
      "outputs": []
    },
    {
      "cell_type": "markdown",
      "source": [
        "<font color='red'>Exercise 6 solution</font>  "
      ],
      "metadata": {
        "id": "XyvYT1LbTLCA"
      }
    },
    {
      "cell_type": "code",
      "source": [
        "my_df.loc[my_df.hispPop / my_df.totalPop < .03, ['state', 'hispPop']]"
      ],
      "metadata": {
        "id": "l4z9o4nSToSV"
      },
      "execution_count": null,
      "outputs": []
    },
    {
      "cell_type": "markdown",
      "source": [
        "## 6. Sorting Dataframes\n",
        "<font color='red'>Exercise 7 solution</font>  "
      ],
      "metadata": {
        "id": "DccpWhOgPwd4"
      }
    },
    {
      "cell_type": "code",
      "source": [
        "my_df.sort_values(by = 'totalPop')"
      ],
      "metadata": {
        "id": "pW4rm5omfi2s"
      },
      "execution_count": null,
      "outputs": []
    },
    {
      "cell_type": "markdown",
      "source": [
        "<font color='red'>Exercise 8 solution</font>  "
      ],
      "metadata": {
        "id": "ITQvZWvfkOzN"
      }
    },
    {
      "cell_type": "code",
      "source": [
        "my_df.sort_values(by = 'hispPop', ascending = False)"
      ],
      "metadata": {
        "id": "etyXhEyekQx2"
      },
      "execution_count": null,
      "outputs": []
    },
    {
      "cell_type": "markdown",
      "source": [
        "<font color='red'>Exercise 9 solution</font>  \n",
        "Run the cell below to display the first five rows of the dataframe to verify that the original order hasn't changed after calling the `sort_values()` method."
      ],
      "metadata": {
        "id": "EvCC2nrchLbj"
      }
    },
    {
      "cell_type": "code",
      "source": [
        "my_df.head()"
      ],
      "metadata": {
        "id": "Zh5mtKGMjx7U"
      },
      "execution_count": null,
      "outputs": []
    },
    {
      "cell_type": "markdown",
      "source": [
        "If you actually want the dataframe to change according to the `sort_values()` method, you'll need to include yet another argument in the parentheses: `inplace = True`.\n",
        "\n",
        "<font color='red'>Exercise 10 solution</font>  \n",
        "Sort the `my_df` dataframe again by total population in ascending order (default) as you did in Exercise 6, but include the above argument this time to actually change the dataframe. Then, add a line and display the first five rows again to ensure that the dataframe has changed."
      ],
      "metadata": {
        "id": "V5N4Vs7kkHam"
      }
    },
    {
      "cell_type": "code",
      "source": [
        "my_df.sort_values(by = 'totalPop', inplace = True)\n",
        "my_df.head()"
      ],
      "metadata": {
        "id": "DkN3gUFTmopA"
      },
      "execution_count": null,
      "outputs": []
    }
  ]
}