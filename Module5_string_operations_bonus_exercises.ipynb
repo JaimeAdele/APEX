{
  "nbformat": 4,
  "nbformat_minor": 0,
  "metadata": {
    "kernelspec": {
      "display_name": "Python 3",
      "language": "python",
      "name": "python3"
    },
    "language_info": {
      "codemirror_mode": {
        "name": "ipython",
        "version": 3
      },
      "file_extension": ".py",
      "mimetype": "text/x-python",
      "name": "python",
      "nbconvert_exporter": "python",
      "pygments_lexer": "ipython3",
      "version": "3.7.1"
    },
    "colab": {
      "name": "Module5_string_operations_bonus_exercises.ipynb",
      "provenance": [],
      "collapsed_sections": [],
      "include_colab_link": true
    }
  },
  "cells": [
    {
      "cell_type": "markdown",
      "metadata": {
        "id": "view-in-github",
        "colab_type": "text"
      },
      "source": [
        "<a href=\"https://colab.research.google.com/github/JaimeAdele/APEX/blob/main/Module5_string_operations_bonus_exercises.ipynb\" target=\"_parent\"><img src=\"https://colab.research.google.com/assets/colab-badge.svg\" alt=\"Open In Colab\"/></a>"
      ]
    },
    {
      "cell_type": "markdown",
      "metadata": {
        "id": "tcP2h0QW0A6X"
      },
      "source": [
        "<img src='https://cdn.pixabay.com/photo/2020/04/21/16/41/threads-5073817_1280.jpg' width=700>   \n",
        "Photo by ds_30 from Pixabay"
      ]
    },
    {
      "cell_type": "markdown",
      "metadata": {
        "id": "L3vFn9_lzweJ"
      },
      "source": [
        "# APEX Faculty Training, Bonus Exercises for Module 5: String Operations\n",
        "Created by Valerie Carr and Jaime Zuspann  \n",
        "Licensed under a Creative Commons license: CC BY-NC-SA  \n",
        "Last updated: Feb 2, 2022 "
      ]
    },
    {
      "cell_type": "markdown",
      "metadata": {
        "id": "LiPDUmfw3Np7"
      },
      "source": [
        "## 1. Before you start  \n",
        "Make a copy of this notebook and document it with your name and today's date.  \n",
        "This module introduces many of the operations we can perform on strings. As we go into this module, keep in mind PEP8 rules regarding spaces:\n",
        "* A single space before and after operators"
      ]
    },
    {
      "cell_type": "markdown",
      "metadata": {
        "id": "wtNikADazwfH"
      },
      "source": [
        "<font color='red'>Bonus exercise 1</font>  \n",
        "Start by running the cell below."
      ]
    },
    {
      "cell_type": "code",
      "metadata": {
        "id": "sla48BSRzwfI"
      },
      "source": [
        "s1 = 'cow'\n",
        "s2 = 'pig'\n",
        "s3 = 'hen'"
      ],
      "execution_count": null,
      "outputs": []
    },
    {
      "cell_type": "markdown",
      "metadata": {
        "id": "GL7Xu0m7zwfK"
      },
      "source": [
        "Next, in separate cells below, write expressions using the variables above and the `+` and `*` operators that evaluate to the following. Note: Pay attention to spaces!\n",
        "\n",
        "* `'cow pig hen'`\n",
        "* `'cow cow cow cow cow cow cow cow cow cow '`\n",
        "* `'cow pig pig hen hen hen'`\n",
        "* `'cow pig cow pig cow pig cow pig cow pig cow pig cow pig '`\n",
        "* `'pigpighen pigpighen pigpighen pigpighen pigpighen '`"
      ]
    },
    {
      "cell_type": "code",
      "metadata": {
        "id": "kb_sY0-czwfK"
      },
      "source": [
        "# 'cow pig hen'\n"
      ],
      "execution_count": null,
      "outputs": []
    },
    {
      "cell_type": "code",
      "metadata": {
        "id": "x59n8Ub3zwfM"
      },
      "source": [
        "# 'cow cow cow cow cow cow cow cow cow cow '\n"
      ],
      "execution_count": null,
      "outputs": []
    },
    {
      "cell_type": "code",
      "metadata": {
        "id": "3pQtz5-DzwfO"
      },
      "source": [
        "# 'cow pig pig hen hen hen' # This one's more tricky--notice, there's no space at the end\n"
      ],
      "execution_count": null,
      "outputs": []
    },
    {
      "cell_type": "code",
      "metadata": {
        "id": "p5O2ndpTzwfQ"
      },
      "source": [
        "# 'cow pig cow pig cow pig cow pig cow pig cow pig cow pig '\n"
      ],
      "execution_count": null,
      "outputs": []
    },
    {
      "cell_type": "code",
      "metadata": {
        "id": "btqjo1NNzwfT"
      },
      "source": [
        "# 'pigpighen pigpighen pigpighen pigpighen pigpighen '\n"
      ],
      "execution_count": null,
      "outputs": []
    },
    {
      "cell_type": "markdown",
      "source": [
        "<font color='red'>Bonus exercise 2</font>  \n",
        "Below, we've assigned a number as a string to the variable `my_num`. In separate cells, determine the thousands place digit with positive indexing, then the hundreds place digit with negative indexing."
      ],
      "metadata": {
        "id": "E7dhkIVE--zJ"
      }
    },
    {
      "cell_type": "code",
      "source": [
        "my_num = '29503'"
      ],
      "metadata": {
        "id": "UDvxrhxh_fg8"
      },
      "execution_count": null,
      "outputs": []
    },
    {
      "cell_type": "code",
      "source": [
        "# thousands place digit with positive indexing\n"
      ],
      "metadata": {
        "id": "IgRf2kj9_zQl"
      },
      "execution_count": null,
      "outputs": []
    },
    {
      "cell_type": "code",
      "source": [
        "# hundreds place digit with negative indexing\n"
      ],
      "metadata": {
        "id": "aQQCH4ja_6is"
      },
      "execution_count": null,
      "outputs": []
    }
  ]
}