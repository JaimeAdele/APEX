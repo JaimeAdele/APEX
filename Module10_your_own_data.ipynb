{
  "nbformat": 4,
  "nbformat_minor": 0,
  "metadata": {
    "kernelspec": {
      "display_name": "Python 3",
      "language": "python",
      "name": "python3"
    },
    "language_info": {
      "codemirror_mode": {
        "name": "ipython",
        "version": 3
      },
      "file_extension": ".py",
      "mimetype": "text/x-python",
      "name": "python",
      "nbconvert_exporter": "python",
      "pygments_lexer": "ipython3",
      "version": "3.7.1"
    },
    "colab": {
      "name": "Module10_your_own_data.ipynb",
      "provenance": [],
      "collapsed_sections": [],
      "include_colab_link": true
    }
  },
  "cells": [
    {
      "cell_type": "markdown",
      "metadata": {
        "id": "view-in-github",
        "colab_type": "text"
      },
      "source": [
        "<a href=\"https://colab.research.google.com/github/JaimeAdele/APEX/blob/main/Module10_your_own_data.ipynb\" target=\"_parent\"><img src=\"https://colab.research.google.com/assets/colab-badge.svg\" alt=\"Open In Colab\"/></a>"
      ]
    },
    {
      "cell_type": "markdown",
      "metadata": {
        "id": "lnXOxVPEkZ5f"
      },
      "source": [
        "<img src='https://images.pexels.com/photos/10325707/pexels-photo-10325707.png?auto=compress&cs=tinysrgb&dpr=2&h=750&w=1260' width=700>  \n",
        "Photo by Lucas DC from Pexels"
      ]
    },
    {
      "cell_type": "markdown",
      "metadata": {
        "id": "svAPrOFekdFH"
      },
      "source": [
        "# APEX Faculty Training, Module 10: Working with Your Own Data\n",
        "\n",
        "Created by Valerie Carr and Jaime Zuspann  \n",
        "Licensed under a Creative Commons license: CC BY-NC-SA  \n",
        "Last updated: Mar 6, 2022  \n",
        "\n",
        "**Learning outcomes**  \n",
        "* To learn how to use Pandas to access your own data files through two methods: via GitHub and via Google Drive"
      ]
    },
    {
      "cell_type": "markdown",
      "metadata": {
        "id": "hI79e_J1lAAH"
      },
      "source": [
        "## 1. A couple notes before you start \n",
        "* This file is view only, meaning that you can't edit it.\n",
        "    * To create an editable copy, look towards the top of the notebook and click on `Copy to Drive`. This will cause a new tab to open with your own personal copy.\n",
        "    * If you want to refer back to your copy in the future, you can find it in Google Drive in a folder called `Colab Notebooks`.\n",
        "* To run a cell, use `shift` + `enter`.   \n",
        "* Keep the following Python style preferences in mind:\n",
        "    * Variable names should use `snake_case`\n",
        "    * Include spaces before and after operators, e.g., `x + 1`\n",
        "    * Don't put unnecessary spaces after a function name, before the parentheses\n",
        "        * Correct: `print(my_variable)`\n",
        "        * Incorrect: `print (my_variable)`\n",
        "    * Don't put unnecessary spaces at the beginning or end of parentheses\n",
        "        * Correct: `print(my_variable)`\n",
        "        * Incorrect: `print( my_variable )`"
      ]
    },
    {
      "cell_type": "markdown",
      "source": [
        "<font color='red'>Exercise 1</font>  \n",
        "Since we'll still be using the Pandas library for this module, we'll need to import it before we do any exercises. Type in the line of code that imports the pandas library, and use the alias `pd` that we've been using in other modules. This is common practice."
      ],
      "metadata": {
        "id": "OB2QZYwdoUpA"
      }
    },
    {
      "cell_type": "code",
      "source": [
        ""
      ],
      "metadata": {
        "id": "1_5kXC9bolph"
      },
      "execution_count": 3,
      "outputs": []
    },
    {
      "cell_type": "markdown",
      "metadata": {
        "id": "DKwAYq8KJjo7"
      },
      "source": [
        "## 2. Accessing Data via GitHub\n",
        "Now that you have some experience working with our preset datasets, you may be wondering how you could do this with your own data. Thankfully, there are two easy methods for loading in your own data to Colab--through GitHub and Google Drive. We will cover both in this module, with exercises along the way, as usual. Remember, you can choose the method that works best for you and stick with that afterward!\n",
        "\n",
        "GitHub, if you're unfamiliar with it, is a code hosting platform for version control and collaboration. For our case here, however, we will use it to store datasets in the form of csv files, and learn how to load those datasets into Colab. Let's go through the process step by step."
      ]
    },
    {
      "cell_type": "markdown",
      "source": [
        "### 2a. Create a GitHub Account\n",
        "First, use this link to navigate to GitHub: https://github.com. Immediately, you'll see a field for you to input your email address and a button to \"Sign up for GitHub\". You'll be taken to another page, where you can edit your email address if necessary, then click \"Continue\" and create your password and username, and complete verification for your account."
      ],
      "metadata": {
        "id": "-4gI9T7SQD2F"
      }
    },
    {
      "cell_type": "markdown",
      "source": [
        "### 2b. Create a Repository\n",
        "Great! You now have a GitHub account! Now, we need to create a repository in which you'll store your data. A repository is just a place to store related files, usually code. You can think of each repository as a project. To create a new repository, click the small \"+\" button at the top right of the page, next to the user icon. You'll see a dropdown menu--click \"New Repository\". On the next page, you'll need to specify the repository name (i.e. \"data-samples\") and add a description if you'd like. Don't worry about changing the other options from the default. When you're finished, click the \"Create Repository\" button. And that's it--now you have a repository to store your own data!"
      ],
      "metadata": {
        "id": "rNus2EMkgs9h"
      }
    },
    {
      "cell_type": "markdown",
      "source": [
        "### 2c. Add CSV Files\n",
        "Now that we have a repository, we're going to start filling it with csv files. After you've created the repository, you were taken to a page with a bunch of command line commands. Don't worry about these; instead, toward the top of the page in the Quick Setup section, click the link that says \"uploading an existing file\". Now you're on a page that says you can either drag and drop files, or choose files from your computer. Go ahead and upload a csv file of your choosing using either of these methods.\n",
        "\n",
        "Just below, you'll see a section that says \"Commit changes\". When you save a file (or save a change to a file) in your repository, this is called a \"commit\" -- you're committing changes to the repository. Each commit should have a brief descriptive message indicating what changes that commit makes. Something simple like \"Adding \\<your_filename.csv\\>\" is sufficient. The idea is to be able to look at the message and have an overview of what that commit does. Below the commit message is an area for an optional more in-depth description for that commit. This isn't necessary, but may be useful to describe the contents of the added file, or exactly what changes were made.\n",
        "\n",
        "Once you've added the commit message and optional description, click the \"Commit changes\" button at the bottom. And that's it! Now, your csv file is hosted in GitHub and can be used here in Colab."
      ],
      "metadata": {
        "id": "SwdkMFm51uq1"
      }
    },
    {
      "cell_type": "markdown",
      "source": [
        "### 2d. Obtain URL for CSV File\n",
        "In order to use your newly uploaded csv file in Colab, you'll need to get the url. In your GitHub repository, click the name of your file. This will bring you to a page with a preview of the file in a spreadsheet-like format. At the top right corner of the preview, there is a button that says \"Raw\". Clicking this button opens the file in your browser and displays the contents as they actually are -- comma separated values. The url in the address bar is the url you'll use to read in the file here in Colab. Remember that the url is used as a string when reading in a file with Python, so be sure to add quotation marks around it."
      ],
      "metadata": {
        "id": "-Zyi3CXSlW4V"
      }
    },
    {
      "cell_type": "markdown",
      "source": [
        "<font color='red'>Exercise 2</font>  \n",
        "Now that you've uploaded your csv file to GitHub and retrieved the url, read it in below by replacing the `YOUR_URL_HERE` text with the url you just retrieved from GitHub. <font color='orange'>We've imported the Pandas library and added the code to read in the file already. (Should we have them do this themselves? Maybe with a few hints to remind them?)</font>"
      ],
      "metadata": {
        "id": "xCHsi7i8VkMb"
      }
    },
    {
      "cell_type": "code",
      "source": [
        "filename = 'YOUR_URL_HERE'\n",
        "my_df = pd.read_csv(filename)"
      ],
      "metadata": {
        "id": "qNMHnpYdVsd8"
      },
      "execution_count": 5,
      "outputs": []
    },
    {
      "cell_type": "markdown",
      "source": [
        "And that's it! Now you can use your own dataset with all of the operations we've covered in these modules!  \n",
        "\n",
        "<font color='red'>Exercise 3</font>  \n",
        "Confirm that the new dataframe indeed contains the data from your csv file by using the `head()` function to display however many observations from the set that you'd like."
      ],
      "metadata": {
        "id": "n9Gtc8QIo92z"
      }
    },
    {
      "cell_type": "code",
      "source": [
        ""
      ],
      "metadata": {
        "id": "AxArqQIrqpjX"
      },
      "execution_count": null,
      "outputs": []
    },
    {
      "cell_type": "markdown",
      "metadata": {
        "id": "E48I6l-ervev"
      },
      "source": [
        "## 3. Accessing Data via Google Drive\n",
        "Another method for reading in your own data to Colab is to use Google Drive. Since many people already use Google Drive for other things, it may be more convenient to keep data there."
      ]
    },
    {
      "cell_type": "markdown",
      "source": [
        "### 3a. Login to Google Drive\n",
        "In this module, we assume that you have a Google account, and therefore do not need to create an account in order to access Google Drive. Use this url to navigate to Google Drive: https://drive.google.com/. If you are not already logged into your Google account, click the \"Go to Drive\" button at the top right corner, and follow the steps to login. "
      ],
      "metadata": {
        "id": "WTe0_e5ArGYt"
      }
    },
    {
      "cell_type": "markdown",
      "source": [
        "### 3b. Adding Files to Google Drive\n",
        "Once you're in Google Drive, navigate to where you would like to store your csv file, creating new folders if necessary. Once there, you can upload files to Drive by simply dragging and dropping the file onto the page. Alternatively, you can click the \"+ New\" button at the top left of the page and choose \"File Upload\", then choose the desired file from your computer. \n",
        "\n",
        "When you've uploaded the file, make sure to note the precise location, as you'll need it later. For example, My Drive > APEX > Files > my_data.csv."
      ],
      "metadata": {
        "id": "acaD-6GrsNae"
      }
    },
    {
      "cell_type": "markdown",
      "source": [
        "### 3c. Connecting Colab with Drive\n",
        "Now you need to give Colab permission to connect to your Drive account. The cell below contains the necessary code to do so.  \n",
        "\n",
        "<font color='red'>Exercise 4</font>  \n",
        "Run the cell below, then follow the prompts to confirm the connection, give permissions, and choose which account to connect to. It may take a second to connect when you're finished, but once it's connected you'll see `Mounted at /content/drive` as the output."
      ],
      "metadata": {
        "id": "fUEC1ZbKtf3p"
      }
    },
    {
      "cell_type": "code",
      "metadata": {
        "id": "sjOCmnIDfaw8",
        "colab": {
          "base_uri": "https://localhost:8080/"
        },
        "outputId": "0abe4744-5d0b-4c9f-d053-9f72e2fef8cc"
      },
      "source": [
        "from google.colab import drive\n",
        "drive.mount('/content/drive')"
      ],
      "execution_count": 12,
      "outputs": [
        {
          "output_type": "stream",
          "name": "stdout",
          "text": [
            "Mounted at /content/drive\n"
          ]
        }
      ]
    },
    {
      "cell_type": "markdown",
      "source": [
        "### 3d. Reading a File from Drive\n",
        "Next you'll need to tell Colab exactly where to find your file within Drive. To do so, create a variable called `filepath` or something similar, just as before, and assign to it the path to your file, in the form of a string (again, remember the quotes). In Python, we put slashes between each folder (and before the 'content' folder), so this line of code should look something like this:  \n",
        "`filepath = '/content/drive/My Drive/APEX/Files/my_data.csv'`  \n",
        "\n",
        "<font color='blue'>Note:</font>  \n",
        "When specifying the filepath, you can leave the first part, `/content/drive/My Drive/`, as is. You'll only need to change the files that appear after these\n",
        "\n",
        "<font color='red'>Exercise 5</font>  \n",
        "In the cell below, assign your filepath to a variable, like above. Make sure to run the cell afterward."
      ],
      "metadata": {
        "id": "hY1fFHTqvAN8"
      }
    },
    {
      "cell_type": "code",
      "source": [
        ""
      ],
      "metadata": {
        "id": "KBSNzo6Hwd15"
      },
      "execution_count": 9,
      "outputs": []
    },
    {
      "cell_type": "markdown",
      "source": [
        "<font color='red'>Exercise 6</font>  \n",
        "Awesome! Now that you have a variable that contains the path to your file, read the csv into a dataframe like before, and check the first few observations with the `head()` function to make sure that everything worked properly."
      ],
      "metadata": {
        "id": "7YaTmGjtwlxt"
      }
    },
    {
      "cell_type": "code",
      "source": [
        ""
      ],
      "metadata": {
        "id": "g44wB0TPxZdd"
      },
      "execution_count": null,
      "outputs": []
    },
    {
      "cell_type": "markdown",
      "source": [
        "## All done!\n",
        "Now you're ready to use your own data files using either of the methods covered here. It would be great to practice some of the operations you've learned on your own data--see what you can do!"
      ],
      "metadata": {
        "id": "vYqInSA0L4Ph"
      }
    }
  ]
}