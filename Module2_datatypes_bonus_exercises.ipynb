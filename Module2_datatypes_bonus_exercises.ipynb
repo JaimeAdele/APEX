{
  "nbformat": 4,
  "nbformat_minor": 0,
  "metadata": {
    "kernelspec": {
      "display_name": "Python 3",
      "language": "python",
      "name": "python3"
    },
    "language_info": {
      "codemirror_mode": {
        "name": "ipython",
        "version": 3
      },
      "file_extension": ".py",
      "mimetype": "text/x-python",
      "name": "python",
      "nbconvert_exporter": "python",
      "pygments_lexer": "ipython3",
      "version": "3.7.1"
    },
    "colab": {
      "name": "Module2_datatypes_bonus_exercises.ipynb",
      "provenance": [],
      "collapsed_sections": [
        "-DFmkSC3DcrF",
        "mMoSrg_5DcrP",
        "CZws-TYVDcrP",
        "6eF88P1PDcrV",
        "whNRxjERDcrZ",
        "P_FORhr1Dcrd",
        "1XOrdHJLDcri",
        "tAI7cCJSDcrk"
      ],
      "include_colab_link": true
    }
  },
  "cells": [
    {
      "cell_type": "markdown",
      "metadata": {
        "id": "view-in-github",
        "colab_type": "text"
      },
      "source": [
        "<a href=\"https://colab.research.google.com/github/JaimeAdele/APEX/blob/main/Module2_datatypes_bonus_exercises.ipynb\" target=\"_parent\"><img src=\"https://colab.research.google.com/assets/colab-badge.svg\" alt=\"Open In Colab\"/></a>"
      ]
    },
    {
      "cell_type": "markdown",
      "metadata": {
        "id": "dH0hUpuHsdPg"
      },
      "source": [
        "<img src='https://cdn.pixabay.com/photo/2018/11/17/12/27/mathematics-3821034_1280.jpg' width=700>  \n",
        "Photo by ArtsyBee from Pixabay\n",
        "\n"
      ]
    },
    {
      "cell_type": "markdown",
      "metadata": {
        "id": "U2VoRlVpDcqd"
      },
      "source": [
        "# APEX Faculty Training, Module 2: Datatypes\n",
        "Created by Valerie Carr and Jaime Zuspann  \n",
        "Licensed under a Creative Commons license: CC BY-NC-SA  \n",
        "Last updated: Dec 14, 2021 "
      ]
    },
    {
      "cell_type": "markdown",
      "metadata": {
        "id": "YmLWJKQSDcqe"
      },
      "source": [
        "## 1. A couple notes before you start\n",
        "\n",
        "* This file is view only, meaning that you can't edit it.\n",
        "    * To create an editable copy, look towards the top of the notebook and click on `Copy to Drive`. This will cause a new tab to open with your own personal copy.\n",
        "    * If you want to refer back to your copy in the future, you can find it in Google Drive in a folder called `Colab Notebooks`.\n",
        "* To run a cell, use `shift` + `enter`.  \n",
        "* For some of the exercises below, you may see the message \"x cells hidden.\" Simply click on that message to reveal the cells."
      ]
    },
    {
      "cell_type": "markdown",
      "metadata": {
        "id": "whNRxjERDcrZ"
      },
      "source": [
        "## 2. Mathematical expressions  \n",
        "In the cells below, write expressions for each of the following, and run the cells:  "
      ]
    },
    {
      "cell_type": "markdown",
      "source": [
        "<font color='red'>Exercise 1</font>  \n",
        "* The quotient for the number of times the current year can be divided by 100 "
      ],
      "metadata": {
        "id": "7MtW3mbwIFz1"
      }
    },
    {
      "cell_type": "code",
      "metadata": {
        "id": "aULWAiWYDcra"
      },
      "source": [
        ""
      ],
      "execution_count": null,
      "outputs": []
    },
    {
      "cell_type": "markdown",
      "source": [
        "<font color='red'>Exercise 2</font>  \n",
        "* The remainder of the above expression"
      ],
      "metadata": {
        "id": "-__3huL0H_Qd"
      }
    },
    {
      "cell_type": "code",
      "metadata": {
        "id": "YVhk_etLDcrb"
      },
      "source": [
        ""
      ],
      "execution_count": null,
      "outputs": []
    },
    {
      "cell_type": "markdown",
      "metadata": {
        "id": "P_FORhr1Dcrd"
      },
      "source": [
        "## 3. Data types\n",
        "Write expressions for each of the following. Do you understand why both return floats?"
      ]
    },
    {
      "cell_type": "markdown",
      "source": [
        "<font color='red'>Exercise 3</font>  \n",
        "* 6 divided by 2"
      ],
      "metadata": {
        "id": "aeovACdVIR1o"
      }
    },
    {
      "cell_type": "code",
      "metadata": {
        "id": "lU09bz4qDcre"
      },
      "source": [
        ""
      ],
      "execution_count": null,
      "outputs": []
    },
    {
      "cell_type": "markdown",
      "source": [
        "<font color='red'>Exercise 4</font>  \n",
        "* 6.0 divided by 2.0"
      ],
      "metadata": {
        "id": "7jD9o3TKIUg-"
      }
    },
    {
      "cell_type": "code",
      "metadata": {
        "id": "_6EObJDLDcrg"
      },
      "source": [
        ""
      ],
      "execution_count": null,
      "outputs": []
    },
    {
      "cell_type": "markdown",
      "metadata": {
        "id": "1XOrdHJLDcri"
      },
      "source": [
        "## 4. Order of operations\n",
        "<font color='red'>Exercise 5</font>  \n",
        "In the cell below, re-write the following expression to include parentheses to help clarify the order of operations, ensuring that your answer is correct (18.0):\n",
        "* 10 / 5 + 3 * 6 - 2"
      ]
    },
    {
      "cell_type": "code",
      "metadata": {
        "id": "wB7ZPS0ZDcri"
      },
      "source": [
        "# Practice 5) 10 / 5 + 3 * 6 - 2 with parentheses\n"
      ],
      "execution_count": null,
      "outputs": []
    },
    {
      "cell_type": "markdown",
      "metadata": {
        "id": "tAI7cCJSDcrk"
      },
      "source": [
        "## 5. Boolean expressions\n",
        "For each of the exercises below, run the cell to determine the result of the boolean expression. Then, make an edit to get a different result. \n",
        " \n",
        " For instance, if the statement for `and` is `1 + 1 == 2 and 1 > 3` Python would return `False`. You could change the result in various ways, including changing the last 1 to a 10: `1 + 1 == 2 and 10 > 3` returns `True`."
      ]
    },
    {
      "cell_type": "markdown",
      "source": [
        "<font color='red'>Exercise 6</font>  "
      ],
      "metadata": {
        "id": "NG5HCsiqIvEr"
      }
    },
    {
      "cell_type": "code",
      "metadata": {
        "id": "d1sYFTP1Dcrk"
      },
      "source": [
        "# and\n",
        "14 * 2 > 20 and max(7, 12, 3) == 12"
      ],
      "execution_count": null,
      "outputs": []
    },
    {
      "cell_type": "markdown",
      "source": [
        "<font color='red'>Exercise 7</font>  "
      ],
      "metadata": {
        "id": "55yy4MPmIxvf"
      }
    },
    {
      "cell_type": "code",
      "metadata": {
        "id": "TE79dmDVDcrm"
      },
      "source": [
        "# or\n",
        "1 > 11 or 4 + 3 == 12"
      ],
      "execution_count": null,
      "outputs": []
    },
    {
      "cell_type": "markdown",
      "source": [
        "<font color='red'>Exercise 8</font>  "
      ],
      "metadata": {
        "id": "ObpRe9lMIyPj"
      }
    },
    {
      "cell_type": "code",
      "metadata": {
        "id": "oQTiBNdODcru"
      },
      "source": [
        "# not\n",
        "not (abs(-14) >= 14)"
      ],
      "execution_count": null,
      "outputs": []
    }
  ]
}