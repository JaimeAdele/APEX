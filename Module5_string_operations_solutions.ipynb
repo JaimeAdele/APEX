{
  "nbformat": 4,
  "nbformat_minor": 0,
  "metadata": {
    "kernelspec": {
      "display_name": "Python 3",
      "language": "python",
      "name": "python3"
    },
    "language_info": {
      "codemirror_mode": {
        "name": "ipython",
        "version": 3
      },
      "file_extension": ".py",
      "mimetype": "text/x-python",
      "name": "python",
      "nbconvert_exporter": "python",
      "pygments_lexer": "ipython3",
      "version": "3.7.1"
    },
    "colab": {
      "name": "Module5_string_operations_solutions.ipynb",
      "provenance": [],
      "collapsed_sections": [],
      "include_colab_link": true
    }
  },
  "cells": [
    {
      "cell_type": "markdown",
      "metadata": {
        "id": "view-in-github",
        "colab_type": "text"
      },
      "source": [
        "<a href=\"https://colab.research.google.com/github/JaimeAdele/APEX/blob/main/Module5_string_operations_solutions.ipynb\" target=\"_parent\"><img src=\"https://colab.research.google.com/assets/colab-badge.svg\" alt=\"Open In Colab\"/></a>"
      ]
    },
    {
      "cell_type": "markdown",
      "metadata": {
        "id": "tcP2h0QW0A6X"
      },
      "source": [
        "<img src='https://cdn.pixabay.com/photo/2020/04/21/16/41/threads-5073817_1280.jpg' width=700>   \n",
        "Photo by ds_30 from Pixabay"
      ]
    },
    {
      "cell_type": "markdown",
      "metadata": {
        "id": "L3vFn9_lzweJ"
      },
      "source": [
        "# APEX Faculty Training, Module 5: String Operations Solutions\n",
        "Created by Valerie Carr and Jaime Zuspann  \n",
        "Licensed under a Creative Commons license: CC BY-NC-SA  \n",
        "Last updated: Jan 22, 2022"
      ]
    },
    {
      "cell_type": "markdown",
      "metadata": {
        "id": "y3h7t94Ut2bW"
      },
      "source": [
        "<font color='red'>Exercise 1 solution</font>  \n",
        "Run the cell to see the output. Output is:  \n",
        "`helloworld`  \n",
        "`hello world`"
      ]
    },
    {
      "cell_type": "code",
      "source": [
        "str1 = 'hello'\n",
        "str2 = 'world'\n",
        "print(str1 + str2)\n",
        "print(str1 + ' ' + str2)"
      ],
      "metadata": {
        "id": "BQ6Jr_VOqsqh"
      },
      "execution_count": null,
      "outputs": []
    },
    {
      "cell_type": "markdown",
      "source": [
        "<font color='red'>Exercise 2 solution</font>  \n",
        "Create the variable `pizza` and assign it the combined value of `top1` and `top2` such that they're printed with a space in-between. Finally, insert another new line and print `pizza` to check that your output is as expected."
      ],
      "metadata": {
        "id": "VQGAEav6gukx"
      }
    },
    {
      "cell_type": "code",
      "source": [
        "top1 = 'artichokes'\n",
        "top2 = 'olives'\n",
        "\n",
        "# Your code here\n",
        "pizza = top1 + ' ' + top2\n",
        "print(pizza)"
      ],
      "metadata": {
        "id": "I-PpRhUVha58"
      },
      "execution_count": null,
      "outputs": []
    },
    {
      "cell_type": "markdown",
      "metadata": {
        "id": "sBEQkD-Ft0aL"
      },
      "source": [
        "<font color='red'>Exercise 3 solution</font>  \n",
        "Run the cell to see that both outputs produce `'yoyo'`"
      ]
    },
    {
      "cell_type": "code",
      "source": [
        "# Integer first\n",
        "print(2 * 'yo')\n",
        "\n",
        "# String first\n",
        "print('yo' * 2)"
      ],
      "metadata": {
        "id": "sz-yfnljq72w"
      },
      "execution_count": null,
      "outputs": []
    },
    {
      "cell_type": "markdown",
      "metadata": {
        "id": "88Oti5uOtsUM"
      },
      "source": [
        "<font color='red'>Exercise 4 solution</font>  \n",
        "Write code that will print the following output: `ha ha ha ha ha `. In other words, 5 copies of the word `ha` separated by spaces."
      ]
    },
    {
      "cell_type": "code",
      "metadata": {
        "id": "GfAEuFQCtqfB"
      },
      "source": [
        "print('ha ' * 5)"
      ],
      "execution_count": null,
      "outputs": []
    },
    {
      "cell_type": "markdown",
      "metadata": {
        "id": "ED1Egczltomu"
      },
      "source": [
        "## 3. Checking the contents of a string\n",
        "<font color='red'>Exercise 5 solution</font>  \n",
        "Run the cell to see that 'z' is `in` `my_alphabet` and that 'l' is `not in` `my_alphabet`."
      ]
    },
    {
      "cell_type": "code",
      "source": [
        "my_alphabet = 'abcdefghijkmnopqrstuvwxyz'\n",
        "print('z' in my_alphabet)\n",
        "print('l' not in my_alphabet)"
      ],
      "metadata": {
        "id": "-CTeN06LrLRh"
      },
      "execution_count": null,
      "outputs": []
    },
    {
      "cell_type": "markdown",
      "source": [
        "<font color='red'>Exercise 6 solution</font>  \n",
        "create the variable `yoda` and assign it this sentence as a string. Then, check whether the word `force` is part of the sentence."
      ],
      "metadata": {
        "id": "Simiwux3ijKE"
      }
    },
    {
      "cell_type": "code",
      "metadata": {
        "id": "0wOM2a26tiI7"
      },
      "source": [
        "yoda = 'Do or do not, there is no try'\n",
        "'force' in yoda"
      ],
      "execution_count": null,
      "outputs": []
    },
    {
      "cell_type": "markdown",
      "metadata": {
        "id": "bIrdNiZCtgKn"
      },
      "source": [
        "## 4. Determining the length of a string\n",
        "<font color='red'>Exercise 7 solution</font>  \n",
        "Run the cells to see the outputs. Outputs are:  \n",
        "`8`  \n",
        "`11`  \n",
        "`12`"
      ]
    },
    {
      "cell_type": "code",
      "source": [
        "greeting = \"Hi there\"\n",
        "len(greeting)"
      ],
      "metadata": {
        "id": "OelCQS4ErXIz"
      },
      "execution_count": null,
      "outputs": []
    },
    {
      "cell_type": "code",
      "source": [
        "farewell = 'Until then!'\n",
        "len(farewell)"
      ],
      "metadata": {
        "id": "FiU-9tQdrYsi"
      },
      "execution_count": null,
      "outputs": []
    },
    {
      "cell_type": "code",
      "source": [
        "time = 'See you at 8'\n",
        "len(time)"
      ],
      "metadata": {
        "id": "tnhKrsg5racW"
      },
      "execution_count": null,
      "outputs": []
    },
    {
      "cell_type": "markdown",
      "metadata": {
        "id": "HLt-kH2utZg3"
      },
      "source": [
        "<font color='red'>Exercise 8 solution</font>  \n",
        "Create the variable `school` and assign it the name of your institution as a string. In the same cell, insert a new line and determine the length of the string assigned to `school`. \n",
        "Your school name will be different, but the structure should be the same."
      ]
    },
    {
      "cell_type": "code",
      "metadata": {
        "id": "x_GkEXc_tX3q"
      },
      "source": [
        "school = 'San Jose State University'\n",
        "len(school)"
      ],
      "execution_count": null,
      "outputs": []
    },
    {
      "cell_type": "markdown",
      "metadata": {
        "id": "dgx4ojiGtUhF"
      },
      "source": [
        "## 5. Accessing individual characters in a string\n",
        "<font color='red'>Exercise 9 solution</font>  \n",
        "Run the cell below to see a few more examples of using the indexing operator.\n",
        "The output is:  \n",
        "`y`  \n",
        "` `  \n",
        "`!`\n",
        "\n",
        "It appears as though there are only two outputs because the second output is simply a space. Since the output is given without quotation marks, it appears to be empty."
      ]
    },
    {
      "cell_type": "code",
      "source": [
        "fact = 'Python is the best coding language!'\n",
        "print(fact[1])\n",
        "print(fact[6])\n",
        "print(fact[34])"
      ],
      "metadata": {
        "id": "XupFAw-Lr7gT"
      },
      "execution_count": null,
      "outputs": []
    },
    {
      "cell_type": "markdown",
      "metadata": {
        "id": "mt1QQmFztQSA"
      },
      "source": [
        "<font color='red'>Exercise 10 solution</font>  \n",
        "Create the variable `birthplace` and assign it a short string that states where you were born.  \n",
        "Your string may be different but the structure should be the same. Remember that the first index is 0, and the fourth index is 3."
      ]
    },
    {
      "cell_type": "code",
      "metadata": {
        "id": "HuBvXPXotNOd"
      },
      "source": [
        "birthplace = 'I was born in the Phillipines.'\n",
        "print(birthplace[0])\n",
        "print(birthplace[3])"
      ],
      "execution_count": null,
      "outputs": []
    },
    {
      "cell_type": "markdown",
      "metadata": {
        "id": "CDiTzvpbtLaj"
      },
      "source": [
        "## 6. Negative indexing  \n",
        "<font color='red'>Exercise 11 solution</font>  \n",
        "Use negative indexing to determine the second to last character in the string from the last exercise."
      ]
    },
    {
      "cell_type": "code",
      "metadata": {
        "id": "AssvT_n7tJLF"
      },
      "source": [
        "print(birthplace[-2])"
      ],
      "execution_count": null,
      "outputs": []
    }
  ]
}