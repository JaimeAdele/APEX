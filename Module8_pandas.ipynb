{
  "nbformat": 4,
  "nbformat_minor": 0,
  "metadata": {
    "kernelspec": {
      "display_name": "Python 3",
      "language": "python",
      "name": "python3"
    },
    "language_info": {
      "codemirror_mode": {
        "name": "ipython",
        "version": 3
      },
      "file_extension": ".py",
      "mimetype": "text/x-python",
      "name": "python",
      "nbconvert_exporter": "python",
      "pygments_lexer": "ipython3",
      "version": "3.7.1"
    },
    "colab": {
      "name": "Module8_pandas.ipynb",
      "provenance": [],
      "collapsed_sections": [],
      "include_colab_link": true
    }
  },
  "cells": [
    {
      "cell_type": "markdown",
      "metadata": {
        "id": "view-in-github",
        "colab_type": "text"
      },
      "source": [
        "<a href=\"https://colab.research.google.com/github/JaimeAdele/APEX/blob/main/Module8_pandas.ipynb\" target=\"_parent\"><img src=\"https://colab.research.google.com/assets/colab-badge.svg\" alt=\"Open In Colab\"/></a>"
      ]
    },
    {
      "cell_type": "markdown",
      "metadata": {
        "id": "lnXOxVPEkZ5f"
      },
      "source": [
        "<img src='https://cdn.pixabay.com/photo/2016/08/25/15/30/dictionary-1619740_1280.jpg' width=700>  \n",
        "Photo by stevepb production from Pixabay"
      ]
    },
    {
      "cell_type": "markdown",
      "metadata": {
        "id": "svAPrOFekdFH"
      },
      "source": [
        "# APEX Faculty Training, Module 8: Pandas Part 1\n",
        "\n",
        "Created by Valerie Carr and Jaime Zuspann  \n",
        "Licensed under a Creative Commons license: CC BY-NC-SA  \n",
        "Last updated: Feb 7, 2022  \n",
        "\n",
        "**Learning outcomes**  \n",
        "<font color='red'>Insert learning outcomes</font>  "
      ]
    },
    {
      "cell_type": "markdown",
      "metadata": {
        "id": "hI79e_J1lAAH"
      },
      "source": [
        "## 1. A couple notes before you start \n",
        "* This file is view only, meaning that you can't edit it.\n",
        "    * To create an editable copy, look towards the top of the notebook and click on `Copy to Drive`. This will cause a new tab to open with your own personal copy.\n",
        "    * If you want to refer back to your copy in the future, you can find it in Google Drive in a folder called `Colab Notebooks`.\n",
        "* To run a cell, use `shift` + `enter`.   \n",
        "* Keep the following Python style preferences in mind:\n",
        "    * Variable names should use `snake_case`\n",
        "    * Include spaces before and after operators, e.g., `x + 1`\n",
        "    * Don't put unnecessary spaces after a function name, before the parentheses\n",
        "        * Correct: `print(my_variable)`\n",
        "        * Incorrect: `print (my_variable)`\n",
        "    * Don't put unnecessary spaces at the beginning or end of parentheses\n",
        "        * Correct: `print(my_variable)`\n",
        "        * Incorrect: `print( my_variable )`\n",
        "        \n"
      ]
    },
    {
      "cell_type": "markdown",
      "metadata": {
        "id": "DKwAYq8KJjo7"
      },
      "source": [
        "## 2. What is (are?) Pandas?  \n",
        "Pandas is a Python library that provides tools for working with rows and columns of data. Essentially, it's useful for working with spreadsheet data. In Pandas, we use the term \"dataframe\".  \n",
        "\n",
        "Pandas is used to organize, clean, and view data, similar to what you might to in Excel or Sheets. This library is useful because it can easily work with large data sets and it makes it much easier to write code that organizes and cleans your data than doing it by hand."
      ]
    },
    {
      "cell_type": "markdown",
      "metadata": {
        "id": "E48I6l-ervev"
      },
      "source": [
        "## 3. Pandas Dataframes\n",
        "Dataframes are Python data types, just as integers, floats, strings, and lists are. Dataframes have special properties and methods that can be applied to them. A Dataframe, when displayed, looks much like a spreadsheet that you're used to seeing. Below is an example of what part of a Dataframe would look like.  \n",
        "\n",
        "<table>\n",
        "<tr>\n",
        "<th></th>\n",
        "<th>state</th>\n",
        "<th>totalPop</th>\n",
        "<th>hispPop</th>\n",
        "</tr>\n",
        "<tr>\n",
        "<td>0</td>\n",
        "<td>Alabama</td>\n",
        "<td>4779736</td>\n",
        "<td>185602</td>\n",
        "</tr>\n",
        "<tr>\n",
        "<td>1</td>\n",
        "<td>Alaska</td>\n",
        "<td>710231</td>\n",
        "<td>39249</td>\n",
        "</tr>\n",
        "<tr>\n",
        "<td>2</td>\n",
        "<td>Arizona</td>\n",
        "<td>6392017</td>\n",
        "<td>1895149</td>\n",
        "</tr>\n",
        "<tr>\n",
        "<td>3</td>\n",
        "<td>Arkansas</td>\n",
        "<td>2915918</td>\n",
        "<td>186050</td>\n",
        "</tr>\n",
        "<tr>\n",
        "<td>4</td>\n",
        "<td>California</td>\n",
        "<td>37253956</td>\n",
        "<td>14013719</td>\n",
        "</tr>\n",
        "</table>\n",
        "\n",
        "### 3a. Creating Dataframes  \n",
        "Typically, dataframes are created by reading in a file. The most common file type used with Pandas is a CSV file, e.g., `my_file.csv`. Excel and Sheets can be exported as CSV files, so if you have an existing dataset, you can save it as a CSV file and read it in with Pandas.  \n",
        "\n",
        "### 3b. Using Pandas  \n",
        "A Python library, such as Pandas, has to be imported before its functions can be used. It is best to do this at the top of the program (top of the notebook). To import Pandas, use the keyword `import` followed by the library name, `pandas`. It is also standard to use an abbreviation when importing libraries--for pandas, this abbreviation is `pd`. We perform the import with the following line:  \n",
        "`import pandas as pd`  \n",
        "\n",
        "<font color='red'>Exercise 1</font>  \n",
        "Run the code cell below to import the Pandas library to this notebook. You won't see any output, but you must run the cell before the other exercises in order for them to work."
      ]
    },
    {
      "cell_type": "code",
      "metadata": {
        "id": "sjOCmnIDfaw8"
      },
      "source": [
        "import pandas as pd"
      ],
      "execution_count": 1,
      "outputs": []
    },
    {
      "cell_type": "markdown",
      "metadata": {
        "id": "m0TsiC-If58b"
      },
      "source": [
        "## 4. Reading in Files\n",
        "Pandas has a function `read_csv()` that reads in csv files and converts the content to a dataframe. The generic syntax looks like this:  \n",
        "`my_df = pd.read_csv(filepath)`  \n",
        "The filepath can either be a Google Drive path or a URL for files stored on the web. Here <font color='red'>(for now?)</font>, we'll use the latter so there's no need to connect to Drive. \n",
        "\n",
        "<font color='red'>Exercise 2</font>  \n",
        "Below the `filepath` declaration in the following code cell, read in the filepath as a dataframe called `my_df` using the syntax shown directly above. "
      ]
    },
    {
      "cell_type": "code",
      "metadata": {
        "id": "zGuiFay7gr4a"
      },
      "source": [
        "filepath = \"https://raw.githubusercontent.com/valeriecarr/engr120/main/S21/state_pop.csv\""
      ],
      "execution_count": 2,
      "outputs": []
    },
    {
      "cell_type": "markdown",
      "metadata": {
        "id": "06jff3d4eil-"
      },
      "source": [
        "## 5. Viewing Dataframes  \n",
        "### 5a. `head()` and `tail()`\n",
        "Now that we've created the dataframe, we'll check to make sure it looks correct. Pandas has a method `head()` that displays the header and first few rows of a dataframe. The syntax goes like this:  \n",
        "`df_name.head()`  \n",
        "\n",
        "<font color='red'>Exercise 3</font>  \n",
        "Run the following cell to display the first few entries of the dataframe you created in the last exercise."
      ]
    },
    {
      "cell_type": "code",
      "metadata": {
        "id": "BcDZjBqmrvew"
      },
      "source": [
        "my_df.head()"
      ],
      "execution_count": null,
      "outputs": []
    },
    {
      "cell_type": "markdown",
      "metadata": {
        "id": "ufJDn2jFrve4"
      },
      "source": [
        "By default, the `head()` method displays the first 5 entries. Providing a number in the parentheses will instead show a specific number of entries. For instance: `my_df.head(6)` would display 6 entries.  \n",
        "\n",
        "Similaraly, you can use `tail()` to display the last few entries of a dataframe. The default for this method is also 5, and it can also be changed by providing a number in the parentheses.  \n",
        "\n",
        "<font color='red'>Exercise 4</font>  \n",
        "In the cell below, display the first 7 entries of the `my_df` dataframe."
      ]
    },
    {
      "cell_type": "code",
      "metadata": {
        "id": "VYBeCEQrrve4"
      },
      "source": [
        ""
      ],
      "execution_count": null,
      "outputs": []
    },
    {
      "cell_type": "markdown",
      "source": [
        "<font color='red'>Exercise 5</font>  \n",
        "Now, create a new line and display the last 3 entries of the dataframe."
      ],
      "metadata": {
        "id": "CTaFKpnBEbtW"
      }
    },
    {
      "cell_type": "code",
      "source": [
        ""
      ],
      "metadata": {
        "id": "W0sOXPUREsds"
      },
      "execution_count": null,
      "outputs": []
    },
    {
      "cell_type": "markdown",
      "source": [
        "If you would like to see the *entire* dataframe, you can simply type its name. This works fine for small dataframes, but it's not helpful to spit out a huge dataframe in your notebook."
      ],
      "metadata": {
        "id": "8YOOPnIXeVcI"
      }
    },
    {
      "cell_type": "markdown",
      "metadata": {
        "id": "_RMD1SS8lEn5"
      },
      "source": [
        "### 5b. Single Column  \n",
        "You can display a single column of a dataframe by using either the Attribute approach or the Label approach.\n",
        "\n",
        "The syntax for the **Attribute approach** looks similar to calling a method on the dataframe, where the attribute is the column name:  \n",
        "`my_df.col_name`   \n",
        "\n",
        "The syntax for the **Label approach** looks much like accessing an element of an array or a dictionary item, where the label is the column name:  \n",
        "`my_df['col_name']`  \n",
        "\n",
        "<font color='red'>Exercise 6</font>  \n",
        "Run the cell below to see the data from the `totalPop` column displayed using the **Attribute** approach."
      ]
    },
    {
      "cell_type": "code",
      "source": [
        "my_df.totalPop"
      ],
      "metadata": {
        "id": "sPxylw5DgnMK"
      },
      "execution_count": null,
      "outputs": []
    },
    {
      "cell_type": "markdown",
      "source": [
        "<font color='red'>Exercise 7</font>  \n",
        "Now try displaying the data from the `hispPop` column in the cell below using the **Label** approach. Refer to the syntax just above!"
      ],
      "metadata": {
        "id": "DDvOcT9wg60p"
      }
    },
    {
      "cell_type": "code",
      "source": [
        ""
      ],
      "metadata": {
        "id": "Pm0ENFyjhLPx"
      },
      "execution_count": null,
      "outputs": []
    },
    {
      "cell_type": "markdown",
      "source": [
        "## All done!\n",
        "Congrats on finishing the Pandas module! In the next module, we'll dive deeper into working with dataframes using the Pandas library."
      ],
      "metadata": {
        "id": "vYqInSA0L4Ph"
      }
    }
  ]
}