{
  "nbformat": 4,
  "nbformat_minor": 0,
  "metadata": {
    "kernelspec": {
      "display_name": "Python 3",
      "language": "python",
      "name": "python3"
    },
    "language_info": {
      "codemirror_mode": {
        "name": "ipython",
        "version": 3
      },
      "file_extension": ".py",
      "mimetype": "text/x-python",
      "name": "python",
      "nbconvert_exporter": "python",
      "pygments_lexer": "ipython3",
      "version": "3.7.1"
    },
    "colab": {
      "name": "Copy of Module5_string_operations_solutions.ipynb",
      "provenance": [],
      "collapsed_sections": [],
      "include_colab_link": true
    }
  },
  "cells": [
    {
      "cell_type": "markdown",
      "metadata": {
        "id": "view-in-github",
        "colab_type": "text"
      },
      "source": [
        "<a href=\"https://colab.research.google.com/github/JaimeAdele/APEX/blob/main/Copy_of_Module5_string_operations_solutions.ipynb\" target=\"_parent\"><img src=\"https://colab.research.google.com/assets/colab-badge.svg\" alt=\"Open In Colab\"/></a>"
      ]
    },
    {
      "cell_type": "markdown",
      "metadata": {
        "id": "tcP2h0QW0A6X"
      },
      "source": [
        "<img src='https://cdn.pixabay.com/photo/2020/04/21/16/41/threads-5073817_1280.jpg' width=700>   \n",
        "Photo by ds_30 from Pixabay"
      ]
    },
    {
      "cell_type": "markdown",
      "metadata": {
        "id": "L3vFn9_lzweJ"
      },
      "source": [
        "# APEX Faculty Training, Module 5: String Operations Solutions\n",
        "Created by Valerie Carr and Jaime Zuspann  \n",
        "Licensed under a Creative Commons license: CC BY-NC-SA  \n",
        "Last updated: Jan 22, 2022  "
      ]
    },
    {
      "cell_type": "markdown",
      "metadata": {
        "id": "y3h7t94Ut2bW"
      },
      "source": [
        "## 2. String operators  \n",
        "<font color='red'>Exercise 1 possible solution</font>  \n",
        "Then names of the bands may be different, but the structure should be the same."
      ]
    },
    {
      "cell_type": "code",
      "source": [
        "# Current favorite band\n",
        "fav_band1 = 'The Beatles'\n",
        "\n",
        "# Favorite band in middle school\n",
        "fav_band2 = 'Led Zeppelin'"
      ],
      "metadata": {
        "id": "doxqFe0PU4mk"
      },
      "execution_count": null,
      "outputs": []
    },
    {
      "cell_type": "markdown",
      "metadata": {
        "id": "ED1Egczltomu"
      },
      "source": [
        "<font color='red'>Exercise 2 solution</font>  "
      ]
    },
    {
      "cell_type": "code",
      "metadata": {
        "id": "56Y1-4jWtmjv"
      },
      "source": [
        "# Has your favorite band stayed the same?\n",
        "fav_band1 == fav_band2"
      ],
      "execution_count": null,
      "outputs": []
    },
    {
      "cell_type": "markdown",
      "metadata": {
        "id": "bIrdNiZCtgKn"
      },
      "source": [
        "<font color='red'>Exercise 3 possible solution</font>  \n",
        "The book and movie titles may be different, but the structure should be the same."
      ]
    },
    {
      "cell_type": "code",
      "metadata": {
        "id": "pGGGagNTtebt"
      },
      "source": [
        "# Favorite book\n",
        "fav_book = \"Ender's Game\" # Double quotes were used here due to the apostrope\n",
        "# Favorite movie\n",
        "fav_movie = 'The Prestige'"
      ],
      "execution_count": null,
      "outputs": []
    },
    {
      "cell_type": "markdown",
      "metadata": {
        "id": "Dl2hMpEttc6k"
      },
      "source": [
        "<font color='red'>Exercise 4 solution</font>  "
      ]
    },
    {
      "cell_type": "code",
      "metadata": {
        "id": "PwoBgMsptbJB"
      },
      "source": [
        "# Does fav_book come before fav_movie in the alphabet?\n",
        "fav_book < fav_movie"
      ],
      "execution_count": null,
      "outputs": []
    },
    {
      "cell_type": "markdown",
      "metadata": {
        "id": "HLt-kH2utZg3"
      },
      "source": [
        "<font color='red'>Exercise 5 solution</font>  \n",
        "Now create a test to see if these comparison operators are case sensitive. Hint: Does 'cat' come before or after 'Dog'?"
      ]
    },
    {
      "cell_type": "code",
      "metadata": {
        "id": "x_GkEXc_tX3q"
      },
      "source": [
        "# What about different cases?\n",
        "'cat' < 'Dog' \n",
        "\n",
        "# This line returns the value false, showing that Python comparison operators are \n",
        "# case sensitive, and that all capital letters come before all lowercase letters."
      ],
      "execution_count": null,
      "outputs": []
    },
    {
      "cell_type": "markdown",
      "metadata": {
        "id": "CDiTzvpbtLaj"
      },
      "source": [
        "### 2b. Algebraic operators  \n",
        "<font color='red'>Exercise 6 solution</font>  "
      ]
    },
    {
      "cell_type": "code",
      "metadata": {
        "id": "AssvT_n7tJLF"
      },
      "source": [
        "top1 = 'artichokes'\n",
        "top2 = 'olives'\n",
        "\n",
        "## Your code here\n",
        "pizza = top1 + top2\n",
        "print(pizza)"
      ],
      "execution_count": null,
      "outputs": []
    },
    {
      "cell_type": "markdown",
      "metadata": {
        "id": "D7zKiWBqtGe8"
      },
      "source": [
        "<font color='red'>Exercise 7 solution</font>  "
      ]
    },
    {
      "cell_type": "code",
      "metadata": {
        "id": "vSMYxvD1zwe2"
      },
      "source": [
        "pizza = top1 + ', ' + top2\n",
        "print(pizza)"
      ],
      "execution_count": null,
      "outputs": []
    },
    {
      "cell_type": "markdown",
      "metadata": {
        "id": "RncZrCB31VgP"
      },
      "source": [
        "<font color='red'>Exercise 8</font>  \n",
        "In the cell below, assign a new value to `pizza` that evaluates to double `top1`."
      ]
    },
    {
      "cell_type": "code",
      "metadata": {
        "id": "LqCj66iyzwe4"
      },
      "source": [
        "# Pizza with double top1\n",
        "pizza = top1 * 2\n",
        "print(pizza)"
      ],
      "execution_count": null,
      "outputs": []
    },
    {
      "cell_type": "markdown",
      "metadata": {
        "id": "xjB2Cgol-2Lj"
      },
      "source": [
        "<font color='red'>Exercise 9 solution</font>  "
      ]
    },
    {
      "cell_type": "code",
      "metadata": {
        "id": "-gIIc5Nqzwe6"
      },
      "source": [
        "# Does 'Ksenija' contain the letter 'y'?\n",
        "'y' in 'Ksenija'"
      ],
      "execution_count": null,
      "outputs": []
    },
    {
      "cell_type": "code",
      "metadata": {
        "id": "uDoc4tFBP5z2"
      },
      "source": [
        "# Does the following sentence contain the word 'try'?\n",
        "sentence = 'Do or do not, there is no try.'\n",
        "\n",
        "# Your code here\n",
        "'try' in sentence"
      ],
      "execution_count": null,
      "outputs": []
    },
    {
      "cell_type": "markdown",
      "metadata": {
        "id": "1K2T9Lxj9dLt"
      },
      "source": [
        "<font color='red'>Exercise 10 solution</font>  "
      ]
    },
    {
      "cell_type": "code",
      "metadata": {
        "id": "oJX3WSQ6urut"
      },
      "source": [
        "# Determine the length of the name of your school\n",
        "school = \"Your School Name Here\"\n",
        "len(school)"
      ],
      "execution_count": null,
      "outputs": []
    },
    {
      "cell_type": "markdown",
      "metadata": {
        "id": "DOVxKhgWBMlx"
      },
      "source": [
        "## 3. String operators: Indexing  \n",
        "<font color='red'>Exercise 11 solution</font>  "
      ]
    },
    {
      "cell_type": "code",
      "metadata": {
        "id": "BYXWNoh4zwe_"
      },
      "source": [
        "# First character of string assigned to variable school\n",
        "print(school[0])"
      ],
      "execution_count": null,
      "outputs": []
    },
    {
      "cell_type": "code",
      "metadata": {
        "id": "WB9nvpiazwfB"
      },
      "source": [
        "# Fourth character of string assigned to variable school\n",
        "print(school[3])"
      ],
      "execution_count": null,
      "outputs": []
    },
    {
      "cell_type": "markdown",
      "metadata": {
        "id": "zXjuJOq7bRs7"
      },
      "source": [
        "<font color='red'>Exercise 12</font>  \n",
        "Continuing with the variable `school`, use negative indexing to determine the last character of the string assigned to this variable, then the fifth from last."
      ]
    },
    {
      "cell_type": "code",
      "metadata": {
        "id": "WB2UWn2CzwfF"
      },
      "source": [
        "# Last character of string assigned to variable school\n",
        "print(school[-1])"
      ],
      "execution_count": null,
      "outputs": []
    },
    {
      "cell_type": "code",
      "metadata": {
        "id": "NFQZFPD1ciJ8"
      },
      "source": [
        "# Fifth from last character of string assigned to variable school\n",
        "print(school[-5])"
      ],
      "execution_count": null,
      "outputs": []
    }
  ]
}