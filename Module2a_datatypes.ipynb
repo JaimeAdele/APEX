{
  "nbformat": 4,
  "nbformat_minor": 0,
  "metadata": {
    "kernelspec": {
      "display_name": "Python 3",
      "language": "python",
      "name": "python3"
    },
    "language_info": {
      "codemirror_mode": {
        "name": "ipython",
        "version": 3
      },
      "file_extension": ".py",
      "mimetype": "text/x-python",
      "name": "python",
      "nbconvert_exporter": "python",
      "pygments_lexer": "ipython3",
      "version": "3.7.1"
    },
    "colab": {
      "name": "Module2a_datatypes.ipynb",
      "provenance": [],
      "collapsed_sections": [
        "-DFmkSC3DcrF",
        "mMoSrg_5DcrP",
        "CZws-TYVDcrP",
        "6eF88P1PDcrV",
        "whNRxjERDcrZ",
        "P_FORhr1Dcrd",
        "1XOrdHJLDcri",
        "tAI7cCJSDcrk"
      ],
      "include_colab_link": true
    }
  },
  "cells": [
    {
      "cell_type": "markdown",
      "metadata": {
        "id": "view-in-github",
        "colab_type": "text"
      },
      "source": [
        "<a href=\"https://colab.research.google.com/github/JaimeAdele/APEX/blob/main/Module2a_datatypes.ipynb\" target=\"_parent\"><img src=\"https://colab.research.google.com/assets/colab-badge.svg\" alt=\"Open In Colab\"/></a>"
      ]
    },
    {
      "cell_type": "markdown",
      "metadata": {
        "id": "U2VoRlVpDcqd"
      },
      "source": [
        "# Lab 2a: Datatypes\n",
        "Name: Valerie Carr  \n",
        "Last updated: 8/25/21\n",
        "\n",
        "**Learning Outcomes**:  \n",
        "  • To learn Python datatypes  \n",
        "  • To learn how to assign values to variables"
      ]
    },
    {
      "cell_type": "markdown",
      "metadata": {
        "id": "JjI68d04fcgp"
      },
      "source": [
        "Remember to click the Copy to Drive button before you begin so you can make changes in your own copy of the module."
      ]
    },
    {
      "cell_type": "markdown",
      "metadata": {
        "id": "YmLWJKQSDcqe"
      },
      "source": [
        "## 1. Document your notebook\n",
        "* Enter your name as well as today's date in the cell above (you'll need to double click the cell to edit it). As a reminder, to run a cell, use `shift` + `enter`.  \n",
        "* Also, please note that for some of the exercises below, you may see the message \"x cells hidden.\" Simply click on this message to reveal the cells."
      ]
    },
    {
      "cell_type": "markdown",
      "metadata": {
        "id": "FyjjmIBHwxdb"
      },
      "source": [
        "## Expressions  \n",
        "In Python, there are two types of expressions: Mathematical (algebraic) and Boolean."
      ]
    },
    {
      "cell_type": "markdown",
      "metadata": {
        "id": "eGtiFVkADcqf"
      },
      "source": [
        "## 2. Mathematical expressions  \n",
        "### 2a. The basics  \n",
        "  \n",
        "Mathematical expressions are essentially using Python like a calculator. In Python, it is standard to type a space before and after each operation. This helps with easier readability.  \n",
        "  \n",
        "Here are the basic mathematical operators:  \n",
        "Note: It may be useful to copy the expressions into a new code cell to run them yourself.\n",
        "  \n",
        "* Addition: `+`  \n",
        "`79 + 40 #returns 119`  \n",
        "  \n",
        "* Subtraction: `-`  \n",
        "`93 - 62 #returns 31`  \n",
        "  \n",
        "* Multiplication: `*`  \n",
        "`2 * 58 #returns 116`  \n",
        "   \n",
        "* Division: `/`  \n",
        "`482 / 16 #returns 30.125`  \n",
        "  \n",
        "* Exponentiation: `**`  \n",
        "`4 ** 2 #returns 16`"
      ]
    },
    {
      "cell_type": "markdown",
      "metadata": {
        "id": "k-TdV7td3f_R"
      },
      "source": [
        "Python can also calculate:  \n",
        "  \n",
        "* `//`  : Quotient (Integer Division) - the number of times operand1 can be divided by operand2   \n",
        "`9 // 4 #returns 2`  \n",
        "  \n",
        "* `%`   : Modulus - the remainder left over after division  \n",
        "`9 % 4 #returns 1`"
      ]
    },
    {
      "cell_type": "markdown",
      "metadata": {
        "id": "U7VrhoeZwQdd"
      },
      "source": [
        "###Try it yourself  \n",
        "In the cells below, write expressions for each of the following, just below the comments, and run the cells:"
      ]
    },
    {
      "cell_type": "code",
      "metadata": {
        "id": "tAUAsKiUDcqg"
      },
      "source": [
        "# 2a. 1) The number of continents on Earth multiplied by the number of planets in our solar system (sorry Pluto):\n"
      ],
      "execution_count": null,
      "outputs": []
    },
    {
      "cell_type": "code",
      "metadata": {
        "id": "FmT6gWQVDcqj"
      },
      "source": [
        "# 2a. 2) This Module's number, cubed (to the power of 3)\n"
      ],
      "execution_count": null,
      "outputs": []
    },
    {
      "cell_type": "code",
      "metadata": {
        "id": "GE0I91BbDcqm"
      },
      "source": [
        "# 2a. 3) The current year divided by 100\n"
      ],
      "execution_count": null,
      "outputs": []
    },
    {
      "cell_type": "markdown",
      "metadata": {
        "id": "71IXNKF_8sh3"
      },
      "source": [
        "### 2b. Data types\n",
        "Look at the code cells below, and think of what the resulting values should be before you run the cells:\n"
      ]
    },
    {
      "cell_type": "code",
      "metadata": {
        "id": "rK_8uUa79z3Y",
        "colab": {
          "base_uri": "https://localhost:8080/"
        },
        "outputId": "bd7078e1-dd6c-4bfc-f61f-f96e084828ee"
      },
      "source": [
        "2 + 1"
      ],
      "execution_count": null,
      "outputs": [
        {
          "output_type": "execute_result",
          "data": {
            "text/plain": [
              "3"
            ]
          },
          "metadata": {},
          "execution_count": 15
        }
      ]
    },
    {
      "cell_type": "code",
      "metadata": {
        "id": "SVYeewwm9x2K",
        "colab": {
          "base_uri": "https://localhost:8080/"
        },
        "outputId": "6425174f-07b6-4491-cc8b-ed8be121dec5"
      },
      "source": [
        "9 / 3"
      ],
      "execution_count": null,
      "outputs": [
        {
          "output_type": "execute_result",
          "data": {
            "text/plain": [
              "3.0"
            ]
          },
          "metadata": {},
          "execution_count": 16
        }
      ]
    },
    {
      "cell_type": "markdown",
      "metadata": {
        "id": "Qlw5EeQa9443"
      },
      "source": [
        "Now that you've run the cells, do you notice a difference between the results? While they're ultimately the same value, the addition expression results in an integer value of `3`, while the division expression results in a floating point value of `3.0`. These are two different data types, specifically, `int` and `float`.  \n",
        "  \n",
        "Here are the rules for `int` and `float`:  \n",
        "* When two `int` values are added, subtracted, or multiplied together, the result is also an `int` value.  \n",
        "* If an expression involves at least one `float` value, the result is a `float` value.  \n",
        "* Division always results in a `float` value."
      ]
    },
    {
      "cell_type": "markdown",
      "metadata": {
        "id": "qumo1zgEDcqo"
      },
      "source": [
        "In the cells below, write expressions for each of the following. Consider which operations should return an integer and which should return a float."
      ]
    },
    {
      "cell_type": "code",
      "metadata": {
        "id": "zYVZ92N8Dcqo",
        "colab": {
          "base_uri": "https://localhost:8080/"
        },
        "outputId": "33977aa5-0905-4660-fcee-341ab8dff66c"
      },
      "source": [
        "# 2b. 1) 6 plus 2"
      ],
      "execution_count": null,
      "outputs": [
        {
          "output_type": "execute_result",
          "data": {
            "text/plain": [
              "8"
            ]
          },
          "metadata": {},
          "execution_count": 4
        }
      ]
    },
    {
      "cell_type": "code",
      "metadata": {
        "id": "JaDSx069Dcqr",
        "colab": {
          "base_uri": "https://localhost:8080/"
        },
        "outputId": "7d17712f-8beb-4a5d-f61d-d740e9fdfba6"
      },
      "source": [
        "# 2b. 2) 6.0 plus 2"
      ],
      "execution_count": null,
      "outputs": [
        {
          "output_type": "execute_result",
          "data": {
            "text/plain": [
              "8.0"
            ]
          },
          "metadata": {},
          "execution_count": 5
        }
      ]
    },
    {
      "cell_type": "code",
      "metadata": {
        "id": "ji7C7AzEDcqt",
        "colab": {
          "base_uri": "https://localhost:8080/"
        },
        "outputId": "18a728ea-2af9-4f74-ffe4-c737b882ced8"
      },
      "source": [
        "# 2b. 3) 6 divided by 2"
      ],
      "execution_count": null,
      "outputs": [
        {
          "output_type": "execute_result",
          "data": {
            "text/plain": [
              "3.0"
            ]
          },
          "metadata": {},
          "execution_count": 6
        }
      ]
    },
    {
      "cell_type": "markdown",
      "metadata": {
        "id": "z6ji95ZVDcqw"
      },
      "source": [
        "### 2c. Order of operations\n",
        "Python follows the same order of operations rule as algebra:  \n",
        "* PEMDAS (Parentheses, Exponents, Multiplication/Division, Addition/Subtraction)  \n",
        "* All else being equal, left to right  "
      ]
    },
    {
      "cell_type": "markdown",
      "metadata": {
        "id": "L0dNU8RaAsk7"
      },
      "source": [
        "While not always necessary, parentheses can be helpful for clarification for human readers. Add parentheses to the expression below to help clarify the order of operations, ensuring that your answer is 24."
      ]
    },
    {
      "cell_type": "code",
      "metadata": {
        "id": "QSl75pCwDcqw",
        "colab": {
          "base_uri": "https://localhost:8080/"
        },
        "outputId": "004527b2-e8b1-4acc-903a-947397ea5ac4"
      },
      "source": [
        "# 2c. 1) Add parentheses to clarify order of operations\n",
        "20 * 1 + 2 ** 2"
      ],
      "execution_count": null,
      "outputs": [
        {
          "output_type": "execute_result",
          "data": {
            "text/plain": [
              "24"
            ]
          },
          "metadata": {},
          "execution_count": 7
        }
      ]
    },
    {
      "cell_type": "markdown",
      "metadata": {
        "id": "ClVVERidDcqy"
      },
      "source": [
        "### 2d. Built-in functions\n",
        "Python has several helpful math-related functions:  \n",
        "* Absolute Value: `abs()`  \n",
        "  `abs(-4) #returns 4`  \n",
        "  `abs(7 - 12) #returns 5`\n",
        "* Minimum Value: `min()`  \n",
        "`min(6, 19, 2, 13, 4) #returns 2`  \n",
        "* Maximum Value: `max()`  \n",
        "`max(6, 19, 2, 13, 4) #returns 19`"
      ]
    },
    {
      "cell_type": "markdown",
      "metadata": {
        "id": "6qXeb1w9BpPq"
      },
      "source": [
        "In the cells below, use built-in functions to determine the following:\n",
        "* The absolute value of the difference between two children's ages (10 and 15)\n",
        "* The lowest student grade received on a quiz: 76, 98, 83, 71\n",
        "* The highest price of a cup of coffee: 2.50, 3.49, 2.99"
      ]
    },
    {
      "cell_type": "code",
      "metadata": {
        "id": "6Sxf0gibDcqz",
        "colab": {
          "base_uri": "https://localhost:8080/"
        },
        "outputId": "01be71e9-45fe-4b23-d157-e423899020e9"
      },
      "source": [
        "# 2d. 1) Ages"
      ],
      "execution_count": null,
      "outputs": [
        {
          "output_type": "execute_result",
          "data": {
            "text/plain": [
              "5"
            ]
          },
          "metadata": {},
          "execution_count": 9
        }
      ]
    },
    {
      "cell_type": "code",
      "metadata": {
        "id": "rdM6rOpvDcq1",
        "colab": {
          "base_uri": "https://localhost:8080/"
        },
        "outputId": "fa1c9285-bb67-4add-b007-3e64640dfc80"
      },
      "source": [
        "# 2d. 2) Grade"
      ],
      "execution_count": null,
      "outputs": [
        {
          "output_type": "execute_result",
          "data": {
            "text/plain": [
              "71"
            ]
          },
          "metadata": {},
          "execution_count": 10
        }
      ]
    },
    {
      "cell_type": "code",
      "metadata": {
        "id": "-jMffkdcDcq3",
        "colab": {
          "base_uri": "https://localhost:8080/"
        },
        "outputId": "83384185-f33d-4282-c9c7-4a1145e6c05e"
      },
      "source": [
        "# 2d. 3) Coffee"
      ],
      "execution_count": null,
      "outputs": [
        {
          "output_type": "execute_result",
          "data": {
            "text/plain": [
              "3.49"
            ]
          },
          "metadata": {},
          "execution_count": 11
        }
      ]
    },
    {
      "cell_type": "markdown",
      "metadata": {
        "id": "A16PMuKtDcq5"
      },
      "source": [
        "## 3. Boolean expressions\n",
        "\n",
        "### 3a. Basic Boolean expressions\n",
        "A Boolean expression is a type of numeric expression that evaluates to `True` or `False`.  \n",
        "  \n",
        "Here are the basic Boolean operators:  \n",
        "  \n",
        "* Less than: `<`  \n",
        "`42 < 42 #returns False`  \n",
        "`15 < 51 #returns True` \n",
        "* Less than or equal to: `<=`  \n",
        "`42 <= 42 #returns True`  \n",
        "`15 <= 51 #returns True`  \n",
        "* Greater than: `>`  \n",
        "`42 > 42 #returns False`  \n",
        "`15 > 51 #returns False` \n",
        "* Greater than or equal to: `>=`  \n",
        "`42 >= 42 #returns True`  \n",
        "`15 >= 51 #returns False` \n",
        "* Equal to: `==`  \n",
        "`42 == 42 #returns True`  \n",
        "`15 == 51 #returns False`  \n",
        "* Not equal to: `!=`  \n",
        "`42 != 42 #returns False`  \n",
        "`15 != 51 #returns True` \n",
        "  \n",
        "Note above -- the single equals sign, `=`, is not a Boolean operator (we'll get to that later). To check if two values are equal to each other, `==` must be used."
      ]
    },
    {
      "cell_type": "markdown",
      "metadata": {
        "id": "4FpS2UUZKIfn"
      },
      "source": [
        "Boolean expressions can take mathematical expressions as their operands. Look at the code cell below, and try to determine the result before running it:"
      ]
    },
    {
      "cell_type": "code",
      "metadata": {
        "id": "0Ri5U_7WKVNf",
        "colab": {
          "base_uri": "https://localhost:8080/"
        },
        "outputId": "819d88f5-096e-4783-eca8-3fa97807b7f9"
      },
      "source": [
        "2 * max(14, 3, 9, 17, 11) == 7 + 3 * 9"
      ],
      "execution_count": null,
      "outputs": [
        {
          "output_type": "execute_result",
          "data": {
            "text/plain": [
              "True"
            ]
          },
          "metadata": {},
          "execution_count": 23
        }
      ]
    },
    {
      "cell_type": "markdown",
      "metadata": {
        "id": "7HSkqXHiK5jH"
      },
      "source": [
        "Did you get the result you expected? If not, can you determine why it gave that result?  \n",
        "  \n",
        "Now, try changing the mathematical expressions or even the Boolean operator and try to predict the results."
      ]
    },
    {
      "cell_type": "markdown",
      "metadata": {
        "id": "ZQQkuFBXFSKw"
      },
      "source": [
        "### Try it yourself  \n",
        "Write Boolean expressions in each cell below. Feel free to use parentheses to help clarify your expressions."
      ]
    },
    {
      "cell_type": "code",
      "metadata": {
        "id": "qWi1OQIlDcq5",
        "colab": {
          "base_uri": "https://localhost:8080/"
        },
        "outputId": "3c1ecdc2-d699-4c7f-f795-846e7d75dea9"
      },
      "source": [
        "# 3a. 1) 3 squared plus 4 is equivalent to 25 minus 12"
      ],
      "execution_count": null,
      "outputs": [
        {
          "output_type": "execute_result",
          "data": {
            "text/plain": [
              "True"
            ]
          },
          "metadata": {},
          "execution_count": 12
        }
      ]
    },
    {
      "cell_type": "code",
      "metadata": {
        "id": "UwWSKVe4Dcq8",
        "colab": {
          "base_uri": "https://localhost:8080/"
        },
        "outputId": "7f0c0677-012c-405f-e4c4-69749ad165ed"
      },
      "source": [
        "# 3a. 2) The minimum age among four siblings (14, 9, 7, 2) is less than 3"
      ],
      "execution_count": null,
      "outputs": [
        {
          "output_type": "execute_result",
          "data": {
            "text/plain": [
              "True"
            ]
          },
          "metadata": {},
          "execution_count": 13
        }
      ]
    },
    {
      "cell_type": "markdown",
      "metadata": {
        "id": "_MFIJ53KDcq-"
      },
      "source": [
        "### 3b. `and`, `or`, and `not`  \n",
        "Boolean expressions can be combined using the `and`, `or`, and `not` operators.  \n",
        "  \n",
        "* The `and` operator evaluates to `True` if **both** Boolean expressions are `True` and `False` otherwise.  \n",
        "`2 < 7 and 4 > 3 #returns True`  \n",
        "`2 < 7 and 4 > 13 #returns False`  \n",
        "* The `or` operator evaluates to `True` if **either** expression is `True`, or if both are `True`, and `False` only if both expressions are `False`.  \n",
        "`2 < 3 or 4 < 5 #returns True`  \n",
        "`2 < 3 or 4 > 5 # returns True`  \n",
        "`2 > 3 or 4 > 5 # returns False`  \n",
        "* The `not` operator is applied to a single Boolean expression, and reverses the expression.  \n",
        "In other words, `not` evaluates to `True` if the expression is false, and `False` if the expression is true.  \n",
        "`not (3 > 1) #returns False`  \n",
        "`not (3 < 1) #returns True`  \n",
        "`not (2 * 2 == 4) #returns False`"
      ]
    },
    {
      "cell_type": "markdown",
      "metadata": {
        "id": "XK-xmWuYLrVr"
      },
      "source": [
        "### Try it yourself  \n",
        "In the cells below, come up with your choice of Boolean statements for the `and`, `or`, and `not` operators. Make sure you understand why you received `True` or `False` for each one."
      ]
    },
    {
      "cell_type": "code",
      "metadata": {
        "id": "_cvqsVbQDcq-",
        "colab": {
          "base_uri": "https://localhost:8080/"
        },
        "outputId": "a310f53c-fa42-49a9-ce10-69be05b2c293"
      },
      "source": [
        "# 3b. 1) and\n"
      ],
      "execution_count": null,
      "outputs": [
        {
          "output_type": "execute_result",
          "data": {
            "text/plain": [
              "False"
            ]
          },
          "metadata": {},
          "execution_count": 15
        }
      ]
    },
    {
      "cell_type": "code",
      "metadata": {
        "id": "u881zrnLDcrA",
        "colab": {
          "base_uri": "https://localhost:8080/"
        },
        "outputId": "b870cae6-6798-4b7b-8274-1ef8e1438c40"
      },
      "source": [
        "# 3b. 2) or\n"
      ],
      "execution_count": null,
      "outputs": [
        {
          "output_type": "execute_result",
          "data": {
            "text/plain": [
              "True"
            ]
          },
          "metadata": {},
          "execution_count": 16
        }
      ]
    },
    {
      "cell_type": "code",
      "metadata": {
        "id": "35sopS0nDcrC",
        "colab": {
          "base_uri": "https://localhost:8080/"
        },
        "outputId": "cc7ec9bb-d40f-440b-b2b3-4f8f1e23c857"
      },
      "source": [
        "# 3b. 3) not\n"
      ],
      "execution_count": null,
      "outputs": [
        {
          "output_type": "execute_result",
          "data": {
            "text/plain": [
              "True"
            ]
          },
          "metadata": {},
          "execution_count": 17
        }
      ]
    },
    {
      "cell_type": "markdown",
      "metadata": {
        "id": "BXnvX8m8clXv"
      },
      "source": [
        "## 4. Assigning values to variables\n",
        "### 4a. Variables and Assignment  \n",
        "In Python, it's helpful to store values for later use. To store a value, we need to assign it to a variable.  \n",
        "  \n",
        "You can think of a variable like a box. You can drop a value into the box to store it, so you can access it later. If needed, you can change the value you've stored."
      ]
    },
    {
      "cell_type": "markdown",
      "metadata": {
        "id": "ZVF6Tz1H97Kn"
      },
      "source": [
        "To assign a value to a variable:  \n",
        "* The variable name always comes first  \n",
        "* Then an equal sign followed by the value  \n",
        "`x = 3 #assigns the value 3 to the variable x`  \n",
        "`age = 20 #assigns the value 20 to the variable age`  \n",
        "\n",
        "Note: It is a common mistake among students to put the value first with the variable after the equal sign. This doesn't work and will cause a SyntaxError. More on this error later."
      ]
    },
    {
      "cell_type": "code",
      "metadata": {
        "id": "xFwSSGWb-bZC"
      },
      "source": [
        "x = 3 #assigns the value 3 to the variable x\n",
        "age = 20 #assigns the value 20 to the variable age"
      ],
      "execution_count": 2,
      "outputs": []
    },
    {
      "cell_type": "code",
      "metadata": {
        "id": "3Shh8KoVOVoL",
        "outputId": "10675faf-b429-4163-e7f6-b37ff964c658",
        "colab": {
          "base_uri": "https://localhost:8080/",
          "height": 130
        }
      },
      "source": [
        "20 = age #this is incorrect and will give you a SyntaxError"
      ],
      "execution_count": 11,
      "outputs": [
        {
          "output_type": "error",
          "ename": "SyntaxError",
          "evalue": "ignored",
          "traceback": [
            "\u001b[0;36m  File \u001b[0;32m\"<ipython-input-11-a20c3f007a47>\"\u001b[0;36m, line \u001b[0;32m1\u001b[0m\n\u001b[0;31m    20 = age #this is incorrect\u001b[0m\n\u001b[0m                               ^\u001b[0m\n\u001b[0;31mSyntaxError\u001b[0m\u001b[0;31m:\u001b[0m can't assign to literal\n"
          ]
        }
      ]
    },
    {
      "cell_type": "markdown",
      "metadata": {
        "id": "K2m7jsR1_JLS"
      },
      "source": [
        "If you run the code above, you'll see that there is no output. Assignment doesn't return a value. You can check if the values were assigned properly by simply typing the variable names on their own lines and running them. Note: if you put them in the same code cell, the output will only show the value stored in the last variable."
      ]
    },
    {
      "cell_type": "code",
      "metadata": {
        "id": "87nCShUz_bvE",
        "outputId": "56bb6332-d087-4198-ef1f-a95d06930282",
        "colab": {
          "base_uri": "https://localhost:8080/"
        }
      },
      "source": [
        "x"
      ],
      "execution_count": 4,
      "outputs": [
        {
          "output_type": "execute_result",
          "data": {
            "text/plain": [
              "3"
            ]
          },
          "metadata": {},
          "execution_count": 4
        }
      ]
    },
    {
      "cell_type": "code",
      "metadata": {
        "id": "Z6Akz9rV_iKF",
        "outputId": "ac1e3a07-757c-440c-b449-01cb72954988",
        "colab": {
          "base_uri": "https://localhost:8080/"
        }
      },
      "source": [
        "age"
      ],
      "execution_count": 5,
      "outputs": [
        {
          "output_type": "execute_result",
          "data": {
            "text/plain": [
              "20"
            ]
          },
          "metadata": {},
          "execution_count": 5
        }
      ]
    },
    {
      "cell_type": "markdown",
      "metadata": {
        "id": "tFtDiNnXMlJ0"
      },
      "source": [
        "\n",
        "\n",
        "---\n",
        "\n",
        "\n",
        "#### Note: `=` vs `==`  \n",
        "We learned earlier that `==` is a Boolean operator that returns either `True` or `False` depending on whether it's operands are equal to each other. Now we see that `=` is an assignment operator--it assigns values to variables.  \n",
        "\n",
        "`x = 17` assigns the value 7 to the variable x, regardless of any value x might have held before  \n",
        "`x == 17` checks whether the value stored in x is equal to the value 7 and returns `True` or `False`\n",
        "\n",
        "Be sure to take note of this, because this is a very common mistake to make. Even if you don't have an issue with this, some of your students certainly will. It's a very common mistake to use `=` to test whether two things are equal, and students often won't see what the mistake is. \n",
        "\n",
        "\n",
        "---\n",
        "\n"
      ]
    },
    {
      "cell_type": "markdown",
      "metadata": {
        "id": "hbFSFYm6_070"
      },
      "source": [
        "The value assigned to a variable is not permanently stored. That is, you can change the value later as necessary.  \n",
        "  \n",
        "Say you wish to update `age` after you initially stored the value of 20 to it. You can do that with exactly the same process:"
      ]
    },
    {
      "cell_type": "code",
      "metadata": {
        "id": "_Y1p2dnjASVz",
        "outputId": "d9b489a3-047c-46f5-81bf-01589889faee",
        "colab": {
          "base_uri": "https://localhost:8080/"
        }
      },
      "source": [
        "age = 21\n",
        "age #this will output the current value of age, after reassigning it in the previous line"
      ],
      "execution_count": 6,
      "outputs": [
        {
          "output_type": "execute_result",
          "data": {
            "text/plain": [
              "21"
            ]
          },
          "metadata": {},
          "execution_count": 6
        }
      ]
    },
    {
      "cell_type": "markdown",
      "metadata": {
        "id": "M7MtuOIKArd_"
      },
      "source": [
        "### 4b. Using Variables in Expressions  \n",
        "The point of creating variables is to store values for later use. As such, you can use variables in mathematical expressions rather than using an actual value. We could, for instance, assign a value of 20 to age, and then use age in a mathematical expression like so:"
      ]
    },
    {
      "cell_type": "code",
      "metadata": {
        "id": "joLDyScjBCNi",
        "outputId": "ee59b227-fde1-42a1-ba62-32c1ee4232bf",
        "colab": {
          "base_uri": "https://localhost:8080/"
        }
      },
      "source": [
        "age = 20\n",
        "2 * age"
      ],
      "execution_count": 7,
      "outputs": [
        {
          "output_type": "execute_result",
          "data": {
            "text/plain": [
              "40"
            ]
          },
          "metadata": {},
          "execution_count": 7
        }
      ]
    },
    {
      "cell_type": "markdown",
      "metadata": {
        "id": "5cWnQOzpBHn-"
      },
      "source": [
        "If you run the cell above, you'll see that Python treats the variable `age` as if it's actually the value 20, which was stored in it."
      ]
    },
    {
      "cell_type": "markdown",
      "metadata": {
        "id": "9szLBjzuBU-6"
      },
      "source": [
        "### 4c. Naming Rules  \n",
        "* Variable names can contain letters, numbers, and the underscore symbol `_`.  \n",
        "* However, names cannot *start* with a number."
      ]
    },
    {
      "cell_type": "code",
      "metadata": {
        "id": "Sx1TbuxjBwhO",
        "outputId": "1e9a2ad2-dd8a-4771-aef5-852038230ae2",
        "colab": {
          "base_uri": "https://localhost:8080/"
        }
      },
      "source": [
        "# valid variable name\n",
        "engr120 = 89\n",
        "engr120 #this should output 89"
      ],
      "execution_count": 8,
      "outputs": [
        {
          "output_type": "execute_result",
          "data": {
            "text/plain": [
              "89"
            ]
          },
          "metadata": {},
          "execution_count": 8
        }
      ]
    },
    {
      "cell_type": "code",
      "metadata": {
        "id": "I5Sk2O91B7Lk",
        "outputId": "5fbe4130-edb2-4a22-a318-e274c0ef9b2d",
        "colab": {
          "base_uri": "https://localhost:8080/",
          "height": 130
        }
      },
      "source": [
        "# invalid variable name\n",
        "120engr = 89 #this will cause an error even before the variable is used"
      ],
      "execution_count": 9,
      "outputs": [
        {
          "output_type": "error",
          "ename": "SyntaxError",
          "evalue": "ignored",
          "traceback": [
            "\u001b[0;36m  File \u001b[0;32m\"<ipython-input-9-74f357878088>\"\u001b[0;36m, line \u001b[0;32m2\u001b[0m\n\u001b[0;31m    120engr = 89 #this will cause an error even without outputting the value\u001b[0m\n\u001b[0m          ^\u001b[0m\n\u001b[0;31mSyntaxError\u001b[0m\u001b[0;31m:\u001b[0m invalid syntax\n"
          ]
        }
      ]
    },
    {
      "cell_type": "markdown",
      "metadata": {
        "id": "YIiheT-kCPaY"
      },
      "source": [
        "\n",
        "\n",
        "---\n",
        "\n",
        "\n",
        "#### SyntaxError  \n",
        "If you run the last code cell, you'll see that the type of error you get is a `SyntaxError`. This error indicates you have violated Python's grammar rules.  \n",
        "  \n",
        "You'll become very familiar with this type of error. It'll be frustrating and you may feel lost. But with repeated practice, things will start to click!\n",
        "\n",
        "\n",
        "---\n",
        "\n"
      ]
    },
    {
      "cell_type": "markdown",
      "metadata": {
        "id": "2W8FccHJDFh-"
      },
      "source": [
        "* Can't use spaces within multi-word variables. A space ends the current variable name."
      ]
    },
    {
      "cell_type": "code",
      "metadata": {
        "id": "a6s88T_jDuP1"
      },
      "source": [
        "my variable = 42 #invalid variable name, will cause SyntaxError"
      ],
      "execution_count": null,
      "outputs": []
    },
    {
      "cell_type": "markdown",
      "metadata": {
        "id": "6vaEF2u1D7xE"
      },
      "source": [
        ">Instead, the following naming conventions can be used:  \n",
        "* \"Snake Case\": `my_variable`  \n",
        "* \"Camel Case\": `myVariable`  \n",
        ">\n",
        ">Snake Case is the consistent with PEP8 style and is the naming method we will use throughout this course. It is the naming convention most often used within Python."
      ]
    },
    {
      "cell_type": "markdown",
      "metadata": {
        "id": "_cbM496xFCC3"
      },
      "source": [
        "* Can't use *reserved words*  \n",
        ">There is a small set of reserved words with special meaning in Python. They include:  \n",
        "><table>\n",
        "  <tr>\n",
        "    <td>and</td>\n",
        "    <td>break</td>\n",
        "    <td>def</td>\n",
        "    <td>else</td>\n",
        "    <td>finally</td>\n",
        "    <td>global</td>\n",
        "    <td>in</td>\n",
        "    <td>nonlocal</td>\n",
        "    <td>or</td>\n",
        "    <td>return</td>\n",
        "    <td>while</td>\n",
        "  </tr>\n",
        "  <tr>\n",
        "    <td>as</td>\n",
        "    <td>class</td>\n",
        "    <td>del</td>\n",
        "    <td>except</td>\n",
        "    <td>for</td>\n",
        "    <td>if</td>\n",
        "    <td>is</td>\n",
        "    <td>none</td>\n",
        "    <td>pass</td>\n",
        "    <td>true</td>\n",
        "    <td>with</td>\n",
        "  </tr>\n",
        "  <tr>\n",
        "    <td>assert</td>\n",
        "    <td>continue</td>\n",
        "    <td>elif</td>\n",
        "    <td>false</td>\n",
        "    <td>from</td>\n",
        "    <td>import</td>\n",
        "    <td>lambda</td>\n",
        "    <td>not</td>\n",
        "    <td>raise</td>\n",
        "    <td>try</td>\n",
        "    <td>yield</td>\n",
        "  </tr>\n",
        "</table>  \n",
        "Dogs understand a small number of words in English, like treat, dinner, leash, walk, car, etc. You only use the words around a dog when you really mean it, bc the dog will automatically react. Same thing with Python – if you use these words, it will automatically try to do something.\n",
        "\n"
      ]
    },
    {
      "cell_type": "markdown",
      "metadata": {
        "id": "wKghlTEtJm0o"
      },
      "source": [
        "#### Naming Tips  \n",
        "Here are some tips you should try to follow to choose good variable names:  \n",
        "* Use short variable names  \n",
        "Saves space, easier to type repeatedly  \n",
        "* Use meaningful names  \n",
        "Your colleagues and your future self will thank you!  \n",
        ">Say you need a variable name for \"number of states\".  \n",
        ">- number_of_states is too long  \n",
        ">- n is short, but not meaningful  \n",
        ">- n_states is both short and meaningful"
      ]
    },
    {
      "cell_type": "markdown",
      "metadata": {
        "id": "IYhZVuWvLTJT"
      },
      "source": [
        "### Python is Literal  \n",
        "Reminder: Python, like a calculator, will do exactly what you tell it to do, not what you *want* it to do.  \n",
        "\n",
        "Imagine you create the variable n_states. Python will complain if you mistype any of the following later in your code - it doesn't autocorrect!  \n",
        "\n",
        ">n_status  \n",
        "n_state  \n",
        "N_states  \n",
        "\n",
        "If you create a variable and later mistype it, you'll get a NameError. Try running the code cell below."
      ]
    },
    {
      "cell_type": "code",
      "metadata": {
        "id": "EOkWfhuoMOao",
        "outputId": "b3bfad0b-9116-4eab-8fff-e30fb0d91d66",
        "colab": {
          "base_uri": "https://localhost:8080/",
          "height": 181
        }
      },
      "source": [
        "n_states = 50\n",
        "1 + n_status"
      ],
      "execution_count": 10,
      "outputs": [
        {
          "output_type": "error",
          "ename": "NameError",
          "evalue": "ignored",
          "traceback": [
            "\u001b[0;31m---------------------------------------------------------------------------\u001b[0m",
            "\u001b[0;31mNameError\u001b[0m                                 Traceback (most recent call last)",
            "\u001b[0;32m<ipython-input-10-904a4dc22520>\u001b[0m in \u001b[0;36m<module>\u001b[0;34m()\u001b[0m\n\u001b[1;32m      1\u001b[0m \u001b[0mn_states\u001b[0m \u001b[0;34m=\u001b[0m \u001b[0;36m50\u001b[0m\u001b[0;34m\u001b[0m\u001b[0;34m\u001b[0m\u001b[0m\n\u001b[0;32m----> 2\u001b[0;31m \u001b[0;36m1\u001b[0m \u001b[0;34m+\u001b[0m \u001b[0mn_status\u001b[0m\u001b[0;34m\u001b[0m\u001b[0;34m\u001b[0m\u001b[0m\n\u001b[0m",
            "\u001b[0;31mNameError\u001b[0m: name 'n_status' is not defined"
          ]
        }
      ]
    },
    {
      "cell_type": "markdown",
      "metadata": {
        "collapsed": true,
        "id": "-DFmkSC3DcrF"
      },
      "source": [
        "## Try it yourself   \n",
        "The practice for these sections will be a little out of order from how we presented it. This is the order you will actually use them in.  \n",
        "### Choosing valid names (from section 4c.)\n",
        "Below are some variable names to represent the price of a Hello Kitty mug. Note that I've purposefully made a few invalid names that will cause an error message. Before you run the cells, try to determine which ones will return an error, and what is wrong with them. Then run the cells. Which is the best choice? Would another option be better?"
      ]
    },
    {
      "cell_type": "code",
      "metadata": {
        "id": "F_HNJtMvDcrF"
      },
      "source": [
        "hello_kitty = 9.99"
      ],
      "execution_count": null,
      "outputs": []
    },
    {
      "cell_type": "code",
      "metadata": {
        "id": "_aNwxZdBDcrH",
        "colab": {
          "base_uri": "https://localhost:8080/",
          "height": 130
        },
        "outputId": "941fa6cf-9bfe-4a23-a43e-fc1d19ae8ffa"
      },
      "source": [
        "hello kitty = 9.99"
      ],
      "execution_count": null,
      "outputs": [
        {
          "output_type": "error",
          "ename": "SyntaxError",
          "evalue": "ignored",
          "traceback": [
            "\u001b[0;36m  File \u001b[0;32m\"<ipython-input-19-aeec23dbcbd6>\"\u001b[0;36m, line \u001b[0;32m1\u001b[0m\n\u001b[0;31m    hello kitty = 9.99\u001b[0m\n\u001b[0m              ^\u001b[0m\n\u001b[0;31mSyntaxError\u001b[0m\u001b[0;31m:\u001b[0m invalid syntax\n"
          ]
        }
      ]
    },
    {
      "cell_type": "code",
      "metadata": {
        "id": "dKiImeGTDcrJ",
        "colab": {
          "base_uri": "https://localhost:8080/",
          "height": 130
        },
        "outputId": "b22e1bf7-b8cc-4e25-da7f-3a1a6283ffe6"
      },
      "source": [
        "hello-kitty = 9.99"
      ],
      "execution_count": null,
      "outputs": [
        {
          "output_type": "error",
          "ename": "SyntaxError",
          "evalue": "ignored",
          "traceback": [
            "\u001b[0;36m  File \u001b[0;32m\"<ipython-input-20-24ba76d6df77>\"\u001b[0;36m, line \u001b[0;32m1\u001b[0m\n\u001b[0;31m    hello-kitty = 9.99\u001b[0m\n\u001b[0m                      ^\u001b[0m\n\u001b[0;31mSyntaxError\u001b[0m\u001b[0;31m:\u001b[0m can't assign to operator\n"
          ]
        }
      ]
    },
    {
      "cell_type": "code",
      "metadata": {
        "id": "eTpvZPt1DcrL"
      },
      "source": [
        "hello_kitty1992 = 9.99"
      ],
      "execution_count": null,
      "outputs": []
    },
    {
      "cell_type": "code",
      "metadata": {
        "id": "w_xSWEQ7DcrN",
        "colab": {
          "base_uri": "https://localhost:8080/",
          "height": 130
        },
        "outputId": "615edfcb-efc5-4175-b656-22feede12e62"
      },
      "source": [
        "1992hello_kitty = 9.99"
      ],
      "execution_count": null,
      "outputs": [
        {
          "output_type": "error",
          "ename": "SyntaxError",
          "evalue": "ignored",
          "traceback": [
            "\u001b[0;36m  File \u001b[0;32m\"<ipython-input-22-ba4b12a4f7a8>\"\u001b[0;36m, line \u001b[0;32m1\u001b[0m\n\u001b[0;31m    1992hello_kitty = 9.99\u001b[0m\n\u001b[0m                  ^\u001b[0m\n\u001b[0;31mSyntaxError\u001b[0m\u001b[0;31m:\u001b[0m invalid syntax\n"
          ]
        }
      ]
    },
    {
      "cell_type": "markdown",
      "metadata": {
        "id": "mMoSrg_5DcrP"
      },
      "source": [
        "### ** Important note! **\n",
        "In the lecture slides, I mentioned that PEP8 preference for multi-word variable names is to use underscores, e.g., `hello_kitty`.\n",
        "\n",
        "Note that this is a **style preference**, and that Python won't actually give you an error if you created a slightly different variable name like: `helloKitty`. That is to say, many people would consider underscores to be more appropriate for Python code, but from Python's perspective, either `hello_kitty` or `helloKitty` are both acceptable and will run correctly."
      ]
    },
    {
      "cell_type": "markdown",
      "metadata": {
        "id": "m0dhOf3EW0M2"
      },
      "source": [
        "### Assigning values to variables (from section 4a.)  \n",
        "Let's practice assigning values to variables. We'll assign a new value to a variable that's already been used, and we'll assign a value to a brand new variable.  \n",
        "\n",
        "In the cell below, assign the price you think is appropriate to `hello_kitty` (our hello kitty mug):"
      ]
    },
    {
      "cell_type": "code",
      "metadata": {
        "id": "-CiPUjbZXauc"
      },
      "source": [
        "# 4a. 1) Assign new value to hello_kitty\n"
      ],
      "execution_count": null,
      "outputs": []
    },
    {
      "cell_type": "markdown",
      "metadata": {
        "id": "nSPMRcqYX1c7"
      },
      "source": [
        "Now try creating a new variable (remember the naming tips) for the sale price of the mug when it goes 30% off. Use a mathematical expression to assign the correct value."
      ]
    },
    {
      "cell_type": "code",
      "metadata": {
        "id": "TXYrCQJYYZ9E"
      },
      "source": [
        "# 4a. 2) Create and assign new variable for hello kitty mug on sale\n"
      ],
      "execution_count": null,
      "outputs": []
    },
    {
      "cell_type": "markdown",
      "metadata": {
        "id": "CZws-TYVDcrP"
      },
      "source": [
        "### Using variables in expressions (from section 4b.)\n",
        "Next, let's practice using a variable name inside a mathematical expression. In the cell below, write a mathematical expression to determine the following: the value assigned to `hello_kitty` squared"
      ]
    },
    {
      "cell_type": "code",
      "metadata": {
        "id": "tceZ_8bPDcrP"
      },
      "source": [
        "# 4b. 1) hello_kitty squared\n"
      ],
      "execution_count": 14,
      "outputs": []
    },
    {
      "cell_type": "markdown",
      "metadata": {
        "id": "88kMyYIjDcrS"
      },
      "source": [
        "We can also use variables inside Boolean expressions. In the cell below, write a Boolean expression to determine if the value assigned to `hello_kitty` is greater than or equal to 10. "
      ]
    },
    {
      "cell_type": "code",
      "metadata": {
        "id": "9qsbdyvzDcrT"
      },
      "source": [
        "# 4b. 2) is hello_kitty greater than or equal to 10?\n"
      ],
      "execution_count": 15,
      "outputs": []
    },
    {
      "cell_type": "markdown",
      "metadata": {
        "id": "6eF88P1PDcrV"
      },
      "source": [
        "### Importance of consistent capitalization, spelling, and pluralization (from section 4c.)\n",
        "Remember, Python is very literal and doesn't autocorrect! In the space below, try repeating your Boolean expression from above, but purposefully make a mistake in how the variable is capitalized. Does it make sense why you receieved an error?"
      ]
    },
    {
      "cell_type": "code",
      "metadata": {
        "id": "uoQkH-v3DcrV"
      },
      "source": [
        "# 4c. 1) hello_kitty greater than or equal to 10, with mistake\n"
      ],
      "execution_count": 16,
      "outputs": []
    },
    {
      "cell_type": "markdown",
      "metadata": {
        "collapsed": true,
        "id": "QRjGc_2gDcrY"
      },
      "source": [
        "## Congrats, you're done! \n",
        "At this point, you've learned the basics of Python datatypes, mathematical and Boolean expressions, variable names, and assignment. If you'd like more practice with these concepts, simply continue below."
      ]
    },
    {
      "cell_type": "markdown",
      "metadata": {
        "id": "whNRxjERDcrZ"
      },
      "source": [
        "### Mathematical expressions"
      ]
    },
    {
      "cell_type": "markdown",
      "metadata": {
        "id": "-YA_A-LpDcrZ"
      },
      "source": [
        "In the cells below, write expressions for each of the following, and run the cells:\n",
        "* The quotient for the number of times the current year can be divided by 100 \n",
        "* The remainder of the above expression"
      ]
    },
    {
      "cell_type": "code",
      "metadata": {
        "id": "aULWAiWYDcra",
        "colab": {
          "base_uri": "https://localhost:8080/"
        },
        "outputId": "269b0fb4-adaa-436d-e383-5fffa60fec3a"
      },
      "source": [
        "# Practice 1) Quotient\n"
      ],
      "execution_count": null,
      "outputs": [
        {
          "output_type": "execute_result",
          "data": {
            "text/plain": [
              "20"
            ]
          },
          "metadata": {},
          "execution_count": 26
        }
      ]
    },
    {
      "cell_type": "code",
      "metadata": {
        "id": "YVhk_etLDcrb",
        "colab": {
          "base_uri": "https://localhost:8080/"
        },
        "outputId": "1ac8e6d3-db6f-4b20-fa93-96ef1a0ce19e"
      },
      "source": [
        "# Practice 2) Remainder\n"
      ],
      "execution_count": null,
      "outputs": [
        {
          "output_type": "execute_result",
          "data": {
            "text/plain": [
              "21"
            ]
          },
          "metadata": {},
          "execution_count": 34
        }
      ]
    },
    {
      "cell_type": "markdown",
      "metadata": {
        "id": "P_FORhr1Dcrd"
      },
      "source": [
        "### Data types\n",
        "Write expressions for each of the following. Do you understand why both return floats?\n",
        "* 6 divided by 2\n",
        "* 6.0 divided by 2.0"
      ]
    },
    {
      "cell_type": "code",
      "metadata": {
        "id": "lU09bz4qDcre",
        "colab": {
          "base_uri": "https://localhost:8080/"
        },
        "outputId": "212c34f4-4d45-49f3-a35b-899c503dfb63"
      },
      "source": [
        "# Practice 3) 6 divided by 2\n"
      ],
      "execution_count": null,
      "outputs": [
        {
          "output_type": "execute_result",
          "data": {
            "text/plain": [
              "3.0"
            ]
          },
          "metadata": {},
          "execution_count": 28
        }
      ]
    },
    {
      "cell_type": "code",
      "metadata": {
        "id": "_6EObJDLDcrg",
        "colab": {
          "base_uri": "https://localhost:8080/"
        },
        "outputId": "b1ec8f6d-280e-4b86-b0e3-ad9caf79b07d"
      },
      "source": [
        "# Practice 4) 6.0 divided by 2.0\n"
      ],
      "execution_count": null,
      "outputs": [
        {
          "output_type": "execute_result",
          "data": {
            "text/plain": [
              "3.0"
            ]
          },
          "metadata": {},
          "execution_count": 35
        }
      ]
    },
    {
      "cell_type": "markdown",
      "metadata": {
        "id": "1XOrdHJLDcri"
      },
      "source": [
        "### Order of operations\n",
        "In the cell below, re-write the following expression to include parentheses to help clarify the order of operations, ensuring that your answer is correct (18.0):\n",
        "* 10 / 5 + 3 * 6 - 2"
      ]
    },
    {
      "cell_type": "code",
      "metadata": {
        "id": "wB7ZPS0ZDcri",
        "colab": {
          "base_uri": "https://localhost:8080/"
        },
        "outputId": "6a66c1d0-6826-4ba6-8a76-0d38465d4d15"
      },
      "source": [
        "# Practice 5) 10 / 5 + 3 * 6 - 2 with parentheses\n"
      ],
      "execution_count": null,
      "outputs": [
        {
          "output_type": "execute_result",
          "data": {
            "text/plain": [
              "18.0"
            ]
          },
          "metadata": {},
          "execution_count": 36
        }
      ]
    },
    {
      "cell_type": "markdown",
      "metadata": {
        "id": "tAI7cCJSDcrk"
      },
      "source": [
        "### Boolean expressions\n",
        "Look back at the expressions you wrote for 3b above. How would you edit these to obtain the opposite answer? I.e., if your original expression returned `True`, edit it so that it now returns `False`.  \n",
        " \n",
        " For instance, if your original statement for `and` was `1 + 1 == 2 and 1 > 3` Python would have returned `False`. You could change the result in various ways, including changing the last 1 to a 10: `1 + 1 == 2 and 10 > 3` returns `True`."
      ]
    },
    {
      "cell_type": "code",
      "metadata": {
        "id": "d1sYFTP1Dcrk",
        "colab": {
          "base_uri": "https://localhost:8080/"
        },
        "outputId": "eb37d067-02fd-4d58-dd01-877695746e20"
      },
      "source": [
        "# Practice 6) and - different result\n"
      ],
      "execution_count": null,
      "outputs": [
        {
          "output_type": "execute_result",
          "data": {
            "text/plain": [
              "True"
            ]
          },
          "metadata": {},
          "execution_count": 31
        }
      ]
    },
    {
      "cell_type": "code",
      "metadata": {
        "id": "TE79dmDVDcrm",
        "colab": {
          "base_uri": "https://localhost:8080/"
        },
        "outputId": "decbe132-63ce-48d2-d05e-6677ee0e7e89"
      },
      "source": [
        "# Practice 7) or - different result\n"
      ],
      "execution_count": null,
      "outputs": [
        {
          "output_type": "execute_result",
          "data": {
            "text/plain": [
              "False"
            ]
          },
          "metadata": {},
          "execution_count": 32
        }
      ]
    },
    {
      "cell_type": "code",
      "metadata": {
        "id": "oQTiBNdODcru",
        "colab": {
          "base_uri": "https://localhost:8080/"
        },
        "outputId": "b78da07b-ced2-4424-9afc-745304424499"
      },
      "source": [
        "# Practice 8) not - different result\n"
      ],
      "execution_count": null,
      "outputs": [
        {
          "output_type": "execute_result",
          "data": {
            "text/plain": [
              "False"
            ]
          },
          "metadata": {},
          "execution_count": 33
        }
      ]
    }
  ]
}