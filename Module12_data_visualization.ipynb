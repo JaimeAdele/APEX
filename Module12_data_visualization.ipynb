{
  "nbformat": 4,
  "nbformat_minor": 0,
  "metadata": {
    "kernelspec": {
      "display_name": "Python 3",
      "language": "python",
      "name": "python3"
    },
    "language_info": {
      "codemirror_mode": {
        "name": "ipython",
        "version": 3
      },
      "file_extension": ".py",
      "mimetype": "text/x-python",
      "name": "python",
      "nbconvert_exporter": "python",
      "pygments_lexer": "ipython3",
      "version": "3.7.1"
    },
    "colab": {
      "name": "Module12_data_visualization.ipynb",
      "provenance": [],
      "collapsed_sections": [],
      "include_colab_link": true
    }
  },
  "cells": [
    {
      "cell_type": "markdown",
      "metadata": {
        "id": "view-in-github",
        "colab_type": "text"
      },
      "source": [
        "<a href=\"https://colab.research.google.com/github/JaimeAdele/APEX/blob/main/Module12_data_visualization.ipynb\" target=\"_parent\"><img src=\"https://colab.research.google.com/assets/colab-badge.svg\" alt=\"Open In Colab\"/></a>"
      ]
    },
    {
      "cell_type": "markdown",
      "metadata": {
        "id": "lnXOxVPEkZ5f"
      },
      "source": [
        "<img src='https://images.pexels.com/photos/5561923/pexels-photo-5561923.jpeg?auto=compress&cs=tinysrgb&w=1260&h=750&dpr=2' width=700>  \n",
        "Photo by Olya Kobruseva from Pexels"
      ]
    },
    {
      "cell_type": "markdown",
      "metadata": {
        "id": "svAPrOFekdFH"
      },
      "source": [
        "# APEX Faculty Training, Module 12: Data Visualization\n",
        "\n",
        "Created by Valerie Carr and Jaime Zuspann  \n",
        "Licensed under a Creative Commons license: CC BY-NC-SA  \n",
        "Last updated: Mar 27, 2022  \n",
        "\n",
        "**Learning outcomes**  "
      ]
    },
    {
      "cell_type": "markdown",
      "metadata": {
        "id": "hI79e_J1lAAH"
      },
      "source": [
        "## 1. A couple notes before you start \n",
        "* This file is view only, meaning that you can't edit it.\n",
        "    * To create an editable copy, look towards the top of the notebook and click on `Copy to Drive`. This will cause a new tab to open with your own personal copy.\n",
        "    * If you want to refer back to your copy in the future, you can find it in Google Drive in a folder called `Colab Notebooks`.\n",
        "* To run a cell, use `shift` + `enter`.   \n",
        "* Keep the following Python style preferences in mind:\n",
        "    * Variable names should use `snake_case`\n",
        "    * Include spaces before and after operators, e.g., `x + 1`\n",
        "    * Don't put unnecessary spaces after a function name, before the parentheses\n",
        "        * Correct: `print(my_variable)`\n",
        "        * Incorrect: `print (my_variable)`\n",
        "    * Don't put unnecessary spaces at the beginning or end of parentheses\n",
        "        * Correct: `print(my_variable)`\n",
        "        * Incorrect: `print( my_variable )`\n",
        "        \n"
      ]
    },
    {
      "cell_type": "markdown",
      "source": [
        "## 1. Overview of Data Visualization\n",
        "So far, we've worked with two Python libraries. Pandas allows us to work with dataframes and perform descriptive stats. The Stats module from the Scipy library allows us to do more complex statistics. Now, we'd like to learn how to create graphs and plots of our data--in other words, we'd like to visualize it. \n",
        "\n",
        "Python has two other libraries that will allow us to do this visualization work. \n",
        "\n",
        "There are two libraries that we will use for data visualization in this module: `matplotlib` and `seaborn`.  \n",
        "\n",
        "`matplotlib` is a popular method of creating plots in Python, but plots aren't particularly attractive without a lot of work. `seaborn` uses `matplotlib` functionas as a starting point and allows for easily creating attractive plots.  \n",
        "\n",
        "For a broad view of plots that seaborn can create, visit the userguide and tutorial http://seaborn.pydata.org/tutorial.html and the example gallery http://seaborn.pydata.org/examples/index.html.  \n",
        "\n",
        "To use the `seaborn` functions, we need to import both `matplotlib` and `seaborn`. Note about importing `matplotlib`: You need to include an additional line of code so that plots are displayed inside your notebook. Note about importing `seaborn`: We import it using the initials `sns`. Putting all this together, we get the code in the following cell.  \n",
        "\n",
        "<font color='red'>Exercise 1</font>  \n",
        "Run the cell below to import the `matplotlib` and `seaborn` libraries. Just as before, you will not see an output from importing libraries."
      ],
      "metadata": {
        "id": "g_6fH22iMn1P"
      }
    },
    {
      "cell_type": "code",
      "source": [
        "# Library for dataframes\n",
        "import pandas as pd\n",
        "\n",
        "# Libraries for plotting\n",
        "import matplotlib\n",
        "%matplotlib inline\n",
        "import seaborn as sns"
      ],
      "metadata": {
        "id": "zwb0bXjYMm_9"
      },
      "execution_count": 1,
      "outputs": []
    },
    {
      "cell_type": "markdown",
      "source": [
        "<font color='red'>Exercise 2</font>  \n",
        "Now that we've imported the libraries we'll be using, let's read in the csv files we'll be working with as dataframes. Run the cell below to create the dataframes."
      ],
      "metadata": {
        "id": "--NSWPBDxZsl"
      }
    },
    {
      "cell_type": "code",
      "source": [
        "movies_df = pd.read_csv('https://raw.githubusercontent.com/valeriecarr/engr120/main/S21/movie_ratings.csv')\n",
        "biopics_df = pd.read_csv('https://raw.githubusercontent.com/valeriecarr/engr120/main/S21/biopics.csv')\n",
        "drugs_df = pd.read_csv('https://raw.githubusercontent.com/valeriecarr/engr120/main/S21/drug_use.csv')\n",
        "drugs_df_long = pd.read_csv('https://raw.githubusercontent.com/valeriecarr/engr120/main/S21/drug_use_long.csv')"
      ],
      "metadata": {
        "id": "UCij2Lx5xaBr"
      },
      "execution_count": 45,
      "outputs": []
    },
    {
      "cell_type": "markdown",
      "metadata": {
        "id": "DKwAYq8KJjo7"
      },
      "source": [
        "## 2. Plotting with Seaborn\n",
        "\n",
        "### 2a. Scatter Plots\n",
        "Scatter plots are useful for understanding the relationship between two data sets. They can be created with `seaborn` using either of the following functions: `scatterplot()` or `regplot()`. These plots look identical, except `regplot()` plots a regression line. This can make it easier to understand whether you have a positive or negative correlation.\n",
        "\n",
        "The syntax for scatter plots are as follow:  \n",
        "`plot_name = sns.scatterplot(x = 'col1', y = 'col2', data = df_name)`  \n",
        "`plot_name = sns.regplot(x = 'col1', y = 'col2', data = df_name)`\n",
        "\n",
        "<font color='red'>Exercise 3</font>  \n",
        "Run the first cell to see the scatter plot of the `movies_df`, then create the regression plot and save it in a variable called `movie_reg` in the second cell."
      ]
    },
    {
      "cell_type": "code",
      "source": [
        "# Scatter plot of movie_df\n",
        "movie_scatter = sns.scatterplot(x = 'fandango', y = 'rotten_tom', data = movies_df)"
      ],
      "metadata": {
        "id": "i9xlGRA5ONPw"
      },
      "execution_count": null,
      "outputs": []
    },
    {
      "cell_type": "code",
      "source": [
        "# Regression plot of movie_df\n"
      ],
      "metadata": {
        "id": "2UnfTSVqFRLu"
      },
      "execution_count": null,
      "outputs": []
    },
    {
      "cell_type": "markdown",
      "source": [
        "You can also include additional arguments for these plots to do things like:  \n",
        "* change the color of plotted points:\n",
        "  * Add `color = 'red'` after you define the other parameters\n",
        "* change the shape of plotted points:\n",
        "  * Add `marker = '*'` after you define the other parameters\n",
        "\n",
        "<font color='red'>Exercise 4</font>  \n",
        "Run the cell below to change the marker for the regression plot from dots to stars."
      ],
      "metadata": {
        "id": "mHZYX9qvEer8"
      }
    },
    {
      "cell_type": "code",
      "source": [
        "movie_reg = sns.regplot(x = 'fandango', y = 'rotten_tom', data = movies_df, marker = '*')"
      ],
      "metadata": {
        "id": "lXi0kNW9EfZi"
      },
      "execution_count": null,
      "outputs": []
    },
    {
      "cell_type": "markdown",
      "source": [
        "<font color='red'>Exercise 5</font>  \n",
        "Change the color of the markers for the scatter plot to another color of your choosing."
      ],
      "metadata": {
        "id": "meH7CbOsGIsm"
      }
    },
    {
      "cell_type": "code",
      "source": [
        ""
      ],
      "metadata": {
        "id": "Xj_uSBCIGRLj"
      },
      "execution_count": null,
      "outputs": []
    },
    {
      "cell_type": "markdown",
      "source": [
        "In addition to viewing plots directly in your notebook, you can also save them out to Google Drive as images or, our preference, pdfs. To do this:\n",
        "1. Define the output path and file name  \n",
        "`out_path = '/content/drive/My Drive/EDIT_HERE/file.pdf’`\n",
        "2. Then use the following two commands:  \n",
        "`fig = my_plot.get_figure()`  \n",
        "`fig.savefig(out_path)`  \n",
        "\n",
        "Be sure to change \"`my_plot`\" to fit the name of your plot.\n",
        "\n",
        "<font color='red'>Exercise 6</font>  "
      ],
      "metadata": {
        "id": "0B9zGZXmFw4p"
      }
    },
    {
      "cell_type": "code",
      "source": [
        "reg_outpath = '/content/drive/My_Drive/movie_reg.pdf'\n",
        "fig = movie_reg.get_figure()\n",
        "fig.savefig(reg_outpath)"
      ],
      "metadata": {
        "id": "dxRTiRfPFxe6"
      },
      "execution_count": null,
      "outputs": []
    },
    {
      "cell_type": "markdown",
      "source": [
        "<font color='green'>The cell above doesn't work for me--even after mounting Google Drive</font>"
      ],
      "metadata": {
        "id": "t8DZAQQcQun6"
      }
    },
    {
      "cell_type": "markdown",
      "source": [
        "### 2b. Histograms and Count Plots\n",
        "Histograms are used for continuous data, such as height, temperature, score, price, etc. For example, in a certain class, how many students scored between 91-100, 81-90, 71-80, etc.  \n",
        "\n",
        "Histograms are created using the function `histplot()` with the syntax:  \n",
        "`plot_name = sns.histplot(df_name[‘col_name’])`  \n",
        "\n",
        "<font color='red'>Exercise 7</font>  \n"
      ],
      "metadata": {
        "id": "UTWCpB0FO9U7"
      }
    },
    {
      "cell_type": "code",
      "source": [
        "movie_hg = sns.histplot(movies_df['rotten_tom'])"
      ],
      "metadata": {
        "id": "QCqLyNldPJl0"
      },
      "execution_count": null,
      "outputs": []
    },
    {
      "cell_type": "markdown",
      "source": [
        "Additional arguments can be included to do things like:\n",
        "* change the color of plotted data\n",
        "  * Add `color = 'green'` after the column name\n",
        "* change the number of bins in a histogram\n",
        "  * Add `bins = 10` (or a number of your choosing) after the column name\n",
        "\n",
        "<font color='red'>Exercise 8</font>  \n",
        "Create a histogram plot of the ratings in the '`fandango`' column of the `movies_df`, changing the color of the bars to one of your choice and changing the number of bins to 15."
      ],
      "metadata": {
        "id": "vxs0fI7gRtf1"
      }
    },
    {
      "cell_type": "code",
      "source": [
        ""
      ],
      "metadata": {
        "id": "rlU7mZOcRuJw"
      },
      "execution_count": null,
      "outputs": []
    },
    {
      "cell_type": "markdown",
      "source": [
        "Countplots, on the other hand, are used for categorical data, or values that fall into categories, such as gender, ethnicity, company, university, etc. For example, in a certain group, how many people are Latino, Asian, Pacific Islander, etc. \n",
        "\n",
        "Countplots are created using the function `countplot()` with the syntax:  \n",
        "`plot_name = sns.countplot(x = df_name[‘col_name’])` for vertical bars, or  \n",
        "`plot_name = sns.countplot(y = df_name[‘col_name’])` for horizontal bars  \n",
        "\n",
        "<font color='red'>Exercise 9</font>  \n",
        "Run the following cell to see the vertical count plot for the column `type_of_subject` for the `biopics_df`."
      ],
      "metadata": {
        "id": "jdzrlRL8SjXa"
      }
    },
    {
      "cell_type": "code",
      "source": [
        "# Count plot with vertical bars\n",
        "job = sns.countplot(x = biopics_df['type_of_subject'])"
      ],
      "metadata": {
        "id": "4llN28aOSj8H"
      },
      "execution_count": null,
      "outputs": []
    },
    {
      "cell_type": "markdown",
      "source": [
        "Notice that you cannot see the labels for the bars.  \n",
        "<font color='red'>Exercise 10</font>  \n",
        "Fix this by creating the same `job` count plot, but with horizontal bars instead."
      ],
      "metadata": {
        "id": "0Ne_PAs7USxO"
      }
    },
    {
      "cell_type": "code",
      "source": [
        "# Count plot with horizontal bars\n"
      ],
      "metadata": {
        "id": "JbeC-F60Uj-a"
      },
      "execution_count": null,
      "outputs": []
    },
    {
      "cell_type": "markdown",
      "source": [
        "---\n",
        "\n",
        "#### <font color='blue'>Note about data formatting</font>\n",
        "Dataframes can be organized in \"wide\" or \"long\" format. The wide format is best for scatter plots, histograms, and count plots, while the long format is best for point plots and bar plots (which we'll learn next).\n",
        "\n",
        "<font color='red'>Exercise 11</font>  \n",
        "Run the cells below to see both wide and long format for the same data. Feel free to change the number displayed to see more of each dataframe. They are currently set to 15 for space.  \n",
        "\n",
        "#### • Wide Format\n",
        "Percentage of people that have used a given drug in the past year, according to age:"
      ],
      "metadata": {
        "id": "oejN8BI0P3lp"
      }
    },
    {
      "cell_type": "code",
      "source": [
        "drugs_df.head(15)"
      ],
      "metadata": {
        "id": "9j7UNdUjQhlX"
      },
      "execution_count": null,
      "outputs": []
    },
    {
      "cell_type": "markdown",
      "source": [
        "#### • Long Format\n",
        "Same data as above"
      ],
      "metadata": {
        "id": "Yj0x6OUh1peS"
      }
    },
    {
      "cell_type": "code",
      "source": [
        "drugs_df_long.head(15)"
      ],
      "metadata": {
        "id": "Jz_3nYKQ1uWh"
      },
      "execution_count": null,
      "outputs": []
    },
    {
      "cell_type": "markdown",
      "source": [
        "#### • Converting wide to long format\n",
        "Doing this conversion manually can be painful if you have a large dataset. Instead, you can convert it with code. <font color='green'>Supply sample code?</font>\n",
        "\n",
        "---"
      ],
      "metadata": {
        "id": "WH-O5zHi2yIy"
      }
    },
    {
      "cell_type": "code",
      "source": [
        ""
      ],
      "metadata": {
        "id": "SYVQHpgz6zYR"
      },
      "execution_count": null,
      "outputs": []
    },
    {
      "cell_type": "markdown",
      "source": [
        "### 2c. Point Plots and Bar Plots\n",
        "Point plots are created using the function `pointplot()`, which takes the following inputs:  \n",
        "* `x = df_name['col1']` - in our example, age\n",
        "* `y = df_name['col2']` - in our example, percentage\n",
        "* `hue = df_name['col3']` - in our example, drug\n",
        "  * This is the column with the category names; each category will be plotted with a different hue (color)\n",
        "\n",
        "<font color='red'>Exercise 12</font>  \n",
        "Run the cell below, which produces a point plot for the `drugs_df_long` dataframe, with the `age` column displayed on the x axis, the `percentage` column on the y axis, and the drugs displayed as different colors."
      ],
      "metadata": {
        "id": "dfTqbn7DXuDX"
      }
    },
    {
      "cell_type": "code",
      "source": [
        "# Point plot for drugs_df_long\n",
        "drugs_point = sns.pointplot(x = drugs_df_long['age'], y = drugs_df_long['percentage'], hue = drugs_df_long['drug'])"
      ],
      "metadata": {
        "id": "CsD2k1ujYeaX"
      },
      "execution_count": null,
      "outputs": []
    },
    {
      "cell_type": "markdown",
      "source": [
        "Bar plots can be created using the function `barplot()`, which takes the same inputs as point plots:\n",
        "* `x = df_name['col1']` - in our example, age\n",
        "* `y = df_name['col2']` - in our example, percentage\n",
        "* `hue = df_name['col3']` - in our example, drug\n",
        "  * This is the column with the category names; each category will be plotted with a different hue (color)\n",
        "\n",
        "<font color='red'>Exercise 13</font>  \n",
        "Create a bar plot with the same data as the point plot above:\n",
        "* `age` column displayed on the x axis\n",
        "* `percentage` column displayed on the y axis\n",
        "* `drug` column displayed as different colors"
      ],
      "metadata": {
        "id": "Eq0R9_aoVM24"
      }
    },
    {
      "cell_type": "code",
      "source": [
        "# Bar plot for drugs_df_long\n"
      ],
      "metadata": {
        "id": "p_jW4hKqVNh2"
      },
      "execution_count": null,
      "outputs": []
    },
    {
      "cell_type": "markdown",
      "source": [
        "This is just the tip of the iceberg! Seaborn can create many, many more types of plots. We thoroughly recommend checking out the seaborn page given at the beginning of this module to see what else is possible. "
      ],
      "metadata": {
        "id": "yaQOm2HkRhYg"
      }
    },
    {
      "cell_type": "markdown",
      "source": [
        "## Congratulations!\n",
        "You've finished the APEX Python training modules!"
      ],
      "metadata": {
        "id": "vYqInSA0L4Ph"
      }
    }
  ]
}