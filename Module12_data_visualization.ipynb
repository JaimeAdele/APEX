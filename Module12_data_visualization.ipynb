{
  "nbformat": 4,
  "nbformat_minor": 0,
  "metadata": {
    "kernelspec": {
      "display_name": "Python 3",
      "language": "python",
      "name": "python3"
    },
    "language_info": {
      "codemirror_mode": {
        "name": "ipython",
        "version": 3
      },
      "file_extension": ".py",
      "mimetype": "text/x-python",
      "name": "python",
      "nbconvert_exporter": "python",
      "pygments_lexer": "ipython3",
      "version": "3.7.1"
    },
    "colab": {
      "name": "Module12_data_visualization.ipynb",
      "provenance": [],
      "collapsed_sections": [],
      "include_colab_link": true
    }
  },
  "cells": [
    {
      "cell_type": "markdown",
      "metadata": {
        "id": "view-in-github",
        "colab_type": "text"
      },
      "source": [
        "<a href=\"https://colab.research.google.com/github/JaimeAdele/APEX/blob/main/Module12_data_visualization.ipynb\" target=\"_parent\"><img src=\"https://colab.research.google.com/assets/colab-badge.svg\" alt=\"Open In Colab\"/></a>"
      ]
    },
    {
      "cell_type": "markdown",
      "metadata": {
        "id": "lnXOxVPEkZ5f"
      },
      "source": [
        "<img src='https://images.pexels.com/photos/5561923/pexels-photo-5561923.jpeg?auto=compress&cs=tinysrgb&w=1260&h=750&dpr=2' width=700>  \n",
        "Photo by Olya Kobruseva from Pexels"
      ]
    },
    {
      "cell_type": "markdown",
      "metadata": {
        "id": "svAPrOFekdFH"
      },
      "source": [
        "# APEX Faculty Training, Module 12: Data Visualization\n",
        "\n",
        "Created by Valerie Carr and Jaime Zuspann  \n",
        "Licensed under a Creative Commons license: CC BY-NC-SA  \n",
        "Last updated: May 7, 2022  \n",
        "\n",
        "**Learning outcomes**  \n",
        "In this module, you will:\n",
        "* Be introducted two new libraries, `matplotlib` and `seaborn`, both of which are used for data visualization purposes\n",
        "* Learn how to use functions within these libraries to create scatter plots, histograms, count plots, bar plots, and line plots"
      ]
    },
    {
      "cell_type": "markdown",
      "metadata": {
        "id": "hI79e_J1lAAH"
      },
      "source": [
        "## 1. A couple notes before you start \n",
        "* This file is view only, meaning that you can't edit it.\n",
        "    * To create an editable copy, look towards the top of the notebook and click on `Copy to Drive`. This will cause a new tab to open with your own personal copy.\n",
        "    * If you want to refer back to your copy in the future, you can find it in Google Drive in a folder called `Colab Notebooks`.\n",
        "* To run a cell, use `shift` + `enter`.   \n",
        "* Keep the following Python style preferences in mind:\n",
        "    * Variable names should use `snake_case`\n",
        "    * Include spaces before and after operators, e.g., `x + 1`\n",
        "    * Don't put unnecessary spaces after a function name, before the parentheses\n",
        "        * Correct: `print(my_variable)`\n",
        "        * Incorrect: `print (my_variable)`\n",
        "    * Don't put unnecessary spaces at the beginning or end of parentheses\n",
        "        * Correct: `print(my_variable)`\n",
        "        * Incorrect: `print( my_variable )`\n",
        "        \n"
      ]
    },
    {
      "cell_type": "markdown",
      "source": [
        "## 2. Overview of Data Visualization\n",
        "The last few modules introduced you to the `Pandas` and `SciPy` libraries. `Pandas` allows us to work with dataframes and perform simple descriptive statistics. The `stats` module within the `SciPy` library allows us to do more complex, inferential statistics. \n",
        "\n",
        "Statistics is only one piece of the data analysis pie, however, so the focus of this module will be on visualizing data, i.e., creating data plots. \n",
        "\n",
        "There are *many* Python libraries designed for data visualization purposes, and here we'll simply focus on two of the most popular: `matplotlib` and `seaborn`. Although `matplotlib` is quite popular, the plots that it creates aren't particularly attractive without a lot of additional coding. \n",
        "\n",
        "`seaborn` to the rescue! `seaborn` uses `matplotlib` functions behind the scenes; in other words, it does the hard work for you, allowing users to much more easily and simply create attractive plots. To learn more about the types of plots that `seaborn` can create, we encourage checking out the [tutorial](http://seaborn.pydata.org/tutorial.html) and [example gallery](http://seaborn.pydata.org/examples/index.html).  \n",
        "\n",
        "To use functions within the `seaborn` library, we need to import both `matplotlib` and `seaborn`. If you're curious, the former is required given that `seaborn` uses `matplotlib` functions behind the scenes.)\n",
        "\n",
        "Finally, two notes about importing these libraries:\n",
        "* When importing `matplotlib`, you need to include an additional line of code that allows plots to be displayed directly inside your notebook. See sample code below. \n",
        "* When importing `seaborn`, we'll use the abbreviation `sns`. Again, see sample code below.  \n",
        "\n",
        "<font color='red'>Exercise 1</font>  \n",
        "Run the cell below to import the `matplotlib` and `seaborn` libraries. Given that we'll be working with dataframes, we'll also need to import `pandas`. As usual, you will not see an output from importing libraries."
      ],
      "metadata": {
        "id": "g_6fH22iMn1P"
      }
    },
    {
      "cell_type": "code",
      "source": [
        "# Library for dataframes\n",
        "import pandas as pd\n",
        "\n",
        "# Libraries for plotting\n",
        "import matplotlib\n",
        "%matplotlib inline\n",
        "import seaborn as sns"
      ],
      "metadata": {
        "id": "zwb0bXjYMm_9"
      },
      "execution_count": null,
      "outputs": []
    },
    {
      "cell_type": "markdown",
      "source": [
        "<font color='red'>Exercise 2</font>  \n",
        "Next, let's read in a few CSV files to create  dataframes. Run the cell below, which will create four dataframes as follows:\n",
        "\n",
        "* `movies_df` contains movie rating data taken from a variety of websites, such as Rotten Tomatoes, Fandango, etc.\n",
        "* `biopics_df` contains data taken from IMDB regarding the biopic film genre\n",
        "* `drugs_df` contains data from a national survey on drug use\n",
        "* `drugs_df_long` contains the exact same data, formatted in a different way"
      ],
      "metadata": {
        "id": "--NSWPBDxZsl"
      }
    },
    {
      "cell_type": "code",
      "source": [
        "movies_df = pd.read_csv('https://raw.githubusercontent.com/valeriecarr/engr120/main/S21/movie_ratings.csv')\n",
        "biopics_df = pd.read_csv('https://raw.githubusercontent.com/valeriecarr/engr120/main/S21/biopics.csv')\n",
        "drugs_df = pd.read_csv('https://raw.githubusercontent.com/valeriecarr/engr120/0f146f266ca577467be93f726956a9ff17711282/S21/drug_use_wide.csv')\n",
        "drugs_df_long = pd.read_csv('https://raw.githubusercontent.com/valeriecarr/engr120/main/S21/drug_use_long.csv')"
      ],
      "metadata": {
        "id": "UCij2Lx5xaBr"
      },
      "execution_count": null,
      "outputs": []
    },
    {
      "cell_type": "markdown",
      "metadata": {
        "id": "DKwAYq8KJjo7"
      },
      "source": [
        "## 3. Scatter Plots\n",
        "Scatter plots are useful for understanding the relationship between two data sets. They can be created with `seaborn` using either of the following functions: `scatterplot()` or `regplot()`. These plots look identical, except `regplot()` includes a regression line, which can make it easier to understand whether two datasets have a linear relationship.\n",
        "\n",
        "The syntax for these two functions is as follows, with the only difference being the function names themselves (scatterplot vs. regplot):  \n",
        "\n",
        "* `plot_name = sns.scatterplot(x = 'col1', y = 'col2', data = df_name)`  \n",
        "\n",
        "* `plot_name = sns.regplot(x = 'col1', y = 'col2', data = df_name)`\n",
        "\n",
        "Breaking down this syntax:\n",
        "* Start by creating a variable to represent the plot. For example, if we're creating a scatter plot relating to movie data, we might use `movie_scatter`\n",
        "* Then we need to indicate the relevant library (in this case, `sns`) and the specific function within that library that we want to use (scatterplot or regplot)\n",
        "* Finally, within the parentheses, we need to indicate which two columns represent our two datasets, and what dataframe they can be found in. Note that the column assigned to `x` will be displayed on the x-axis, and vice-versa for `y`. \n",
        "\n",
        "<font color='red'>Exercise 3</font>  \n",
        "Run the first cell below to see a scatter plot of the `rotten_tom` and `metacritic` columns of the `movies_df` dataframe. \n",
        "\n",
        "In the cell beneath that, write code to create a regression plot using the same data, but this time assign the plot to a variable called `movie_reg`."
      ]
    },
    {
      "cell_type": "code",
      "source": [
        "# Scatter plot of movie_df\n",
        "movie_scatter = sns.scatterplot(x = 'rotten_tom', y = 'metacritic', data = movies_df)"
      ],
      "metadata": {
        "id": "i9xlGRA5ONPw"
      },
      "execution_count": null,
      "outputs": []
    },
    {
      "cell_type": "code",
      "source": [
        "# Regression plot of movie_df\n"
      ],
      "metadata": {
        "id": "2UnfTSVqFRLu"
      },
      "execution_count": null,
      "outputs": []
    },
    {
      "cell_type": "markdown",
      "source": [
        "### 3a. Changing plot aesthetics\n",
        "Don't like plotting with the default blue color? You can easily change this! Simply include an additional argument within the parentheses as follows:\n",
        "\n",
        "`plot_name = sns.scatterplot(x = 'col1', y = 'col2', data = df_name, color = 'red')`\n",
        "\n",
        "Naturally, you can replace `'red'` with another color of your choosing. Seaborn recognizes a surprisingly large number of colors!"
      ],
      "metadata": {
        "id": "mHZYX9qvEer8"
      }
    },
    {
      "cell_type": "markdown",
      "source": [
        "<font color='red'>Exercise 4</font>  \n",
        "Create a new version of your regression plot from above so that it uses a non-default color of your choosing. Also make sure to use a different variable name for the plot."
      ],
      "metadata": {
        "id": "hqcsT44wEL1T"
      }
    },
    {
      "cell_type": "code",
      "source": [
        "# New Regression plot with a custom color\n"
      ],
      "metadata": {
        "id": "lXi0kNW9EfZi"
      },
      "execution_count": null,
      "outputs": []
    },
    {
      "cell_type": "markdown",
      "source": [
        "Note that there are many other aspects of plot aesthetics that can be changed in `seaborn` (e.g., size of plot points, title of plot, axis titles, background color, etc.). If you're curious to know more, check out: \n",
        "* The `seaborn` page for a particular plotting function. For example: https://seaborn.pydata.org/generated/seaborn.scatterplot.html#seaborn.scatterplot \n",
        "* The general `seaborn` page for controlling plot aesthetics: https://seaborn.pydata.org/tutorial/aesthetics.html"
      ],
      "metadata": {
        "id": "meH7CbOsGIsm"
      }
    },
    {
      "cell_type": "markdown",
      "source": [
        "### 3b. Saving plots to Drive\n",
        "In addition to viewing plots directly in your notebook, you can also save them to Google Drive as a PDF (or other image types, if you prefer). To do this, you'll need to connect this notebook to your Google Drive account. For a review of this connection process, please see Module 10: Using your own data.\n",
        "\n",
        "<font color='red'>Exercise 5</font>  \n",
        "Run the cell below, which will open a series of windows prompting you to connect this notebook with your desired Drive account."
      ],
      "metadata": {
        "id": "0B9zGZXmFw4p"
      }
    },
    {
      "cell_type": "code",
      "source": [
        "# Connect notebook to Drive\n",
        "from google.colab import drive\n",
        "drive.mount('/content/drive')"
      ],
      "metadata": {
        "id": "dxRTiRfPFxe6"
      },
      "execution_count": null,
      "outputs": []
    },
    {
      "cell_type": "markdown",
      "source": [
        "Next, you need to specify where, exactly, in Google Drive you'd like your plot to be saved. As a reminder, we call this the file's path. The path should include the relevant location as well as a name for the new file. See below for the generic syntax:\n",
        "\n",
        "`filepath = '/content/drive/My Drive/EDIT_HERE/file.pdf’`\n",
        "\n",
        "You should leave most of the above path as-is, with the exception of the portion that says EDIT HERE and the specific name you'd like to give your file. For example, you might want to save a regression plot within your Colab Notebooks folder, which would give you:\n",
        "\n",
        "`filepath = '/content/drive/My Drive/Colab Notebooks/movie_reg_plot.pdf’`\n",
        "\n",
        "After defining the path, you'll then execute two lines of code that will do the actual saving. See below for the generic syntax:\n",
        "\n",
        "`fig = my_plot.get_figure()`  \n",
        "`fig.savefig(filepath)`\n",
        "\n",
        "Using this syntax, the only thing you'll need to change is on the first line: `my_plot`. Rather than use this generic variable name, you should instead use the variable that represents your desired plot. Thinking back to exercises 3 and 4, you used several different variable names when creating your plots – if you wanted to save one of those plots as PDF, you would use that plot's variable.\n",
        "\n",
        "<font color='red'>Exercise 6</font>  \n",
        "In this exercise, you'll save the regression plot you created in Exercise 4. In the cell below:\n",
        "1. On line 2, edit the file path to fit your preferred location on Drive and your preferred name for the PDF you'll be creating.   \n",
        "2. On line 5, change `my_plot` to fit the name of your plot from Exercise 4."
      ],
      "metadata": {
        "id": "t8DZAQQcQun6"
      }
    },
    {
      "cell_type": "code",
      "source": [
        "# Define where to save the file, including what to call the file\n",
        "filepath = '/content/drive/My Drive/EDIT HERE/file.pdf'\n",
        "\n",
        "# Do the actual saving\n",
        "fig = my_plot.get_figure()\n",
        "fig.savefig(filepath)"
      ],
      "metadata": {
        "id": "36Pu6R7UEj-E"
      },
      "execution_count": null,
      "outputs": []
    },
    {
      "cell_type": "markdown",
      "source": [
        "## 4. Histograms\n",
        "Histograms are used for approximating a data set's distribution by binning continuous data into a series of consecutive intervals. For example, you could use a histogram to explore the distribution of heights among NBA players or gas prices across the country.   \n",
        "\n",
        "In `seaborn`, histograms are created using the function `histplot()`. See below for sample syntax, noting that we only need to specify one column rather than two. If you define the x-axis, you'll have vertical bars; if you define the y-axis, you'll have horizontal bars.\n",
        "\n",
        "`plot_name = sns.histplot(x = ‘col_name’, data = df_name)` for vertical bars   \n",
        "`plot_name = sns.histplot(y = ‘col_name’, data = df_name)` for horizontal bars  \n",
        "\n",
        "<font color='red'>Exercise 7</font>  \n",
        "Run each of the cells below to see histograms for movie ratings from Rotten Tomatoes, plotted either vertically or horizontally:\n"
      ],
      "metadata": {
        "id": "UTWCpB0FO9U7"
      }
    },
    {
      "cell_type": "code",
      "source": [
        "movie_hg = sns.histplot(x = 'rotten_tom', data = movies_df)"
      ],
      "metadata": {
        "id": "QCqLyNldPJl0"
      },
      "execution_count": null,
      "outputs": []
    },
    {
      "cell_type": "code",
      "source": [
        "movie_hg = sns.histplot(y = 'rotten_tom', data = movies_df)"
      ],
      "metadata": {
        "id": "9uCHjdKTEpoT"
      },
      "execution_count": null,
      "outputs": []
    },
    {
      "cell_type": "markdown",
      "source": [
        "\n",
        "As with scatter plots, you can easily change the color of the plot by including the `color` argument. For example:\n",
        "\n",
        "`plot_name = sns.histplot(x = ‘col_name’, data = df_name, color = 'green')`\n",
        "\n",
        "Another plotting change that you may wish to make relates to the bins themselves. By default, `seaborn` will automatically select a bin size using a reference rule that depends on the sample size and variance. However, you can instead specify the bin width yourself, or you can specify the number of desired bins.\n",
        "\n",
        "To specify bin width, use:\n",
        "\n",
        "`plot_name = sns.histplot(x = ‘col_name’, data = df_name, binwidth = 0.5)`\n",
        "\n",
        "The above example would create bins with a width of 0.5; naturally, you should change this value as needed for each data set you work with.\n",
        "\n",
        "To specify the number of bins, use:\n",
        "\n",
        "`plot_name = sns.histplot(x = ‘col_name’, data = df_name, bins = 10)`\n",
        "\n",
        "The above example would create 10 bins; again, you should change this value as needed for each data set you work with.\n",
        "\n",
        "<font color='red'>Exercise 8</font>  \n",
        "Create a histogram of movie ratings from the '`fandango`' column of  `movies_df`, selecting a non-default color and a non-default number of bins. Remember to use a different variable name than you used in Exercise 7."
      ],
      "metadata": {
        "id": "vxs0fI7gRtf1"
      }
    },
    {
      "cell_type": "code",
      "source": [
        "# New Histogram with custom color and number of bins\n"
      ],
      "metadata": {
        "id": "rlU7mZOcRuJw"
      },
      "execution_count": null,
      "outputs": []
    },
    {
      "cell_type": "markdown",
      "source": [
        "## 5. Count plots\n",
        "\n",
        "Whereas the `histplot()` function is used for continuous data, the `countplot()` function is used with categorical data, or data that fall into categories, such as the number of folks from your university from different ethnicities.\n",
        "\n",
        "Count plots are created using the following syntax, which is identical to that of histograms with the exception of the function name itself:  \n",
        "`plot_name = sns.countplot(x = ‘col_name’, data = df_name)` for vertical bars  \n",
        "`plot_name = sns.countplot(y = ‘col_name’, data = df_name])` for horizontal bars  \n",
        "\n",
        "<font color='red'>Exercise 9</font>  \n",
        "Our prior data set (movie ratings) contained continuous data. We'll thus need to use a different data set that contains categorical data for demonstrating the `countplot()` function. This particular data set also relates to movies, but this time each row is a biopic movie, and each column is categorical information about the movie, e.g., the type of subject (politician, athlete, musician, etc.) or the subject's gender.\n",
        "\n",
        "Run the following cell to see a count plot, displayed with vertical bars, for the column `type_of_subject` within `biopics_df`."
      ],
      "metadata": {
        "id": "jdzrlRL8SjXa"
      }
    },
    {
      "cell_type": "code",
      "source": [
        "# Count plot with vertical bars\n",
        "job = sns.countplot(x = 'type_of_subject', data = biopics_df)"
      ],
      "metadata": {
        "id": "4llN28aOSj8H"
      },
      "execution_count": null,
      "outputs": []
    },
    {
      "cell_type": "markdown",
      "source": [
        "Yikes!!\n",
        "\n",
        "This plot looks like a hot mess with axis labels that are overlapping and impossible to read. Thankfully, we have an easy solution: create the plot with horizontal bars, instead.\n",
        "\n",
        "<font color='red'>Exercise 10</font>  \n",
        "Recreate the plot from above with vertical, rather than horizontal bars. Remember to use a new variable name."
      ],
      "metadata": {
        "id": "0Ne_PAs7USxO"
      }
    },
    {
      "cell_type": "code",
      "source": [
        "# Count plot with horizontal bars\n"
      ],
      "metadata": {
        "id": "JbeC-F60Uj-a"
      },
      "execution_count": null,
      "outputs": []
    },
    {
      "cell_type": "markdown",
      "source": [
        "## 6. Dataframe formatting (wide vs. long)\n",
        "Dataframes can be organized in \"wide\" or \"long\" format. Depending on the type of plot you wish to create, you'll need to format your dataframe accordingly. Specifically:\n",
        "\n",
        "* Use wide format for the plot types learned above, i.e., `scatterplot()`, `regplot()`, `histplot()`, and `countplot()`\n",
        "* Use long format for the new plot types you'll learn below: `pointplot()` and `barplot()`\n",
        "\n",
        "First, though, let's clarify the difference between wide and long format. Rather than re-invent the wheel, we recommend that you take a look at [this website](https://www.statology.org/long-vs-wide-data/), which does a nice job of explaining the difference.\n",
        "\n",
        "Below, we'll explore the same set of data represented in both formats. This data set contains information relating to the percentage of people in different age groups that have used specific drugs in the past year.\n",
        "\n",
        "<font color='red'>Exercise 11</font>  \n",
        "Run each of the cells below to view the difference between wide and long formatting."
      ],
      "metadata": {
        "id": "oejN8BI0P3lp"
      }
    },
    {
      "cell_type": "code",
      "source": [
        "# Wide format\n",
        "drugs_df"
      ],
      "metadata": {
        "id": "9j7UNdUjQhlX"
      },
      "execution_count": null,
      "outputs": []
    },
    {
      "cell_type": "code",
      "source": [
        "# Same data, but in long format\n",
        "drugs_df_long"
      ],
      "metadata": {
        "id": "ROBvlsc_E-nA"
      },
      "execution_count": null,
      "outputs": []
    },
    {
      "cell_type": "markdown",
      "source": [
        "**Note**: If you already have a data set in one format, but need to convert it to the other, you could certainly do this manually in Excel or Sheets. However, this process can be tedious and prone to error, particularly when using large data sets. Instead, you can use Pandas methods to reformat your data. This process is beyond the scope of today's module, but we recommend that you check out the Pandas \"cheat sheet\" for tips:\n",
        "\n",
        "https://pandas.pydata.org/Pandas_Cheat_Sheet.pdf "
      ],
      "metadata": {
        "id": "Yj0x6OUh1peS"
      }
    },
    {
      "cell_type": "markdown",
      "source": [
        "## 7. Point Plots\n",
        "Point plots could perhaps more accurately be called line plots, but they essentially involve points connected by lines. This will make more sense once you run the code below to see an example!\n",
        "\n",
        "Point plots are created using the function `pointplot()`, which takes the following inputs:  \n",
        "* `x = 'col1'`\n",
        "    * Which column to plot on the x-axis (ex: age)\n",
        "* `y = 'col2'`\n",
        "    * Which column to plot on the y-axis (ex: percentage)\n",
        "* Optional: `hue = 'col3'`\n",
        "    * Use this option if you have more than one category of data, and you want separate lines for each category (ex: drug)\n",
        "* `data = df`\n",
        "    * Relevant dataframe (ex: drugs_df_long)\n",
        "\n",
        "<font color='red'>Exercise 12</font>  \n",
        "Run the cell below, which produces a point plot for the `drugs_df_long` dataframe, with the `age` column displayed on the x axis, the `percentage` column on the y axis, and each drug displayed as a different color."
      ],
      "metadata": {
        "id": "WH-O5zHi2yIy"
      }
    },
    {
      "cell_type": "code",
      "source": [
        "# Point plot for drugs_df_long\n",
        "drugs_point = sns.pointplot(x = 'age', y = 'percentage', hue = 'drug', \n",
        "                            data = drugs_df_long)"
      ],
      "metadata": {
        "id": "SYVQHpgz6zYR"
      },
      "execution_count": null,
      "outputs": []
    },
    {
      "cell_type": "markdown",
      "source": [
        "## 8. Bar Plots\n",
        "\n",
        "Bar plots can be created using the function `barplot()`, which takes the same inputs as point plots:\n",
        "\n",
        "* `x = 'col1'`\n",
        "    * Which column to plot on the x-axis (ex: age)\n",
        "* `y = 'col2'`\n",
        "    * Which column to plot on the y-axis (ex: percentage)\n",
        "* Optional: `hue = 'col3'`\n",
        "    * Use this option if you have more than one category of data, and you want separate lines for each category (ex: drug)\n",
        "* `data = df`\n",
        "    * Relevant dataframe (ex: drugs_df_long)\n",
        "\n",
        "<font color='red'>Exercise 13</font>  \n",
        "Create a bar plot using the same data as the point plot above:\n",
        "* `age` displayed on the x axis\n",
        "* `percentage` displayed on the y axis\n",
        "* `drug` displayed as different line colors\n",
        "\n",
        "**Question**: Do you prefer one of these plots over the other (i.e., point vs bar)? For example, do you feel that one plot conveys a message to the audience that is easier to understand? That's the fun of data visualization – taking the same data and deciding how best to tell your story!"
      ],
      "metadata": {
        "id": "dfTqbn7DXuDX"
      }
    },
    {
      "cell_type": "code",
      "source": [
        "# Bar plot for drugs_df_long\n"
      ],
      "metadata": {
        "id": "CsD2k1ujYeaX"
      },
      "execution_count": null,
      "outputs": []
    },
    {
      "cell_type": "markdown",
      "source": [
        "This is just the tip of the iceberg! Seaborn can create many, many more types of plots. We thoroughly recommend checking out the seaborn page given at the beginning of this module to see what else is possible. "
      ],
      "metadata": {
        "id": "Eq0R9_aoVM24"
      }
    },
    {
      "cell_type": "markdown",
      "source": [
        "## Congratulations!\n",
        "You've finished the APEX Python training modules!"
      ],
      "metadata": {
        "id": "vYqInSA0L4Ph"
      }
    }
  ]
}