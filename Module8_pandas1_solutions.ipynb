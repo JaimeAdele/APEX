{
  "nbformat": 4,
  "nbformat_minor": 0,
  "metadata": {
    "kernelspec": {
      "display_name": "Python 3",
      "language": "python",
      "name": "python3"
    },
    "language_info": {
      "codemirror_mode": {
        "name": "ipython",
        "version": 3
      },
      "file_extension": ".py",
      "mimetype": "text/x-python",
      "name": "python",
      "nbconvert_exporter": "python",
      "pygments_lexer": "ipython3",
      "version": "3.7.1"
    },
    "colab": {
      "name": "Module8_pandas1_solutions.ipynb",
      "provenance": [],
      "collapsed_sections": [],
      "include_colab_link": true
    }
  },
  "cells": [
    {
      "cell_type": "markdown",
      "metadata": {
        "id": "view-in-github",
        "colab_type": "text"
      },
      "source": [
        "<a href=\"https://colab.research.google.com/github/JaimeAdele/APEX/blob/main/Module8_pandas1_solutions.ipynb\" target=\"_parent\"><img src=\"https://colab.research.google.com/assets/colab-badge.svg\" alt=\"Open In Colab\"/></a>"
      ]
    },
    {
      "cell_type": "markdown",
      "metadata": {
        "id": "lnXOxVPEkZ5f"
      },
      "source": [
        "<img src='https://cdn.pixabay.com/photo/2019/09/08/19/54/panda-4461766_1280.jpg' width=700>  \n",
        "Photo by qgadrian production from Pixabay"
      ]
    },
    {
      "cell_type": "markdown",
      "metadata": {
        "id": "svAPrOFekdFH"
      },
      "source": [
        "# APEX Faculty Training, Module 8: Pandas Part 1 Solutions\n",
        "\n",
        "Created by Valerie Carr and Jaime Zuspann  \n",
        "Licensed under a Creative Commons license: CC BY-NC-SA  \n",
        "Last updated: Feb 7, 2022 "
      ]
    },
    {
      "cell_type": "markdown",
      "metadata": {
        "id": "E48I6l-ervev"
      },
      "source": [
        "## 3. Pandas Dataframes\n",
        "\n",
        "<font color='red'>Exercise 1 solution</font>  \n",
        "Remember when the cell is run, no output will be produced."
      ]
    },
    {
      "cell_type": "code",
      "metadata": {
        "id": "sjOCmnIDfaw8"
      },
      "source": [
        "import pandas as pd"
      ],
      "execution_count": null,
      "outputs": []
    },
    {
      "cell_type": "markdown",
      "metadata": {
        "id": "m0TsiC-If58b"
      },
      "source": [
        "## 4. Reading in Files\n",
        "\n",
        "<font color='red'>Exercise 2 solution</font>"
      ]
    },
    {
      "cell_type": "code",
      "metadata": {
        "id": "zGuiFay7gr4a"
      },
      "source": [
        "filepath = \"https://raw.githubusercontent.com/valeriecarr/engr120/main/S21/state_pop.csv\"\n",
        "my_df = pd.read_csv(filepath)"
      ],
      "execution_count": null,
      "outputs": []
    },
    {
      "cell_type": "markdown",
      "metadata": {
        "id": "06jff3d4eil-"
      },
      "source": [
        "## 5. Viewing Dataframes  \n",
        "\n",
        "<font color='red'>Exercise 3 solution</font>  \n",
        "Run the cell. You should see a spreadsheet-like table with a header and five rows of data."
      ]
    },
    {
      "cell_type": "code",
      "metadata": {
        "id": "BcDZjBqmrvew"
      },
      "source": [
        "my_df.head()"
      ],
      "execution_count": null,
      "outputs": []
    },
    {
      "cell_type": "markdown",
      "metadata": {
        "id": "ufJDn2jFrve4"
      },
      "source": [
        "<font color='red'>Exercise 4 solution</font>  "
      ]
    },
    {
      "cell_type": "code",
      "metadata": {
        "id": "VYBeCEQrrve4"
      },
      "source": [
        "my_df.head(7)"
      ],
      "execution_count": null,
      "outputs": []
    },
    {
      "cell_type": "markdown",
      "source": [
        "<font color='red'>Exercise 5 solution</font>"
      ],
      "metadata": {
        "id": "CTaFKpnBEbtW"
      }
    },
    {
      "cell_type": "code",
      "source": [
        "my_df.tail(3)"
      ],
      "metadata": {
        "id": "W0sOXPUREsds"
      },
      "execution_count": null,
      "outputs": []
    },
    {
      "cell_type": "markdown",
      "metadata": {
        "id": "_RMD1SS8lEn5"
      },
      "source": [
        "<font color='red'>Exercise 6 solution</font>  \n",
        "Run the cell to see the output. The output is the total population data for each state."
      ]
    },
    {
      "cell_type": "code",
      "source": [
        "my_df.totalPop"
      ],
      "metadata": {
        "id": "sPxylw5DgnMK"
      },
      "execution_count": null,
      "outputs": []
    },
    {
      "cell_type": "markdown",
      "source": [
        "<font color='red'>Exercise 7 solution</font> "
      ],
      "metadata": {
        "id": "DDvOcT9wg60p"
      }
    },
    {
      "cell_type": "code",
      "source": [
        "my_df['hispPop']"
      ],
      "metadata": {
        "id": "Pm0ENFyjhLPx"
      },
      "execution_count": null,
      "outputs": []
    },
    {
      "cell_type": "markdown",
      "source": [
        "## 6. Subsetting Dataframes\n",
        "<font color='red'>Exercise 8 solution</font>  \n",
        "Run the cell to see the output."
      ],
      "metadata": {
        "id": "KEWiPpflWtPr"
      }
    },
    {
      "cell_type": "code",
      "source": [
        "my_df[my_df.totalPop > 15000000]"
      ],
      "metadata": {
        "id": "4jF-6dR5W1VH"
      },
      "execution_count": null,
      "outputs": []
    },
    {
      "cell_type": "markdown",
      "source": [
        "<font color='red'>Exercise 9 solution</font>  "
      ],
      "metadata": {
        "id": "di6Q5QODW27s"
      }
    },
    {
      "cell_type": "code",
      "source": [
        "my_df[my_df.state == 'California']"
      ],
      "metadata": {
        "id": "Cr8fc_VwW7rV"
      },
      "execution_count": null,
      "outputs": []
    },
    {
      "cell_type": "markdown",
      "source": [
        "<font color='red'>Exercise 10 solution</font>  "
      ],
      "metadata": {
        "id": "ojJTA7ZpXIuu"
      }
    },
    {
      "cell_type": "code",
      "source": [
        "my_df[my_df.hispPop <= 20000]"
      ],
      "metadata": {
        "id": "vXevyDFbXOl-"
      },
      "execution_count": null,
      "outputs": []
    },
    {
      "cell_type": "markdown",
      "source": [
        "<font color='red'>Exercise 11 solution</font>  \n",
        "Run the cell to see the output."
      ],
      "metadata": {
        "id": "goNHztrwXX74"
      }
    },
    {
      "cell_type": "code",
      "source": [
        "my_df[(my_df.totalPop > 7000000) & (my_df.hispPop > 1000000)]"
      ],
      "metadata": {
        "id": "GS4NGwg0XdTo"
      },
      "execution_count": null,
      "outputs": []
    },
    {
      "cell_type": "markdown",
      "source": [
        "<font color='red'>Exercise 12 solution</font>  "
      ],
      "metadata": {
        "id": "J34--2qUXj8m"
      }
    },
    {
      "cell_type": "code",
      "source": [
        "my_df[(my_df.totalPop < 800000) | (my_df.hispPop > 5000000)]"
      ],
      "metadata": {
        "id": "9XJK5ph5Xlcs"
      },
      "execution_count": null,
      "outputs": []
    },
    {
      "cell_type": "markdown",
      "source": [
        "<font color='red'>Exercise 13 solution</font>  \n",
        "Run the cell to see the output."
      ],
      "metadata": {
        "id": "hcDcLYmRdUkG"
      }
    },
    {
      "cell_type": "code",
      "source": [
        "my_df[(my_df.hispPop / my_df.totalPop) > 0.3]"
      ],
      "metadata": {
        "id": "Tcgfi2-9dUJj"
      },
      "execution_count": null,
      "outputs": []
    },
    {
      "cell_type": "markdown",
      "source": [
        "<font color='red'>Exercise 14 solution</font>  "
      ],
      "metadata": {
        "id": "qjL496ohdemz"
      }
    },
    {
      "cell_type": "code",
      "source": [
        "my_df[(my_df.totalPop > 5000000) & ((my_df.hispPop / my_df.totalPop) < 0.05)]"
      ],
      "metadata": {
        "id": "EC4dim7Mdctc"
      },
      "execution_count": null,
      "outputs": []
    },
    {
      "cell_type": "markdown",
      "source": [
        "<font color='red'>Exercise 15 solution</font>  \n",
        "This should be anything you can think of! For an idea, try showing only data for states with a total population greater than 5 million and whole names start in the second half of the alphabet."
      ],
      "metadata": {
        "id": "Mq8PdrC-diIU"
      }
    },
    {
      "cell_type": "code",
      "source": [
        ""
      ],
      "metadata": {
        "id": "vnfoHq7hd8j9"
      },
      "execution_count": null,
      "outputs": []
    }
  ]
}