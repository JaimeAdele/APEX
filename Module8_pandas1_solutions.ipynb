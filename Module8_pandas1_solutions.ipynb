{
  "nbformat": 4,
  "nbformat_minor": 0,
  "metadata": {
    "kernelspec": {
      "display_name": "Python 3",
      "language": "python",
      "name": "python3"
    },
    "language_info": {
      "codemirror_mode": {
        "name": "ipython",
        "version": 3
      },
      "file_extension": ".py",
      "mimetype": "text/x-python",
      "name": "python",
      "nbconvert_exporter": "python",
      "pygments_lexer": "ipython3",
      "version": "3.7.1"
    },
    "colab": {
      "name": "Module8_pandas1_solutions.ipynb",
      "provenance": [],
      "collapsed_sections": [],
      "include_colab_link": true
    }
  },
  "cells": [
    {
      "cell_type": "markdown",
      "metadata": {
        "id": "view-in-github",
        "colab_type": "text"
      },
      "source": [
        "<a href=\"https://colab.research.google.com/github/JaimeAdele/APEX/blob/main/Module8_pandas1_solutions.ipynb\" target=\"_parent\"><img src=\"https://colab.research.google.com/assets/colab-badge.svg\" alt=\"Open In Colab\"/></a>"
      ]
    },
    {
      "cell_type": "markdown",
      "metadata": {
        "id": "lnXOxVPEkZ5f"
      },
      "source": [
        "<img src='https://cdn.pixabay.com/photo/2016/08/25/15/30/dictionary-1619740_1280.jpg' width=700>  \n",
        "Photo by stevepb production from Pixabay"
      ]
    },
    {
      "cell_type": "markdown",
      "metadata": {
        "id": "svAPrOFekdFH"
      },
      "source": [
        "# APEX Faculty Training, Module 8: Pandas Part 1 Solutions\n",
        "\n",
        "Created by Valerie Carr and Jaime Zuspann  \n",
        "Licensed under a Creative Commons license: CC BY-NC-SA  \n",
        "Last updated: Feb 7, 2022 "
      ]
    },
    {
      "cell_type": "markdown",
      "metadata": {
        "id": "E48I6l-ervev"
      },
      "source": [
        "## 3. Pandas Dataframes\n",
        "\n",
        "<font color='red'>Exercise 1 solution</font>  \n",
        "Simply run the cell. No output will be produced."
      ]
    },
    {
      "cell_type": "code",
      "metadata": {
        "id": "sjOCmnIDfaw8"
      },
      "source": [
        "import pandas as pd"
      ],
      "execution_count": 1,
      "outputs": []
    },
    {
      "cell_type": "markdown",
      "metadata": {
        "id": "m0TsiC-If58b"
      },
      "source": [
        "## 4. Reading in Files\n",
        "\n",
        "<font color='red'>Exercise 2 solution</font>"
      ]
    },
    {
      "cell_type": "code",
      "metadata": {
        "id": "zGuiFay7gr4a"
      },
      "source": [
        "filepath = \"https://raw.githubusercontent.com/valeriecarr/engr120/main/S21/state_pop.csv\"\n",
        "my_df = pd.read_csv(filepath)"
      ],
      "execution_count": 2,
      "outputs": []
    },
    {
      "cell_type": "markdown",
      "metadata": {
        "id": "06jff3d4eil-"
      },
      "source": [
        "## 5. Viewing Dataframes  \n",
        "\n",
        "<font color='red'>Exercise 3 solution</font>  \n",
        "Run the cell. You should see a spreadsheet-like table with a header and five rows of data."
      ]
    },
    {
      "cell_type": "code",
      "metadata": {
        "id": "BcDZjBqmrvew"
      },
      "source": [
        "my_df.head()"
      ],
      "execution_count": null,
      "outputs": []
    },
    {
      "cell_type": "markdown",
      "metadata": {
        "id": "ufJDn2jFrve4"
      },
      "source": [
        "<font color='red'>Exercise 4 solution</font>  "
      ]
    },
    {
      "cell_type": "code",
      "metadata": {
        "id": "VYBeCEQrrve4"
      },
      "source": [
        "my_df.head(7)"
      ],
      "execution_count": null,
      "outputs": []
    },
    {
      "cell_type": "markdown",
      "source": [
        "<font color='red'>Exercise 5 solution</font>"
      ],
      "metadata": {
        "id": "CTaFKpnBEbtW"
      }
    },
    {
      "cell_type": "code",
      "source": [
        "my_df.tail(3)"
      ],
      "metadata": {
        "id": "W0sOXPUREsds"
      },
      "execution_count": null,
      "outputs": []
    },
    {
      "cell_type": "markdown",
      "metadata": {
        "id": "_RMD1SS8lEn5"
      },
      "source": [
        "<font color='red'>Exercise 6 solution</font>  \n",
        "Run the cell to see the output. The output is the total population data for each state."
      ]
    },
    {
      "cell_type": "code",
      "source": [
        "my_df.totalPop"
      ],
      "metadata": {
        "id": "sPxylw5DgnMK"
      },
      "execution_count": null,
      "outputs": []
    },
    {
      "cell_type": "markdown",
      "source": [
        "<font color='red'>Exercise 7 solution</font> "
      ],
      "metadata": {
        "id": "DDvOcT9wg60p"
      }
    },
    {
      "cell_type": "code",
      "source": [
        "my_df[\"hispPop\"]"
      ],
      "metadata": {
        "id": "Pm0ENFyjhLPx"
      },
      "execution_count": null,
      "outputs": []
    }
  ]
}