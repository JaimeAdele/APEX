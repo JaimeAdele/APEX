{
  "nbformat": 4,
  "nbformat_minor": 0,
  "metadata": {
    "kernelspec": {
      "display_name": "Python 3",
      "language": "python",
      "name": "python3"
    },
    "language_info": {
      "codemirror_mode": {
        "name": "ipython",
        "version": 3
      },
      "file_extension": ".py",
      "mimetype": "text/x-python",
      "name": "python",
      "nbconvert_exporter": "python",
      "pygments_lexer": "ipython3",
      "version": "3.7.1"
    },
    "colab": {
      "name": "Module4_strings.ipynb",
      "provenance": [],
      "collapsed_sections": [],
      "include_colab_link": true
    }
  },
  "cells": [
    {
      "cell_type": "markdown",
      "metadata": {
        "id": "view-in-github",
        "colab_type": "text"
      },
      "source": [
        "<a href=\"https://colab.research.google.com/github/JaimeAdele/APEX/blob/main/Module4_strings.ipynb\" target=\"_parent\"><img src=\"https://colab.research.google.com/assets/colab-badge.svg\" alt=\"Open In Colab\"/></a>"
      ]
    },
    {
      "cell_type": "markdown",
      "metadata": {
        "id": "tcP2h0QW0A6X"
      },
      "source": [
        "<img src='https://images.pexels.com/photos/247819/pexels-photo-247819.jpeg?w=700&h=250&fit=crop' height=300px witdth=700px>  "
      ]
    },
    {
      "cell_type": "markdown",
      "metadata": {
        "id": "L3vFn9_lzweJ"
      },
      "source": [
        "# APEX Faculty Training, Module 4: Strings\n",
        "Created by Valerie Carr and Jaime Zuspann  \n",
        "Licensed under a Creative Commons license: CC BY-NC-SA  \n",
        "Last updated: Nov 14, 2021  \n",
        "\n",
        "**Learning outcomes**  \n",
        "1. To learn another Python data type: Strings\n",
        "2. To gain practice with strings and string operators"
      ]
    },
    {
      "cell_type": "markdown",
      "metadata": {
        "id": "LiPDUmfw3Np7"
      },
      "source": [
        "## 1. Before you start  \n",
        "Make a copy of this notebook and document it with your name and today's date.  \n",
        "This module introduces a couple of built-in Python functions and a new datatype: strings. As we go into this module, keep in mind PEP8 rules regarding spaces:\n",
        "* Spaces before and after operators\n",
        "* Don't put unnecessary spaces after a function name; just go straight to the parentheses\n",
        "* Don't put unnecessary spaces at the beginning or end of parentheses"
      ]
    },
    {
      "cell_type": "markdown",
      "metadata": {
        "id": "92XS6HDw3dtR"
      },
      "source": [
        "## 2. Determining data type  \n",
        "### The `type()` function  \n",
        "Python has a built-in function that can be used to determine data type: `type()`. This function can be used to directly determine a value's type or to determine the type of value assigned to a variable.  \n",
        "\n",
        "<font color='red'>Exercise 1</font>  \n",
        "Run the cells below to see how the `type()` function works on various inputs and feel free to try your own."
      ]
    },
    {
      "cell_type": "code",
      "metadata": {
        "id": "W2n55OBr9mgP"
      },
      "source": [
        "type(6)"
      ],
      "execution_count": null,
      "outputs": []
    },
    {
      "cell_type": "code",
      "metadata": {
        "id": "qhEy9M6G9omU"
      },
      "source": [
        "type(3.14 * 2)"
      ],
      "execution_count": null,
      "outputs": []
    },
    {
      "cell_type": "code",
      "metadata": {
        "id": "eCq9kY2t9qi3"
      },
      "source": [
        "type(False)"
      ],
      "execution_count": null,
      "outputs": []
    },
    {
      "cell_type": "code",
      "metadata": {
        "id": "hEXyOfig9svv",
        "colab": {
          "base_uri": "https://localhost:8080/"
        },
        "outputId": "98747354-39f6-444b-8e3d-3f801ef6a902"
      },
      "source": [
        "a = 6 * 4\n",
        "type(a)"
      ],
      "execution_count": null,
      "outputs": [
        {
          "output_type": "execute_result",
          "data": {
            "text/plain": [
              "int"
            ]
          },
          "metadata": {},
          "execution_count": 1
        }
      ]
    },
    {
      "cell_type": "markdown",
      "metadata": {
        "id": "tviipT9y-uQD"
      },
      "source": [
        "### So why does Python have different data types?  \n",
        "In everyday life, we treat letters and numbers differently:  \n",
        "* We can multiply, divide, or square numbers  \n",
        "* We can use letters to form words and sentences  \n",
        "* But, \"economics\" divided by \"psychology\" doesn't make sense  \n",
        "\n",
        "In other words, we perform different operations on numbers than we do on letters. Python is exactly the same. By knowing the data type, Python knows what operations can be performed."
      ]
    },
    {
      "cell_type": "markdown",
      "metadata": {
        "id": "xteTOWiezweK"
      },
      "source": [
        "<font color='red'>Exercise 2</font>  \n",
        "Each of the cells below contains a value. Insert the built-in function `type()` in front of each value to determine its data type. Remember that the input should go between the parentheses of the function."
      ]
    },
    {
      "cell_type": "code",
      "metadata": {
        "id": "loYySOlczweL",
        "colab": {
          "base_uri": "https://localhost:8080/"
        },
        "outputId": "7cc55096-b4c7-4a2e-b8f6-07139a28bb42"
      },
      "source": [
        "False"
      ],
      "execution_count": null,
      "outputs": [
        {
          "output_type": "execute_result",
          "data": {
            "text/plain": [
              "bool"
            ]
          },
          "metadata": {},
          "execution_count": 1
        }
      ]
    },
    {
      "cell_type": "code",
      "metadata": {
        "id": "mVWG1ToIzweO",
        "colab": {
          "base_uri": "https://localhost:8080/"
        },
        "outputId": "9976ed28-be8c-4cda-d84a-bc57b90319c3"
      },
      "source": [
        "164.80"
      ],
      "execution_count": null,
      "outputs": [
        {
          "output_type": "execute_result",
          "data": {
            "text/plain": [
              "float"
            ]
          },
          "metadata": {},
          "execution_count": 2
        }
      ]
    },
    {
      "cell_type": "code",
      "metadata": {
        "id": "n4g4iyBYzweQ",
        "colab": {
          "base_uri": "https://localhost:8080/"
        },
        "outputId": "8c252275-5938-4e8e-ea7e-b452ccb5a53d"
      },
      "source": [
        "106"
      ],
      "execution_count": null,
      "outputs": [
        {
          "output_type": "execute_result",
          "data": {
            "text/plain": [
              "int"
            ]
          },
          "metadata": {},
          "execution_count": 3
        }
      ]
    },
    {
      "cell_type": "code",
      "metadata": {
        "id": "o7DNvbRNzweT",
        "colab": {
          "base_uri": "https://localhost:8080/"
        },
        "outputId": "69f2ab81-0b4b-4c0b-d923-23975c29e19f"
      },
      "source": [
        "'Are you enjoying learning Python so far?'"
      ],
      "execution_count": null,
      "outputs": [
        {
          "output_type": "execute_result",
          "data": {
            "text/plain": [
              "str"
            ]
          },
          "metadata": {},
          "execution_count": 4
        }
      ]
    },
    {
      "cell_type": "markdown",
      "metadata": {
        "id": "Mi25LSVOzweV"
      },
      "source": [
        "<font color='red'>Exercise 3</font>  \n",
        "In the cell below, create a new line underneath the one already written, and use the `type()` function to determine the data type for the value assigned to `answer`."
      ]
    },
    {
      "cell_type": "code",
      "metadata": {
        "id": "Nw1M4i0dzweW",
        "colab": {
          "base_uri": "https://localhost:8080/"
        },
        "outputId": "7617a6e6-c32a-4ed4-9477-9ba710a92e43"
      },
      "source": [
        "answer = 'yes'\n"
      ],
      "execution_count": null,
      "outputs": [
        {
          "output_type": "execute_result",
          "data": {
            "text/plain": [
              "str"
            ]
          },
          "metadata": {},
          "execution_count": 5
        }
      ]
    },
    {
      "cell_type": "markdown",
      "metadata": {
        "id": "_vYLpuqNzweY"
      },
      "source": [
        "## 3. Strings  \n",
        "So far, we have learned three different Python data types: integers, floats, and booleans. Now, we'll introduce the fourth type, strings.  \n",
        "\n",
        "A string is a data type that you can think of as text or characters. Letters, punctuation, symbols, spaces, and numbers (when treated as text) can be used in a string.  \n",
        "\n",
        "* 'Hello World!'\n",
        "* 'a'\n",
        "* '555-123-4567'\n",
        "* '#strings'"
      ]
    },
    {
      "cell_type": "markdown",
      "metadata": {
        "id": "6Di6o9wMzweY"
      },
      "source": [
        "### 3a. Quotes\n",
        "The way we tell Python that something is a string is by putting quote marks around it. Python doesn't care if you use single or double quotes. Throughout these modules, you'll see that single quotes are used for strings, but you can choose which you prefer to use, neither is more correct than the other. The important thing is to stay consistent.  \n",
        "\n",
        "<font color='red'>Exercise 4</font>  \n",
        "Use the `type()` function again on the values in the cells below to see the difference quotes make in the data type of a number."
      ]
    },
    {
      "cell_type": "code",
      "metadata": {
        "id": "RFQc_jW_Havy",
        "colab": {
          "base_uri": "https://localhost:8080/"
        },
        "outputId": "470793e3-91b2-4115-d888-e5feec57e362"
      },
      "source": [
        "2021"
      ],
      "execution_count": null,
      "outputs": [
        {
          "output_type": "execute_result",
          "data": {
            "text/plain": [
              "int"
            ]
          },
          "metadata": {},
          "execution_count": 4
        }
      ]
    },
    {
      "cell_type": "code",
      "metadata": {
        "id": "Jd64MRNpHd1L",
        "colab": {
          "base_uri": "https://localhost:8080/"
        },
        "outputId": "691c2006-c4a0-4e50-847e-e38061af00f5"
      },
      "source": [
        "'2021'"
      ],
      "execution_count": null,
      "outputs": [
        {
          "output_type": "execute_result",
          "data": {
            "text/plain": [
              "str"
            ]
          },
          "metadata": {},
          "execution_count": 5
        }
      ]
    },
    {
      "cell_type": "markdown",
      "metadata": {
        "id": "1lSVA2Abqojm"
      },
      "source": [
        "<font color='red'>Exercise 5</font>  \n",
        "Now, assign the variable `fav_drink` with the name of your favorite type of drink (coffee, tea, root beer, boba, etc.), as a string with single quotes. For instance: `fav_drink = 'cappuccino'`. If you'd like to see the value as an output, you can type the variable name in the line below. Then do the same thing, but try using double quotes around the string. Finally, try not using any quotes at all, and see what happens when you run the cell. "
      ]
    },
    {
      "cell_type": "code",
      "metadata": {
        "id": "tW9Lmjd-zweZ",
        "colab": {
          "base_uri": "https://localhost:8080/",
          "height": 35
        },
        "outputId": "4298c6ed-91d9-4350-d57c-6856ef0ebc64"
      },
      "source": [
        "# Single quotes\n"
      ],
      "execution_count": null,
      "outputs": [
        {
          "output_type": "execute_result",
          "data": {
            "application/vnd.google.colaboratory.intrinsic+json": {
              "type": "string"
            },
            "text/plain": [
              "'ENGR102'"
            ]
          },
          "metadata": {},
          "execution_count": 3
        }
      ]
    },
    {
      "cell_type": "code",
      "metadata": {
        "id": "f5dfo_fqpWMp",
        "colab": {
          "base_uri": "https://localhost:8080/",
          "height": 35
        },
        "outputId": "e7867cf4-fb97-465f-ebde-64cdcb981bc6"
      },
      "source": [
        "# Double quotes\n"
      ],
      "execution_count": null,
      "outputs": [
        {
          "output_type": "execute_result",
          "data": {
            "application/vnd.google.colaboratory.intrinsic+json": {
              "type": "string"
            },
            "text/plain": [
              "'ENGR102'"
            ]
          },
          "metadata": {},
          "execution_count": 4
        }
      ]
    },
    {
      "cell_type": "code",
      "metadata": {
        "id": "cwyWDNJ1pWkf",
        "colab": {
          "base_uri": "https://localhost:8080/",
          "height": 215
        },
        "outputId": "e90f3932-bf8a-4100-d74f-322c704c01a0"
      },
      "source": [
        "# No quotes\n"
      ],
      "execution_count": null,
      "outputs": [
        {
          "output_type": "error",
          "ename": "NameError",
          "evalue": "ignored",
          "traceback": [
            "\u001b[0;31m---------------------------------------------------------------------------\u001b[0m",
            "\u001b[0;31mNameError\u001b[0m                                 Traceback (most recent call last)",
            "\u001b[0;32m<ipython-input-6-627625bdcb11>\u001b[0m in \u001b[0;36m<module>\u001b[0;34m()\u001b[0m\n\u001b[1;32m      1\u001b[0m \u001b[0;31m# 3a. 3)\u001b[0m\u001b[0;34m\u001b[0m\u001b[0;34m\u001b[0m\u001b[0;34m\u001b[0m\u001b[0m\n\u001b[1;32m      2\u001b[0m \u001b[0;31m# No quotes\u001b[0m\u001b[0;34m\u001b[0m\u001b[0;34m\u001b[0m\u001b[0;34m\u001b[0m\u001b[0m\n\u001b[0;32m----> 3\u001b[0;31m \u001b[0mcourse_num\u001b[0m \u001b[0;34m=\u001b[0m \u001b[0mENGR102\u001b[0m\u001b[0;34m\u001b[0m\u001b[0;34m\u001b[0m\u001b[0m\n\u001b[0m\u001b[1;32m      4\u001b[0m \u001b[0mtype\u001b[0m\u001b[0;34m(\u001b[0m\u001b[0mcourse_num\u001b[0m\u001b[0;34m)\u001b[0m\u001b[0;34m\u001b[0m\u001b[0;34m\u001b[0m\u001b[0m\n",
            "\u001b[0;31mNameError\u001b[0m: name 'ENGR102' is not defined"
          ]
        }
      ]
    },
    {
      "cell_type": "markdown",
      "metadata": {
        "id": "n-akXs5SscJ0"
      },
      "source": [
        "Do you get a `NameError` when you don't use any quotes around the string? That is because Pyton doesn't know that it was meant as a string and is trying to treat it a different way, specifically, as a variable. However, since it wasn't defined as a variable previously, Python doesn't recognize it and therefore throws an error."
      ]
    },
    {
      "cell_type": "markdown",
      "metadata": {
        "id": "75BVOVVudE5x"
      },
      "source": [
        "### 3b. Print  \n",
        "Python has another built in function called `print()`. This function \"prints\" any string you provide as input, that is, it displays the string on the console when the function is run. Unlike the input, the output will not display the quote marks.  \n",
        "\n",
        "To see how this works, follow the steps below."
      ]
    },
    {
      "cell_type": "markdown",
      "metadata": {
        "id": "BdJpRtKjzweb"
      },
      "source": [
        "<font color='red'>Exercise 6</font>  \n",
        "First, run the cell below, which contains a string:"
      ]
    },
    {
      "cell_type": "code",
      "metadata": {
        "id": "Ndidu8Bbzwec"
      },
      "source": [
        "econ = 'The four letter abbreviation for economics is ECON'"
      ],
      "execution_count": null,
      "outputs": []
    },
    {
      "cell_type": "markdown",
      "metadata": {
        "id": "SCW5fGvDzwee"
      },
      "source": [
        "On the second line of the cell below, simply type `econ` (i.e., the variable name) and run the cell. In the cell below that, use the built-in function `print()` with the variable name inside the parentheses. Can you see how the outut for the two cells are different? In later modules, we'll do much more interesting things with the print function!"
      ]
    },
    {
      "cell_type": "code",
      "metadata": {
        "id": "8hWANUR_zwef",
        "colab": {
          "base_uri": "https://localhost:8080/",
          "height": 35
        },
        "outputId": "abefc251-f784-47b6-bf5b-59d381614b36"
      },
      "source": [
        "# Variable only\n"
      ],
      "execution_count": null,
      "outputs": [
        {
          "output_type": "execute_result",
          "data": {
            "application/vnd.google.colaboratory.intrinsic+json": {
              "type": "string"
            },
            "text/plain": [
              "'The four letter abbreviation for economics is ECON'"
            ]
          },
          "metadata": {},
          "execution_count": 2
        }
      ]
    },
    {
      "cell_type": "code",
      "metadata": {
        "id": "yMLCnlT2zweh",
        "colab": {
          "base_uri": "https://localhost:8080/"
        },
        "outputId": "34b9c6e0-70a5-405b-911c-995a98e3c7c1"
      },
      "source": [
        "# Print variable\n"
      ],
      "execution_count": null,
      "outputs": [
        {
          "output_type": "stream",
          "name": "stdout",
          "text": [
            "The four letter abbreviation for economics is ECON\n"
          ]
        }
      ]
    },
    {
      "cell_type": "markdown",
      "metadata": {
        "id": "fjisvSR4tITN"
      },
      "source": [
        "# You made it to the end!  \n",
        "However, we're just getting started with strings. In the next module, you'll see operations we can perform on strings and how Python can access specific characters within a string with indexing."
      ]
    }
  ]
}