{
  "nbformat": 4,
  "nbformat_minor": 0,
  "metadata": {
    "kernelspec": {
      "display_name": "Python 3",
      "language": "python",
      "name": "python3"
    },
    "language_info": {
      "codemirror_mode": {
        "name": "ipython",
        "version": 3
      },
      "file_extension": ".py",
      "mimetype": "text/x-python",
      "name": "python",
      "nbconvert_exporter": "python",
      "pygments_lexer": "ipython3",
      "version": "3.7.1"
    },
    "colab": {
      "name": "Module4_strings_solutions.ipynb",
      "provenance": [],
      "collapsed_sections": [],
      "include_colab_link": true
    }
  },
  "cells": [
    {
      "cell_type": "markdown",
      "metadata": {
        "id": "view-in-github",
        "colab_type": "text"
      },
      "source": [
        "<a href=\"https://colab.research.google.com/github/JaimeAdele/APEX/blob/main/Module4_strings_solutions.ipynb\" target=\"_parent\"><img src=\"https://colab.research.google.com/assets/colab-badge.svg\" alt=\"Open In Colab\"/></a>"
      ]
    },
    {
      "cell_type": "markdown",
      "metadata": {
        "id": "tcP2h0QW0A6X"
      },
      "source": [
        "<img src='https://images.pexels.com/photos/247819/pexels-photo-247819.jpeg?w=700&h=250&fit=crop' height=300px witdth=700px>  \n",
        "Photo by Wokandapix from Pixabay"
      ]
    },
    {
      "cell_type": "markdown",
      "metadata": {
        "id": "L3vFn9_lzweJ"
      },
      "source": [
        "# APEX Faculty Training, Module 4: Strings Solutions\n",
        "Created by Valerie Carr and Jaime Zuspann  \n",
        "Licensed under a Creative Commons license: CC BY-NC-SA  \n",
        "Last updated: Dec 14, 2021  "
      ]
    },
    {
      "cell_type": "markdown",
      "metadata": {
        "id": "92XS6HDw3dtR"
      },
      "source": [
        "## 3. Determining data type\n",
        "<font color='red'>Exercise 1 solution</font>  \n",
        "Run the cells to see each output. They are, respectively:  \n",
        "`int`  \n",
        "`float`  \n",
        "`bool`  \n",
        "`int`"
      ]
    },
    {
      "cell_type": "markdown",
      "metadata": {
        "id": "xteTOWiezweK"
      },
      "source": [
        "<font color='red'>Exercise 2 solution</font>  "
      ]
    },
    {
      "cell_type": "code",
      "metadata": {
        "id": "loYySOlczweL"
      },
      "source": [
        "answer = 'yes'\n",
        "type(answer)"
      ],
      "execution_count": null,
      "outputs": []
    },
    {
      "cell_type": "markdown",
      "metadata": {
        "id": "_vYLpuqNzweY"
      },
      "source": [
        "## 4. String basics  \n",
        "<font color='red'>Exercise 3 solutions</font>  "
      ]
    },
    {
      "cell_type": "code",
      "metadata": {
        "id": "odVJJoviuHAI"
      },
      "source": [
        "type(13.2)"
      ],
      "execution_count": null,
      "outputs": []
    },
    {
      "cell_type": "code",
      "metadata": {
        "id": "GS28keRruJe_"
      },
      "source": [
        "type('13.2')"
      ],
      "execution_count": null,
      "outputs": []
    },
    {
      "cell_type": "markdown",
      "metadata": {
        "id": "zy7jO8dtuYr7"
      },
      "source": [
        "You received your first Type Error! Type Errors indicate that you've attempted to perform an operation that isn't allowed for that data type. In this case, you can't perform the same operations on strings as you do floats."
      ]
    },
    {
      "cell_type": "markdown",
      "metadata": {
        "id": "1lSVA2Abqojm"
      },
      "source": [
        "<font color='red'>Exercise 5 possible solution</font>  \n",
        "Note: You may have a different favorite drink, but there should not be quote marks surrounding it (the intention of this exercise is to get a NameError)."
      ]
    },
    {
      "cell_type": "code",
      "metadata": {
        "id": "tW9Lmjd-zweZ"
      },
      "source": [
        "fav_drink = smoothie"
      ],
      "execution_count": null,
      "outputs": []
    },
    {
      "cell_type": "markdown",
      "metadata": {
        "id": "75BVOVVudE5x"
      },
      "source": [
        "## 5. Printing strings  \n",
        "<font color='red'>Exercise 6 solution</font>  "
      ]
    },
    {
      "cell_type": "code",
      "metadata": {
        "id": "Ndidu8Bbzwec"
      },
      "source": [
        "econ = 'An abbreviation for economics is econ'\n",
        "print(econ)"
      ],
      "execution_count": null,
      "outputs": []
    },
    {
      "cell_type": "markdown",
      "metadata": {
        "id": "SpEbfLSsvAbW"
      },
      "source": [
        "## 6. Comparison operators: Equality and inequality  \n",
        "<font color='red'>Exercise 7 solution</font>   \n",
        "Run the cells to see each output. The first is assignment, which returns no output. The next are, respectively:  \n",
        "`True`  \n",
        "`False`"
      ]
    },
    {
      "cell_type": "markdown",
      "metadata": {
        "id": "d0gjyNkqvHsv"
      },
      "source": [
        "<font color='red'>Exercise 8 possible solutions</font>   \n",
        "Note: Your favorite bands may be different, but the structure of the solution should be the same as below."
      ]
    },
    {
      "cell_type": "code",
      "metadata": {
        "id": "8d-XZMervJ0o"
      },
      "source": [
        "# Current favorite band\n",
        "fav_band1 = 'Led Zeppelin'\n",
        "\n",
        "# Favorite band in middle school\n",
        "fav_band2 = 'The Beatles'"
      ],
      "execution_count": null,
      "outputs": []
    },
    {
      "cell_type": "code",
      "metadata": {
        "id": "Oie8_iL8vN2k"
      },
      "source": [
        "# Has your favorite band stayed the same?\n",
        "fav_band1 == fav_band2"
      ],
      "execution_count": null,
      "outputs": []
    },
    {
      "cell_type": "markdown",
      "metadata": {
        "id": "s1qny-WHvRkW"
      },
      "source": [
        "<font color='red'>Exercise 9 solution</font>  "
      ]
    },
    {
      "cell_type": "code",
      "metadata": {
        "id": "qyh_CZUxvTcS"
      },
      "source": [
        "'dog' == 'Dog'"
      ],
      "execution_count": null,
      "outputs": []
    },
    {
      "cell_type": "markdown",
      "metadata": {
        "id": "1JrH4q_avVuK"
      },
      "source": [
        "## 7. Comparison operators: Less than and greater than  \n",
        "<font color='red'>Exercise 10 possible solution</font>  \n",
        "Note: Your favorite book and movie may be different, but the structure of the solution should be the same as below."
      ]
    },
    {
      "cell_type": "code",
      "metadata": {
        "id": "pEWdTzefvZE0"
      },
      "source": [
        "# Favorite book\n",
        "fav_book = 'Crime and Punishment'\n",
        "\n",
        "# Favorite movie\n",
        "fav_movie = 'Life is Beautiful'"
      ],
      "execution_count": null,
      "outputs": []
    },
    {
      "cell_type": "code",
      "metadata": {
        "id": "MBvSI5x0vdan"
      },
      "source": [
        "# Does fav_book appear after fav_movie in the alphabet?\n",
        "fav_book > fav_movie"
      ],
      "execution_count": null,
      "outputs": []
    }
  ]
}