{
  "nbformat": 4,
  "nbformat_minor": 0,
  "metadata": {
    "kernelspec": {
      "display_name": "Python 3",
      "language": "python",
      "name": "python3"
    },
    "language_info": {
      "codemirror_mode": {
        "name": "ipython",
        "version": 3
      },
      "file_extension": ".py",
      "mimetype": "text/x-python",
      "name": "python",
      "nbconvert_exporter": "python",
      "pygments_lexer": "ipython3",
      "version": "3.7.1"
    },
    "colab": {
      "name": "Module11_statistics.ipynb",
      "provenance": [],
      "collapsed_sections": [],
      "include_colab_link": true
    }
  },
  "cells": [
    {
      "cell_type": "markdown",
      "metadata": {
        "id": "view-in-github",
        "colab_type": "text"
      },
      "source": [
        "<a href=\"https://colab.research.google.com/github/JaimeAdele/APEX/blob/main/Module11_statistics.ipynb\" target=\"_parent\"><img src=\"https://colab.research.google.com/assets/colab-badge.svg\" alt=\"Open In Colab\"/></a>"
      ]
    },
    {
      "cell_type": "markdown",
      "metadata": {
        "id": "lnXOxVPEkZ5f"
      },
      "source": [
        "<img src='https://cdn.pixabay.com/photo/2015/04/15/14/55/calculator-723917_1280.jpg' width=700>  \n",
        "Photo by Edar production from Pixabay"
      ]
    },
    {
      "cell_type": "markdown",
      "metadata": {
        "id": "svAPrOFekdFH"
      },
      "source": [
        "# APEX Faculty Training, Module 11: Statistics\n",
        "\n",
        "Created by Valerie Carr and Jaime Zuspann  \n",
        "Licensed under a Creative Commons license: CC BY-NC-SA  \n",
        "Last updated: Mar 25, 2022  \n",
        "\n",
        "**Learning outcomes**  \n",
        "In this module you will learn how to:  \n",
        "1. Use `Pandas` methods to calculate summary and descriptive statistics\n",
        "2. Use the `stats` module within the `SciPy` library to perform a correlational analysis"
      ]
    },
    {
      "cell_type": "markdown",
      "metadata": {
        "id": "hI79e_J1lAAH"
      },
      "source": [
        "## 1. A couple notes before you start \n",
        "* This file is view only, meaning that you can't edit it.\n",
        "    * To create an editable copy, look towards the top of the notebook and click on `Copy to Drive`. This will cause a new tab to open with your own personal copy.\n",
        "    * If you want to refer back to your copy in the future, you can find it in Google Drive in a folder called `Colab Notebooks`.\n",
        "* To run a cell, use `shift` + `enter`.   \n",
        "* Keep the following Python style preferences in mind:\n",
        "    * Variable names should use `snake_case`\n",
        "    * Include spaces before and after operators, e.g., `x + 1`\n",
        "    * Don't put unnecessary spaces after a function name, before the parentheses\n",
        "        * Correct: `print(my_variable)`\n",
        "        * Incorrect: `print (my_variable)`\n",
        "    * Don't put unnecessary spaces at the beginning or end of parentheses\n",
        "        * Correct: `print(my_variable)`\n",
        "        * Incorrect: `print( my_variable )`\n",
        "        \n"
      ]
    },
    {
      "cell_type": "markdown",
      "source": [
        "<font color='red'>Exercise 1</font>  \n",
        "Below, we have included code that imports the Pandas library and provides a path to a CSV file that you'll be using for the rest of the module. Your job is to add a couple new lines of code that:\n",
        "* Read in the CSV file to create a dataframe named `rental_df`\n",
        "* Check the header of the dataframe\n",
        "\n",
        "If you need a reminder of how to perform these steps, look back at Module 8 (Pandas I)."
      ],
      "metadata": {
        "id": "g_6fH22iMn1P"
      }
    },
    {
      "cell_type": "code",
      "source": [
        "import pandas as pd\n",
        "filepath = \"https://raw.githubusercontent.com/valeriecarr/engr120/main/S21/rental_prices.csv\"\n",
        "\n",
        "# read in CSV file\n",
        "\n",
        "# display header\n"
      ],
      "metadata": {
        "id": "zwb0bXjYMm_9"
      },
      "execution_count": null,
      "outputs": []
    },
    {
      "cell_type": "markdown",
      "metadata": {
        "id": "DKwAYq8KJjo7"
      },
      "source": [
        "## 2. Summarizing and Describing Data\n",
        "Before diving deeper into statistical analysis, it's a great idea to summarize a data set and calculate descriptive statistics. The `rental_df` dataframe that you created above includes median rental prices in 100 cities around the US.  \n",
        "\n",
        "There are many ways to summarize or describe a data set, including:  \n",
        "* Total number of observations\n",
        "  - Ex: How many rows are in `rental_df`?\n",
        "* Number of unique values in a given column\n",
        "  - Ex: `rental_df` includes data from several cities within the same state; how many unique states are represented in the `state` column?\n",
        "* Number of observations per unique value in a given column\n",
        "  - Ex: How many times does each state appear in the `state` column?\n",
        "* Measures of central tendency and variability for columns with numerical values\n",
        "  - Ex: mean, median, mode, variance, standard deviation\n",
        "* Min, max, and quantiles for columns with numerical values\n",
        "  - Quantiles ex: 25th, 50th, 75th percentile \n",
        "\n",
        "\n",
        "### 2a. Pandas methods:\n",
        "\n",
        "See below for a table that includes common Pandas methods for summarizing and describing data:\n",
        "\n",
        "\n",
        "<table>\n",
        "  <tr>\n",
        "    <th>Method</th>\n",
        "    <th>Description</th>\n",
        "  </tr>\n",
        "  <tr>\n",
        "    <td>df_name['col_name'].count()</td>\n",
        "    <td>Number of observations for a given column</td>\n",
        "  </tr>\n",
        "  <tr>\n",
        "    <td>df_name['col_name'].nunique()</td>\n",
        "    <td>Number of unique values for a given column</td>\n",
        "  </tr>\n",
        "  <tr>\n",
        "    <td>df_name['col_name'].value_counts()</td>\n",
        "    <td>Number of observations per unique value in a given column</td>\n",
        "  </tr>\n",
        "  <tr>\n",
        "    <td>df_name['col_name'].mean()</td>\n",
        "    <td rowspan=\"3\">Measures of central tendency for a given column</td>\n",
        "  </tr>\n",
        "  <tr>\n",
        "    <td>df_name['col_name'].median()</td>\n",
        "  </tr>\n",
        "  <tr>\n",
        "    <td>df_name['col_name'].mode()</td>\n",
        "  </tr>\n",
        "  <tr>\n",
        "    <td>df_name['col_name'].var()</td>\n",
        "    <td rowspan=\"2\">Variance and standard deviation for a given column</td>\n",
        "  </tr>\n",
        "  <tr>\n",
        "    <td>df_name['col_name'].std()</td>\n",
        "  </tr>\n",
        "  <tr>\n",
        "    <td>df_name['col_name'].quantile([x, y, z])</td>\n",
        "    <td>Quantiles for a given column, where x/y/z are values between 0-1</td>\n",
        "  </tr>\n",
        "  <tr>\n",
        "    <td>df_name['col_name'].min()</td>\n",
        "    <td rowspan=\"2\">Minimum and Maximum values for a column</td>\n",
        "  </tr>\n",
        "  <tr>\n",
        "    <td>df_name['col_name'].max()</td>\n",
        "  </tr>\n",
        "</table>\n",
        "\n",
        "\n",
        "Note of interest for Stats instructors: By default, Pandas normalizes standard deviation and variance using N-1 (sample), rather than N (population). If you prefer N, you can include an additional argument, as described [here](https://pandas.pydata.org/docs/reference/api/pandas.DataFrame.var.html). \n",
        "\n",
        "<font color='red'>Exercise 2</font>  \n",
        "Run each of the cells below to see examples of these methods applied to the `state` column of `rental_df`:"
      ]
    },
    {
      "cell_type": "code",
      "source": [
        "# number of observations in the state column\n",
        "rental_df['state'].count()"
      ],
      "metadata": {
        "id": "i9xlGRA5ONPw"
      },
      "execution_count": null,
      "outputs": []
    },
    {
      "cell_type": "code",
      "source": [
        "# number of unique values in the state column\n",
        "rental_df['state'].nunique()"
      ],
      "metadata": {
        "id": "B5zypx-qORdR"
      },
      "execution_count": null,
      "outputs": []
    },
    {
      "cell_type": "code",
      "source": [
        "# number of observations per unique value in the state column\n",
        "rental_df['state'].value_counts()"
      ],
      "metadata": {
        "id": "DCxRiiZWOVhs"
      },
      "execution_count": null,
      "outputs": []
    },
    {
      "cell_type": "markdown",
      "source": [
        "<font color='red'>Exercise 3</font>  \n",
        "Refer to the `quantile()` method in the table above to calculate the 25th, 50th, and 75th percentile values for the `median_rent` column. As a reminder, these percentiles should be listed as decimals, e.g., 0.25 rather than 25."
      ],
      "metadata": {
        "id": "UTWCpB0FO9U7"
      }
    },
    {
      "cell_type": "code",
      "source": [
        ""
      ],
      "metadata": {
        "id": "QCqLyNldPJl0"
      },
      "execution_count": null,
      "outputs": []
    },
    {
      "cell_type": "markdown",
      "source": [
        "<font color='red'>Exercise 4</font>  \n",
        "Below, we demonstrate how you might include various descriptive statistics embedded in a string, making the outputs easier to read. Run the cell to see the mean and median values for the `median_rent` column."
      ],
      "metadata": {
        "id": "oejN8BI0P3lp"
      }
    },
    {
      "cell_type": "code",
      "source": [
        "print('Mean:', rental_df['median_rent'].mean())\n",
        "print('Median:', rental_df['median_rent'].median())"
      ],
      "metadata": {
        "id": "9j7UNdUjQhlX"
      },
      "execution_count": null,
      "outputs": []
    },
    {
      "cell_type": "markdown",
      "source": [
        "<font color='red'>Exercise 5</font>  \n",
        "Now you try! Using the example code in Exercise 4 as a guide, print two strings, the first of which states the standard deviation, and the second of which states the maximum value of the `median_rent` column."
      ],
      "metadata": {
        "id": "dfTqbn7DXuDX"
      }
    },
    {
      "cell_type": "code",
      "source": [
        ""
      ],
      "metadata": {
        "id": "CsD2k1ujYeaX"
      },
      "execution_count": null,
      "outputs": []
    },
    {
      "cell_type": "markdown",
      "source": [
        " <font color='red'>Exercise 6</font>  \n",
        "Computing these descriptive one-by-one for each numerical column in a dataframe could be rather tedious. Instead, we can use the method `describe()` to compute several of these measures for *all* numerical columns using the following syntax:\n",
        "\n",
        "`df_name.describe()` \n",
        "\n",
        "Below, write code that applies this method to the `rental_df` dataframe:"
      ],
      "metadata": {
        "id": "yaQOm2HkRhYg"
      }
    },
    {
      "cell_type": "code",
      "source": [
        ""
      ],
      "metadata": {
        "id": "KjeKYGOwRjg_"
      },
      "execution_count": null,
      "outputs": []
    },
    {
      "cell_type": "markdown",
      "metadata": {
        "id": "E48I6l-ervev"
      },
      "source": [
        "## 3. Grouping Data\n",
        "Rather than view descriptive statistics for all observations in a dataframe, we can instead use the `groupby()` method to group the data by one or more variables of interest. For example, we could examine median rent prices according to number of bedrooms.\n",
        "\n",
        "### 3a. Grouping by a Single Variable\n",
        "The syntax for grouping the dataframe by a single variable is as follows:\n",
        "\n",
        "`df_name.groupby(by = 'col_name').method_name()`\n",
        "\n",
        "Breaking down this syntax:\n",
        "* `by = col_name` is used to indicate which variable (i.e., column) you'll be using to group the dataframe\n",
        "* `method_name` simply indicates the desired descriptive statistic to display, such as mean, median, etc.\n",
        "\n",
        "<font color='red'>Exercise 7</font>  \n",
        "Using the example syntax above, write code that groups the rental data according to number of bedrooms and displays the mean."
      ]
    },
    {
      "cell_type": "code",
      "metadata": {
        "id": "sjOCmnIDfaw8"
      },
      "source": [
        ""
      ],
      "execution_count": null,
      "outputs": []
    },
    {
      "cell_type": "markdown",
      "source": [
        "### 3b. Grouping by Multiple Variables\n",
        "Now, what about grouping by more than one variable -- i.e. grouping by the number of bedrooms *and* state? The only change we'd need to make to the line of code above is to provide a list of columns rather than a single column name. The syntax for this looks like this:\n",
        "\n",
        "`df_name.groupby(by = ['col1', 'col2', 'etc.']).method_name()`\n",
        "\n",
        "The only difference between the syntax for grouping by multiple variables\n",
        "\n",
        "<font color='red'>Exercise 8</font>  \n",
        "Try this challenge for yourself -- group the `rental_df` dataframe by state and number of bedrooms."
      ],
      "metadata": {
        "id": "GgVaZkeF5-iD"
      }
    },
    {
      "cell_type": "code",
      "source": [
        ""
      ],
      "metadata": {
        "id": "DGs9-1T-6hcI"
      },
      "execution_count": null,
      "outputs": []
    },
    {
      "cell_type": "markdown",
      "source": [
        "### 3b. Grouping by Multiple Columns\n",
        "Now, what about grouping by more than one variable -- i.e. grouping by the number of bedrooms *and* state? The only change we'd need to make to the line of code above is to provide a list of columns rather than a single column name. The syntax for this looks like this:  \n",
        "`df_name.groupby(by = ['col1', 'col2', 'etc.']).method_name()`\n",
        "\n",
        "<font color='red'>Exercise 8</font>  \n",
        "Try this challenge for yourself -- group the `rental_df` dataframe by number of bedrooms and state."
      ],
      "metadata": {
        "id": "C6ScNrhh6pQP"
      }
    },
    {
      "cell_type": "code",
      "source": [
        ""
      ],
      "metadata": {
        "id": "sF3VCZAR7ns5"
      },
      "execution_count": null,
      "outputs": []
    },
    {
      "cell_type": "markdown",
      "metadata": {
        "id": "m0TsiC-If58b"
      },
      "source": [
        "## 4. Inferential statistics with `stats`\n",
        "We've been using the `Pandas` library to subset, modify, and summarize dataframes. To perform inferential statistics, we'll introduce you to a new library, `SciPy`. This library gets its name from the conjuntion of 'Science' and 'Python' and is pronounced like \"sigh-pie.\" The library is enormous and serves many science-related purporses, so we'll only import a small portion of the library pertaining to statistics, as demonstrated below. \n",
        "\n",
        "<font color='red'>Exercise 9</font>  \n",
        "The cell below imports the `stats` module within the `scipy` library. Run the cell, keeping in mind that no output will be produced."
      ]
    },
    {
      "cell_type": "code",
      "metadata": {
        "id": "zGuiFay7gr4a"
      },
      "source": [
        "from scipy import stats"
      ],
      "execution_count": null,
      "outputs": []
    },
    {
      "cell_type": "markdown",
      "source": [
        "The `stats` module contains a wide array of functions pertaining to statistics, such as:\n",
        "* Correlation\n",
        "* Linear regression\n",
        "* T-test\n",
        "* Chi square\n",
        "* Binomial test\n",
        "* Tests of skew and kurtosis\n",
        "* And many more! You can find a complete list of functions [here](https://docs.scipy.org/doc/scipy/reference/stats.html).  \n",
        "\n",
        "To use a given function within the `stats` module, use the following syntax: `stats.func_name()` \n",
        "\n",
        "Breaking down this syntax, `stats` is simply the name of the module, and `func_name()` is a placeholder for the specific function you'd like to use. We'll keep things short and sweet for today's purposes and simply demonstrate how to use the `pearsonr()` function."
      ],
      "metadata": {
        "id": "0SCFilWQZt-L"
      }
    },
    {
      "cell_type": "markdown",
      "source": [
        "### 4a. Pearson's Correlation\n",
        "The `pearsonr()` function is used to evaluate the linear relationship between two data sets and assumes that both are normally distributed. This function uses the following syntax:\n",
        "\n",
        "`stats.pearsonr(df_name['col1'], df_name['col2'])`\n",
        "\n",
        "Breaking down the syntax:\n",
        "* We're using the `stats` module and the `pearsonr()` function\n",
        "* We need to specify two variables of interest (i.e., two columns in a dataframe)\n",
        "\n",
        "The `pearsonr()` function produces two outputs: `r` and `p`, with `r` ranging from -1 to 1 and `p` ranging from 0 to 1. \n",
        "\n",
        "Two notes:\n",
        "* The output doesn't specify which value is which, so you'll have to remember that `r` comes first, followed by `p`.\n",
        "* If the resulting p-value is quite small, it's printed in scientific notation (e.g., 2.63e-11). Many students aren't familiar with this type of notation, to which end we recommend including a bit of hand-holding.\n",
        "\n",
        "<font color='red'>Exercise 10</font>  \n",
        "The rental data set we've used thus far isn't well-suited for a correlational analysis. Instead, we'll go back to the state population data set used in prior modules. We'll ask the question: Is there a significant correlation between a state's total population and its Hispanic population? \n",
        "\n",
        "Below, we've included the relevant filepath for you. Your job is to:\n",
        "1. Read in the CSV file to create a dataframe called `states_df`\n",
        "2. Use the `pearsonr()` function to examine the correlation between values in the `totalPop` and `hispPop` columns within this dataframe\n",
        "3. Ask yourself whether the correlation was significant, and if so, if the correlation is positive or negative"
      ],
      "metadata": {
        "id": "7L4_7LdKapNe"
      }
    },
    {
      "cell_type": "code",
      "source": [
        "filepath = 'https://raw.githubusercontent.com/valeriecarr/engr120/main/S21/state_pop.csv'\n",
        "\n",
        "# read in CSV file\n",
        "\n",
        "# run correlational analysis\n"
      ],
      "metadata": {
        "id": "jwEbCiCHkqIu"
      },
      "execution_count": null,
      "outputs": []
    },
    {
      "cell_type": "markdown",
      "source": [
        "## All done!\n",
        "You've finished the Stats module! In the final module of this training course, we'll learn how to visualize the data we're working with."
      ],
      "metadata": {
        "id": "vYqInSA0L4Ph"
      }
    }
  ]
}