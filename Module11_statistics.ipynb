{
  "nbformat": 4,
  "nbformat_minor": 0,
  "metadata": {
    "kernelspec": {
      "display_name": "Python 3",
      "language": "python",
      "name": "python3"
    },
    "language_info": {
      "codemirror_mode": {
        "name": "ipython",
        "version": 3
      },
      "file_extension": ".py",
      "mimetype": "text/x-python",
      "name": "python",
      "nbconvert_exporter": "python",
      "pygments_lexer": "ipython3",
      "version": "3.7.1"
    },
    "colab": {
      "name": "Module11_statistics.ipynb",
      "provenance": [],
      "collapsed_sections": [],
      "include_colab_link": true
    }
  },
  "cells": [
    {
      "cell_type": "markdown",
      "metadata": {
        "id": "view-in-github",
        "colab_type": "text"
      },
      "source": [
        "<a href=\"https://colab.research.google.com/github/JaimeAdele/APEX/blob/main/Module11_statistics.ipynb\" target=\"_parent\"><img src=\"https://colab.research.google.com/assets/colab-badge.svg\" alt=\"Open In Colab\"/></a>"
      ]
    },
    {
      "cell_type": "markdown",
      "metadata": {
        "id": "lnXOxVPEkZ5f"
      },
      "source": [
        "<img src='https://cdn.pixabay.com/photo/2015/04/15/14/55/calculator-723917_1280.jpg' width=700>  \n",
        "Photo by Edar production from Pixabay"
      ]
    },
    {
      "cell_type": "markdown",
      "metadata": {
        "id": "svAPrOFekdFH"
      },
      "source": [
        "# APEX Faculty Training, Module 11: Statistics\n",
        "\n",
        "Created by Valerie Carr and Jaime Zuspann  \n",
        "Licensed under a Creative Commons license: CC BY-NC-SA  \n",
        "Last updated: Mar 21, 2022  \n",
        "\n",
        "**Learning outcomes**  \n"
      ]
    },
    {
      "cell_type": "markdown",
      "metadata": {
        "id": "hI79e_J1lAAH"
      },
      "source": [
        "## 1. A couple notes before you start \n",
        "* This file is view only, meaning that you can't edit it.\n",
        "    * To create an editable copy, look towards the top of the notebook and click on `Copy to Drive`. This will cause a new tab to open with your own personal copy.\n",
        "    * If you want to refer back to your copy in the future, you can find it in Google Drive in a folder called `Colab Notebooks`.\n",
        "* To run a cell, use `shift` + `enter`.   \n",
        "* Keep the following Python style preferences in mind:\n",
        "    * Variable names should use `snake_case`\n",
        "    * Include spaces before and after operators, e.g., `x + 1`\n",
        "    * Don't put unnecessary spaces after a function name, before the parentheses\n",
        "        * Correct: `print(my_variable)`\n",
        "        * Incorrect: `print (my_variable)`\n",
        "    * Don't put unnecessary spaces at the beginning or end of parentheses\n",
        "        * Correct: `print(my_variable)`\n",
        "        * Incorrect: `print( my_variable )`\n",
        "        \n"
      ]
    },
    {
      "cell_type": "markdown",
      "source": [
        "<font color='red'>Exercise 1</font>  \n",
        "Run the following cell to import the Pandas library and read in a csv file to use throughout this module. Feel free to add a call to `rental_df.head()` to view a portion of this new dataframe.  "
      ],
      "metadata": {
        "id": "g_6fH22iMn1P"
      }
    },
    {
      "cell_type": "code",
      "source": [
        "import pandas as pd\n",
        "filepath = \"https://raw.githubusercontent.com/valeriecarr/engr120/main/S21/rental_prices.csv\"\n",
        "rental_df = pd.read_csv(filepath)"
      ],
      "metadata": {
        "id": "zwb0bXjYMm_9"
      },
      "execution_count": 1,
      "outputs": []
    },
    {
      "cell_type": "markdown",
      "metadata": {
        "id": "DKwAYq8KJjo7"
      },
      "source": [
        "## 2. Summarizing and Describing Data\n",
        "Before performing statistical tests, it is often helpful to summarize a data set. We'll look at a data set relating to rental prices in 100 cities around the country.  \n",
        "\n",
        "First, what does it mean to \"summarize\" a data set? There are many ways to summarize a data set, including:  \n",
        "* Total number of observations\n",
        "  - Essentially, how many rows are in the data set?\n",
        "* Number of unique values\n",
        "  - Ex: The dataset contains many different cities within the same state; how many unique states are represented?\n",
        "* Number of observations per unique value\n",
        "  - Ex: How many times does each state appear?\n",
        "* Measures of central tendency and variability\n",
        "  - mean, median, mode, variance, standard deviation\n",
        "* Quantiles, min, and max\n",
        "  - Quantiles: 25th, 50th, 75th percentile for example  \n",
        "\n",
        "\n",
        "### 2a. Summary methods:\n",
        "\n",
        "Here is a list of a few common methods for summarizing data:  \n",
        "\n",
        "<table>\n",
        "  <tr>\n",
        "    <th>Method</th>\n",
        "    <th>Description</th>\n",
        "  </tr>\n",
        "  <tr>\n",
        "    <td>df_name['col_name'].count()</td>\n",
        "    <td>Number of observations for a given column</td>\n",
        "  </tr>\n",
        "  <tr>\n",
        "    <td>df_name['col_name'].nunique()</td>\n",
        "    <td>Number of unique values for a given column</td>\n",
        "  </tr>\n",
        "  <tr>\n",
        "    <td>df_name['col_name'].value_counts()</td>\n",
        "    <td>Number of observations per unique value in a given column</td>\n",
        "  </tr>\n",
        "  <tr>\n",
        "    <td>df_name['col_name'].mean()</td>\n",
        "    <td rowspan=\"3\">Measures of central tendency for a given column</td>\n",
        "  </tr>\n",
        "  <tr>\n",
        "    <td>df_name['col_name'].median()</td>\n",
        "  </tr>\n",
        "  <tr>\n",
        "    <td>df_name['col_name'].mode()</td>\n",
        "  </tr>\n",
        "  <tr>\n",
        "    <td>df_name['col_name'].var()</td>\n",
        "    <td rowspan=\"2\">Variance and standard deviation for a given column</td>\n",
        "  </tr>\n",
        "  <tr>\n",
        "    <td>df_name['col_name'].std()</td>\n",
        "  </tr>\n",
        "  <tr>\n",
        "    <td>df_name['col_name'].quantile([x, y, z])</td>\n",
        "    <td>Quantiles for a given column, where x/y/z are values between 0-1</td>\n",
        "  </tr>\n",
        "  <tr>\n",
        "    <td>df_name['col_name'].min()</td>\n",
        "    <td rowspan=\"2\">Minimum and Maximum values for a column</td>\n",
        "  </tr>\n",
        "  <tr>\n",
        "    <td>df_name['col_name'].max()</td>\n",
        "  </tr>\n",
        "</table>  \n",
        "\n",
        "<font color='red'>Exercise 2</font>  \n",
        "Let's put some of these to practice. Run the following cells to see the output."
      ]
    },
    {
      "cell_type": "code",
      "source": [
        "rental_df['state'].count()"
      ],
      "metadata": {
        "id": "i9xlGRA5ONPw"
      },
      "execution_count": null,
      "outputs": []
    },
    {
      "cell_type": "code",
      "source": [
        "rental_df['state'].nunique()"
      ],
      "metadata": {
        "id": "B5zypx-qORdR"
      },
      "execution_count": null,
      "outputs": []
    },
    {
      "cell_type": "code",
      "source": [
        "rental_df['state'].value_counts()"
      ],
      "metadata": {
        "id": "DCxRiiZWOVhs"
      },
      "execution_count": null,
      "outputs": []
    },
    {
      "cell_type": "markdown",
      "source": [
        "This summarization data can also be added into print statements to display multiple outputs from the same cell.  \n",
        "\n",
        "<font color='red'>Exercise 3</font>  \n",
        "Run the cell to see the output."
      ],
      "metadata": {
        "id": "UTWCpB0FO9U7"
      }
    },
    {
      "cell_type": "code",
      "source": [
        "print('Mean: ', rental_df['median_rent'].mean())\n",
        "print('Median: ', rental_df['median_rent'].median())\n",
        "print('Standard deviation: ', rental_df['median_rent'].std())\n",
        "print('Max: ', rental_df['median_rent'].max())\n"
      ],
      "metadata": {
        "id": "QCqLyNldPJl0"
      },
      "execution_count": null,
      "outputs": []
    },
    {
      "cell_type": "markdown",
      "source": [
        "<font color='red'>Exercise 4</font>  \n",
        "Refer to the `quantile()` method in the table of methods above to display the median rent for the 25th, 50th, and 75th percentile."
      ],
      "metadata": {
        "id": "oejN8BI0P3lp"
      }
    },
    {
      "cell_type": "code",
      "source": [
        ""
      ],
      "metadata": {
        "id": "9j7UNdUjQhlX"
      },
      "execution_count": null,
      "outputs": []
    },
    {
      "cell_type": "markdown",
      "source": [
        "Computing these measures one-by-one for each column would be rather tedious. Instead, we can use the method `describe()` to compute several of these measures for all numerical data in the dataframe. The syntax goes like this:  \n",
        "`df_name.describe()`  \n",
        "\n",
        "<font color='red'>Exercise 5</font>  \n",
        "Now run the cell to see the data summarized all at once."
      ],
      "metadata": {
        "id": "dfTqbn7DXuDX"
      }
    },
    {
      "cell_type": "code",
      "source": [
        "rental_df.describe()"
      ],
      "metadata": {
        "id": "CsD2k1ujYeaX"
      },
      "execution_count": null,
      "outputs": []
    },
    {
      "cell_type": "markdown",
      "metadata": {
        "id": "E48I6l-ervev"
      },
      "source": [
        "## 3. Grouping Data\n",
        "### 3a. Grouping by a Single Column\n",
        "Is there an easy way to group data together according to a particular variable? For example, what if we wanted to group rent prices according to the number of bedrooms? The method that does exactly this is called `groupby()`, and it's syntax goes like this:  \n",
        "`df_name.groupby(by = 'col_name').method_name()`  \n",
        "\n",
        "<font color='red'>Exercise 6</font>  \n",
        "Now let's apply this to our rental dataframe. If we wanted to get the mean rent for places according to how many rooms they have, the code would look like that in the cell below. Run the cell to see the output."
      ]
    },
    {
      "cell_type": "code",
      "metadata": {
        "id": "sjOCmnIDfaw8"
      },
      "source": [
        "rental_df.groupby(by = 'bedrooms').mean()"
      ],
      "execution_count": null,
      "outputs": []
    },
    {
      "cell_type": "markdown",
      "source": [
        "<font color='red'>Exercise 7</font>  \n",
        "Use the `groupby()` along with the appropriate method to show how many places are available based on the number of bedrooms."
      ],
      "metadata": {
        "id": "GgVaZkeF5-iD"
      }
    },
    {
      "cell_type": "code",
      "source": [
        ""
      ],
      "metadata": {
        "id": "DGs9-1T-6hcI"
      },
      "execution_count": null,
      "outputs": []
    },
    {
      "cell_type": "markdown",
      "source": [
        "### 3b. Grouping by Multiple Columns\n",
        "Now, what about grouping by more than one variable -- i.e. grouping by the number of bedrooms *and* state? The only change we'd need to make to the line of code above is to provide a list of columns rather than a single column name. The syntax for this looks like this:  \n",
        "`df_name.groupby(by = ['col1', 'col2', 'etc.']).method_name()`\n",
        "\n",
        "<font color='red'>Exercise 8</font>  \n",
        "Try this challenge for yourself -- group the `rental_df` dataframe by number of bedrooms and state."
      ],
      "metadata": {
        "id": "C6ScNrhh6pQP"
      }
    },
    {
      "cell_type": "code",
      "source": [
        ""
      ],
      "metadata": {
        "id": "sF3VCZAR7ns5"
      },
      "execution_count": null,
      "outputs": []
    },
    {
      "cell_type": "markdown",
      "metadata": {
        "id": "m0TsiC-If58b"
      },
      "source": [
        "## 4. Statistics with `stats`\n",
        "We've been using the Pandas library to subset, manipulate, and summarize dataframes. Now we'll introduce you to a new library -- Scipy. Scipy gets its name from the conjuntion of 'science' and 'python'.  We'll use the Scipy library for statistical tests. The library is huge, however, so we'll import only a small portion of it that pertains to statistics. We'll do so in the following exercise.\n",
        "\n",
        "<font color='red'>Exercise 9</font>  \n",
        "The cell below imports the `stats` component of the `scipy` library. Run the cell and remember that no output will be produced."
      ]
    },
    {
      "cell_type": "code",
      "metadata": {
        "id": "zGuiFay7gr4a"
      },
      "source": [
        "from scipy import stats"
      ],
      "execution_count": null,
      "outputs": []
    },
    {
      "cell_type": "markdown",
      "source": [
        "To use a function from the `stats` module of the Scipy library, you do not need to include the keywork `scipy`. Instead, you'll just use the following syntax:  \n",
        "`stats.func_name()`  \n",
        "where 'func_name()' is the name of a specific function you're using. You can find the full list of functions included in the `stats` module here: https://docs.scipy.org/doc/scipy/reference/stats.html  \n",
        "\n",
        "For now, we'll use a single, simple example: Correlation (Pearson)."
      ],
      "metadata": {
        "id": "0SCFilWQZt-L"
      }
    },
    {
      "cell_type": "markdown",
      "source": [
        "### 4a. Pearson's Correlation\n",
        "Pearson's Correlation is used to evaluate the linear relationship between two sets of continuous values. For example, when the values for one variable increase, do the values of the other? To perform this test, we use the function `pearsonr()` with the following syntax:  \n",
        "`stats.pearsonr(df_name['col1'], df_name['col2'])`\n",
        "The `pearsonr()` function returns two values: `r` and `p`.  \n",
        "The `r` value:\n",
        "  * ranges from -1 to 1\n",
        "  * a positive value means positive correlation (e.g., in kids, when height goes up, so does weight)\n",
        "  * a negative value means negative correlation (e.e., when temperature drops in winter, heating bill goes up)\n",
        "\n",
        "<font color='green'>What is the p value? I didn't see it in the slides</font>\n",
        "\n",
        "Let's do an example with our states dataframe from previous modules. Is there a significant correlation between a state's total population and its Hispanic population? I.e., is it the case that states with a large total population have a larger Hispanic population?  \n",
        "\n",
        "<font color='red'>Exercise 10</font>  \n",
        "Run the cell below to see the correlation described above."
      ],
      "metadata": {
        "id": "7L4_7LdKapNe"
      }
    },
    {
      "cell_type": "code",
      "source": [
        "filepath = 'https://raw.githubusercontent.com/valeriecarr/engr120/main/S21/state_pop.csv'\n",
        "states_df = pd.read_csv(filepath);\n",
        "\n",
        "stats.pearsonr(states_df['totalPop'], states_df['hispPop'])"
      ],
      "metadata": {
        "id": "jwEbCiCHkqIu"
      },
      "execution_count": null,
      "outputs": []
    },
    {
      "cell_type": "markdown",
      "source": [
        "The first value returned is the `r` value, and the second is the `p` value. Note that the `p` value is given in scientific format. Since the value returned for `r` is positive and close to 1, this means that there is a high positive correlation between states' total population and Hispanic population."
      ],
      "metadata": {
        "id": "GYkc2-hplTj-"
      }
    },
    {
      "cell_type": "markdown",
      "source": [
        "## All done!\n",
        "You've finished the Stats module! Next we'll learn how to visualize the data we're working with."
      ],
      "metadata": {
        "id": "vYqInSA0L4Ph"
      }
    }
  ]
}