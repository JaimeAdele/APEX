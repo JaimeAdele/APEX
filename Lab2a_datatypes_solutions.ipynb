{
  "nbformat": 4,
  "nbformat_minor": 0,
  "metadata": {
    "kernelspec": {
      "display_name": "Python 3",
      "language": "python",
      "name": "python3"
    },
    "language_info": {
      "codemirror_mode": {
        "name": "ipython",
        "version": 3
      },
      "file_extension": ".py",
      "mimetype": "text/x-python",
      "name": "python",
      "nbconvert_exporter": "python",
      "pygments_lexer": "ipython3",
      "version": "3.7.1"
    },
    "colab": {
      "name": "Lab2a_datatypes_solutions.ipynb",
      "provenance": [],
      "collapsed_sections": [
        "-DFmkSC3DcrF",
        "mMoSrg_5DcrP",
        "CZws-TYVDcrP",
        "6eF88P1PDcrV",
        "whNRxjERDcrZ",
        "P_FORhr1Dcrd",
        "1XOrdHJLDcri",
        "tAI7cCJSDcrk"
      ],
      "include_colab_link": true
    }
  },
  "cells": [
    {
      "cell_type": "markdown",
      "metadata": {
        "id": "view-in-github",
        "colab_type": "text"
      },
      "source": [
        "<a href=\"https://colab.research.google.com/github/JaimeAdele/APEX/blob/main/Lab2a_datatypes_solutions.ipynb\" target=\"_parent\"><img src=\"https://colab.research.google.com/assets/colab-badge.svg\" alt=\"Open In Colab\"/></a>"
      ]
    },
    {
      "cell_type": "markdown",
      "metadata": {
        "id": "U2VoRlVpDcqd"
      },
      "source": [
        "# Lab 2a: Datatypes\n",
        "Name: Valerie Carr  \n",
        "Last updated: 8/25/21\n",
        "\n",
        "**Purpose**: To gain practice with writing mathematical and Boolean expressions, and assigning values to variables"
      ]
    },
    {
      "cell_type": "markdown",
      "metadata": {
        "id": "YmLWJKQSDcqe"
      },
      "source": [
        "## 1. Document your notebook\n",
        "* Enter your name as well as today's date in the cell above (you'll need to double click the cell to edit it). As a reminder, to run a cell, use `shift` + `enter`.  \n",
        "* Also, please note that for some of the exercises below, you may see the message \"x cells hidden.\" Simply click on this message to reveal the cells."
      ]
    },
    {
      "cell_type": "markdown",
      "metadata": {
        "id": "eGtiFVkADcqf"
      },
      "source": [
        "## 2. Mathematical expressions"
      ]
    },
    {
      "cell_type": "markdown",
      "metadata": {
        "id": "QC4KLUctDcqg"
      },
      "source": [
        "### 2a. The basics\n",
        "In the cells below, write expressions for each of the following, and run the cells:"
      ]
    },
    {
      "cell_type": "code",
      "metadata": {
        "id": "tAUAsKiUDcqg",
        "colab": {
          "base_uri": "https://localhost:8080/"
        },
        "outputId": "93684d5d-a7c1-4cec-c92f-3771c1db6604"
      },
      "source": [
        "# Your age multiplied by one of your group member's ages\n",
        "42 * 42"
      ],
      "execution_count": null,
      "outputs": [
        {
          "output_type": "execute_result",
          "data": {
            "text/plain": [
              "1764"
            ]
          },
          "metadata": {},
          "execution_count": 1
        }
      ]
    },
    {
      "cell_type": "code",
      "metadata": {
        "id": "FmT6gWQVDcqj",
        "colab": {
          "base_uri": "https://localhost:8080/"
        },
        "outputId": "b781dff9-659b-4666-f678-af4fd1cfd919"
      },
      "source": [
        "# The number of instructors in this course, cubed (cubed means to the third)\n",
        "3 ** 3"
      ],
      "execution_count": null,
      "outputs": [
        {
          "output_type": "execute_result",
          "data": {
            "text/plain": [
              "27"
            ]
          },
          "metadata": {},
          "execution_count": 2
        }
      ]
    },
    {
      "cell_type": "code",
      "metadata": {
        "id": "GE0I91BbDcqm",
        "colab": {
          "base_uri": "https://localhost:8080/"
        },
        "outputId": "6e05a2cf-63a5-4614-8240-988ace4e901c"
      },
      "source": [
        "# The current year divided by 100\n",
        "2021 / 100"
      ],
      "execution_count": null,
      "outputs": [
        {
          "output_type": "execute_result",
          "data": {
            "text/plain": [
              "20.21"
            ]
          },
          "metadata": {},
          "execution_count": 3
        }
      ]
    },
    {
      "cell_type": "markdown",
      "metadata": {
        "id": "qumo1zgEDcqo"
      },
      "source": [
        "### 2b. Data types\n",
        "In the cells below, write expressions for each of the following. Discuss with your partner which ones returned an integer and which one returned a float."
      ]
    },
    {
      "cell_type": "code",
      "metadata": {
        "id": "zYVZ92N8Dcqo",
        "colab": {
          "base_uri": "https://localhost:8080/"
        },
        "outputId": "33977aa5-0905-4660-fcee-341ab8dff66c"
      },
      "source": [
        "# 6 plus 2\n",
        "6 + 2"
      ],
      "execution_count": null,
      "outputs": [
        {
          "output_type": "execute_result",
          "data": {
            "text/plain": [
              "8"
            ]
          },
          "metadata": {},
          "execution_count": 4
        }
      ]
    },
    {
      "cell_type": "code",
      "metadata": {
        "id": "JaDSx069Dcqr",
        "colab": {
          "base_uri": "https://localhost:8080/"
        },
        "outputId": "7d17712f-8beb-4a5d-f61d-d740e9fdfba6"
      },
      "source": [
        "# 6.0 plus 2\n",
        "6.0 + 2"
      ],
      "execution_count": null,
      "outputs": [
        {
          "output_type": "execute_result",
          "data": {
            "text/plain": [
              "8.0"
            ]
          },
          "metadata": {},
          "execution_count": 5
        }
      ]
    },
    {
      "cell_type": "code",
      "metadata": {
        "id": "ji7C7AzEDcqt",
        "colab": {
          "base_uri": "https://localhost:8080/"
        },
        "outputId": "18a728ea-2af9-4f74-ffe4-c737b882ced8"
      },
      "source": [
        "# 6 divided by 2\n",
        "6 / 2"
      ],
      "execution_count": null,
      "outputs": [
        {
          "output_type": "execute_result",
          "data": {
            "text/plain": [
              "3.0"
            ]
          },
          "metadata": {},
          "execution_count": 6
        }
      ]
    },
    {
      "cell_type": "markdown",
      "metadata": {
        "id": "z6ji95ZVDcqw"
      },
      "source": [
        "### 2c. Order of operations\n",
        "Add parentheses to the expression below to help clarify the order of operations, ensuring that your answer is 24."
      ]
    },
    {
      "cell_type": "code",
      "metadata": {
        "id": "QSl75pCwDcqw",
        "colab": {
          "base_uri": "https://localhost:8080/"
        },
        "outputId": "004527b2-e8b1-4acc-903a-947397ea5ac4"
      },
      "source": [
        "20 * 1 + 2 ** 2"
      ],
      "execution_count": null,
      "outputs": [
        {
          "output_type": "execute_result",
          "data": {
            "text/plain": [
              "24"
            ]
          },
          "metadata": {},
          "execution_count": 7
        }
      ]
    },
    {
      "cell_type": "code",
      "metadata": {
        "colab": {
          "base_uri": "https://localhost:8080/"
        },
        "id": "LgZoMTJPnYE4",
        "outputId": "3f28731d-5427-41aa-f7af-da4f19a23c28"
      },
      "source": [
        "(20 * 1) + (2 ** 2)"
      ],
      "execution_count": null,
      "outputs": [
        {
          "output_type": "execute_result",
          "data": {
            "text/plain": [
              "24"
            ]
          },
          "metadata": {},
          "execution_count": 8
        }
      ]
    },
    {
      "cell_type": "markdown",
      "metadata": {
        "id": "ClVVERidDcqy"
      },
      "source": [
        "### 2d. Built-in functions\n",
        "In the cells below, use built-in functions to determine the following:\n",
        "* The absolute value of the difference between two children's ages (10 and 15)\n",
        "* The lowest student grade received on a quiz: 76, 98, 83, 71\n",
        "* The highest price of a cup of coffee: 2.50, 3.49, 2.99"
      ]
    },
    {
      "cell_type": "code",
      "metadata": {
        "id": "6Sxf0gibDcqz",
        "colab": {
          "base_uri": "https://localhost:8080/"
        },
        "outputId": "01be71e9-45fe-4b23-d157-e423899020e9"
      },
      "source": [
        "# Ages\n",
        "abs(10 - 15)"
      ],
      "execution_count": null,
      "outputs": [
        {
          "output_type": "execute_result",
          "data": {
            "text/plain": [
              "5"
            ]
          },
          "metadata": {},
          "execution_count": 9
        }
      ]
    },
    {
      "cell_type": "code",
      "metadata": {
        "id": "rdM6rOpvDcq1",
        "colab": {
          "base_uri": "https://localhost:8080/"
        },
        "outputId": "fa1c9285-bb67-4add-b007-3e64640dfc80"
      },
      "source": [
        "# Grade\n",
        "min(76, 98, 83, 71)"
      ],
      "execution_count": null,
      "outputs": [
        {
          "output_type": "execute_result",
          "data": {
            "text/plain": [
              "71"
            ]
          },
          "metadata": {},
          "execution_count": 10
        }
      ]
    },
    {
      "cell_type": "code",
      "metadata": {
        "id": "-jMffkdcDcq3",
        "colab": {
          "base_uri": "https://localhost:8080/"
        },
        "outputId": "83384185-f33d-4282-c9c7-4a1145e6c05e"
      },
      "source": [
        "# Coffee\n",
        "max(2.50, 3.49, 2.99)"
      ],
      "execution_count": null,
      "outputs": [
        {
          "output_type": "execute_result",
          "data": {
            "text/plain": [
              "3.49"
            ]
          },
          "metadata": {},
          "execution_count": 11
        }
      ]
    },
    {
      "cell_type": "markdown",
      "metadata": {
        "id": "A16PMuKtDcq5"
      },
      "source": [
        "## 3. Boolean expressions\n",
        "\n",
        "### 3a. Basic Boolean expressions\n",
        "Write Boolean expressions in each cell below. Feel free to use parentheses to help clarify your expressions."
      ]
    },
    {
      "cell_type": "code",
      "metadata": {
        "id": "qWi1OQIlDcq5",
        "colab": {
          "base_uri": "https://localhost:8080/"
        },
        "outputId": "3c1ecdc2-d699-4c7f-f795-846e7d75dea9"
      },
      "source": [
        "# 3 squared plus 4 is equivalent to 25 minus 12\n",
        "(3 ** 2) + 4 == 25 - 12"
      ],
      "execution_count": null,
      "outputs": [
        {
          "output_type": "execute_result",
          "data": {
            "text/plain": [
              "True"
            ]
          },
          "metadata": {},
          "execution_count": 12
        }
      ]
    },
    {
      "cell_type": "code",
      "metadata": {
        "id": "UwWSKVe4Dcq8",
        "colab": {
          "base_uri": "https://localhost:8080/"
        },
        "outputId": "7f0c0677-012c-405f-e4c4-69749ad165ed"
      },
      "source": [
        "# The minimum age among four siblings (14, 9, 7, 2) is less than 3\n",
        "min(14, 9, 7, 2) < 3"
      ],
      "execution_count": null,
      "outputs": [
        {
          "output_type": "execute_result",
          "data": {
            "text/plain": [
              "True"
            ]
          },
          "metadata": {},
          "execution_count": 13
        }
      ]
    },
    {
      "cell_type": "markdown",
      "metadata": {
        "id": "_MFIJ53KDcq-"
      },
      "source": [
        "### 3b. `and`, `or`, and `not`\n",
        "In the cells below, come up with your choice of Boolean statements for the `and`, `or`, and `not` operators. Make sure you understand why you received `True` or `False` for each one."
      ]
    },
    {
      "cell_type": "code",
      "metadata": {
        "id": "_cvqsVbQDcq-",
        "colab": {
          "base_uri": "https://localhost:8080/"
        },
        "outputId": "a310f53c-fa42-49a9-ce10-69be05b2c293"
      },
      "source": [
        "# and\n",
        "1 + 1 == 2 and 1 > 3"
      ],
      "execution_count": null,
      "outputs": [
        {
          "output_type": "execute_result",
          "data": {
            "text/plain": [
              "False"
            ]
          },
          "metadata": {},
          "execution_count": 15
        }
      ]
    },
    {
      "cell_type": "code",
      "metadata": {
        "id": "u881zrnLDcrA",
        "colab": {
          "base_uri": "https://localhost:8080/"
        },
        "outputId": "b870cae6-6798-4b7b-8274-1ef8e1438c40"
      },
      "source": [
        "# or\n",
        "1 + 1 == 2 or 1 > 3"
      ],
      "execution_count": null,
      "outputs": [
        {
          "output_type": "execute_result",
          "data": {
            "text/plain": [
              "True"
            ]
          },
          "metadata": {},
          "execution_count": 16
        }
      ]
    },
    {
      "cell_type": "code",
      "metadata": {
        "id": "35sopS0nDcrC",
        "colab": {
          "base_uri": "https://localhost:8080/"
        },
        "outputId": "cc7ec9bb-d40f-440b-b2b3-4f8f1e23c857"
      },
      "source": [
        "# not\n",
        "not(1 == 2)"
      ],
      "execution_count": null,
      "outputs": [
        {
          "output_type": "execute_result",
          "data": {
            "text/plain": [
              "True"
            ]
          },
          "metadata": {},
          "execution_count": 17
        }
      ]
    },
    {
      "cell_type": "markdown",
      "metadata": {
        "id": "gK8ZeBZ-DcrE"
      },
      "source": [
        "## 4. Assigning values to variables"
      ]
    },
    {
      "cell_type": "markdown",
      "metadata": {
        "collapsed": true,
        "id": "-DFmkSC3DcrF"
      },
      "source": [
        "### 4a. Choosing valid names\n",
        "Below, I've created some variable names to represent the price of a Hello Kitty mug. Note that I've purposefully made a few invalid names that will cause an error message. Before you run the cells, talk to your group about which ones you think will return an error. Then, go ahead and run each cell."
      ]
    },
    {
      "cell_type": "code",
      "metadata": {
        "id": "F_HNJtMvDcrF"
      },
      "source": [
        "hello_kitty = 9.99"
      ],
      "execution_count": null,
      "outputs": []
    },
    {
      "cell_type": "code",
      "metadata": {
        "id": "_aNwxZdBDcrH",
        "colab": {
          "base_uri": "https://localhost:8080/",
          "height": 130
        },
        "outputId": "941fa6cf-9bfe-4a23-a43e-fc1d19ae8ffa"
      },
      "source": [
        "hello kitty = 9.99"
      ],
      "execution_count": null,
      "outputs": [
        {
          "output_type": "error",
          "ename": "SyntaxError",
          "evalue": "ignored",
          "traceback": [
            "\u001b[0;36m  File \u001b[0;32m\"<ipython-input-19-aeec23dbcbd6>\"\u001b[0;36m, line \u001b[0;32m1\u001b[0m\n\u001b[0;31m    hello kitty = 9.99\u001b[0m\n\u001b[0m              ^\u001b[0m\n\u001b[0;31mSyntaxError\u001b[0m\u001b[0;31m:\u001b[0m invalid syntax\n"
          ]
        }
      ]
    },
    {
      "cell_type": "code",
      "metadata": {
        "id": "dKiImeGTDcrJ",
        "colab": {
          "base_uri": "https://localhost:8080/",
          "height": 130
        },
        "outputId": "b22e1bf7-b8cc-4e25-da7f-3a1a6283ffe6"
      },
      "source": [
        "hello-kitty = 9.99"
      ],
      "execution_count": null,
      "outputs": [
        {
          "output_type": "error",
          "ename": "SyntaxError",
          "evalue": "ignored",
          "traceback": [
            "\u001b[0;36m  File \u001b[0;32m\"<ipython-input-20-24ba76d6df77>\"\u001b[0;36m, line \u001b[0;32m1\u001b[0m\n\u001b[0;31m    hello-kitty = 9.99\u001b[0m\n\u001b[0m                      ^\u001b[0m\n\u001b[0;31mSyntaxError\u001b[0m\u001b[0;31m:\u001b[0m can't assign to operator\n"
          ]
        }
      ]
    },
    {
      "cell_type": "code",
      "metadata": {
        "id": "eTpvZPt1DcrL"
      },
      "source": [
        "hello_kitty1992 = 9.99"
      ],
      "execution_count": null,
      "outputs": []
    },
    {
      "cell_type": "code",
      "metadata": {
        "id": "w_xSWEQ7DcrN",
        "colab": {
          "base_uri": "https://localhost:8080/",
          "height": 130
        },
        "outputId": "615edfcb-efc5-4175-b656-22feede12e62"
      },
      "source": [
        "1992hello_kitty = 9.99"
      ],
      "execution_count": null,
      "outputs": [
        {
          "output_type": "error",
          "ename": "SyntaxError",
          "evalue": "ignored",
          "traceback": [
            "\u001b[0;36m  File \u001b[0;32m\"<ipython-input-22-ba4b12a4f7a8>\"\u001b[0;36m, line \u001b[0;32m1\u001b[0m\n\u001b[0;31m    1992hello_kitty = 9.99\u001b[0m\n\u001b[0m                  ^\u001b[0m\n\u001b[0;31mSyntaxError\u001b[0m\u001b[0;31m:\u001b[0m invalid syntax\n"
          ]
        }
      ]
    },
    {
      "cell_type": "markdown",
      "metadata": {
        "id": "mMoSrg_5DcrP"
      },
      "source": [
        "### ** Important note! **\n",
        "In the lecture slides, I mentioned that PEP8 preference for multi-word variable names is to use underscores, e.g., `hello_kitty`.\n",
        "\n",
        "Note that this is a **style preference**, and that Python won't actually give you an error if you created a slightly different variable name like: `helloKitty`. That is to say, in this class, I prefer that you use underscores as PEP8 suggests, but from Python's perspective, either `hello_kitty` or `helloKitty` are both reasonable."
      ]
    },
    {
      "cell_type": "markdown",
      "metadata": {
        "id": "CZws-TYVDcrP"
      },
      "source": [
        "### 4b. Assigning new values\n",
        "Next, let's practice using a variable name inside a mathematical expression. In the cell below, write a mathematical expression to determine the following: the value assigned to `hello_kitty` squared"
      ]
    },
    {
      "cell_type": "code",
      "metadata": {
        "id": "tceZ_8bPDcrP",
        "colab": {
          "base_uri": "https://localhost:8080/"
        },
        "outputId": "d8ced19f-653a-48da-d331-9b29ae3af467"
      },
      "source": [
        "hello_kitty ** 2"
      ],
      "execution_count": null,
      "outputs": [
        {
          "output_type": "execute_result",
          "data": {
            "text/plain": [
              "99.8001"
            ]
          },
          "metadata": {},
          "execution_count": 23
        }
      ]
    },
    {
      "cell_type": "markdown",
      "metadata": {
        "id": "88kMyYIjDcrS"
      },
      "source": [
        "We can also use variables inside Boolean expressions. In the cell below, write a Boolean expression to determine if the value assigned to `hello_kitty` is greater than or equal to 10. "
      ]
    },
    {
      "cell_type": "code",
      "metadata": {
        "id": "9qsbdyvzDcrT",
        "colab": {
          "base_uri": "https://localhost:8080/"
        },
        "outputId": "145088bb-bc5a-4bc9-bf05-36fa78fee764"
      },
      "source": [
        "hello_kitty >= 10"
      ],
      "execution_count": null,
      "outputs": [
        {
          "output_type": "execute_result",
          "data": {
            "text/plain": [
              "False"
            ]
          },
          "metadata": {},
          "execution_count": 24
        }
      ]
    },
    {
      "cell_type": "markdown",
      "metadata": {
        "id": "6eF88P1PDcrV"
      },
      "source": [
        "### 4c. Importance of consistent capitalization, spelling, and pluralization\n",
        "Remember, Python is very literal and doesn't autocorrect! In the space below, try repeating your Boolean expression from above, but purposefully make a mistake in how the variable is capitalized. Does it make sense why you receieved an error?"
      ]
    },
    {
      "cell_type": "code",
      "metadata": {
        "id": "uoQkH-v3DcrV",
        "colab": {
          "base_uri": "https://localhost:8080/",
          "height": 164
        },
        "outputId": "697db26a-1c08-42c1-ed57-76c6736cea97"
      },
      "source": [
        "Hello_kitty >= 10"
      ],
      "execution_count": null,
      "outputs": [
        {
          "output_type": "error",
          "ename": "NameError",
          "evalue": "ignored",
          "traceback": [
            "\u001b[0;31m---------------------------------------------------------------------------\u001b[0m",
            "\u001b[0;31mNameError\u001b[0m                                 Traceback (most recent call last)",
            "\u001b[0;32m<ipython-input-25-33b25b70f8cc>\u001b[0m in \u001b[0;36m<module>\u001b[0;34m()\u001b[0m\n\u001b[0;32m----> 1\u001b[0;31m \u001b[0mHello_kitty\u001b[0m \u001b[0;34m>=\u001b[0m \u001b[0;36m10\u001b[0m\u001b[0;34m\u001b[0m\u001b[0;34m\u001b[0m\u001b[0m\n\u001b[0m",
            "\u001b[0;31mNameError\u001b[0m: name 'Hello_kitty' is not defined"
          ]
        }
      ]
    },
    {
      "cell_type": "markdown",
      "metadata": {
        "collapsed": true,
        "id": "QRjGc_2gDcrY"
      },
      "source": [
        "## Congrats, you're done! \n",
        "You can leave your breakout room and return to the main Zoom room to briefly check in before signing off, or... you can stay a little longer and try the optional exercises below!"
      ]
    },
    {
      "cell_type": "markdown",
      "metadata": {
        "id": "RL9_l0l0DcrY"
      },
      "source": [
        "## OPTIONAL: Want more practice?\n",
        "If you finished early and/or would like more practice at home, try the following..."
      ]
    },
    {
      "cell_type": "markdown",
      "metadata": {
        "id": "whNRxjERDcrZ"
      },
      "source": [
        "### Mathematical expressions"
      ]
    },
    {
      "cell_type": "markdown",
      "metadata": {
        "id": "-YA_A-LpDcrZ"
      },
      "source": [
        "In the cells below, write expressions for each of the following, and run the cells:\n",
        "* The quotient for the number of times the current year can be divided by 100 \n",
        "* The remainder of the above expression"
      ]
    },
    {
      "cell_type": "code",
      "metadata": {
        "id": "aULWAiWYDcra",
        "colab": {
          "base_uri": "https://localhost:8080/"
        },
        "outputId": "269b0fb4-adaa-436d-e383-5fffa60fec3a"
      },
      "source": [
        "# Quotient\n",
        "2021 // 100"
      ],
      "execution_count": null,
      "outputs": [
        {
          "output_type": "execute_result",
          "data": {
            "text/plain": [
              "20"
            ]
          },
          "metadata": {},
          "execution_count": 26
        }
      ]
    },
    {
      "cell_type": "code",
      "metadata": {
        "id": "YVhk_etLDcrb",
        "colab": {
          "base_uri": "https://localhost:8080/"
        },
        "outputId": "1ac8e6d3-db6f-4b20-fa93-96ef1a0ce19e"
      },
      "source": [
        "# Remainder\n",
        "2021 % 100"
      ],
      "execution_count": null,
      "outputs": [
        {
          "output_type": "execute_result",
          "data": {
            "text/plain": [
              "21"
            ]
          },
          "metadata": {},
          "execution_count": 34
        }
      ]
    },
    {
      "cell_type": "markdown",
      "metadata": {
        "id": "P_FORhr1Dcrd"
      },
      "source": [
        "### Data types\n",
        "Write expressions for each of the following. Do you understand why both return floats?\n",
        "* 6 divided by 2\n",
        "* 6.0 divided by 2.0"
      ]
    },
    {
      "cell_type": "code",
      "metadata": {
        "id": "lU09bz4qDcre",
        "colab": {
          "base_uri": "https://localhost:8080/"
        },
        "outputId": "212c34f4-4d45-49f3-a35b-899c503dfb63"
      },
      "source": [
        "# 6 divided by 2\n",
        "6 / 2"
      ],
      "execution_count": null,
      "outputs": [
        {
          "output_type": "execute_result",
          "data": {
            "text/plain": [
              "3.0"
            ]
          },
          "metadata": {},
          "execution_count": 28
        }
      ]
    },
    {
      "cell_type": "code",
      "metadata": {
        "id": "_6EObJDLDcrg",
        "colab": {
          "base_uri": "https://localhost:8080/"
        },
        "outputId": "b1ec8f6d-280e-4b86-b0e3-ad9caf79b07d"
      },
      "source": [
        "# 6.0 divided by 2.0\n",
        "6.0 / 2.0"
      ],
      "execution_count": null,
      "outputs": [
        {
          "output_type": "execute_result",
          "data": {
            "text/plain": [
              "3.0"
            ]
          },
          "metadata": {},
          "execution_count": 35
        }
      ]
    },
    {
      "cell_type": "markdown",
      "metadata": {
        "id": "1XOrdHJLDcri"
      },
      "source": [
        "### Order of operations\n",
        "In the cell below, re-write the following expression to include parentheses to help clarify the order of operations, ensuring that your answer is correct (18.0):\n",
        "* 10 / 5 + 3 * 6 - 2"
      ]
    },
    {
      "cell_type": "code",
      "metadata": {
        "id": "wB7ZPS0ZDcri",
        "colab": {
          "base_uri": "https://localhost:8080/"
        },
        "outputId": "6a66c1d0-6826-4ba6-8a76-0d38465d4d15"
      },
      "source": [
        "(10 / 5) + (3 * 6) - 2"
      ],
      "execution_count": null,
      "outputs": [
        {
          "output_type": "execute_result",
          "data": {
            "text/plain": [
              "18.0"
            ]
          },
          "metadata": {},
          "execution_count": 36
        }
      ]
    },
    {
      "cell_type": "markdown",
      "metadata": {
        "id": "tAI7cCJSDcrk"
      },
      "source": [
        "### Boolean expressions\n",
        "Look back at the expressions you wrote for 3b above. How would you edit these to obtain the opposite answer? I.e., if your original expression returned `True`, edit it so that it now returns `False`."
      ]
    },
    {
      "cell_type": "code",
      "metadata": {
        "id": "d1sYFTP1Dcrk",
        "colab": {
          "base_uri": "https://localhost:8080/"
        },
        "outputId": "eb37d067-02fd-4d58-dd01-877695746e20"
      },
      "source": [
        "# and\n",
        "# original: 1 + 1 == 2 and 1 > 3 (gave us False)\n",
        "1 + 1 == 2 and 1 < 3"
      ],
      "execution_count": null,
      "outputs": [
        {
          "output_type": "execute_result",
          "data": {
            "text/plain": [
              "True"
            ]
          },
          "metadata": {},
          "execution_count": 31
        }
      ]
    },
    {
      "cell_type": "code",
      "metadata": {
        "id": "TE79dmDVDcrm",
        "colab": {
          "base_uri": "https://localhost:8080/"
        },
        "outputId": "decbe132-63ce-48d2-d05e-6677ee0e7e89"
      },
      "source": [
        "# or\n",
        "# original: 1 + 1 == 2 or 1 > 3 (gave us True)\n",
        "1 + 1 != 2 or 1 > 3"
      ],
      "execution_count": null,
      "outputs": [
        {
          "output_type": "execute_result",
          "data": {
            "text/plain": [
              "False"
            ]
          },
          "metadata": {},
          "execution_count": 32
        }
      ]
    },
    {
      "cell_type": "code",
      "metadata": {
        "id": "oQTiBNdODcru",
        "colab": {
          "base_uri": "https://localhost:8080/"
        },
        "outputId": "b78da07b-ced2-4424-9afc-745304424499"
      },
      "source": [
        "# not\n",
        "# original: not(1 == 2) (gave us True)\n",
        "not(1 < 2)"
      ],
      "execution_count": null,
      "outputs": [
        {
          "output_type": "execute_result",
          "data": {
            "text/plain": [
              "False"
            ]
          },
          "metadata": {},
          "execution_count": 33
        }
      ]
    },
    {
      "cell_type": "code",
      "metadata": {
        "id": "k9pFiBaiqXzR"
      },
      "source": [
        ""
      ],
      "execution_count": null,
      "outputs": []
    }
  ]
}