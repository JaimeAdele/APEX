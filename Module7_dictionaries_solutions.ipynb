{
  "nbformat": 4,
  "nbformat_minor": 0,
  "metadata": {
    "kernelspec": {
      "display_name": "Python 3",
      "language": "python",
      "name": "python3"
    },
    "language_info": {
      "codemirror_mode": {
        "name": "ipython",
        "version": 3
      },
      "file_extension": ".py",
      "mimetype": "text/x-python",
      "name": "python",
      "nbconvert_exporter": "python",
      "pygments_lexer": "ipython3",
      "version": "3.7.1"
    },
    "colab": {
      "name": "Module7_dictionaries_solutions",
      "provenance": [],
      "collapsed_sections": [],
      "include_colab_link": true
    }
  },
  "cells": [
    {
      "cell_type": "markdown",
      "metadata": {
        "id": "view-in-github",
        "colab_type": "text"
      },
      "source": [
        "<a href=\"https://colab.research.google.com/github/JaimeAdele/APEX/blob/main/Module7_dictionaries_solutions.ipynb\" target=\"_parent\"><img src=\"https://colab.research.google.com/assets/colab-badge.svg\" alt=\"Open In Colab\"/></a>"
      ]
    },
    {
      "cell_type": "markdown",
      "metadata": {
        "id": "k61n8e9Uk32Y"
      },
      "source": [
        "<img src='https://cdn.pixabay.com/photo/2016/08/25/15/30/dictionary-1619740_1280.jpg' width=700>  \n",
        "Photo by stevepb production from Pixabay"
      ]
    },
    {
      "cell_type": "markdown",
      "metadata": {
        "id": "Cq-yWbWYrveu"
      },
      "source": [
        "# APEX Faculty Training, Module 7: Dictionaries Solutions\n",
        "\n",
        "Created by Valerie Carr and Jaime Zuspann  \n",
        "Licensed under a Creative Commons license: CC BY-NC-SA  \n",
        "Last updated: Dec 5, 2021 "
      ]
    },
    {
      "cell_type": "markdown",
      "metadata": {
        "id": "E48I6l-ervev"
      },
      "source": [
        "## 3. Creating dictionaries"
      ]
    },
    {
      "cell_type": "markdown",
      "metadata": {
        "id": "X8NB_n4riPHg"
      },
      "source": [
        "<font color='red'>Exercise 1 solution</font>  \n",
        "Run the cells to see the output. Output is:  \n",
        "`['Potter', 'Harry']`  \n",
        "`['Weasley', 'Ron']`"
      ]
    },
    {
      "cell_type": "code",
      "source": [
        "students = {\n",
        "    123456789: ['Potter', 'Harry'],\n",
        "    987654321: ['Granger', 'Hermione'],\n",
        "    101010101: ['Weasley', 'Ron']\n",
        "}"
      ],
      "metadata": {
        "id": "sp9JPUICv2Jx"
      },
      "execution_count": 1,
      "outputs": []
    },
    {
      "cell_type": "markdown",
      "source": [
        "<font color='red'>Exercise 2 solution</font>  \n",
        "Run the cells to see the output. Outputs are:  \n",
        "`['Potter', 'Harry']`  \n",
        "`['Weasley', 'Ron']`"
      ],
      "metadata": {
        "id": "dg4QciknwDzf"
      }
    },
    {
      "cell_type": "code",
      "source": [
        "students[123456789]"
      ],
      "metadata": {
        "id": "iSooF4FtwCKn"
      },
      "execution_count": null,
      "outputs": []
    },
    {
      "cell_type": "code",
      "source": [
        "students[101010101]"
      ],
      "metadata": {
        "id": "7FbOMui6wRpD"
      },
      "execution_count": null,
      "outputs": []
    },
    {
      "cell_type": "markdown",
      "metadata": {
        "id": "3dqXtVVMiihJ"
      },
      "source": [
        "<font color='red'>Exercise 3 possible solution</font>  \n",
        "Create a dictionary named `groceries` that contains **four** key:value pairings. \n",
        "* Each key should be a 5-digit code (as an integer)\n",
        "* Each value should be a list that contains two items: the product name (as a string) and price (as a float). So, for example, you might have a 5-digit code like 44809 that is associated with 'Cheerios' and a price of 3.29.  \n",
        "\n",
        "Your keys and values will be different, but the structure should be maintained. Also, keys may be integers rather than strings (the quotes aren't necessary for the keys)."
      ]
    },
    {
      "cell_type": "code",
      "metadata": {
        "id": "BcDZjBqmrvew"
      },
      "source": [
        "groceries = {\n",
        "    '12345': ['mango', 3.99],\n",
        "    '10101': ['banana', 0.99],\n",
        "    '54321': ['apple', 1.29],\n",
        "    '98765': ['lime', 0.69],\n",
        "}"
      ],
      "execution_count": null,
      "outputs": []
    },
    {
      "cell_type": "markdown",
      "metadata": {
        "id": "ufJDn2jFrve4"
      },
      "source": [
        "<font color='red'>Exercise 4 possible solution</font>  \n",
        "Choose a 5-digit code (i.e., choose a key), and use it to access the relevant value within your dictionary.  \n",
        "You should have put one of your keys within the square brackets and obtained the corresponding list of the item name and its price."
      ]
    },
    {
      "cell_type": "code",
      "metadata": {
        "id": "VYBeCEQrrve4"
      },
      "source": [
        "groceries['54321']"
      ],
      "execution_count": null,
      "outputs": []
    },
    {
      "cell_type": "markdown",
      "metadata": {
        "id": "4eTXTut86hvT"
      },
      "source": [
        "## 4. Dictionary properties  "
      ]
    },
    {
      "cell_type": "markdown",
      "metadata": {
        "id": "1H9r1JJytLfy"
      },
      "source": [
        "<font color='red'>Exercise 5 solution</font>  \n",
        "Run the cell to see the output. Output is:  \n",
        "`{123456789: ['Potter', 'Harry'],  \n",
        "987654321: ['Granger', 'Hermione'],  \n",
        "101010101: ['Weasley', 'Ron'],  \n",
        "135792468: ['Malfoy', 'Drako']}`"
      ]
    },
    {
      "cell_type": "code",
      "source": [
        "students[135792468] = ['Malfoy', 'Drako']\n",
        "students"
      ],
      "metadata": {
        "id": "7teOdm_aw-x3"
      },
      "execution_count": null,
      "outputs": []
    },
    {
      "cell_type": "markdown",
      "metadata": {
        "id": "5Qmu5f09vqew"
      },
      "source": [
        "<font color='red'>Exercise 6 solution</font>  \n",
        "Run the cells to see the output. Output is:  \n",
        "`{123456789: ['Potter', 'Harry'], 987654321: ['Granger', 'Hermione'], 101010101: ['Weasley', 'Ron'], 135792468: ['Malfoy', 'Draco']}`"
      ]
    },
    {
      "cell_type": "code",
      "source": [
        "students[135792468] = ['Malfoy', 'Draco']\n",
        "students"
      ],
      "metadata": {
        "id": "48VCX372xMkp"
      },
      "execution_count": null,
      "outputs": []
    },
    {
      "cell_type": "markdown",
      "metadata": {
        "id": "K_PvWvgxvtyN"
      },
      "source": [
        "<font color='red'>Exercise 7 possible solutions</font>  \n",
        "* Change the value associated with a key of your choosing such that the price increases. For example, rather than Cheerios costing 3.29, maybe they now cost 3.49.\n",
        "* Then, type the name of the dictionary to ensure that the price has indeed changed. (Note: if the order of key-value pairs in your dictionary has changed since you first created it, don't worry! A dictionary's contents have no particular order.)  \n",
        "\n",
        "Again, your keys and values will be different, but the structure of your solution should follow one of these two options:  \n",
        "Note: you could have also used positive indexing (index 1) for answer format 2."
      ]
    },
    {
      "cell_type": "code",
      "metadata": {
        "id": "WSPV0V4Yv2jE"
      },
      "source": [
        "# Correct answer format 1\n",
        "groceries['54321'] = ['apple', 1.49]\n",
        "groceries"
      ],
      "execution_count": null,
      "outputs": []
    },
    {
      "cell_type": "code",
      "metadata": {
        "id": "jyktqMOxwgco"
      },
      "source": [
        "# Correct answer format 2\n",
        "groceries['54321'][-1] = 1.49\n",
        "groceries"
      ],
      "execution_count": null,
      "outputs": []
    },
    {
      "cell_type": "markdown",
      "metadata": {
        "id": "1Fp8lGoMxuRo"
      },
      "source": [
        "<font color='red'>Exercise 8 possible solutions</font>  \n",
        "Create a new `key:value` pair using a 5-digit code of your choosing, the name of the product, and a price of your choosing. Type the name of your dictionary to ensure that this new pair was properly added.  \n",
        "Your keys may be integers rather than strings, and your price may be different, but the structure should match that below."
      ]
    },
    {
      "cell_type": "code",
      "metadata": {
        "id": "oBng3o93xt7j"
      },
      "source": [
        "groceries['86753'] = ['masks', 9.99]\n",
        "groceries"
      ],
      "execution_count": null,
      "outputs": []
    },
    {
      "cell_type": "markdown",
      "metadata": {
        "id": "4po_bP7f6mab"
      },
      "source": [
        "## 5. Operations with dictionaries"
      ]
    },
    {
      "cell_type": "markdown",
      "metadata": {
        "id": "5m65OCTI4P88"
      },
      "source": [
        "<font color='red'>Exercise 9 solution</font>  \n",
        "Run the cell to see the output. Output is:  \n",
        "`True`  \n",
        "`False`  \n",
        "`4`"
      ]
    },
    {
      "cell_type": "code",
      "source": [
        "123456789 in students"
      ],
      "metadata": {
        "id": "ccIGxR91x4JB"
      },
      "execution_count": null,
      "outputs": []
    },
    {
      "cell_type": "code",
      "source": [
        "987654321 not in students"
      ],
      "metadata": {
        "id": "jif1L8YGx4pm"
      },
      "execution_count": null,
      "outputs": []
    },
    {
      "cell_type": "code",
      "source": [
        "len(students)"
      ],
      "metadata": {
        "id": "MGzlpoXQx55P"
      },
      "execution_count": null,
      "outputs": []
    },
    {
      "cell_type": "markdown",
      "metadata": {
        "id": "UE17W-Oe4WVx"
      },
      "source": [
        "<font color='red'>Exercise 10 solution</font>  \n",
        "Determine whether `kiwi` is a key in your dictionary: "
      ]
    },
    {
      "cell_type": "code",
      "metadata": {
        "id": "qxBgB7Sl4ThZ"
      },
      "source": [
        "'kiwi' in groceries"
      ],
      "execution_count": null,
      "outputs": []
    },
    {
      "cell_type": "markdown",
      "source": [
        "<font color='red'>Exercise 11 solution</font>  \n",
        "How many `key:value` pairs are in your dictionary?"
      ],
      "metadata": {
        "id": "gJPUNi87ySmw"
      }
    },
    {
      "cell_type": "code",
      "metadata": {
        "id": "C-IjZEnC4Zvq"
      },
      "source": [
        "len(groceries)"
      ],
      "execution_count": null,
      "outputs": []
    }
  ]
}