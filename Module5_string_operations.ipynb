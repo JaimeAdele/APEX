{
  "nbformat": 4,
  "nbformat_minor": 0,
  "metadata": {
    "kernelspec": {
      "display_name": "Python 3",
      "language": "python",
      "name": "python3"
    },
    "language_info": {
      "codemirror_mode": {
        "name": "ipython",
        "version": 3
      },
      "file_extension": ".py",
      "mimetype": "text/x-python",
      "name": "python",
      "nbconvert_exporter": "python",
      "pygments_lexer": "ipython3",
      "version": "3.7.1"
    },
    "colab": {
      "name": "Module5_string_operations.ipynb",
      "provenance": [],
      "collapsed_sections": [],
      "include_colab_link": true
    }
  },
  "cells": [
    {
      "cell_type": "markdown",
      "metadata": {
        "id": "view-in-github",
        "colab_type": "text"
      },
      "source": [
        "<a href=\"https://colab.research.google.com/github/JaimeAdele/APEX/blob/main/Module5_string_operations.ipynb\" target=\"_parent\"><img src=\"https://colab.research.google.com/assets/colab-badge.svg\" alt=\"Open In Colab\"/></a>"
      ]
    },
    {
      "cell_type": "markdown",
      "metadata": {
        "id": "tcP2h0QW0A6X"
      },
      "source": [
        "<img src='https://cdn.pixabay.com/photo/2020/04/21/16/41/threads-5073817_1280.jpg' width=700>   \n",
        "Photo by ds_30 from Pixabay"
      ]
    },
    {
      "cell_type": "markdown",
      "metadata": {
        "id": "L3vFn9_lzweJ"
      },
      "source": [
        "# APEX Faculty Training, Module 5: String Operations\n",
        "Created by Valerie Carr and Jaime Zuspann  \n",
        "Licensed under a Creative Commons license: CC BY-NC-SA  \n",
        "Last updated: Jan 22, 2022\n",
        "\n",
        "**Learning outcomes**  \n",
        "1. To continue learning how to perform operations with strings"
      ]
    },
    {
      "cell_type": "markdown",
      "metadata": {
        "id": "LiPDUmfw3Np7"
      },
      "source": [
        "## 1. A couple notes before you start \n",
        "* This file is view only, meaning that you can't edit it.\n",
        "    * To create an editable copy, look towards the top of the notebook and click on `Copy to Drive`. This will cause a new tab to open with your own personal copy.\n",
        "    * If you want to refer back to your copy in the future, you can find it in Google Drive in a folder called `Colab Notebooks`.\n",
        "* To run a cell, use `shift` + `enter`.   \n",
        "* Keep the following Python style preferences in mind:\n",
        "    * Variable names should use `snake_case`\n",
        "    * Include spaces before and after operators, e.g., `x + 1`\n",
        "    * Don't put unnecessary spaces after a function name, before the parentheses\n",
        "        * Correct: `print(my_variable)`\n",
        "        * Incorrect: `print (my_variable)`\n",
        "    * Don't put unnecessary spaces at the beginning or end of parentheses\n",
        "        * Correct: `print(my_variable)`\n",
        "        * Incorrect: `print( my_variable )`"
      ]
    },
    {
      "cell_type": "markdown",
      "metadata": {
        "id": "y3h7t94Ut2bW"
      },
      "source": [
        "## 2. Algebraic operators\n",
        "A small number of algebraic operators can be used on strings. Specifically, we can use the `+` operator to combine strings, and we can use the `*` operator to make copies of strings.\n",
        "\n",
        "### 2a. Concatenation\n",
        "Strings can be concatenated, i.e., added together, with the `+` operator. For example, you could take the strings `hot` and `dog` and concatenate them to become `hotdog`.\n",
        "\n",
        "<font color='red'>Exercise 1</font>  \n",
        "In the cell below, we've created already two variables and assigned them each a string. Then, we try out a couple different ways of concatenating the strings. Run the cell below to see the difference produced with these two approaches."
      ]
    },
    {
      "cell_type": "code",
      "source": [
        "str1 = 'hello'\n",
        "str2 = 'world'\n",
        "print(str1 + str2)\n",
        "print(str1 + ' ' + str2)"
      ],
      "metadata": {
        "id": "7ZoK-QFOgp7K"
      },
      "execution_count": null,
      "outputs": []
    },
    {
      "cell_type": "markdown",
      "source": [
        "As you can see, the `+` operator doesn't add spaces between strings; rather, it puts them directly together. If you want a space to appear between two strings, you need to add the space yourself as can be seen on the last line above.\n",
        "\n",
        "<font color='red'>Exercise 2</font>  \n",
        "In the cell below, we've already created two variables and assigned them each a string. Underneath these lines, create the variable `pizza` and assign it the combined value of `top1` and `top2` such that they're printed with a space in-between. Finally, insert another new line and print `pizza` to check that your output is as expected."
      ],
      "metadata": {
        "id": "VQGAEav6gukx"
      }
    },
    {
      "cell_type": "code",
      "source": [
        "top1 = 'artichokes'\n",
        "top2 = 'olives'\n"
      ],
      "metadata": {
        "id": "I-PpRhUVha58"
      },
      "execution_count": null,
      "outputs": []
    },
    {
      "cell_type": "markdown",
      "metadata": {
        "id": "sBEQkD-Ft0aL"
      },
      "source": [
        "### 2b. Copies\n",
        "Multiple copies of a string can be made with the `*` operator along with an integer that indicates how many copies are desired. The integer can be written first followed by the string (e.g., `7 * 'hello'`) or the string can be written first followed by the integer (e.g., `'hello' * 7`)\n",
        "\n",
        "<font color='red'>Exercise 3</font>  \n",
        "Run the cell below to verify that both approaches provide the same output."
      ]
    },
    {
      "cell_type": "code",
      "source": [
        "# Integer first\n",
        "print(2 * 'yo')\n",
        "\n",
        "# String first\n",
        "print('yo' * 2)"
      ],
      "metadata": {
        "id": "wO-s_FxWhkBw"
      },
      "execution_count": null,
      "outputs": []
    },
    {
      "cell_type": "markdown",
      "metadata": {
        "id": "88Oti5uOtsUM"
      },
      "source": [
        " What if we wanted to make copies that had spaces between them? This is easy to do – inside the quote marks for the string of interest, simply insert a space at the end. So, instead of `'ha'` you would have `'ha '`.\n",
        "\n",
        " <font color='red'>Exercise 4</font>  \n",
        " Try it out! In the cell below, write code that will print the following output: `ha ha ha ha ha `. In other words, 5 copies of the word `ha` separated by spaces."
      ]
    },
    {
      "cell_type": "code",
      "metadata": {
        "id": "GfAEuFQCtqfB"
      },
      "source": [
        ""
      ],
      "execution_count": null,
      "outputs": []
    },
    {
      "cell_type": "markdown",
      "metadata": {
        "id": "ED1Egczltomu"
      },
      "source": [
        "## 3. Checking the contents of a string\n",
        "It's often helpful to check whether a string contains a particular character or set of characters. For example, can the word `disgusting` be found in the larger sentence `Pizza is delicious`?\n",
        "\n",
        "To check the contents of a string, Python uses the keywords `in` and `not in` within a Boolean expression, such that the result is either `True` or `False`. \n",
        "\n",
        "The general syntax is as follows:\n",
        "\n",
        "`'char' in my_str`  \n",
        "`'char' not in my_str`\n",
        "\n",
        "<font color='red'>Exercise 5</font>  \n",
        "Run the cell below to see a simple demonstration of this concept. "
      ]
    },
    {
      "cell_type": "code",
      "metadata": {
        "id": "56Y1-4jWtmjv"
      },
      "source": [
        "my_alphabet = 'abcdefghijkmnopqrstuvwxyz'\n",
        "print('z' in my_alphabet)\n",
        "print('l' not in my_alphabet)"
      ],
      "execution_count": null,
      "outputs": []
    },
    {
      "cell_type": "markdown",
      "metadata": {
        "id": "8WrKGTjmtkfL"
      },
      "source": [
        "The first Boolean expression returns `True` because the letter `z` is indeed part of our `my_alphabet`. We seemed to have missed the letter `l` when creating the alphabet, however, so the second Boolean expression is also `True`."
      ]
    },
    {
      "cell_type": "markdown",
      "source": [
        "<font color='red'>Exercise 6</font>  \n",
        "Try it yourself! If you're a Star Wars fan, you may remember Yoda's advice to Luke: \"Do or do not, there is no try.\"\n",
        "\n",
        "In the cell below, create the variable `yoda` and assign it this sentence as a string. Then, check whether the word `force` is part of the sentence."
      ],
      "metadata": {
        "id": "Simiwux3ijKE"
      }
    },
    {
      "cell_type": "code",
      "metadata": {
        "id": "0wOM2a26tiI7"
      },
      "source": [
        ""
      ],
      "execution_count": null,
      "outputs": []
    },
    {
      "cell_type": "markdown",
      "metadata": {
        "id": "bIrdNiZCtgKn"
      },
      "source": [
        "## 4. Determining the length of a string\n",
        "Although there are numerous benefits to learning how to program, one of the major benefits is automating something that would otherwise be quite tedious to do by hand. For example, how many characters are in this paragraph? Why painstakingly count each one when Python could do it for you!\n",
        "\n",
        "To determine the length of a string, i.e., how many characters are in a string, Python uses the built-in function `len()`. This function will return length of whatever string is placed inside the parentheses.\n",
        "\n",
        "<font color='red'>Exercise 7</font>  \n",
        "Run the cells below to see a few simple examples of using the `len()` function:"
      ]
    },
    {
      "cell_type": "code",
      "metadata": {
        "id": "pGGGagNTtebt"
      },
      "source": [
        "greeting = \"Hi there\"\n",
        "len(greeting)"
      ],
      "execution_count": null,
      "outputs": []
    },
    {
      "cell_type": "code",
      "source": [
        "farewell = 'Until then!'\n",
        "len(farewell)"
      ],
      "metadata": {
        "id": "0rq5C4eKizME"
      },
      "execution_count": null,
      "outputs": []
    },
    {
      "cell_type": "code",
      "source": [
        "time = 'See you at 8'\n",
        "len(time)"
      ],
      "metadata": {
        "id": "SXevqYlvi11l"
      },
      "execution_count": null,
      "outputs": []
    },
    {
      "cell_type": "markdown",
      "metadata": {
        "id": "Dl2hMpEttc6k"
      },
      "source": [
        "---\n",
        "\n",
        "#### <font color='blue'>Note:</font> What counts as a character? \n",
        "Python considers all of the following to be characters and will thus count them in the total length of the string:\n",
        "* Letters\n",
        "* Numbers\n",
        "* Punctuation (periods, commas, exclamation points, etc.)\n",
        "* Symbols (hyphens, hashtags, ampersands, etc.)\n",
        "* Spaces  \n",
        "\n",
        "The last one might surprise you! The string `'Hi there'` is 8 characters long rather than 7 because spaces count as characters. Revisit each of the examples above to ensure that you understand why each output was produced.\n",
        "\n",
        "---\n"
      ]
    },
    {
      "cell_type": "markdown",
      "metadata": {
        "id": "HLt-kH2utZg3"
      },
      "source": [
        "<font color='red'>Exercise 8</font>  \n",
        "In the cell below, start by creating the variable `school` and assign it the name of your institution as a string. Don't simply write the acronym (e.g., SJSU), but rather spell out the full name (e.g., San Jose State University).\n",
        "\n",
        "Then, in the same cell, insert a new line and determine the length of the string assigned to `school`. "
      ]
    },
    {
      "cell_type": "code",
      "metadata": {
        "id": "x_GkEXc_tX3q"
      },
      "source": [
        ""
      ],
      "execution_count": null,
      "outputs": []
    },
    {
      "cell_type": "markdown",
      "metadata": {
        "id": "dgx4ojiGtUhF"
      },
      "source": [
        "## 5. Accessing individual characters in a string\n",
        "Imagine that you wanted to select the first letter in the name `Trinh`. How can you access an individual character within a string? By using the indexing operator! Before we jump to understanding this operator, let's first discuss what is meant by the term **index**. A character's index is simply its position within a string.\n",
        "\n",
        "\n",
        "---\n",
        "\n",
        "\n",
        "#### <font color='blue'>Note:</font> Indexing starts at 0 \n",
        "Unlike human counting, Python indexing starts at 0 instead of 1. This means that the first character in a string has an index of 0, the second character has an index of 1, the third character has an index of 2, etc. See the table below for a visual representation of the index of each character in a simple string:\n",
        "\n",
        "<table>\n",
        "  <tr>\n",
        "    <td>H</td>\n",
        "    <td>e</td>\n",
        "    <td>l</td>\n",
        "    <td>l</td>\n",
        "    <td>o</td>\n",
        "    <td>!</td>\n",
        "  </tr>\n",
        "  <tr>\n",
        "    <td>0</td>\n",
        "    <td>1</td>\n",
        "    <td>2</td>\n",
        "    <td>3</td>\n",
        "    <td>4</td>\n",
        "    <td>5</td>\n",
        "</table>  \n",
        "\n",
        "\n",
        "It's also important to remember that a string's characters include not only letters, but also numbers, punctuation, symbols, and spaces. Thus, the exclamation point in the above example counts as a character and can be found at index 2.\n",
        "\n",
        "\n",
        "---\n",
        "\n",
        "Back to our original example of wanting to select the first letter in the name `Trinh`. We do this using Python's indexing operator, or `[]`. the general syntax for using this operator is as follows\n",
        "\n",
        "`my_str[n]`\n",
        "\n",
        "Instead of `n`, however, you would insert an integer that represents an index. To select the first character in a string, we use an index of 0. Putting it all together, we would have\n",
        "\n",
        "`name = 'Trinh'`  \n",
        "`name[0]`\n",
        "\n",
        "<font color='red'>Exercise 9</font>  \n",
        "Run the cell below to see a few more examples of using the indexing operator. You may be surprised to see that there are only two outputs, when you expected three. Think carefully: why does it appear as though nothing was returned for `fact[6]`?"
      ]
    },
    {
      "cell_type": "code",
      "metadata": {
        "id": "2uwHNocJtSH9"
      },
      "source": [
        "fact = 'Python is the best coding language!'\n",
        "print(fact[1])\n",
        "print(fact[6])\n",
        "print(fact[34])"
      ],
      "execution_count": null,
      "outputs": []
    },
    {
      "cell_type": "markdown",
      "metadata": {
        "id": "mt1QQmFztQSA"
      },
      "source": [
        "<font color='red'>Exercise 10</font>  \n",
        "In the cell below, create the variable `birthplace` and assign it a short string that states where you were born. For example, `'I was born in the Phillipines.'` \n",
        "\n",
        "Then, write code that will print the first and fourth character of this string. Reminder: Python starts indexing at zero, so when we say \"the first character in the string\", we mean the character at index 0. "
      ]
    },
    {
      "cell_type": "code",
      "metadata": {
        "id": "HuBvXPXotNOd"
      },
      "source": [
        ""
      ],
      "execution_count": null,
      "outputs": []
    },
    {
      "cell_type": "markdown",
      "metadata": {
        "id": "CDiTzvpbtLaj"
      },
      "source": [
        "## 6. Negative indexing  \n",
        "The process described above is \"normal\" or \"forward\" indexing. Using this approach, the very first character (i.e., the character that is furthest left) is at index 0, and the numbers increase from there. \n",
        "\n",
        "Python also allows for \"negative\" or \"backward\" indexing. With this approach, we start with the very last character (i.e., the character that is furthest right). This character has an index of -1. Moving left, the second to last character has an index of -2, the third to last character has an index of -3, etc. See the table below for a visual representation of both normal and negative indexing for a simple string:\n",
        "\n",
        "<table>\n",
        "  <tr>\n",
        "    <td>H</td>\n",
        "    <td>e</td>\n",
        "    <td>l</td>\n",
        "    <td>l</td>\n",
        "    <td>o</td>\n",
        "    <td>!</td>\n",
        "  </tr>\n",
        "  <tr>\n",
        "    <td>0</td>\n",
        "    <td>1</td>\n",
        "    <td>2</td>\n",
        "    <td>3</td>\n",
        "    <td>4</td>\n",
        "    <td>5</td>\n",
        "    </tr>\n",
        "  <tr>\n",
        "    <td>-6</td>\n",
        "    <td>-5</td>\n",
        "    <td>-4</td>\n",
        "    <td>-3</td>\n",
        "    <td>-2</td>\n",
        "    <td>-1</td>\n",
        "    </tr>\n",
        "</table>  \n",
        "\n",
        "<font color='red'>Exercise 11</font>  \n",
        "Continuing on with the same string as in Exercise 10 (`birthplace`), use negative indexing to determine the second to last character in the string. You may need to scroll back up to ensure that the output you received is as you expected."
      ]
    },
    {
      "cell_type": "code",
      "metadata": {
        "id": "AssvT_n7tJLF"
      },
      "source": [
        ""
      ],
      "execution_count": null,
      "outputs": []
    },
    {
      "cell_type": "markdown",
      "metadata": {
        "id": "D7zKiWBqtGe8"
      },
      "source": [
        "## Congrats, you're done! \n",
        "In this module, we've finished our discussion of strings. If you'd like more practice with string operations, click on this link to be taken to a Colab notebook with more practice exercises. \n",
        "\n",
        "Otherwise, continue to the next module to learn about two new data types: lists and tuples!"
      ]
    }
  ]
}