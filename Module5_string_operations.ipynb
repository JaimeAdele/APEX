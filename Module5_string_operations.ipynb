{
  "nbformat": 4,
  "nbformat_minor": 0,
  "metadata": {
    "kernelspec": {
      "display_name": "Python 3",
      "language": "python",
      "name": "python3"
    },
    "language_info": {
      "codemirror_mode": {
        "name": "ipython",
        "version": 3
      },
      "file_extension": ".py",
      "mimetype": "text/x-python",
      "name": "python",
      "nbconvert_exporter": "python",
      "pygments_lexer": "ipython3",
      "version": "3.7.1"
    },
    "colab": {
      "name": "Module5_string_operations.ipynb",
      "provenance": [],
      "collapsed_sections": [],
      "include_colab_link": true
    }
  },
  "cells": [
    {
      "cell_type": "markdown",
      "metadata": {
        "id": "view-in-github",
        "colab_type": "text"
      },
      "source": [
        "<a href=\"https://colab.research.google.com/github/JaimeAdele/APEX/blob/main/Module5_string_operations.ipynb\" target=\"_parent\"><img src=\"https://colab.research.google.com/assets/colab-badge.svg\" alt=\"Open In Colab\"/></a>"
      ]
    },
    {
      "cell_type": "markdown",
      "metadata": {
        "id": "tcP2h0QW0A6X"
      },
      "source": [
        "<img src='https://cdn.pixabay.com/photo/2020/04/21/16/41/threads-5073817_1280.jpg' width=700>   \n",
        "Photo by ds_30 from Pixabay"
      ]
    },
    {
      "cell_type": "markdown",
      "metadata": {
        "id": "L3vFn9_lzweJ"
      },
      "source": [
        "# APEX Faculty Training, Module 5: String Operations\n",
        "Created by Valerie Carr and Jaime Zuspann  \n",
        "Licensed under a Creative Commons license: CC BY-NC-SA  \n",
        "Last updated: Dec 5, 2021  \n",
        "\n",
        "**Learning outcomes**  \n",
        "1. "
      ]
    },
    {
      "cell_type": "markdown",
      "metadata": {
        "id": "LiPDUmfw3Np7"
      },
      "source": [
        "## 1. Before you start  \n",
        "Make a copy of this notebook and document it with your name and today's date.  \n",
        "This module introduces many of the operations we can perform on strings. As we go into this module, keep in mind PEP8 rules regarding spaces:\n",
        "* A single space before and after operators"
      ]
    },
    {
      "cell_type": "markdown",
      "metadata": {
        "id": "y3h7t94Ut2bW"
      },
      "source": [
        "## 2. String operators"
      ]
    },
    {
      "cell_type": "markdown",
      "metadata": {
        "id": "sBEQkD-Ft0aL"
      },
      "source": [
        "### 2a. Comparison operators  \n",
        "Like with the other data types we worked with in the previous module, comparison operators can also be applied to strings to create a Boolean expression.  \n",
        "\n",
        "**i. Equality/inequality**  \n",
        "To test for equality, use `==` and `!=`. Run the following cells to see how this works for strings."
      ]
    },
    {
      "cell_type": "code",
      "metadata": {
        "id": "Om7hRzultxqq"
      },
      "source": [
        "my_string = 'hello' # = assigns a value"
      ],
      "execution_count": null,
      "outputs": []
    },
    {
      "cell_type": "code",
      "metadata": {
        "id": "IkeWlvcZtv7f"
      },
      "source": [
        "my_string == 'hello' # == tests for equality"
      ],
      "execution_count": null,
      "outputs": []
    },
    {
      "cell_type": "code",
      "metadata": {
        "id": "_S0I7C-htuhn"
      },
      "source": [
        "my_string != 'hello' # != tests for inequality"
      ],
      "execution_count": null,
      "outputs": []
    },
    {
      "cell_type": "markdown",
      "metadata": {
        "id": "88Oti5uOtsUM"
      },
      "source": [
        "<font color='red'>Exercise 1</font>   \n",
        "In the cell below, create the variable `fav_band1` and assign it a string of your current favorite band. In the same cell, start a new line and create the variable `fav_band2`, then assign it the name of your favorite band when you were in middle school. Ensure that you run the cell when you're done (and don't forget the quote marks for your strings!)."
      ]
    },
    {
      "cell_type": "code",
      "metadata": {
        "id": "GfAEuFQCtqfB"
      },
      "source": [
        "# Current favorite band\n",
        "\n",
        "# Favorite band in middle school\n"
      ],
      "execution_count": null,
      "outputs": []
    },
    {
      "cell_type": "markdown",
      "metadata": {
        "id": "ED1Egczltomu"
      },
      "source": [
        "<font color='red'>Exercise 2</font>  \n",
        "**Next**, determine whether your favorite band has remained the same through the years, i.e., test for equality of the two variables."
      ]
    },
    {
      "cell_type": "code",
      "metadata": {
        "id": "56Y1-4jWtmjv"
      },
      "source": [
        "# Has your favorite band stayed the same?\n"
      ],
      "execution_count": null,
      "outputs": []
    },
    {
      "cell_type": "markdown",
      "metadata": {
        "id": "8WrKGTjmtkfL"
      },
      "source": [
        "**ii. Alphabetical order**  \n",
        "Python uses `<` and `>` to determine aphabetical order of strings. Think of < as meaning “appears before” and > as meaning “appears after” with respect to alphabetical order. It might also help to think of 'a' as having the smallest value in the alphabet (1), and 'z' having the largest value (26).  \n",
        "\n",
        "Run the cell below to test the order of the strings stored in the variables."
      ]
    },
    {
      "cell_type": "code",
      "metadata": {
        "id": "0wOM2a26tiI7"
      },
      "source": [
        "word1 = 'cat'\n",
        "word2 = 'dog'\n",
        "\n",
        "# Does word1 come before word2?\n",
        "word1 < word2"
      ],
      "execution_count": null,
      "outputs": []
    },
    {
      "cell_type": "markdown",
      "metadata": {
        "id": "bIrdNiZCtgKn"
      },
      "source": [
        "<font color='red'>Exercise 3</font>  \n",
        "In the cell below, create the variable `fav_book` and assign it the value of your favorite book. In the same cell, start a new line and create the variable `fav_movie`, and then assign it the value of your favorite movie."
      ]
    },
    {
      "cell_type": "code",
      "metadata": {
        "id": "pGGGagNTtebt"
      },
      "source": [
        "# Favorite book\n",
        "\n",
        "# Favorite movie\n"
      ],
      "execution_count": null,
      "outputs": []
    },
    {
      "cell_type": "markdown",
      "metadata": {
        "id": "Dl2hMpEttc6k"
      },
      "source": [
        "<font color='red'>Exercise 4</font>  \n",
        "Next, determine whether `fav_book` appears before `fav_movie` in the alphabet."
      ]
    },
    {
      "cell_type": "code",
      "metadata": {
        "id": "PwoBgMsptbJB"
      },
      "source": [
        "# Does fav_book come before fav_movie in the alphabet?\n"
      ],
      "execution_count": null,
      "outputs": []
    },
    {
      "cell_type": "markdown",
      "metadata": {
        "id": "HLt-kH2utZg3"
      },
      "source": [
        "<font color='red'>Exercise 5</font>  \n",
        "Now create a test to see if these comparison operators are case sensitive. Hint: Does 'cat' come before or after 'Dog'?"
      ]
    },
    {
      "cell_type": "code",
      "metadata": {
        "id": "x_GkEXc_tX3q"
      },
      "source": [
        "# What about different cases?\n"
      ],
      "execution_count": null,
      "outputs": []
    },
    {
      "cell_type": "markdown",
      "metadata": {
        "id": "-K26AoSTtWM4"
      },
      "source": [
        "### 2b. Algebraic operators"
      ]
    },
    {
      "cell_type": "markdown",
      "metadata": {
        "id": "dgx4ojiGtUhF"
      },
      "source": [
        "**i. Concatenation**  \n",
        "Strings can be joined together (concatenated) with the `+` operator.  \n",
        "\n",
        "Run the cell below to see the output of two cells concatenated together."
      ]
    },
    {
      "cell_type": "code",
      "metadata": {
        "id": "2uwHNocJtSH9"
      },
      "source": [
        "str1 = 'hello'\n",
        "str2 = 'world'\n",
        "str1 + str2"
      ],
      "execution_count": null,
      "outputs": []
    },
    {
      "cell_type": "markdown",
      "metadata": {
        "id": "mt1QQmFztQSA"
      },
      "source": [
        "Notice that string contactenation with the `+` operator will not add any spaces for you, but will put the two strings together exactly as they are. Run the cell below to see how to concatenate the two strings with a space between them."
      ]
    },
    {
      "cell_type": "code",
      "metadata": {
        "id": "HuBvXPXotNOd"
      },
      "source": [
        "str1 + ' ' + str2"
      ],
      "execution_count": null,
      "outputs": []
    },
    {
      "cell_type": "markdown",
      "metadata": {
        "id": "CDiTzvpbtLaj"
      },
      "source": [
        "<font color='red'>Exercise 6</font>  \n",
        "In the cell below, create the variable `pizza` after the existing lines and assign it the joint value of `top1` and `top2`. In the same cell, insert a new line and type `pizza` to check what the output looks like."
      ]
    },
    {
      "cell_type": "code",
      "metadata": {
        "id": "AssvT_n7tJLF"
      },
      "source": [
        "top1 = 'artichokes'\n",
        "top2 = 'olives'\n",
        "\n",
        "## Your code here\n"
      ],
      "execution_count": null,
      "outputs": []
    },
    {
      "cell_type": "markdown",
      "metadata": {
        "id": "D7zKiWBqtGe8"
      },
      "source": [
        "<font color='red'>Exercise 7</font>  \n",
        "Next, repeat the above process, but this time think about how you can include a space and a comma between the two toppings so that the output looks better. "
      ]
    },
    {
      "cell_type": "code",
      "metadata": {
        "id": "vSMYxvD1zwe2"
      },
      "source": [
        ""
      ],
      "execution_count": null,
      "outputs": []
    },
    {
      "cell_type": "markdown",
      "metadata": {
        "id": "hhDCmNp1zwe4"
      },
      "source": [
        "**ii. Copies**  \n",
        "Multiple copies of a string can be concatenated with the `*` operator and an integer. The integer can go before the `*` operator with the string after, or vice versa. Run the cells below to see how this works."
      ]
    },
    {
      "cell_type": "code",
      "metadata": {
        "id": "N4ayKGJ310jT"
      },
      "source": [
        "# Integer first\n",
        "2 * 'yo'"
      ],
      "execution_count": null,
      "outputs": []
    },
    {
      "cell_type": "code",
      "metadata": {
        "id": "TmSZxOdW12wO"
      },
      "source": [
        "# String first\n",
        "'yo' * 2"
      ],
      "execution_count": null,
      "outputs": []
    },
    {
      "cell_type": "code",
      "metadata": {
        "id": "JUIforDQ14Gk"
      },
      "source": [
        "# Include spaces\n",
        "3 * 'yo '"
      ],
      "execution_count": null,
      "outputs": []
    },
    {
      "cell_type": "markdown",
      "metadata": {
        "id": "RncZrCB31VgP"
      },
      "source": [
        "<font color='red'>Exercise 8</font>  \n",
        "In the cell below, assign a new value to `pizza` that evaluates to double `top1`."
      ]
    },
    {
      "cell_type": "code",
      "metadata": {
        "id": "LqCj66iyzwe4"
      },
      "source": [
        "# Pizza with double top1\n"
      ],
      "execution_count": null,
      "outputs": []
    },
    {
      "cell_type": "markdown",
      "metadata": {
        "id": "xVcW94tDzwe6"
      },
      "source": [
        "### 2c. `in` and `not in`  \n",
        "Sometimes it's necessary to check whether a string contains a particular substring of characters (or not). To do this, Python has the keywords `in` and `not in`. Both of these work like the other Boolean operators we just learned: they take two string arguments and return either `True` or `False`. "
      ]
    },
    {
      "cell_type": "code",
      "metadata": {
        "id": "-ZJdmz3q_s4U"
      },
      "source": [
        "my_alphabet = 'abcdefghijkmnopqrstuvwxyz'\n",
        "'z' in my_alphabet"
      ],
      "execution_count": null,
      "outputs": []
    },
    {
      "cell_type": "markdown",
      "metadata": {
        "id": "Ls3hgBHy__Hd"
      },
      "source": [
        "The character 'z' is in the string so the return value is `True`"
      ]
    },
    {
      "cell_type": "code",
      "metadata": {
        "id": "08vfMYZ9AKiL"
      },
      "source": [
        "'l' in my_alphabet"
      ],
      "execution_count": null,
      "outputs": []
    },
    {
      "cell_type": "markdown",
      "metadata": {
        "id": "yGlVLSoMAP-U"
      },
      "source": [
        "We seemed to have missed the letter 'l' when creating our alphabet, so it returns `False`."
      ]
    },
    {
      "cell_type": "markdown",
      "metadata": {
        "id": "xjB2Cgol-2Lj"
      },
      "source": [
        "<font color='red'>Exercise 9</font>  \n",
        "You meet a new friend from Croatia, who tells you that her name is Ksenija. In the cell below, write an expression to determine whether the letter `y` is in her name."
      ]
    },
    {
      "cell_type": "code",
      "metadata": {
        "id": "-gIIc5Nqzwe6"
      },
      "source": [
        "# Does 'Ksenija' contain the letter 'y'?\n"
      ],
      "execution_count": null,
      "outputs": []
    },
    {
      "cell_type": "code",
      "metadata": {
        "id": "uDoc4tFBP5z2"
      },
      "source": [
        "# Does the following sentence contain the word 'try'?\n",
        "sentence = 'Do or do not, there is no try.'\n",
        "\n",
        "# Your code here\n"
      ],
      "execution_count": null,
      "outputs": []
    },
    {
      "cell_type": "markdown",
      "metadata": {
        "id": "rluj1e--zwe8"
      },
      "source": [
        "### 2d. `len()`\n",
        "Sometimes it is valuable to know how many characters are in a string. Python has a built-in function `len()` that will return the length of the item within its parentheses. Run the cells below to see how this works."
      ]
    },
    {
      "cell_type": "code",
      "metadata": {
        "id": "k-F3760H-RxR"
      },
      "source": [
        "my_string = \"Hello\"\n",
        "len(my_string)"
      ],
      "execution_count": null,
      "outputs": []
    },
    {
      "cell_type": "code",
      "metadata": {
        "id": "plQG2ZtT9wL8"
      },
      "source": [
        "my_string = 'Hello World'\n",
        "len(my_string)"
      ],
      "execution_count": null,
      "outputs": []
    },
    {
      "cell_type": "markdown",
      "metadata": {
        "id": "5qraSUE1-Hvr"
      },
      "source": [
        "Notice how a space still counts as a character and therefore adds to the total number of characters in the string."
      ]
    },
    {
      "cell_type": "markdown",
      "metadata": {
        "id": "1K2T9Lxj9dLt"
      },
      "source": [
        "<font color='red'>Exercise 10</font>  \n",
        "In the cell below, start by creating the variable `school` and assign it the name of your school (as a string).  \n",
        "\n",
        "Then, in the same cell, insert a new line and determine the length of the string assigned to `school`. "
      ]
    },
    {
      "cell_type": "code",
      "metadata": {
        "id": "oJX3WSQ6urut"
      },
      "source": [
        "# Determine the length of the name of your school\n"
      ],
      "execution_count": null,
      "outputs": []
    },
    {
      "cell_type": "markdown",
      "metadata": {
        "id": "FKakXxOdzwe-"
      },
      "source": [
        "## 3. String operators: Indexing\n",
        "### 3a. Indexing operator `[]`  \n",
        "A character's index is simply its position within the string.  \n",
        "\n",
        "\n",
        "---\n",
        "\n",
        "\n",
        "**IMPORTANT** - Python, unlike humans, starts counting at 0 instead of 1. This means that the first position, or index, of a string is 0.  \n",
        "\n",
        "Also remember that all spaces, punctuation, and symbols count as characters in a string. \n",
        "\n",
        "\n",
        "---\n",
        "\n",
        "In Python, we can see which character is at a certain index in a string by typing the variable it's stored in, followed by square brackets containing the index value we want to consider. See the following cells for a few examples. "
      ]
    },
    {
      "cell_type": "code",
      "metadata": {
        "id": "I3gb-2UsXrSB"
      },
      "source": [
        "my_string = 'Python is the best coding language!'"
      ],
      "execution_count": null,
      "outputs": []
    },
    {
      "cell_type": "code",
      "metadata": {
        "id": "PgUTWgEyYPiD"
      },
      "source": [
        "my_string[0] # First character"
      ],
      "execution_count": null,
      "outputs": []
    },
    {
      "cell_type": "code",
      "metadata": {
        "id": "u6pHDWwQZizM"
      },
      "source": [
        "my_string[9] # Tenth character"
      ],
      "execution_count": null,
      "outputs": []
    },
    {
      "cell_type": "code",
      "metadata": {
        "id": "NIsZ7KKoYY-K"
      },
      "source": [
        "my_string[16] # Seventeenth character"
      ],
      "execution_count": null,
      "outputs": []
    },
    {
      "cell_type": "markdown",
      "metadata": {
        "id": "DOVxKhgWBMlx"
      },
      "source": [
        "<font color='red'>Exercise 11</font>  \n",
        "Continuing with the variable `school` from above (Exercise 10), use the indexing operator to determine the first and fourth character of the string assigned to this variable. Reminder: Python starts indexing at zero, so when I say \"the first character in the string\", I mean the character at index 0. "
      ]
    },
    {
      "cell_type": "code",
      "metadata": {
        "id": "BYXWNoh4zwe_"
      },
      "source": [
        "# First character of string assigned to variable school\n"
      ],
      "execution_count": null,
      "outputs": []
    },
    {
      "cell_type": "code",
      "metadata": {
        "id": "WB9nvpiazwfB"
      },
      "source": [
        "# Fourth character of string assigned to variable school\n"
      ],
      "execution_count": null,
      "outputs": []
    },
    {
      "cell_type": "markdown",
      "metadata": {
        "id": "hnCa_be6zwfF"
      },
      "source": [
        "## 3b. Negative indexing  \n",
        "**Last character**  \n",
        "What if we want to index the last character of a string? You may think immediately that we can use our `len()` function minus 1 as the value in the square brackets, and you'd be right. However, Python has a way to do this much more easily: negative indexing. All you need to do to get the last character of any string is use -1 as the value in the brackets."
      ]
    },
    {
      "cell_type": "code",
      "metadata": {
        "id": "LCW7gAMTbQzW"
      },
      "source": [
        "# If it hasn't been changed, my_string contains 'Python is the best coding language!'\n",
        "my_string[-1]"
      ],
      "execution_count": null,
      "outputs": []
    },
    {
      "cell_type": "markdown",
      "metadata": {
        "id": "oM2h0gDzbiFu"
      },
      "source": [
        "Negative indexing isn't just useful for getting the last character of a string, but for counting any number from the end of a string. For instance, the second to last character can be accessed with -2, the third from last with -3, and so on.  \n",
        "\n",
        "Run the cell below, and also try your hand at using and predicting the result of negative indexing."
      ]
    },
    {
      "cell_type": "code",
      "metadata": {
        "id": "HnnFYctNb41c"
      },
      "source": [
        "my_string[-2]"
      ],
      "execution_count": null,
      "outputs": []
    },
    {
      "cell_type": "markdown",
      "metadata": {
        "id": "zXjuJOq7bRs7"
      },
      "source": [
        "<font color='red'>Exercise 12</font>  \n",
        "Continuing with the variable `school`, use negative indexing to determine the last character of the string assigned to this variable, then the fifth from last."
      ]
    },
    {
      "cell_type": "code",
      "metadata": {
        "id": "WB2UWn2CzwfF"
      },
      "source": [
        "# Last character of string assigned to variable school\n"
      ],
      "execution_count": null,
      "outputs": []
    },
    {
      "cell_type": "code",
      "metadata": {
        "id": "NFQZFPD1ciJ8"
      },
      "source": [
        "# Fifth from last character of string assigned to variable school\n"
      ],
      "execution_count": null,
      "outputs": []
    },
    {
      "cell_type": "markdown",
      "source": [
        "## Congrats, you're done! \n",
        "In this module, we've finished our discussion of strings. Try the bonus exercises for this Module if you'd like a little more practice. Otherwise, continue to the next module to learn about lists and tuples!"
      ],
      "metadata": {
        "id": "ncrUX5M8bnYW"
      }
    }
  ]
}