{
  "nbformat": 4,
  "nbformat_minor": 0,
  "metadata": {
    "kernelspec": {
      "display_name": "Python 3",
      "language": "python",
      "name": "python3"
    },
    "language_info": {
      "codemirror_mode": {
        "name": "ipython",
        "version": 3
      },
      "file_extension": ".py",
      "mimetype": "text/x-python",
      "name": "python",
      "nbconvert_exporter": "python",
      "pygments_lexer": "ipython3",
      "version": "3.7.1"
    },
    "colab": {
      "name": "Module9_pandas2.ipynb",
      "provenance": [],
      "collapsed_sections": [],
      "include_colab_link": true
    }
  },
  "cells": [
    {
      "cell_type": "markdown",
      "metadata": {
        "id": "view-in-github",
        "colab_type": "text"
      },
      "source": [
        "<a href=\"https://colab.research.google.com/github/JaimeAdele/APEX/blob/main/Module9_pandas2.ipynb\" target=\"_parent\"><img src=\"https://colab.research.google.com/assets/colab-badge.svg\" alt=\"Open In Colab\"/></a>"
      ]
    },
    {
      "cell_type": "markdown",
      "metadata": {
        "id": "lnXOxVPEkZ5f"
      },
      "source": [
        "<img src='https://images.pexels.com/photos/1661535/pexels-photo-1661535.jpeg?cs=srgb&dl=pexels-diana-silaraja-1661535.jpg&fm=jpg' width=700>  \n",
        "Photo by Diana Silaraja production from Pexels"
      ]
    },
    {
      "cell_type": "markdown",
      "metadata": {
        "id": "svAPrOFekdFH"
      },
      "source": [
        "# APEX Faculty Training, Module 9: Pandas Part 2\n",
        "\n",
        "Created by Valerie Carr and Jaime Zuspann  \n",
        "Licensed under a Creative Commons license: CC BY-NC-SA  \n",
        "Last updated: Mar 12, 2022  \n",
        "\n",
        "**Learning outcomes**  \n",
        "1. Continue learning how to use Pandas methods to view desired subsets of a dataframe.\n",
        "2. Learn to sort the contents of a dataframe.\n",
        "3. Learn to rename, add, and remove columns from a dataframe."
      ]
    },
    {
      "cell_type": "markdown",
      "metadata": {
        "id": "hI79e_J1lAAH"
      },
      "source": [
        "## 1. A couple notes before you start \n",
        "* This file is view only, meaning that you can't edit it.\n",
        "    * To create an editable copy, look towards the top of the notebook and click on `Copy to Drive`. This will cause a new tab to open with your own personal copy.\n",
        "    * If you want to refer back to your copy in the future, you can find it in Google Drive in a folder called `Colab Notebooks`.\n",
        "* To run a cell, use `shift` + `enter`.   \n",
        "* Keep the following Python style preferences in mind:\n",
        "    * Variable names should use `snake_case`\n",
        "    * Include spaces before and after operators, e.g., `x + 1`\n",
        "    * Don't put unnecessary spaces after a function name, before the parentheses\n",
        "        * Correct: `print(my_variable)`\n",
        "        * Incorrect: `print (my_variable)`\n",
        "    * Don't put unnecessary spaces at the beginning or end of parentheses\n",
        "        * Correct: `print(my_variable)`\n",
        "        * Incorrect: `print( my_variable )`\n",
        "\n",
        "<font color='red'>Exercise 0</font>  \n",
        "Before you start with this module, run the cell below to read in the same CSV file we were working with last time. As a reminder, you won't see any output. These lines simply import the Pandas library and read the csv file into the `my_df` variable as a dataframe.\n",
        "\n",
        "If you'd like a reminder of what the contents of this dataframe look like, you can insert a new code cell beneath the one we've provided, and check the header."
      ]
    },
    {
      "cell_type": "code",
      "source": [
        "import pandas as pd\n",
        "filepath = \"https://raw.githubusercontent.com/valeriecarr/engr120/main/S21/state_pop.csv\"\n",
        "my_df = pd.read_csv(filepath)"
      ],
      "metadata": {
        "id": "wkbD145FMFJ4"
      },
      "execution_count": null,
      "outputs": []
    },
    {
      "cell_type": "markdown",
      "metadata": {
        "id": "DKwAYq8KJjo7"
      },
      "source": [
        "## 2. Smallest or Largest Observations\n",
        "Pandas has simple methods for determining the smallest or largest set of 'n' observations in a dataframe.  \n",
        "\n",
        "Smallest: `df_name.nsmallest(n, 'col_name')`  \n",
        "Largest: `df_name.nlargest(n, 'col_name')`  \n",
        "\n",
        "The `n` in these expressions represents an integer value of the desired set size. \n",
        "\n",
        "<font color='red'>Exercise 1</font>  \n",
        "The cell below subsets the dataframe to show the state with the largest total population, i.e., the single largest value in the `totalPop` column. Run the cell to see the output."
      ]
    },
    {
      "cell_type": "code",
      "source": [
        "my_df.nlargest(1, 'totalPop')"
      ],
      "metadata": {
        "id": "PH9Dlp2KL87W"
      },
      "execution_count": null,
      "outputs": []
    },
    {
      "cell_type": "markdown",
      "source": [
        "<font color='red'>Exercise 2</font>  \n",
        "Now you try! Write code that will subset the dataframe to show the *five* states with the smallest Hispanic population. Hint: You'll use a different column this time, as well as a different integer."
      ],
      "metadata": {
        "id": "xCHsi7i8VkMb"
      }
    },
    {
      "cell_type": "code",
      "source": [
        ""
      ],
      "metadata": {
        "id": "qNMHnpYdVsd8"
      },
      "execution_count": null,
      "outputs": []
    },
    {
      "cell_type": "markdown",
      "metadata": {
        "id": "E48I6l-ervev"
      },
      "source": [
        "## 3. Random Selection\n",
        "The `sample()` method can be used to subset a random sample of rows. The generic syntax for this method is:  \n",
        "\n",
        "`df_name.sample(n = x)`  \n",
        "\n",
        "where x is an integer indicating the desired sample size.  \n",
        "\n",
        "<font color='red'>Exercise 3</font>  \n",
        "Using the syntax shown above, display a random sample of six rows of the `my_df` dataframe."
      ]
    },
    {
      "cell_type": "code",
      "metadata": {
        "id": "sjOCmnIDfaw8"
      },
      "source": [
        ""
      ],
      "execution_count": null,
      "outputs": []
    },
    {
      "cell_type": "markdown",
      "metadata": {
        "id": "m0TsiC-If58b"
      },
      "source": [
        "## 4. Subsetting Variables (Columns)\n",
        "We've already learned the Attribute method and the Label method for selecting a single column. To review:  \n",
        "\n",
        "Attribute method: `df_name.col_name`  \n",
        "Label method: `df_name['col_name']`  \n",
        "\n",
        "But what if you want to subset more than one column? The generic syntax for this is:  \n",
        "\n",
        "`df_name[['col_1', 'col_2', 'etc.']]`\n",
        "\n",
        "Notice the double brackets here. The reason we have an interior set of brackets is because we're providing Python with a list of columns (and lists use brackets!). \n",
        "\n",
        "<font color='red'>Exercise 4</font>  \n",
        "In the cell below, subset the `my_df` dataframe to show just the `state` and `totalPop` columns."
      ]
    },
    {
      "cell_type": "code",
      "metadata": {
        "id": "zGuiFay7gr4a"
      },
      "source": [
        ""
      ],
      "execution_count": null,
      "outputs": []
    },
    {
      "cell_type": "markdown",
      "metadata": {
        "id": "06jff3d4eil-"
      },
      "source": [
        "## 5. Subsetting Rows and Columns\n",
        "Just as we can subset by either rows or columns, we can also subset by both at the same time. To do this, we implement the `loc` method. The generic syntax goes like this:  \n",
        "\n",
        "`df_name.loc[boolean_expression, ['col_1', 'col_2', 'etc.']]`\n",
        "\n",
        "<font color='red'>Exercise 5</font>  \n",
        "An example of this process is to display only the `state` and `totalPop` columns for states with a total population greater than 15 million. Run the cell below to see the output."
      ]
    },
    {
      "cell_type": "code",
      "metadata": {
        "id": "BcDZjBqmrvew"
      },
      "source": [
        "my_df.loc[my_df.totalPop > 15000000, ['state', 'totalPop']]"
      ],
      "execution_count": null,
      "outputs": []
    },
    {
      "cell_type": "markdown",
      "source": [
        "<font color='red'>Exercise 5</font>  \n",
        "Now try something a bit harder. In the cell below, write a line of code to display the `state` and `hispPop` columns for states with less than a 3% (i.e., 0.03) Hispanic population."
      ],
      "metadata": {
        "id": "XyvYT1LbTLCA"
      }
    },
    {
      "cell_type": "code",
      "source": [
        ""
      ],
      "metadata": {
        "id": "l4z9o4nSToSV"
      },
      "execution_count": null,
      "outputs": []
    },
    {
      "cell_type": "markdown",
      "source": [
        "## 6. Sorting Dataframes\n",
        "So far we've seen how to choose which rows or columns to display, but it's often useful to view all of the data sorted by a particular column. By default, the observations are sorted according to their ID number (the number in the left column). Our example dataframe happens to already have the rows sorted alphabetically by state name, but what if we wanted to see the data sorted by a different column, such as the total population?\n",
        "\n",
        "### 6a. Ascending Order\n",
        "The `sort_values()` method provides exactly this functionality, using the generic syntax below:  \n",
        "\n",
        "`df_name.sort_values(by = 'col_name')`\n",
        "\n",
        "Note that you can't simply include the desired column name in parentheses; rather, you need the full phrase `(by = 'col_name')`\n",
        "\n",
        "<font color='red'>Exercise 6</font>  \n",
        "Try sorting the `my_df` dataframe by the `totalPop` column. "
      ],
      "metadata": {
        "id": "DccpWhOgPwd4"
      }
    },
    {
      "cell_type": "code",
      "source": [
        ""
      ],
      "metadata": {
        "id": "pW4rm5omfi2s"
      },
      "execution_count": null,
      "outputs": []
    },
    {
      "cell_type": "markdown",
      "source": [
        "### 6b. Descending Order\n",
        "By default, the `sort_values()` method sorts in ascending order, i.e., from smallest to largest (or A-Z in the case of words). To sort in descending order, one more argument is necessary:  \n",
        "\n",
        "`df_name.sort_values(by = 'col_name', ascending = False)`  "
      ],
      "metadata": {
        "id": "4_c3zDm_Z379"
      }
    },
    {
      "cell_type": "markdown",
      "source": [
        "---\n",
        "###<font color='blue'>Reminder</font>\n",
        "The keyword `False` does not have quotation marks surrounding it; it is a special data type (Boolean), not a string.\n",
        "\n",
        "---"
      ],
      "metadata": {
        "id": "GxA-j1BgbP9H"
      }
    },
    {
      "cell_type": "markdown",
      "source": [
        "### 6c. Viewing vs. Changing\n",
        "It is important to note that the `sort_values()` method does *not* change the original dataframe, rather, it simply allows you to view a sorted version without changing the dataframe itself. To verify that the dataframe hasn't changed, we can simply look at the dataframe's header.\n",
        "\n",
        "<font color='red'>Exercise 7</font>  \n",
        "Run the cell below to display the first five rows of the dataframe to verify that the original order hasn't changed."
      ],
      "metadata": {
        "id": "EvCC2nrchLbj"
      }
    },
    {
      "cell_type": "code",
      "source": [
        "my_df.head()"
      ],
      "metadata": {
        "id": "Zh5mtKGMjx7U"
      },
      "execution_count": null,
      "outputs": []
    },
    {
      "cell_type": "markdown",
      "source": [
        "If you actually want the dataframe to change according to the `sort_values()` method, you'll need to include yet another argument in the parentheses: `inplace = True`. \n",
        "\n",
        "With this command you're essentially saying: I want to sort the dataframe \"in place\" by directly changing it.\n",
        "\n",
        "<font color='red'>Exercise 8</font>  \n",
        "Sort the `my_df` dataframe again by total population in ascending order (default) as you did in Exercise 6, but include the above argument this time to actually change the dataframe. Then, add a line and display the first five rows again to ensure that the dataframe has changed as you intended."
      ],
      "metadata": {
        "id": "V5N4Vs7kkHam"
      }
    },
    {
      "cell_type": "code",
      "source": [
        ""
      ],
      "metadata": {
        "id": "DkN3gUFTmopA"
      },
      "execution_count": null,
      "outputs": []
    },
    {
      "cell_type": "markdown",
      "source": [
        "### 6d. Sorting by More than One Column\n",
        "A dataframe can also be sorted by two or more columns (i.e., first sort by column x, then by column y, etc.). The small dataframe that we've been working with isn't a great example for this, so let's consider the following scenario:\n",
        "\n",
        "Say you wanted to sort a dataframe that contained various pieces of information about college students. You want to sort the dataframe first by their year in school and then by last name. Doing so would look somthing like this:  \n",
        "\n",
        "`students_df.sort_values(by = ['year', 'last_name'])`\n",
        "\n",
        "This line of code would display the dataframe sorted by year and then by last name within each year. \n",
        "\n",
        "See below for more generic syntax to sort first by 'col_1' and then by 'col_2', etc., is:  \n",
        "\n",
        "`df_name.sort_values(by = ['col_1', 'col_2', 'etc.'])`\n",
        "\n",
        "<font color='red'>Exercise 9</font>  \n",
        "Although we don't have a real dataframe with student data for you to play with, nontheless you can practice writing code for how to sort the dataframe first by `last_name`, then `first_name`, then `major`. No need to actually run the cell given that Python will give you an error that the dataframe doesn't actually exist!"
      ],
      "metadata": {
        "id": "Xx__BicqnzIm"
      }
    },
    {
      "cell_type": "markdown",
      "source": [
        "## 7. Modifying Dataframes\n",
        "In addition to viewing subsets of a dataframe, we often want to modify dataframes as well. While there are many ways to modify a dataframe, we'll only focus on a few common approaches in this module:  \n",
        "* Rename columns\n",
        "* Add columns\n",
        "* Remove columns"
      ],
      "metadata": {
        "id": "OrHdS_uEG_qt"
      }
    },
    {
      "cell_type": "markdown",
      "source": [
        "### 7a. Renaming Columns\n",
        "Say you read in a dataframe, and the column names are specified a bit differently than you'd like. For instance, maybe you prefer using underscores between words (my_column) rather than the camel case (myColumn). The general syntax for renaming columns of a dataframe is as follows:  \n",
        "```\n",
        "df_name.rename(columns = {\n",
        "  'old1': 'new1',\n",
        "  'old2': 'new2',\n",
        "  'old3': 'new3'},\n",
        "  inplace = True)\n",
        "```\n",
        "\n",
        "You might recognize that we're using a dictionary in this approach! The key:value pairs are the original column names (e.g., old1) and the revised column names (e.g., new1).\n",
        "\n",
        "Note: You only need to specify columns you'd like to rename, not those you'd like to keep as-is.\n",
        "\n",
        "<font color='red'>Exercise 10</font>  \n",
        "Using the sample syntax above, rename two of the columns of `my_df` as follows:  \n",
        "* Instead of `totalPop`, use `total_pop`\n",
        "* Instead of `hispPop`, use `hisp_pop`\n",
        "\n",
        "Add a new line afterward and include `my_df.head()` to confirm that the changes were made accurately."
      ],
      "metadata": {
        "id": "uctZgsm_HiGe"
      }
    },
    {
      "cell_type": "code",
      "source": [
        ""
      ],
      "metadata": {
        "id": "HPJsjH3bI2HK"
      },
      "execution_count": null,
      "outputs": []
    },
    {
      "cell_type": "markdown",
      "source": [
        "### 7b. Adding New Columns\n",
        "Next, we'll explore how to add new columns to a dataframe. In the population-related dataframe that we've been using, for example, you might want to add a column with the percentage of folks in each state who are Hispanic.\n",
        "\n",
        "In general, there are two steps to adding a new column:  \n",
        "1. Decide what to call the new column\n",
        "2. Calculate values to put in the new column\n",
        "\n",
        "Please below for some generic syntax:  \n",
        "`df_name['new_col_name'] = formula for calculating new values`\n",
        "\n",
        "Breaking this syntax down:\n",
        "* We start with the name of the dataframe in question and indicate what we want to call the new column inside the square brackets (note that you'll need quote marks around the column name)\n",
        "* Next, you'll include code that calculates new values to place in the column. How would you do this? Keep reading!\n",
        "\n",
        "Typically, you'll use values in existing columns to calculate values for the new column. For instance, to add a `hisp_percent` column to our population-related dataframe, you would:\n",
        "1. Divide values in the `hisp_pop` column by those in the `total_pop` column\n",
        "2. Multiply by 100  \n",
        "\n",
        "<font color='red'>Exercise 11</font>  \n",
        "Read through and run the cell below to understand how to add this new column. "
      ],
      "metadata": {
        "id": "X4OMiK7CI3AN"
      }
    },
    {
      "cell_type": "code",
      "source": [
        "my_df['hisp_percent'] = my_df.hisp_pop / my_df.total_pop * 100\n",
        "my_df.head()"
      ],
      "metadata": {
        "id": "cuRSwpspKR2w"
      },
      "execution_count": null,
      "outputs": []
    },
    {
      "cell_type": "markdown",
      "source": [
        "<font color='red'>Exercise 12</font>  \n",
        "Now say you'd also like a column `non_hisp_percent` that gives the percentage of non-Hispanic folks for each state. Write the code for this below, and be sure to display the results using `my_df.head()` at the end."
      ],
      "metadata": {
        "id": "V8MDANBHL9yl"
      }
    },
    {
      "cell_type": "code",
      "source": [
        ""
      ],
      "metadata": {
        "id": "5j8oY2uOMUQl"
      },
      "execution_count": null,
      "outputs": []
    },
    {
      "cell_type": "markdown",
      "source": [
        "Finally, see below for additional examples of instances in which you could use existing values to create a new column:  \n",
        "* The difference between a company's profits in one year compared to the previous year (subtraction)\n",
        "* Total points earned across different parts of an exam (addition)\n",
        "* Stock price multiplied by number of shares (multiplication)\n",
        "\n",
        "Bonus: Although not covered in this module, you can also use existing values and conditional logic to create new values. For example, you might categorize each state in our population-related dataframe as having a high or low percentage of Hispanic folks based on a particular cutoff. See [this tutorial](https://datagy.io/pandas-conditional-column/) if you're curious."
      ],
      "metadata": {
        "id": "cXQooIHbMfsx"
      }
    },
    {
      "cell_type": "markdown",
      "source": [
        "### 7c. Removing Columns\n",
        "Just as adding columns can often be beneficial, removing columns is frequently necessary, especially in cases where you want to clean up a dataframe. \n",
        "\n",
        "To remove one or more columns from a dataframe, we use the `drop()` method:  \n",
        "`df_name.drop(columns = ['col1', 'col2', 'etc.'], inplace = True)`  \n",
        "\n",
        "<font color='red'>Exercise 13</font>  \n",
        "Say you decide that you don't want the `hisp_percent` or the `non_hisp_percent` columns afterall. Remove these columns from the `my_df` dataframe using the syntax above as a reference."
      ],
      "metadata": {
        "id": "KCYaD8o5bJf2"
      }
    },
    {
      "cell_type": "code",
      "source": [
        ""
      ],
      "metadata": {
        "id": "nkmat-_BQ0no"
      },
      "execution_count": null,
      "outputs": []
    },
    {
      "cell_type": "markdown",
      "source": [
        "## All done!\n",
        "You've finished learning about the Pandas library! Next, you'll learn how you can create and import your own data rather than relying on existing datasets."
      ],
      "metadata": {
        "id": "vYqInSA0L4Ph"
      }
    }
  ]
}