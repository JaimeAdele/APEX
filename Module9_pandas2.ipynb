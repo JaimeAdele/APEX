{
  "nbformat": 4,
  "nbformat_minor": 0,
  "metadata": {
    "kernelspec": {
      "display_name": "Python 3",
      "language": "python",
      "name": "python3"
    },
    "language_info": {
      "codemirror_mode": {
        "name": "ipython",
        "version": 3
      },
      "file_extension": ".py",
      "mimetype": "text/x-python",
      "name": "python",
      "nbconvert_exporter": "python",
      "pygments_lexer": "ipython3",
      "version": "3.7.1"
    },
    "colab": {
      "name": "Module9_pandas2.ipynb",
      "provenance": [],
      "collapsed_sections": [],
      "include_colab_link": true
    }
  },
  "cells": [
    {
      "cell_type": "markdown",
      "metadata": {
        "id": "view-in-github",
        "colab_type": "text"
      },
      "source": [
        "<a href=\"https://colab.research.google.com/github/JaimeAdele/APEX/blob/main/Module9_pandas2.ipynb\" target=\"_parent\"><img src=\"https://colab.research.google.com/assets/colab-badge.svg\" alt=\"Open In Colab\"/></a>"
      ]
    },
    {
      "cell_type": "markdown",
      "metadata": {
        "id": "lnXOxVPEkZ5f"
      },
      "source": [
        "<img src='https://images.pexels.com/photos/1661535/pexels-photo-1661535.jpeg?cs=srgb&dl=pexels-diana-silaraja-1661535.jpg&fm=jpg' width=700>  \n",
        "Photo by Diana Silaraja production from Pexels"
      ]
    },
    {
      "cell_type": "markdown",
      "metadata": {
        "id": "svAPrOFekdFH"
      },
      "source": [
        "# APEX Faculty Training, Module 9: Pandas Part 2\n",
        "\n",
        "Created by Valerie Carr and Jaime Zuspann  \n",
        "Licensed under a Creative Commons license: CC BY-NC-SA  \n",
        "Last updated: Feb 20, 2022  \n",
        "\n",
        "**Learning outcomes**  \n",
        "<font color='red'>Update?</font>  \n",
        "1. Learn to read in spreadsheet data (\"dataframes\") in Python with the Pandas library.\n",
        "2.  Learn to manipulate the contents of a dataframe with Pandas methods"
      ]
    },
    {
      "cell_type": "markdown",
      "metadata": {
        "id": "hI79e_J1lAAH"
      },
      "source": [
        "## 1. A couple notes before you start \n",
        "* This file is view only, meaning that you can't edit it.\n",
        "    * To create an editable copy, look towards the top of the notebook and click on `Copy to Drive`. This will cause a new tab to open with your own personal copy.\n",
        "    * If you want to refer back to your copy in the future, you can find it in Google Drive in a folder called `Colab Notebooks`.\n",
        "* To run a cell, use `shift` + `enter`.   \n",
        "* Keep the following Python style preferences in mind:\n",
        "    * Variable names should use `snake_case`\n",
        "    * Include spaces before and after operators, e.g., `x + 1`\n",
        "    * Don't put unnecessary spaces after a function name, before the parentheses\n",
        "        * Correct: `print(my_variable)`\n",
        "        * Incorrect: `print (my_variable)`\n",
        "    * Don't put unnecessary spaces at the beginning or end of parentheses\n",
        "        * Correct: `print(my_variable)`\n",
        "        * Incorrect: `print( my_variable )`\n",
        "\n",
        "<font color='red'>Exercise 0</font>  \n",
        "Before you start with this module, run the cell below in order for the rest of the exercises to work. Again, you will see no output. These lines simply import the Pandas library and read the csv file into the `my_df` variable as a dataframe, as you learned in the last module."
      ]
    },
    {
      "cell_type": "code",
      "source": [
        "import pandas as pd\n",
        "filepath = \"https://raw.githubusercontent.com/valeriecarr/engr120/main/S21/state_pop.csv\"\n",
        "my_df = pd.read_csv(filepath)"
      ],
      "metadata": {
        "id": "wkbD145FMFJ4"
      },
      "execution_count": 1,
      "outputs": []
    },
    {
      "cell_type": "markdown",
      "metadata": {
        "id": "DKwAYq8KJjo7"
      },
      "source": [
        "## 2. Smallest or Largest Observations\n",
        "Pandas has simple methods for determining the smallest or largest set of 'n' observations in a dataframe.  \n",
        "\n",
        "Smallest: `df_name.nsmallest(n, ‘col_name’)`  \n",
        "Largest: `df_name.nlargest(n, ‘col_name')`  \n",
        "\n",
        "The `n` in these expressions represents an integer value of the desired set size. \n",
        "\n",
        "<font color='red'>Exercise 1</font>  \n",
        "The cell below subsets the dataframe to show the state with the highest population. Run the cell to see the output."
      ]
    },
    {
      "cell_type": "code",
      "source": [
        "my_df.nlargest(1, 'totalPop')"
      ],
      "metadata": {
        "id": "PH9Dlp2KL87W"
      },
      "execution_count": null,
      "outputs": []
    },
    {
      "cell_type": "markdown",
      "source": [
        "<font color='red'>Exercise 2</font>  \n",
        "Now subset the dataframe to show the five states with the smallest Hispanic population."
      ],
      "metadata": {
        "id": "xCHsi7i8VkMb"
      }
    },
    {
      "cell_type": "code",
      "source": [
        ""
      ],
      "metadata": {
        "id": "qNMHnpYdVsd8"
      },
      "execution_count": null,
      "outputs": []
    },
    {
      "cell_type": "markdown",
      "metadata": {
        "id": "E48I6l-ervev"
      },
      "source": [
        "## 3. Random Selection\n",
        "The `sample()` method can be used to subset a random sample of rows. The generic syntax for this method is:  \n",
        "\n",
        "`df_name.sample(n = x)`  \n",
        "\n",
        "where x is an integer indicating the desired sample size.  \n",
        "\n",
        "<font color='red'>Exercise 3</font>  \n",
        "Using the syntax shown above, display a sample of six rows of the `my_df` dataframe."
      ]
    },
    {
      "cell_type": "code",
      "metadata": {
        "id": "sjOCmnIDfaw8"
      },
      "source": [
        ""
      ],
      "execution_count": null,
      "outputs": []
    },
    {
      "cell_type": "markdown",
      "metadata": {
        "id": "m0TsiC-If58b"
      },
      "source": [
        "## 4. Subsetting Variables (Columns)\n",
        "We've already learned the Attribute method and the Label method for selecting a single column. To review:  \n",
        "\n",
        "Attribute method: `df_name.col_name`  \n",
        "Label method: `df_name['col_name']`  \n",
        "\n",
        "But what if you want to subset a specific selection of columns? The generic syntax for this is:  \n",
        "\n",
        "`df_name[['col_1', 'col_2', 'etc.']]`\n",
        "\n",
        "Notice the double brackets here, this is different than the Label approach that uses only one set of brackets with one argument for the column name. \n",
        "\n",
        "<font color='red'>Exercise 4</font>  \n",
        "In the cell below, subset the `my_df` dataframe to show just the `state` and `totalPop` columns."
      ]
    },
    {
      "cell_type": "code",
      "metadata": {
        "id": "zGuiFay7gr4a"
      },
      "source": [
        ""
      ],
      "execution_count": null,
      "outputs": []
    },
    {
      "cell_type": "markdown",
      "metadata": {
        "id": "06jff3d4eil-"
      },
      "source": [
        "## 5. Subsetting Rows and Columns\n",
        "Just as we can subset by either rows or columns, we can also subset by both at the same time. To do this, we implement the `loc` method. The generic syntax goes like this:  \n",
        "\n",
        "`df_name.loc[boolean_expression, ['col_1', 'col_2', 'etc.']]`\n",
        "\n",
        "<font color='red'>Exercise 5</font>  \n",
        "An example of this process is to display only the `state` and `totalPop` columns for states with a total population greater than 15 million. Run the cell below to see the output."
      ]
    },
    {
      "cell_type": "code",
      "metadata": {
        "id": "BcDZjBqmrvew"
      },
      "source": [
        "my_df.loc[my_df.totalPop > 15000000, ['state', 'totalPop']]"
      ],
      "execution_count": null,
      "outputs": []
    },
    {
      "cell_type": "markdown",
      "source": [
        "<font color='red'>Exercise 5</font>  \n",
        "Now try something a bit harder. In the cell below, write a line of code to display the `state` and `hispPop` columns for states with less than a 3% Hispanic population."
      ],
      "metadata": {
        "id": "XyvYT1LbTLCA"
      }
    },
    {
      "cell_type": "code",
      "source": [
        ""
      ],
      "metadata": {
        "id": "l4z9o4nSToSV"
      },
      "execution_count": null,
      "outputs": []
    },
    {
      "cell_type": "markdown",
      "source": [
        "## 6. Sorting Dataframes\n",
        "So far we've seen how to choose which rows or columns to display, but it's often useful to view all of the data sorted by a particular column. By default, the observations are sorted according to their ID number (the number in the left column). Our example dataframe happens to already have the rows sorted alphabetically by state name, but what if we wanted to see the data sorted by the total population?\n",
        "\n",
        "### 6a. Ascending Order\n",
        "The `sort_values()` method provides exacly this functionality. To call this method, follow the this syntax:  \n",
        "\n",
        "`df_name.sort_values(by = 'col_name')`\n",
        "\n",
        "<font color='red'>Exercise 6</font>  \n",
        "Try sorting the `my_df` dataframe by the `totalPop` column. "
      ],
      "metadata": {
        "id": "DccpWhOgPwd4"
      }
    },
    {
      "cell_type": "code",
      "source": [
        ""
      ],
      "metadata": {
        "id": "pW4rm5omfi2s"
      },
      "execution_count": null,
      "outputs": []
    },
    {
      "cell_type": "markdown",
      "source": [
        "### 6b. Descending Order\n",
        "By default, the `sort_values()` method sorts in ascending order. To sort in descending order, one more argument is necessary:  \n",
        "\n",
        "`df_name.sort_values(by = 'col_name', ascending = False)`  "
      ],
      "metadata": {
        "id": "4_c3zDm_Z379"
      }
    },
    {
      "cell_type": "markdown",
      "source": [
        "---\n",
        "###<font color='blue'>Reminder</font>\n",
        "The keyword `False` does not have quotation marks surrounding it--it is a Boolean literal, not a string.\n",
        "\n",
        "---"
      ],
      "metadata": {
        "id": "GxA-j1BgbP9H"
      }
    },
    {
      "cell_type": "markdown",
      "source": [
        "### 6c. Viewing vs. Changing\n",
        "It is important to understand that the `sort_values()` method does not change the original dataframe, it just creates a new view. To verify that the data haven't changed, we can simply look at the dataframe's header.\n",
        "\n",
        "<font color='red'>Exercise 7</font>  \n",
        "Run the cell below to display the first five rows of the dataframe to verify that the original order hasn't changed."
      ],
      "metadata": {
        "id": "EvCC2nrchLbj"
      }
    },
    {
      "cell_type": "code",
      "source": [
        "my_df.head()"
      ],
      "metadata": {
        "id": "Zh5mtKGMjx7U"
      },
      "execution_count": null,
      "outputs": []
    },
    {
      "cell_type": "markdown",
      "source": [
        "If you actually want the dataframe to change according to the `sort_values()` method, you'll need to include yet another argument in the parentheses: `inplace = True`.\n",
        "\n",
        "<font color='red'>Exercise 8</font>  \n",
        "Sort the `my_df` dataframe again by total population in ascending order (default) as you did in Exercise 6, but include the above argument this time to actually change the dataframe. Then, add a line and display the first five rows again to ensure that the dataframe has changed."
      ],
      "metadata": {
        "id": "V5N4Vs7kkHam"
      }
    },
    {
      "cell_type": "code",
      "source": [
        ""
      ],
      "metadata": {
        "id": "DkN3gUFTmopA"
      },
      "execution_count": null,
      "outputs": []
    },
    {
      "cell_type": "markdown",
      "source": [
        "### 6d. Sorting by More than One Column\n",
        "A dataframe can also be sorted by two columns. The dataframe we've been working with isn't a great example for this, but say you wanted to sort a dataframe of college students first by their year in school and then by last name. Doing so would look somthing like this:  \n",
        "\n",
        "`students_df.sort_values(by = ['year', 'last_name'])`\n",
        "\n",
        "This line of code would display the whole dataframe of students sorted by year and then by last name within each year. \n",
        "\n",
        "Therefore, the generic syntax to sort first by 'col_1' and then by 'col_2', etc., is:  \n",
        "\n",
        "`df_name.sort_values(by = ['col_1', 'col_2', 'etc.'])`"
      ],
      "metadata": {
        "id": "Xx__BicqnzIm"
      }
    },
    {
      "cell_type": "markdown",
      "source": [
        "## All done!\n",
        "You've finished learning about the Pandas library! Next, you'll learn how you can create and import your own data rather than relying on existing datasets."
      ],
      "metadata": {
        "id": "vYqInSA0L4Ph"
      }
    }
  ]
}