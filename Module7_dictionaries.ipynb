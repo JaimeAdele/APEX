{
  "nbformat": 4,
  "nbformat_minor": 0,
  "metadata": {
    "kernelspec": {
      "display_name": "Python 3",
      "language": "python",
      "name": "python3"
    },
    "language_info": {
      "codemirror_mode": {
        "name": "ipython",
        "version": 3
      },
      "file_extension": ".py",
      "mimetype": "text/x-python",
      "name": "python",
      "nbconvert_exporter": "python",
      "pygments_lexer": "ipython3",
      "version": "3.7.1"
    },
    "colab": {
      "name": "Module7_dictionaries.ipynb",
      "provenance": [],
      "collapsed_sections": [],
      "include_colab_link": true
    }
  },
  "cells": [
    {
      "cell_type": "markdown",
      "metadata": {
        "id": "view-in-github",
        "colab_type": "text"
      },
      "source": [
        "<a href=\"https://colab.research.google.com/github/JaimeAdele/APEX/blob/main/Module7_dictionaries.ipynb\" target=\"_parent\"><img src=\"https://colab.research.google.com/assets/colab-badge.svg\" alt=\"Open In Colab\"/></a>"
      ]
    },
    {
      "cell_type": "markdown",
      "metadata": {
        "id": "lnXOxVPEkZ5f"
      },
      "source": [
        "<img src='https://cdn.pixabay.com/photo/2016/08/25/15/30/dictionary-1619740_1280.jpg' width=700>  \n",
        "Photo by stevepb production from Pixabay"
      ]
    },
    {
      "cell_type": "markdown",
      "metadata": {
        "id": "svAPrOFekdFH"
      },
      "source": [
        "# APEX Faculty Training, Module 7: Dictionaries\n",
        "\n",
        "Created by Valerie Carr and Jaime Zuspann  \n",
        "Licensed under a Creative Commons license: CC BY-NC-SA  \n",
        "Last updated: Dec 5, 2021  \n",
        "\n",
        "**Learning outcomes**  \n",
        "1.   List item\n",
        "2.   List item"
      ]
    },
    {
      "cell_type": "markdown",
      "metadata": {
        "id": "hI79e_J1lAAH"
      },
      "source": [
        "## 1. A couple notes before you start \n",
        "* This file is view only, meaning that you can't edit it.\n",
        "    * To create an editable copy, look towards the top of the notebook and click on `Copy to Drive`. This will cause a new tab to open with your own personal copy.\n",
        "    * If you want to refer back to your copy in the future, you can find it in Google Drive in a folder called `Colab Notebooks`.\n",
        "* To run a cell, use `shift` + `enter`.  \n"
      ]
    },
    {
      "cell_type": "markdown",
      "metadata": {
        "id": "DKwAYq8KJjo7"
      },
      "source": [
        "## 2. What is a Dictionary?  \n",
        "A Python dictionary can be thought of as a \"container\" holding pairs of items. A traditional dictionary is one example of a Python dictionary--it holds pairs consisting of words and their definitions. Other Python dictionaries might hold items and their prices or students and their grades.  \n",
        "\n",
        "We call the first item of one of these pairs the `key` and the second item the `value`, creating `key:value` pairs."
      ]
    },
    {
      "cell_type": "markdown",
      "metadata": {
        "id": "E48I6l-ervev"
      },
      "source": [
        "## 3. Creating dictionaries\n",
        "Below is the generic syntax for a dictionary:  \n",
        "```\n",
        "my_dictionary = {  \n",
        "\t\tkey1: value,  \n",
        "\t\tkey2: value,  \n",
        "\t\tkey3: value,  \n",
        "\t\tkey4: value  \n",
        "}\n",
        "```\n",
        "\n",
        "The keys in a dictionary must be unique, though values can repeat.\n",
        "  - For example, in a dictionary that maps student ID's to their grades, each student ID (key) is unique, though multiple students might receive the same grade (value)."
      ]
    },
    {
      "cell_type": "markdown",
      "metadata": {
        "id": "0u3LGdDDeyaT"
      },
      "source": [
        "We'll create a sample dictionary that maps student ID's to a list containing a last name and a first name. So,  \n",
        "*   Keys: Student ID's\n",
        "*   Values: ['last name', 'first name']  \n",
        "\n",
        "Be sure to run the cell below now so that later cells function properly.\n",
        "\n"
      ]
    },
    {
      "cell_type": "code",
      "metadata": {
        "id": "sjOCmnIDfaw8"
      },
      "source": [
        "students = {\n",
        "    123456789: ['Potter', 'Harry'],\n",
        "    987654321: ['Granger', 'Hermione'],\n",
        "    101010101: ['Weasley', 'Ron']\n",
        "}"
      ],
      "execution_count": null,
      "outputs": []
    },
    {
      "cell_type": "markdown",
      "metadata": {
        "id": "m0TsiC-If58b"
      },
      "source": [
        "Now that we have a dictionary, how do we access the contents? Can we provide an ID# and obtain the relevant name?  \n",
        "\n",
        "Yes! To obtain the relevant value, we simply type the name of the dictionary followed by square brackets with the key inside.  \n",
        "\n",
        "<font color='red'>Exercise 1</font>  \n",
        "\n",
        "Run the cells below to retrieve the names corresponding to the IDs:"
      ]
    },
    {
      "cell_type": "code",
      "metadata": {
        "id": "zGuiFay7gr4a"
      },
      "source": [
        "students[123456789]"
      ],
      "execution_count": null,
      "outputs": []
    },
    {
      "cell_type": "code",
      "metadata": {
        "id": "2Dbvuy95gxXl"
      },
      "source": [
        "students[101010101]"
      ],
      "execution_count": null,
      "outputs": []
    },
    {
      "cell_type": "markdown",
      "metadata": {
        "id": "06jff3d4eil-"
      },
      "source": [
        "<font color='red'>Exercise 2</font>  \n",
        "Now it's your turn to create your first dictionary. You've all seen bar codes on things like groceries, toys, clothing, etc. Bar codes are associated with a particular product name and price. You can think of the bar code as the *key* and the product name and price as the *values* paired with that key. To keep things simple for this example, instead of bar codes, we'll simply use 5 digit codes. \n",
        "\n",
        "In the space below, create a dictionary named `groceries`, and within it create **four** key:value pairings such that the key is a 5-digit code, and the value is a list that contains two items: product name and price. So, for example, you might have a 5-digit code like 44809 that is associated with Cheerios and a price of 3.29."
      ]
    },
    {
      "cell_type": "code",
      "metadata": {
        "id": "BcDZjBqmrvew"
      },
      "source": [
        ""
      ],
      "execution_count": null,
      "outputs": []
    },
    {
      "cell_type": "markdown",
      "metadata": {
        "id": "ufJDn2jFrve4"
      },
      "source": [
        "<font color='red'>Exercise 3</font>  \n",
        "Next, choose a 5-digit code (i.e., choose a key), and use it to access the relevant value within your dictionary. You should get a list containing a product name and its price."
      ]
    },
    {
      "cell_type": "code",
      "metadata": {
        "id": "VYBeCEQrrve4"
      },
      "source": [
        ""
      ],
      "execution_count": null,
      "outputs": []
    },
    {
      "cell_type": "markdown",
      "metadata": {
        "id": "_RMD1SS8lEn5"
      },
      "source": [
        "## 4. Dictionary properties  \n",
        "### Data types  \n",
        "What types of things can be used as keys in a dictionary? What about values?  \n",
        "\n",
        "*   Keys must be a data type that is immutable  \n",
        "    - Numbers, strings, or tuples can all be used as keys\n",
        "    - Lists cannot be used as keys\n",
        "*   Values can be any data type  "
      ]
    },
    {
      "cell_type": "markdown",
      "metadata": {
        "id": "ifj79rWZolRg"
      },
      "source": [
        "### Ordering  \n",
        "The order of items within a dictionary doesn't matter. This is because we access a value by its key, not an index number or position.  \n",
        "\n",
        "This is where thinking of a traditional dictionary might give you the wrong idea. There's no need for an alphabetical or ascending order--or any particular order at all. It's best to think of the contents of a Python dictionary as having no order, so it doesn't matter which order they appear in when the dictionary is created."
      ]
    },
    {
      "cell_type": "markdown",
      "metadata": {
        "id": "FoTieNwWqm6Z"
      },
      "source": [
        "### Mutability  \n",
        "Dictionaries are mutable--they can be modified. You can add to them by creating new `key:value` pairings:  \n",
        "```\n",
        "my_dictionary[new_key] = new_value\n",
        "```\n",
        "\n",
        "You can also update existing `key:value` pairings:\n",
        "```\n",
        "my_dictionary[key] = updated_value\n",
        "```\n",
        "\n",
        "<font color='red'>Exercise 4</font>  \n",
        "In the cell below, we're adding another student to our `students` dictionary. \n",
        "Run the cell to see the dictionary with the new student:"
      ]
    },
    {
      "cell_type": "code",
      "metadata": {
        "id": "BAyFP_wdrtAz"
      },
      "source": [
        "students[135792468] = ['Malfoy', 'Draco']\n",
        "students"
      ],
      "execution_count": null,
      "outputs": []
    },
    {
      "cell_type": "markdown",
      "metadata": {
        "id": "umbvEjassNAx"
      },
      "source": [
        "<font color='red'>Exercise 5</font>  \n",
        "Someone comes along and tells us we've spelled the new student's name incorrectly. To change the value, we access the key in the same manner as above, and assign the 'correct' value. Run the cell to see the updated dictionary:"
      ]
    },
    {
      "cell_type": "code",
      "metadata": {
        "id": "-XBYk8hcswCS"
      },
      "source": [
        "students[135792468] = ['Malfoy', 'Drako']\n",
        "students"
      ],
      "execution_count": null,
      "outputs": []
    },
    {
      "cell_type": "markdown",
      "metadata": {
        "id": "h8STAPYDttYv"
      },
      "source": [
        "<font color='red'>Exercise 6</font>  \n",
        "Of course, we realize later that the name was spelled correctly the first time. Here's another (shorter) way to make the change (run the cell):"
      ]
    },
    {
      "cell_type": "code",
      "metadata": {
        "id": "cvzX0GUEt7oQ"
      },
      "source": [
        "students[135792468][-1] = 'Draco'\n",
        "students"
      ],
      "execution_count": null,
      "outputs": []
    },
    {
      "cell_type": "markdown",
      "metadata": {
        "id": "DnB5J4_tuJXr"
      },
      "source": [
        "---\n",
        "<font color='blue'>Remember: Negative Indexing</font>  \n",
        "Did you see that in the exercise above, we used indexing to access the exact value we wanted? Since the value was the last in the list, the index of -1 was an easy way to access it.  \n",
        "\n",
        "---"
      ]
    },
    {
      "cell_type": "markdown",
      "metadata": {
        "id": "0ZniFiCFrve7"
      },
      "source": [
        "Now, try your hand at making adjustments to your dictionary from above:  \n",
        "\n",
        "<font color='red'>Exercise 7</font>  \n",
        "Your manager at the grocery store has decided to increase the price of the item that you just accessed in Exercise 3. In the cell below, change the value paired with this key. Then, type the name of the dictionary to ensure that the value has changed. (Note: if the order of key-value pairs in your dictionary has changed, don't worry, this isn't a problem!)"
      ]
    },
    {
      "cell_type": "code",
      "metadata": {
        "id": "um3OEpZorve7"
      },
      "source": [
        ""
      ],
      "execution_count": null,
      "outputs": []
    },
    {
      "cell_type": "markdown",
      "metadata": {
        "id": "7h_b_L3yrve9"
      },
      "source": [
        "<font color='red'>Exercise 8</font>  \n",
        "Given the pandemic, your store has started selling disposable masks. In the cell below, create a new key:value pairing for masks using a 5-digit code of your choosing and a price of your choosing. Again, type the name of your dictionary to ensure that this key:value pair was properly added."
      ]
    },
    {
      "cell_type": "code",
      "metadata": {
        "id": "LvXdCF4Orve-"
      },
      "source": [
        ""
      ],
      "execution_count": null,
      "outputs": []
    },
    {
      "cell_type": "markdown",
      "metadata": {
        "id": "BWcohgcXrvfA"
      },
      "source": [
        "## 5. Operations with dictionaries\n",
        "Some of the same operations that apply to lists also apply to dictionaries. For instance, `in`, `not in`, and `len()` apply here.  \n",
        "\n",
        "*   `x in my_dictionary` -> a boolean value that says whether x is a key in `my_dictionary`  \n",
        "*   `x  not in my_dictionary` -> a boolean value that says whether x is not a key in `my_dictionary`  \n",
        "*   `len(my_dictionary)` -> the integer length of `my_dictionary`  \n",
        "\n",
        "<font color='red'>Exercise 9</font>  \n",
        "Run the cells below to see these dictionary operations in action. "
      ]
    },
    {
      "cell_type": "code",
      "metadata": {
        "id": "eafKN6gvzYW4"
      },
      "source": [
        "123456789 in students"
      ],
      "execution_count": null,
      "outputs": []
    },
    {
      "cell_type": "code",
      "metadata": {
        "id": "1voAt2LBzg4s"
      },
      "source": [
        "987654321 not in students"
      ],
      "execution_count": null,
      "outputs": []
    },
    {
      "cell_type": "code",
      "metadata": {
        "id": "COJzF2UMzq0f"
      },
      "source": [
        "len(students)"
      ],
      "execution_count": null,
      "outputs": []
    },
    {
      "cell_type": "markdown",
      "metadata": {
        "id": "8R5x2Suz0HBg"
      },
      "source": [
        "---\n",
        "#### <font color='blue'>Note</font>  \n",
        "There are several list operations that work differently or don't work at all for dictionaries. For instance, square brackets work differently for dictionaries: if you try to index a dictionary, you'll receive an error!  \n",
        "\n",
        "This cell would only work if one of the keys in `students` happened to be the integer 0:"
      ]
    },
    {
      "cell_type": "code",
      "metadata": {
        "id": "XjW9CKx40p4H"
      },
      "source": [
        "students[0]"
      ],
      "execution_count": null,
      "outputs": []
    },
    {
      "cell_type": "markdown",
      "metadata": {
        "id": "5tPkTemY0qQh"
      },
      "source": [
        "Algebraic operators don't work at all on dictionaries. You can’t use `+`, `*`, `min()`, `max()`, or `sum()`. However, we'll learn other dictionary operations that accomplish similar things in the next module.\n",
        "\n",
        "---"
      ]
    },
    {
      "cell_type": "markdown",
      "metadata": {
        "id": "R6QcD5IlyMuX"
      },
      "source": [
        "<font color='red'>Exercise 9</font>  \n",
        "In the cell below, determine whether `kiwi` is a key in your dictionary. "
      ]
    },
    {
      "cell_type": "code",
      "metadata": {
        "id": "6Jukz3H8rvfA"
      },
      "source": [
        ""
      ],
      "execution_count": null,
      "outputs": []
    },
    {
      "cell_type": "markdown",
      "metadata": {
        "id": "vHIQV9RZrvfD"
      },
      "source": [
        "<font color='red'>Exercise 10</font>  \n",
        "How many items are in your dictionary?"
      ]
    },
    {
      "cell_type": "code",
      "metadata": {
        "id": "oQfP8-S_rvfE"
      },
      "source": [
        "len(groceries)"
      ],
      "execution_count": null,
      "outputs": []
    },
    {
      "cell_type": "markdown",
      "metadata": {
        "id": "Lf_Luk9drvfG"
      },
      "source": [
        "## 5. BONUS: Birthday program\n",
        "Looking for more of a challenge? This exercise is similar to one from your textbook, and it involves writing a program to help you keep track of your friend's birthdays. I'm not going to provide much \"hand-holding here,\" so I recommend thinking through the logic and writing some pseudo code before you start writing actual code!\n",
        "\n",
        "* Create a dictionary that uses first names as keys and birthdays as values. In total, create three key-value pairs.\n",
        "* Next, ask the user to input the name of the friend whose birthday they are curious about.\n",
        "* If that friend's name is in the dictionary, provide the relevant date.\n",
        "* Otherwise, print a message that the name is not in the dictionary, and then ask the user to input the relevant date for this friend.\n",
        "* Add this new key:value pair to your dictionary, and type the name of the dictionary to ensure it was properly added.\n",
        "\n",
        "A final note: If you're a single quotes user and you try to include an apostrophe in any of your messages, you'll receive an error. I'll teach you in a few weeks how to get around this issue, but for now you can simply use double quotes instead."
      ]
    },
    {
      "cell_type": "code",
      "metadata": {
        "id": "fQZUKrxTvi-x"
      },
      "source": [
        "# create dictionary\n",
        "birthdays = {\n",
        "    'Jim': '10/20/1979',\n",
        "    'Pam': '3/7/1974',\n",
        "    'Dwight': '1/20/1966' \n",
        "}\n",
        "\n",
        "# chatbot\n",
        "name = input('Which friend are you curious about? ')\n",
        "if name in birthdays:\n",
        "    print(name + ' has a birthday on ' + birthdays[name])\n",
        "else:\n",
        "    print('Sorry, your friend is not in my database.')\n",
        "    date = input('Please input the relevant date and I will add it: ')\n",
        "    birthdays[name] = date\n",
        "print('Here is the full database:')\n",
        "birthdays"
      ],
      "execution_count": null,
      "outputs": []
    },
    {
      "cell_type": "code",
      "metadata": {
        "id": "OQDmxgI9vAHx"
      },
      "source": [
        "# chatbot\n",
        "name = input('Which friend are you curious about? ')\n",
        "if name == 'Jim':\n",
        "    print('Jim has a birthday on ' + birthdays['Jim'])\n",
        "elif name == 'Pam':\n",
        "    print('Pam has a birthday on ' + birthdays['Pam'])\n",
        "elif name == 'Dwight':\n",
        "    print('Dwight has a birthday on ' + birthdays['Dwight'])\n",
        "else:\n",
        "    print('Sorry, your friend is not in my database.')\n",
        "    date = input('Please input the relevant date and I will add it: ')\n",
        "    birthdays[name] = date\n",
        "print('Here is the full database:')\n",
        "birthdays"
      ],
      "execution_count": null,
      "outputs": []
    },
    {
      "cell_type": "markdown",
      "metadata": {
        "id": "1WLAbzFarvfG"
      },
      "source": [
        "## All done!\n",
        "Congrats on finishing the first dictionaries module! In the next module, we'll go even deeper into this new data type."
      ]
    }
  ]
}
