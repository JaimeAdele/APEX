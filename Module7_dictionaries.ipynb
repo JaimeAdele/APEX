{
  "nbformat": 4,
  "nbformat_minor": 0,
  "metadata": {
    "kernelspec": {
      "display_name": "Python 3",
      "language": "python",
      "name": "python3"
    },
    "language_info": {
      "codemirror_mode": {
        "name": "ipython",
        "version": 3
      },
      "file_extension": ".py",
      "mimetype": "text/x-python",
      "name": "python",
      "nbconvert_exporter": "python",
      "pygments_lexer": "ipython3",
      "version": "3.7.1"
    },
    "colab": {
      "name": "Module7_dictionaries.ipynb",
      "provenance": [],
      "collapsed_sections": [],
      "include_colab_link": true
    }
  },
  "cells": [
    {
      "cell_type": "markdown",
      "metadata": {
        "id": "view-in-github",
        "colab_type": "text"
      },
      "source": [
        "<a href=\"https://colab.research.google.com/github/JaimeAdele/APEX/blob/main/Module7_dictionaries.ipynb\" target=\"_parent\"><img src=\"https://colab.research.google.com/assets/colab-badge.svg\" alt=\"Open In Colab\"/></a>"
      ]
    },
    {
      "cell_type": "markdown",
      "metadata": {
        "id": "lnXOxVPEkZ5f"
      },
      "source": [
        "<img src='https://cdn.pixabay.com/photo/2016/08/25/15/30/dictionary-1619740_1280.jpg' width=700>  \n",
        "Photo by stevepb production from Pixabay"
      ]
    },
    {
      "cell_type": "markdown",
      "metadata": {
        "id": "svAPrOFekdFH"
      },
      "source": [
        "# APEX Faculty Training, Module 7: Dictionaries\n",
        "\n",
        "Created by Valerie Carr and Jaime Zuspann  \n",
        "Licensed under a Creative Commons license: CC BY-NC-SA  \n",
        "Last updated: Jan 28, 2021  \n",
        "\n",
        "**Learning outcomes**  \n",
        "1. Learn the syntax for creating dictionaries\n",
        "2. Understand properties of dictionaries\n",
        "3. Practice using dictionary operators"
      ]
    },
    {
      "cell_type": "markdown",
      "metadata": {
        "id": "hI79e_J1lAAH"
      },
      "source": [
        "## 1. A couple notes before you start \n",
        "* This file is view only, meaning that you can't edit it.\n",
        "    * To create an editable copy, look towards the top of the notebook and click on `Copy to Drive`. This will cause a new tab to open with your own personal copy.\n",
        "    * If you want to refer back to your copy in the future, you can find it in Google Drive in a folder called `Colab Notebooks`.\n",
        "* To run a cell, use `shift` + `enter`.   \n",
        "* Keep the following Python style preferences in mind:\n",
        "    * Variable names should use `snake_case`\n",
        "    * Include spaces before and after operators, e.g., `x + 1`\n",
        "    * Don't put unnecessary spaces after a function name, before the parentheses\n",
        "        * Correct: `print(my_variable)`\n",
        "        * Incorrect: `print (my_variable)`\n",
        "    * Don't put unnecessary spaces at the beginning or end of parentheses\n",
        "        * Correct: `print(my_variable)`\n",
        "        * Incorrect: `print( my_variable )`\n",
        "        \n"
      ]
    },
    {
      "cell_type": "markdown",
      "metadata": {
        "id": "DKwAYq8KJjo7"
      },
      "source": [
        "## 2. What is a Dictionary?  \n",
        "A Python dictionary can be thought of as a \"container\" holding pairs of items. Real-life dictionaries contain word-definition pairs, and a Python dictionary could be used to contain this same type of information. Other examples of Python dictionaries might be grocery items and  prices, student IDs and grades, or states and capitals.  \n",
        "\n",
        "We call the first item of one of these pairs the `key` and the second item the `value`, creating `key:value` pairs."
      ]
    },
    {
      "cell_type": "markdown",
      "metadata": {
        "id": "E48I6l-ervev"
      },
      "source": [
        "## 3. Creating dictionaries\n",
        "Below is the generic syntax for creating a dictionary. A few things to note:\n",
        "* We start by choosing a variable name, followed by the equal sign\n",
        "* You'll then see a sequence of `key:value` pairs enclosed in curly braces/brackets, i.e., `{}` \n",
        "* To make reading the contents of a dictionary easier, it's common practice to put each `key:value` pair on its own line\n",
        "* The key is written first, followed by a colon, followed by the value\n",
        "* Finally, note that commas are used to separate the `key:value` pairs\n",
        "```\n",
        "my_dictionary = {  \n",
        "\t\tkey1: value,  \n",
        "\t\tkey2: value,  \n",
        "\t\tkey3: value,  \n",
        "\t\tkey4: value  \n",
        "}\n",
        "```\n",
        "\n",
        "IMPORTANT! The keys in a dictionary must be unique, although values can repeat. For example, in a dictionary containing student IDs and names, each student ID (key) must be unique, although you can imagine a scenario in which more than one student has the same name (value).\n",
        "\n",
        "Below is an example of dictionary that pairs student IDs with names. Note that the names are in the form of a list containing a last name and a first name. So, in this case:  \n",
        "*   Keys: Student IDs\n",
        "*   Values: ['last', 'first']  \n",
        "\n",
        "<font color='red'>Exercise 1</font>  \n",
        "Run the cell below to create the dictionary `students`, which we'll continue to use in the next few exercises. Note that there won't be any output – we're simply assigning the dictionary to a variable so that we can use it later."
      ]
    },
    {
      "cell_type": "code",
      "metadata": {
        "id": "sjOCmnIDfaw8"
      },
      "source": [
        "students = {\n",
        "    123456789: ['Potter', 'Harry'],\n",
        "    987654321: ['Granger', 'Hermione'],\n",
        "    101010101: ['Weasley', 'Ron']\n",
        "}"
      ],
      "execution_count": null,
      "outputs": []
    },
    {
      "cell_type": "markdown",
      "metadata": {
        "id": "m0TsiC-If58b"
      },
      "source": [
        "## 4. Accessing a dictionary's contents\n",
        "Now that we have a sample dictionary, how do we access the contents? For example, can we provide an ID number and obtain the associated name?  \n",
        "\n",
        "Yes! To obtain the relevant value, we simply type the name of the dictionary (i.e., the variable to which it's been assigned)followed by square brackets with the desired key inside.  \n",
        "\n",
        "<font color='red'>Exercise 2</font>  \n",
        "\n",
        "Before running the code below, what outputs do you expect to see? Run the cells to find out if you're correct!"
      ]
    },
    {
      "cell_type": "code",
      "metadata": {
        "id": "zGuiFay7gr4a"
      },
      "source": [
        "students[123456789]"
      ],
      "execution_count": null,
      "outputs": []
    },
    {
      "cell_type": "code",
      "metadata": {
        "id": "2Dbvuy95gxXl"
      },
      "source": [
        "students[101010101]"
      ],
      "execution_count": null,
      "outputs": []
    },
    {
      "cell_type": "markdown",
      "metadata": {
        "id": "06jff3d4eil-"
      },
      "source": [
        "<font color='red'>Exercise 3</font>  \n",
        "Now it's your turn to create a dictionary. We've all seen bar codes on things like groceries, toys, clothing, etc. Bar codes are associated with a particular product name and price. You can think of the bar code as the *key* and the product name and price as the *values* paired with that key. To keep things simple for this example, instead of bar codes, we'll use 5 digit codes. \n",
        "\n",
        "In the space below, create a dictionary named `groceries` that contains **four** key:value pairings. \n",
        "* Each key should be a 5-digit code (as an integer)\n",
        "* Each value should be a list that contains two items: the product name (as a string) and price (as a float). So, for example, you might have a 5-digit code like 44809 that is associated with 'Cheerios' and a price of 3.29."
      ]
    },
    {
      "cell_type": "code",
      "metadata": {
        "id": "BcDZjBqmrvew"
      },
      "source": [
        ""
      ],
      "execution_count": null,
      "outputs": []
    },
    {
      "cell_type": "markdown",
      "metadata": {
        "id": "ufJDn2jFrve4"
      },
      "source": [
        "<font color='red'>Exercise 4</font>  \n",
        "Next, choose a 5-digit code (i.e., choose a key), and use it to access the relevant value within your dictionary. You should get a list containing a product name and price."
      ]
    },
    {
      "cell_type": "code",
      "metadata": {
        "id": "VYBeCEQrrve4"
      },
      "source": [
        ""
      ],
      "execution_count": null,
      "outputs": []
    },
    {
      "cell_type": "markdown",
      "metadata": {
        "id": "_RMD1SS8lEn5"
      },
      "source": [
        "## 5. Dictionary properties  \n",
        "### 5a. Data types  \n",
        "What types of things can be used as keys in a dictionary? What about values?  \n",
        "\n",
        "*   Keys must be a data type that is **immutable**, i.e., one that is not changeable \n",
        "    - Numbers, strings, or tuples can all be used as keys\n",
        "    - Lists cannot be used as keys. Why? Because they're mutable.\n",
        "*   Values can be any data type! There are no restrictions.  "
      ]
    },
    {
      "cell_type": "markdown",
      "metadata": {
        "id": "ifj79rWZolRg"
      },
      "source": [
        "### 5b. Ordering  \n",
        "The order of items within a dictionary doesn't matter. This is because we access a value by its key, not its position (or index) within the dictionary.  \n",
        "\n",
        "This is where thinking of a traditional dictionary might give you the wrong idea. There's no need for an alphabetical or ascending order in a Python dictionary. It's best to think of the contents of a Python dictionary as having no order, such that it doesn't matter which order key:value pairs appear in when creating a dictionary."
      ]
    },
    {
      "cell_type": "markdown",
      "metadata": {
        "id": "FoTieNwWqm6Z"
      },
      "source": [
        "### 5c. Mutability  \n",
        "Dictionaries are mutable. In other words, once you create a dictionary, you can modify it. For example, you can add to a dictionary's contents by creating new `key:value` pairs as follows:  \n",
        "```\n",
        "my_dictionary[new_key] = new_value\n",
        "```\n",
        "As you can see in the sample code above, to add a new `key:value` pair to your dictionary, you simply write the name of the dictionary, follwed by square brackets with the new key inside. Finally, you assign this new key a value.\n",
        "\n",
        "You can use this same general syntax to change the value of an existing `key:value` pair:\n",
        "```\n",
        "my_dictionary[key] = updated_value\n",
        "```\n",
        "\n",
        "<font color='red'>Exercise 5</font>  \n",
        "In the cell below, we're adding another student ID and associated name to our `students` dictionary. Run the cell to see the revised dictionary with the new student's information:"
      ]
    },
    {
      "cell_type": "code",
      "metadata": {
        "id": "BAyFP_wdrtAz"
      },
      "source": [
        "students[135792468] = ['Malfoy', 'Drako']\n",
        "students"
      ],
      "execution_count": null,
      "outputs": []
    },
    {
      "cell_type": "markdown",
      "metadata": {
        "id": "umbvEjassNAx"
      },
      "source": [
        "<font color='red'>Exercise 6</font>  \n",
        "Imagine that you've accidentally spelled the new student's name incorrectly. To change the value, we'll apply the sample syntax from above. Run the cell to see the updated dictionary. As you'll see, rather than creating a new entry, we've simply revised an existing entry."
      ]
    },
    {
      "cell_type": "code",
      "metadata": {
        "id": "-XBYk8hcswCS"
      },
      "source": [
        "students[135792468] = ['Malfoy', 'Draco']\n",
        "students"
      ],
      "execution_count": null,
      "outputs": []
    },
    {
      "cell_type": "markdown",
      "metadata": {
        "id": "h8STAPYDttYv"
      },
      "source": [
        "<font color='red'>Exercise 7</font>  \n",
        "Now it's your time to write some code! Thinking back to the grocery-related dictionary that you created in Exercise 3...\n",
        "\n",
        "Imagine that your manager has decided to increase the price of one of the items in the store. In the cell below: \n",
        "* Change the value associated with a key of your choosing such that the price increases. For example, rather than Cheerios costing 3.29, maybe they now cost 3.49.\n",
        "* Then, type the name of the dictionary to ensure that the price has indeed changed. (Note: if the order of key-value pairs in your dictionary has changed since you first created it, don't worry! A dictionary's contents have no particular order.)"
      ]
    },
    {
      "cell_type": "code",
      "metadata": {
        "id": "cvzX0GUEt7oQ"
      },
      "source": [
        ""
      ],
      "execution_count": null,
      "outputs": []
    },
    {
      "cell_type": "markdown",
      "metadata": {
        "id": "DnB5J4_tuJXr"
      },
      "source": [
        "<font color='red'>Exercise 8</font>  \n",
        "Given the pandemic, your store has started selling disposable masks. In the cell below, create a new `key:value` pair using a 5-digit code of your choosing, the name of the product, and a price of your choosing. Again, type the name of your dictionary to ensure that this new pair was properly added."
      ]
    },
    {
      "cell_type": "code",
      "metadata": {
        "id": "um3OEpZorve7"
      },
      "source": [
        ""
      ],
      "execution_count": null,
      "outputs": []
    },
    {
      "cell_type": "markdown",
      "metadata": {
        "id": "BWcohgcXrvfA"
      },
      "source": [
        "## 6. Operations with dictionaries\n",
        "Some of the same operations that apply to lists also apply to dictionaries. For instance, `in`, `not in`, and `len()` apply here.  \n",
        "\n",
        "*   `x in my_dictionary` will output a Boolean value indicating whether x is a key in `my_dictionary`  \n",
        "*   `x  not in my_dictionary` -> will output a Boolean value indicating whether x is *not* a key in `my_dictionary`  \n",
        "*   `len(my_dictionary)` will output the length of `my_dictionary`, i.e., the number of `key:value` pairs  \n",
        "\n",
        "<font color='red'>Exercise 9</font>  \n",
        "Before running the code below, what outputs do you expect to see? Run the cells to find out if you're correct! "
      ]
    },
    {
      "cell_type": "code",
      "metadata": {
        "id": "eafKN6gvzYW4"
      },
      "source": [
        "123456789 in students"
      ],
      "execution_count": null,
      "outputs": []
    },
    {
      "cell_type": "code",
      "metadata": {
        "id": "1voAt2LBzg4s"
      },
      "source": [
        "987654321 not in students"
      ],
      "execution_count": null,
      "outputs": []
    },
    {
      "cell_type": "code",
      "metadata": {
        "id": "COJzF2UMzq0f"
      },
      "source": [
        "len(students)"
      ],
      "execution_count": null,
      "outputs": []
    },
    {
      "cell_type": "markdown",
      "metadata": {
        "id": "8R5x2Suz0HBg"
      },
      "source": [
        "<font color='red'>Exercise 10</font>  \n",
        "It's your turn! Referring back to your grocery-related dictionary...\n",
        "\n",
        "In the cell below, determine whether `kiwi` is a key in your dictionary: "
      ]
    },
    {
      "cell_type": "code",
      "metadata": {
        "id": "XjW9CKx40p4H"
      },
      "source": [
        ""
      ],
      "execution_count": null,
      "outputs": []
    },
    {
      "cell_type": "markdown",
      "metadata": {
        "id": "5tPkTemY0qQh"
      },
      "source": [
        "<font color='red'>Exercise 11</font>  \n",
        "How many `key:value` pairs are in your dictionary?"
      ]
    },
    {
      "cell_type": "code",
      "metadata": {
        "id": "6Jukz3H8rvfA"
      },
      "source": [
        ""
      ],
      "execution_count": null,
      "outputs": []
    },
    {
      "cell_type": "markdown",
      "metadata": {
        "id": "vHIQV9RZrvfD"
      },
      "source": [
        "---\n",
        "#### <font color='blue'>Note</font>  \n",
        "There are several list operations that work differently or don't work at all for dictionaries. For instance, square brackets work differently for dictionaries than for lists. When applied to dictionaries, they're used to indicate a key, whereas when they're applied to lists, they're used to indicate an index. If you try to index a dictionary, you'll receive an error!  \n",
        "\n",
        "For example, this code would only work if one of the keys in `students` happened to be the integer 0:\n",
        "\n",
        "```\n",
        "students[0]\n",
        "```\n",
        "\n",
        "Additionally, algebraic operators don't work on dictionaries. You can’t use `+`, `*`, `min()`, `max()`, or `sum()`. There are approaches that will allow you to accomplish similar things, but they're beyond the scope of this introductory lesson.\n",
        "\n",
        "---"
      ]
    },
    {
      "cell_type": "markdown",
      "source": [
        "## All done!\n",
        "Congrats on finishing the dictionaries module! In the next module, we'll start digging into data analysis."
      ],
      "metadata": {
        "id": "vYqInSA0L4Ph"
      }
    }
  ]
}