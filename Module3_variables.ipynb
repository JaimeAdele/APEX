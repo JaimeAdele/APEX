{
  "nbformat": 4,
  "nbformat_minor": 0,
  "metadata": {
    "kernelspec": {
      "display_name": "Python 3",
      "language": "python",
      "name": "python3"
    },
    "language_info": {
      "codemirror_mode": {
        "name": "ipython",
        "version": 3
      },
      "file_extension": ".py",
      "mimetype": "text/x-python",
      "name": "python",
      "nbconvert_exporter": "python",
      "pygments_lexer": "ipython3",
      "version": "3.7.1"
    },
    "colab": {
      "name": "Module3_variables.ipynb",
      "provenance": [],
      "collapsed_sections": [
        "-DFmkSC3DcrF",
        "mMoSrg_5DcrP",
        "CZws-TYVDcrP",
        "6eF88P1PDcrV",
        "whNRxjERDcrZ",
        "P_FORhr1Dcrd",
        "1XOrdHJLDcri",
        "tAI7cCJSDcrk"
      ],
      "include_colab_link": true
    }
  },
  "cells": [
    {
      "cell_type": "markdown",
      "metadata": {
        "id": "view-in-github",
        "colab_type": "text"
      },
      "source": [
        "<a href=\"https://colab.research.google.com/github/JaimeAdele/APEX/blob/main/Module3_variables.ipynb\" target=\"_parent\"><img src=\"https://colab.research.google.com/assets/colab-badge.svg\" alt=\"Open In Colab\"/></a>"
      ]
    },
    {
      "cell_type": "markdown",
      "metadata": {
        "id": "U2VoRlVpDcqd"
      },
      "source": [
        "# Module 3: Variables\n",
        "Name: Valerie Carr  \n",
        "Last updated: 8/25/21\n",
        "\n",
        "Created by Valerie Carr and Jaime Zuspann  \n",
        "Last updated: Nov 7, 2021  \n",
        "\n",
        "**Learning outcomes**  \n",
        "To learn about variables:\n",
        "• What a variable is and how to name it\n",
        "• How to assign values to variables"
      ]
    },
    {
      "cell_type": "markdown",
      "metadata": {
        "id": "JjI68d04fcgp"
      },
      "source": [
        "Remember to click the Copy to Drive button before you begin so you can make changes in your own copy of the module."
      ]
    },
    {
      "cell_type": "markdown",
      "metadata": {
        "id": "YmLWJKQSDcqe"
      },
      "source": [
        "## 1. Make a Copy and Document your notebook\n"
      ]
    },
    {
      "cell_type": "markdown",
      "metadata": {
        "id": "BXnvX8m8clXv"
      },
      "source": [
        "## 2. Assigning values to variables \n",
        "In Python, it's helpful to store values for later use. To store a value, we need to assign it to a variable.  \n",
        "  \n",
        "You can think of a variable like a box. You can drop a value into the box to store it, so you can access it later. If needed, you can change the value you've stored."
      ]
    },
    {
      "cell_type": "markdown",
      "metadata": {
        "id": "ZVF6Tz1H97Kn"
      },
      "source": [
        "To assign a value to a variable:  \n",
        "* The variable name always comes first  \n",
        "* Then an equal sign followed by the value  \n",
        "`x = 3 #assigns the value 3 to the variable x`  \n",
        "`age = 20 #assigns the value 20 to the variable age`  \n",
        "\n",
        "Note: It is a common mistake among students to put the value first with the variable after the equal sign. This doesn't work and will cause a SyntaxError. More on this error later."
      ]
    },
    {
      "cell_type": "code",
      "metadata": {
        "id": "xFwSSGWb-bZC"
      },
      "source": [
        "x = 3 #assigns the value 3 to the variable x\n",
        "age = 20 #assigns the value 20 to the variable age"
      ],
      "execution_count": null,
      "outputs": []
    },
    {
      "cell_type": "code",
      "metadata": {
        "id": "3Shh8KoVOVoL",
        "colab": {
          "base_uri": "https://localhost:8080/",
          "height": 130
        },
        "outputId": "10675faf-b429-4163-e7f6-b37ff964c658"
      },
      "source": [
        "20 = age #this is incorrect and will give you a SyntaxError"
      ],
      "execution_count": null,
      "outputs": [
        {
          "output_type": "error",
          "ename": "SyntaxError",
          "evalue": "ignored",
          "traceback": [
            "\u001b[0;36m  File \u001b[0;32m\"<ipython-input-11-a20c3f007a47>\"\u001b[0;36m, line \u001b[0;32m1\u001b[0m\n\u001b[0;31m    20 = age #this is incorrect\u001b[0m\n\u001b[0m                               ^\u001b[0m\n\u001b[0;31mSyntaxError\u001b[0m\u001b[0;31m:\u001b[0m can't assign to literal\n"
          ]
        }
      ]
    },
    {
      "cell_type": "markdown",
      "metadata": {
        "id": "K2m7jsR1_JLS"
      },
      "source": [
        "If you run the code above, you'll see that there is no output. Assignment doesn't return a value. You can check if the values were assigned properly by simply typing the variable names on their own lines and running them. Note: if you put them in the same code cell, the output will only show the value stored in the last variable."
      ]
    },
    {
      "cell_type": "code",
      "metadata": {
        "id": "87nCShUz_bvE",
        "colab": {
          "base_uri": "https://localhost:8080/"
        },
        "outputId": "56bb6332-d087-4198-ef1f-a95d06930282"
      },
      "source": [
        "x"
      ],
      "execution_count": null,
      "outputs": [
        {
          "output_type": "execute_result",
          "data": {
            "text/plain": [
              "3"
            ]
          },
          "metadata": {},
          "execution_count": 4
        }
      ]
    },
    {
      "cell_type": "code",
      "metadata": {
        "id": "Z6Akz9rV_iKF",
        "colab": {
          "base_uri": "https://localhost:8080/"
        },
        "outputId": "ac1e3a07-757c-440c-b449-01cb72954988"
      },
      "source": [
        "age"
      ],
      "execution_count": null,
      "outputs": [
        {
          "output_type": "execute_result",
          "data": {
            "text/plain": [
              "20"
            ]
          },
          "metadata": {},
          "execution_count": 5
        }
      ]
    },
    {
      "cell_type": "markdown",
      "metadata": {
        "id": "tFtDiNnXMlJ0"
      },
      "source": [
        "\n",
        "\n",
        "---\n",
        "\n",
        "\n",
        "#### Note: `=` vs `==`  \n",
        "We learned earlier that `==` is a Boolean operator that returns either `True` or `False` depending on whether it's operands are equal to each other. Now we see that `=` is an assignment operator--it assigns values to variables.  \n",
        "\n",
        "`x = 17` assigns the value 7 to the variable x, regardless of any value x might have held before  \n",
        "`x == 17` checks whether the value stored in x is equal to the value 7 and returns `True` or `False`\n",
        "\n",
        "Be sure to take note of this, because this is a very common mistake to make. Even if you don't have an issue with this, some of your students certainly will. It's a very common mistake to use `=` to test whether two things are equal, and students often won't see what the mistake is. \n",
        "\n",
        "\n",
        "---\n",
        "\n"
      ]
    },
    {
      "cell_type": "markdown",
      "metadata": {
        "id": "hbFSFYm6_070"
      },
      "source": [
        "The value assigned to a variable is not permanently stored. That is, you can change the value later as necessary.  \n",
        "  \n",
        "Say you wish to update `age` after you initially stored the value of 20 to it. You can do that with exactly the same process:"
      ]
    },
    {
      "cell_type": "code",
      "metadata": {
        "id": "_Y1p2dnjASVz",
        "colab": {
          "base_uri": "https://localhost:8080/"
        },
        "outputId": "d9b489a3-047c-46f5-81bf-01589889faee"
      },
      "source": [
        "age = 21\n",
        "age #this will output the current value of age, after reassigning it in the previous line"
      ],
      "execution_count": null,
      "outputs": [
        {
          "output_type": "execute_result",
          "data": {
            "text/plain": [
              "21"
            ]
          },
          "metadata": {},
          "execution_count": 6
        }
      ]
    },
    {
      "cell_type": "markdown",
      "metadata": {
        "id": "M7MtuOIKArd_"
      },
      "source": [
        "### 3. Using Variables in Expressions  \n",
        "The point of creating variables is to store values for later use. As such, you can use variables in mathematical expressions rather than using an actual value. We could, for instance, assign a value of 20 to age, and then use age in a mathematical expression like so:"
      ]
    },
    {
      "cell_type": "code",
      "metadata": {
        "id": "joLDyScjBCNi",
        "colab": {
          "base_uri": "https://localhost:8080/"
        },
        "outputId": "ee59b227-fde1-42a1-ba62-32c1ee4232bf"
      },
      "source": [
        "age = 20\n",
        "2 * age"
      ],
      "execution_count": null,
      "outputs": [
        {
          "output_type": "execute_result",
          "data": {
            "text/plain": [
              "40"
            ]
          },
          "metadata": {},
          "execution_count": 7
        }
      ]
    },
    {
      "cell_type": "markdown",
      "metadata": {
        "id": "5cWnQOzpBHn-"
      },
      "source": [
        "If you run the cell above, you'll see that Python treats the variable `age` as if it's actually the value 20, which was stored in it."
      ]
    },
    {
      "cell_type": "markdown",
      "metadata": {
        "id": "9szLBjzuBU-6"
      },
      "source": [
        "### 4. Naming Rules  \n",
        "* Variable names can contain letters, numbers, and the underscore symbol `_`.  \n",
        "* However, names cannot *start* with a number."
      ]
    },
    {
      "cell_type": "code",
      "metadata": {
        "id": "Sx1TbuxjBwhO",
        "colab": {
          "base_uri": "https://localhost:8080/"
        },
        "outputId": "1e9a2ad2-dd8a-4771-aef5-852038230ae2"
      },
      "source": [
        "# valid variable name\n",
        "engr120 = 89\n",
        "engr120 #this should output 89"
      ],
      "execution_count": null,
      "outputs": [
        {
          "output_type": "execute_result",
          "data": {
            "text/plain": [
              "89"
            ]
          },
          "metadata": {},
          "execution_count": 8
        }
      ]
    },
    {
      "cell_type": "code",
      "metadata": {
        "id": "I5Sk2O91B7Lk",
        "colab": {
          "base_uri": "https://localhost:8080/",
          "height": 130
        },
        "outputId": "5fbe4130-edb2-4a22-a318-e274c0ef9b2d"
      },
      "source": [
        "# invalid variable name\n",
        "120engr = 89 #this will cause an error even before the variable is used"
      ],
      "execution_count": null,
      "outputs": [
        {
          "output_type": "error",
          "ename": "SyntaxError",
          "evalue": "ignored",
          "traceback": [
            "\u001b[0;36m  File \u001b[0;32m\"<ipython-input-9-74f357878088>\"\u001b[0;36m, line \u001b[0;32m2\u001b[0m\n\u001b[0;31m    120engr = 89 #this will cause an error even without outputting the value\u001b[0m\n\u001b[0m          ^\u001b[0m\n\u001b[0;31mSyntaxError\u001b[0m\u001b[0;31m:\u001b[0m invalid syntax\n"
          ]
        }
      ]
    },
    {
      "cell_type": "markdown",
      "metadata": {
        "id": "YIiheT-kCPaY"
      },
      "source": [
        "\n",
        "\n",
        "---\n",
        "\n",
        "\n",
        "#### SyntaxError  \n",
        "If you run the last code cell, you'll see that the type of error you get is a `SyntaxError`. This error indicates you have violated Python's grammar rules.  \n",
        "  \n",
        "You'll become very familiar with this type of error. It'll be frustrating and you may feel lost. But with repeated practice, things will start to click!\n",
        "\n",
        "\n",
        "---\n",
        "\n"
      ]
    },
    {
      "cell_type": "markdown",
      "metadata": {
        "id": "2W8FccHJDFh-"
      },
      "source": [
        "* Can't use spaces within multi-word variables. A space ends the current variable name."
      ]
    },
    {
      "cell_type": "code",
      "metadata": {
        "id": "a6s88T_jDuP1"
      },
      "source": [
        "my variable = 42 #invalid variable name, will cause SyntaxError"
      ],
      "execution_count": null,
      "outputs": []
    },
    {
      "cell_type": "markdown",
      "metadata": {
        "id": "6vaEF2u1D7xE"
      },
      "source": [
        ">Instead, the following naming conventions can be used:  \n",
        "* \"Snake Case\": `my_variable`  \n",
        "* \"Camel Case\": `myVariable`  \n",
        ">\n",
        ">Snake Case is the consistent with PEP8 style and is the naming method we will use throughout this course. It is the naming convention most often used within Python."
      ]
    },
    {
      "cell_type": "markdown",
      "metadata": {
        "id": "_cbM496xFCC3"
      },
      "source": [
        "* Can't use *reserved words*  \n",
        ">There is a small set of reserved words with special meaning in Python. They include:  \n",
        "><table>\n",
        "  <tr>\n",
        "    <td>and</td>\n",
        "    <td>break</td>\n",
        "    <td>def</td>\n",
        "    <td>else</td>\n",
        "    <td>finally</td>\n",
        "    <td>global</td>\n",
        "    <td>in</td>\n",
        "    <td>nonlocal</td>\n",
        "    <td>or</td>\n",
        "    <td>return</td>\n",
        "    <td>while</td>\n",
        "  </tr>\n",
        "  <tr>\n",
        "    <td>as</td>\n",
        "    <td>class</td>\n",
        "    <td>del</td>\n",
        "    <td>except</td>\n",
        "    <td>for</td>\n",
        "    <td>if</td>\n",
        "    <td>is</td>\n",
        "    <td>none</td>\n",
        "    <td>pass</td>\n",
        "    <td>true</td>\n",
        "    <td>with</td>\n",
        "  </tr>\n",
        "  <tr>\n",
        "    <td>assert</td>\n",
        "    <td>continue</td>\n",
        "    <td>elif</td>\n",
        "    <td>false</td>\n",
        "    <td>from</td>\n",
        "    <td>import</td>\n",
        "    <td>lambda</td>\n",
        "    <td>not</td>\n",
        "    <td>raise</td>\n",
        "    <td>try</td>\n",
        "    <td>yield</td>\n",
        "  </tr>\n",
        "</table>  \n",
        "Dogs understand a small number of words in English, like treat, dinner, leash, walk, car, etc. You only use the words around a dog when you really mean it, bc the dog will automatically react. Same thing with Python – if you use these words, it will automatically try to do something.\n",
        "\n"
      ]
    },
    {
      "cell_type": "markdown",
      "metadata": {
        "id": "wKghlTEtJm0o"
      },
      "source": [
        "#### Naming Tips  \n",
        "Here are some tips you should try to follow to choose good variable names:  \n",
        "* Use short variable names  \n",
        "Saves space, easier to type repeatedly  \n",
        "* Use meaningful names  \n",
        "Your colleagues and your future self will thank you!  \n",
        ">Say you need a variable name for \"number of states\".  \n",
        ">- number_of_states is too long  \n",
        ">- n is short, but not meaningful  \n",
        ">- n_states is both short and meaningful"
      ]
    },
    {
      "cell_type": "markdown",
      "metadata": {
        "id": "IYhZVuWvLTJT"
      },
      "source": [
        "### Python is Literal  \n",
        "Reminder: Python, like a calculator, will do exactly what you tell it to do, not what you *want* it to do.  \n",
        "\n",
        "Imagine you create the variable n_states. Python will complain if you mistype any of the following later in your code - it doesn't autocorrect!  \n",
        "\n",
        ">n_status  \n",
        "n_state  \n",
        "N_states  \n",
        "\n",
        "If you create a variable and later mistype it, you'll get a NameError. Try running the code cell below."
      ]
    },
    {
      "cell_type": "code",
      "metadata": {
        "id": "EOkWfhuoMOao",
        "colab": {
          "base_uri": "https://localhost:8080/",
          "height": 181
        },
        "outputId": "b3bfad0b-9116-4eab-8fff-e30fb0d91d66"
      },
      "source": [
        "n_states = 50\n",
        "1 + n_status"
      ],
      "execution_count": null,
      "outputs": [
        {
          "output_type": "error",
          "ename": "NameError",
          "evalue": "ignored",
          "traceback": [
            "\u001b[0;31m---------------------------------------------------------------------------\u001b[0m",
            "\u001b[0;31mNameError\u001b[0m                                 Traceback (most recent call last)",
            "\u001b[0;32m<ipython-input-10-904a4dc22520>\u001b[0m in \u001b[0;36m<module>\u001b[0;34m()\u001b[0m\n\u001b[1;32m      1\u001b[0m \u001b[0mn_states\u001b[0m \u001b[0;34m=\u001b[0m \u001b[0;36m50\u001b[0m\u001b[0;34m\u001b[0m\u001b[0;34m\u001b[0m\u001b[0m\n\u001b[0;32m----> 2\u001b[0;31m \u001b[0;36m1\u001b[0m \u001b[0;34m+\u001b[0m \u001b[0mn_status\u001b[0m\u001b[0;34m\u001b[0m\u001b[0;34m\u001b[0m\u001b[0m\n\u001b[0m",
            "\u001b[0;31mNameError\u001b[0m: name 'n_status' is not defined"
          ]
        }
      ]
    },
    {
      "cell_type": "markdown",
      "metadata": {
        "collapsed": true,
        "id": "-DFmkSC3DcrF"
      },
      "source": [
        "## Try it yourself   \n",
        "The practice for these sections will be a little out of order from how we presented it. This is the order you will actually use them in.  \n",
        "### Choosing valid names (from section 2c.)\n",
        "Below are some variable names to represent the price of a Hello Kitty mug. Note that I've purposefully made a few invalid names that will cause an error message. Before you run the cells, try to determine which ones will return an error, and what is wrong with them. Then run the cells. Which is the best choice? Would another option be better?"
      ]
    },
    {
      "cell_type": "code",
      "metadata": {
        "id": "F_HNJtMvDcrF"
      },
      "source": [
        "hello_kitty = 9.99"
      ],
      "execution_count": 1,
      "outputs": []
    },
    {
      "cell_type": "code",
      "metadata": {
        "id": "_aNwxZdBDcrH",
        "colab": {
          "base_uri": "https://localhost:8080/",
          "height": 130
        },
        "outputId": "798fcf0c-c778-43c1-8714-3aef4f0f4808"
      },
      "source": [
        "hello kitty = 9.99"
      ],
      "execution_count": 2,
      "outputs": [
        {
          "output_type": "error",
          "ename": "SyntaxError",
          "evalue": "ignored",
          "traceback": [
            "\u001b[0;36m  File \u001b[0;32m\"<ipython-input-2-aeec23dbcbd6>\"\u001b[0;36m, line \u001b[0;32m1\u001b[0m\n\u001b[0;31m    hello kitty = 9.99\u001b[0m\n\u001b[0m              ^\u001b[0m\n\u001b[0;31mSyntaxError\u001b[0m\u001b[0;31m:\u001b[0m invalid syntax\n"
          ]
        }
      ]
    },
    {
      "cell_type": "code",
      "metadata": {
        "id": "dKiImeGTDcrJ"
      },
      "source": [
        "hello-kitty = 9.99"
      ],
      "execution_count": null,
      "outputs": []
    },
    {
      "cell_type": "code",
      "metadata": {
        "id": "eTpvZPt1DcrL"
      },
      "source": [
        "hello_kitty1992 = 9.99"
      ],
      "execution_count": null,
      "outputs": []
    },
    {
      "cell_type": "code",
      "metadata": {
        "id": "w_xSWEQ7DcrN"
      },
      "source": [
        "1992hello_kitty = 9.99"
      ],
      "execution_count": null,
      "outputs": []
    },
    {
      "cell_type": "markdown",
      "metadata": {
        "id": "mMoSrg_5DcrP"
      },
      "source": [
        "### ** Important note! **\n",
        "In the lecture slides, I mentioned that PEP8 preference for multi-word variable names is to use underscores, e.g., `hello_kitty`.\n",
        "\n",
        "Note that this is a **style preference**, and that Python won't actually give you an error if you created a slightly different variable name like: `helloKitty`. That is to say, many people would consider underscores to be more appropriate for Python code, but from Python's perspective, either `hello_kitty` or `helloKitty` are both acceptable and will run correctly."
      ]
    },
    {
      "cell_type": "markdown",
      "metadata": {
        "id": "m0dhOf3EW0M2"
      },
      "source": [
        "### Assigning values to variables (from section 2.)  \n",
        "Let's practice assigning values to variables. We'll assign a new value to a variable that's already been used, and we'll assign a value to a brand new variable.  \n",
        "\n",
        "In the cell below, assign the price you think is appropriate to `hello_kitty` (our hello kitty mug):"
      ]
    },
    {
      "cell_type": "code",
      "metadata": {
        "id": "-CiPUjbZXauc"
      },
      "source": [
        "# 2. 1) Assign new value to hello_kitty\n"
      ],
      "execution_count": null,
      "outputs": []
    },
    {
      "cell_type": "markdown",
      "metadata": {
        "id": "nSPMRcqYX1c7"
      },
      "source": [
        "Now try creating a new variable (remember the naming tips) for the sale price of the mug when it goes 30% off. Use a mathematical expression to assign the correct value."
      ]
    },
    {
      "cell_type": "code",
      "metadata": {
        "id": "TXYrCQJYYZ9E"
      },
      "source": [
        "# 2. 2) Create and assign new variable for hello kitty mug on sale\n"
      ],
      "execution_count": null,
      "outputs": []
    },
    {
      "cell_type": "markdown",
      "metadata": {
        "id": "CZws-TYVDcrP"
      },
      "source": [
        "### Using variables in expressions (from section 3.)\n",
        "Next, let's practice using a variable name inside a mathematical expression. In the cell below, write a mathematical expression to determine the following: the value assigned to `hello_kitty` squared"
      ]
    },
    {
      "cell_type": "code",
      "metadata": {
        "id": "tceZ_8bPDcrP"
      },
      "source": [
        "# 3. 1) hello_kitty squared\n"
      ],
      "execution_count": null,
      "outputs": []
    },
    {
      "cell_type": "markdown",
      "metadata": {
        "id": "88kMyYIjDcrS"
      },
      "source": [
        "We can also use variables inside Boolean expressions. In the cell below, write a Boolean expression to determine if the value assigned to `hello_kitty` is greater than or equal to 10. "
      ]
    },
    {
      "cell_type": "code",
      "metadata": {
        "id": "9qsbdyvzDcrT"
      },
      "source": [
        "# 3. 2) is hello_kitty greater than or equal to 10?\n"
      ],
      "execution_count": null,
      "outputs": []
    },
    {
      "cell_type": "markdown",
      "metadata": {
        "id": "6eF88P1PDcrV"
      },
      "source": [
        "### Importance of consistent capitalization, spelling, and pluralization (from section 4.)\n",
        "Remember, Python is very literal and doesn't autocorrect! In the space below, try repeating your Boolean expression from above, but purposefully make a mistake in how the variable is capitalized. Does it make sense why you receieved an error?"
      ]
    },
    {
      "cell_type": "code",
      "metadata": {
        "id": "uoQkH-v3DcrV"
      },
      "source": [
        "# 4. 1) hello_kitty greater than or equal to 10, with mistake\n"
      ],
      "execution_count": null,
      "outputs": []
    },
    {
      "cell_type": "markdown",
      "metadata": {
        "collapsed": true,
        "id": "QRjGc_2gDcrY"
      },
      "source": [
        "## Congrats, you're done! \n",
        "Next module, we'll start learning about strings."
      ]
    }
  ]
}