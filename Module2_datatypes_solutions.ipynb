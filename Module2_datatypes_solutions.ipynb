{
  "nbformat": 4,
  "nbformat_minor": 0,
  "metadata": {
    "kernelspec": {
      "display_name": "Python 3",
      "language": "python",
      "name": "python3"
    },
    "language_info": {
      "codemirror_mode": {
        "name": "ipython",
        "version": 3
      },
      "file_extension": ".py",
      "mimetype": "text/x-python",
      "name": "python",
      "nbconvert_exporter": "python",
      "pygments_lexer": "ipython3",
      "version": "3.7.1"
    },
    "colab": {
      "name": "Module2_datatypes_solutions.ipynb",
      "provenance": [],
      "collapsed_sections": [
        "-DFmkSC3DcrF",
        "mMoSrg_5DcrP",
        "CZws-TYVDcrP",
        "6eF88P1PDcrV",
        "whNRxjERDcrZ",
        "P_FORhr1Dcrd",
        "1XOrdHJLDcri",
        "tAI7cCJSDcrk"
      ],
      "include_colab_link": true
    }
  },
  "cells": [
    {
      "cell_type": "markdown",
      "metadata": {
        "id": "view-in-github",
        "colab_type": "text"
      },
      "source": [
        "<a href=\"https://colab.research.google.com/github/JaimeAdele/APEX/blob/main/Module2_datatypes_solutions.ipynb\" target=\"_parent\"><img src=\"https://colab.research.google.com/assets/colab-badge.svg\" alt=\"Open In Colab\"/></a>"
      ]
    },
    {
      "cell_type": "markdown",
      "metadata": {
        "id": "dH0hUpuHsdPg"
      },
      "source": [
        "<img src='https://cdn.pixabay.com/photo/2018/11/17/12/27/mathematics-3821034_1280.jpg' width=700>  \n",
        "Photo by ArtsyBee from Pixabay\n",
        "\n"
      ]
    },
    {
      "cell_type": "markdown",
      "metadata": {
        "id": "U2VoRlVpDcqd"
      },
      "source": [
        "# APEX Faculty Training, Module 2: Datatypes Solutions\n",
        "Created by Valerie Carr and Jaime Zuspann  \n",
        "Licensed under a Creative Commons license: CC BY-NC-SA  \n",
        "Last updated: Dec 14, 2021 "
      ]
    },
    {
      "cell_type": "markdown",
      "metadata": {
        "id": "eGtiFVkADcqf"
      },
      "source": [
        "## 3. Mathematical expressions  "
      ]
    },
    {
      "cell_type": "markdown",
      "source": [
        "<font color='red'>Exercise 1 solution</font>  \n",
        "The number of continents on Earth multiplied by the number of planets in our solar system (sorry Pluto):"
      ],
      "metadata": {
        "id": "udvAFi97LKhe"
      }
    },
    {
      "cell_type": "code",
      "metadata": {
        "id": "tAUAsKiUDcqg"
      },
      "source": [
        "7 * 8"
      ],
      "execution_count": null,
      "outputs": []
    },
    {
      "cell_type": "markdown",
      "metadata": {
        "id": "8cfuDGcAHWYJ"
      },
      "source": [
        "<font color='red'>Exercise 2 solution</font>  \n",
        "This Module's number, cubed (to the power of 3)"
      ]
    },
    {
      "cell_type": "code",
      "metadata": {
        "id": "FmT6gWQVDcqj"
      },
      "source": [
        "2 ** 3"
      ],
      "execution_count": null,
      "outputs": []
    },
    {
      "cell_type": "markdown",
      "metadata": {
        "id": "x2BQMOPPHYtW"
      },
      "source": [
        "<font color='red'>Exercise 3 solution</font>   \n",
        "The current year divided by 100  \n",
        "Note: Year may be different"
      ]
    },
    {
      "cell_type": "code",
      "metadata": {
        "id": "GE0I91BbDcqm"
      },
      "source": [
        "2022 / 100"
      ],
      "execution_count": null,
      "outputs": []
    },
    {
      "cell_type": "markdown",
      "metadata": {
        "id": "CK4M1Cs7HehN"
      },
      "source": [
        "<font color='red'>Exercise 4 solution</font>  \n",
        "Run the cells to see the output. Output is:  \n",
        "`2 + 1`: `3` (int)  \n",
        "`3 * 1`: `3` (int)  \n",
        "`1.5 * 2`: `3.0` (float)  \n",
        "`9 / 3`: `3.0` (float)"
      ]
    },
    {
      "cell_type": "markdown",
      "metadata": {
        "id": "qDHEh4quIJH-"
      },
      "source": [
        "<font color='red'>Exercise 5 solution</font>  \n",
        "Add parentheses to the expression below to help clarify the order of operations, ensuring that your answer is still 24."
      ]
    },
    {
      "cell_type": "code",
      "metadata": {
        "id": "QSl75pCwDcqw"
      },
      "source": [
        "(20 * 1) + (2 ** 2)"
      ],
      "execution_count": null,
      "outputs": []
    },
    {
      "cell_type": "markdown",
      "metadata": {
        "id": "ClVVERidDcqy"
      },
      "source": [
        "<font color='red'>Exercise 6 solution</font>   \n",
        "Write code to determine the absolute value of the difference between two children's ages (10 and 15)"
      ]
    },
    {
      "cell_type": "code",
      "metadata": {
        "id": "6Sxf0gibDcqz"
      },
      "source": [
        "abs(10 - 15)"
      ],
      "execution_count": null,
      "outputs": []
    },
    {
      "cell_type": "markdown",
      "metadata": {
        "id": "M3Topg-PIuHI"
      },
      "source": [
        "<font color='red'>Exercise 7 solution</font>  \n",
        "Determine the lowest student grade received on a quiz: 76, 98, 83, 71 "
      ]
    },
    {
      "cell_type": "code",
      "metadata": {
        "id": "rdM6rOpvDcq1"
      },
      "source": [
        "min(76, 98, 83, 71)"
      ],
      "execution_count": null,
      "outputs": []
    },
    {
      "cell_type": "markdown",
      "metadata": {
        "id": "06y0jguwIx_U"
      },
      "source": [
        "<font color='red'>Exercise 8 solution</font>   \n",
        "Determine the highest price of a cup of coffee: 2.50, 3.49, 2.99"
      ]
    },
    {
      "cell_type": "code",
      "metadata": {
        "id": "-jMffkdcDcq3"
      },
      "source": [
        "max(2.50, 3.49, 2.99)"
      ],
      "execution_count": null,
      "outputs": []
    },
    {
      "cell_type": "markdown",
      "metadata": {
        "id": "4FpS2UUZKIfn"
      },
      "source": [
        "<font color='red'>Exercise 9 solution</font>  \n",
        "Run the cell (`2 * max(14, 3, 9, 17, 11) == 7 + 3 * 9`). The output is `True`."
      ]
    },
    {
      "cell_type": "markdown",
      "metadata": {
        "id": "ZQQkuFBXFSKw"
      },
      "source": [
        "<font color='red'>Exercise 10 solution</font>  \n",
        "Write the Boolean expression for 3 squared plus 4 is equivalent to 25 minus 12."
      ]
    },
    {
      "cell_type": "code",
      "metadata": {
        "id": "qWi1OQIlDcq5"
      },
      "source": [
        "3 ** 2 + 4 == 25 - 12"
      ],
      "execution_count": null,
      "outputs": []
    },
    {
      "cell_type": "markdown",
      "metadata": {
        "id": "fLgIYYNmJjDC"
      },
      "source": [
        "<font color='red'>Exercise 11 solution</font>  \n",
        "Write the Boolean expression for the minimum age among four siblings (14, 9, 7, 2) is less than 3"
      ]
    },
    {
      "cell_type": "code",
      "metadata": {
        "id": "UwWSKVe4Dcq8"
      },
      "source": [
        "min(14, 9, 7, 2) < 3"
      ],
      "execution_count": null,
      "outputs": []
    },
    {
      "cell_type": "markdown",
      "metadata": {
        "id": "XK-xmWuYLrVr"
      },
      "source": [
        "<font color='red'>Exercise 12 possible solutions</font>  \n",
        "Come up with your choice of Boolean statements for the `and`, `or`, and `not` operators.  \n",
        "Note: There are a nearly infinite number of possibilities for these exercises, but here are possible solutions for each."
      ]
    },
    {
      "cell_type": "code",
      "metadata": {
        "id": "_cvqsVbQDcq-"
      },
      "source": [
        "# and\n",
        "14 * 2 > 20 and max(7, 12, 3) == 12"
      ],
      "execution_count": null,
      "outputs": []
    },
    {
      "cell_type": "code",
      "metadata": {
        "id": "u881zrnLDcrA"
      },
      "source": [
        "# or\n",
        "1 > 11 or 4 + 3 == 12"
      ],
      "execution_count": null,
      "outputs": []
    },
    {
      "cell_type": "code",
      "metadata": {
        "id": "35sopS0nDcrC"
      },
      "source": [
        "# not\n",
        "not (abs(-14) >= 14)"
      ],
      "execution_count": null,
      "outputs": []
    }
  ]
}