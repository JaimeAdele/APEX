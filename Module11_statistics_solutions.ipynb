{
  "nbformat": 4,
  "nbformat_minor": 0,
  "metadata": {
    "kernelspec": {
      "display_name": "Python 3",
      "language": "python",
      "name": "python3"
    },
    "language_info": {
      "codemirror_mode": {
        "name": "ipython",
        "version": 3
      },
      "file_extension": ".py",
      "mimetype": "text/x-python",
      "name": "python",
      "nbconvert_exporter": "python",
      "pygments_lexer": "ipython3",
      "version": "3.7.1"
    },
    "colab": {
      "name": "Module11_statistics_solutions.ipynb",
      "provenance": [],
      "collapsed_sections": [],
      "include_colab_link": true
    }
  },
  "cells": [
    {
      "cell_type": "markdown",
      "metadata": {
        "id": "view-in-github",
        "colab_type": "text"
      },
      "source": [
        "<a href=\"https://colab.research.google.com/github/JaimeAdele/APEX/blob/main/Module11_statistics_solutions.ipynb\" target=\"_parent\"><img src=\"https://colab.research.google.com/assets/colab-badge.svg\" alt=\"Open In Colab\"/></a>"
      ]
    },
    {
      "cell_type": "markdown",
      "metadata": {
        "id": "lnXOxVPEkZ5f"
      },
      "source": [
        "<img src='https://cdn.pixabay.com/photo/2015/04/15/14/55/calculator-723917_1280.jpg' width=700>  \n",
        "Photo by Edar production from Pixabay"
      ]
    },
    {
      "cell_type": "markdown",
      "metadata": {
        "id": "svAPrOFekdFH"
      },
      "source": [
        "# APEX Faculty Training, Module 11: Statistics Solutions\n",
        "\n",
        "Created by Valerie Carr and Jaime Zuspann  \n",
        "Licensed under a Creative Commons license: CC BY-NC-SA  \n",
        "Last updated: Mar 20, 2022  "
      ]
    },
    {
      "cell_type": "markdown",
      "source": [
        "<font color='red'>Exercise 1 solution</font>  \n",
        "Run the cell to import the pandas library and read in the rental dataframe"
      ],
      "metadata": {
        "id": "g_6fH22iMn1P"
      }
    },
    {
      "cell_type": "code",
      "source": [
        "import pandas as pd\n",
        "filepath = \"filepath here\"\n",
        "rental_df = pd.read_csv(filepath)"
      ],
      "metadata": {
        "id": "zwb0bXjYMm_9"
      },
      "execution_count": null,
      "outputs": []
    },
    {
      "cell_type": "markdown",
      "metadata": {
        "id": "DKwAYq8KJjo7"
      },
      "source": [
        "## 2. Summarizing and Describing Data\n",
        "\n",
        "<font color='red'>Exercise 2 solution</font>  \n",
        "Run the cells to see the outputs."
      ]
    },
    {
      "cell_type": "code",
      "source": [
        "rental_df['state'].count()"
      ],
      "metadata": {
        "id": "i9xlGRA5ONPw"
      },
      "execution_count": null,
      "outputs": []
    },
    {
      "cell_type": "code",
      "source": [
        "rental_df['state'].nunique()"
      ],
      "metadata": {
        "id": "B5zypx-qORdR"
      },
      "execution_count": null,
      "outputs": []
    },
    {
      "cell_type": "code",
      "source": [
        "rental_df['state'].value_counts()"
      ],
      "metadata": {
        "id": "DCxRiiZWOVhs"
      },
      "execution_count": null,
      "outputs": []
    },
    {
      "cell_type": "markdown",
      "source": [
        "This summarization data can also be added into print statements to display multiple outputs from the same cell.  \n",
        "\n",
        "<font color='red'>Exercise 3 solution</font>  \n",
        "Run the cell to see the output."
      ],
      "metadata": {
        "id": "UTWCpB0FO9U7"
      }
    },
    {
      "cell_type": "code",
      "source": [
        "print('Mean: ', rental_df['median_rent'].mean())\n",
        "print('Median: ', rental_df['median_rent'].median())\n",
        "print('Standard deviation: ', rental_df['median_rent'].std())\n",
        "print('Max: ', rental_df['median_rent'].max())\n"
      ],
      "metadata": {
        "id": "QCqLyNldPJl0"
      },
      "execution_count": null,
      "outputs": []
    },
    {
      "cell_type": "markdown",
      "source": [
        "<font color='red'>Exercise 4 solution</font>  \n",
        "Refer to the `quantile()` method in the table of methods above to display the median rent for the 25th, 50th, and 75th percentile."
      ],
      "metadata": {
        "id": "oejN8BI0P3lp"
      }
    },
    {
      "cell_type": "code",
      "source": [
        "rental_df['median_rent'].quantile([.25, .5, .75])"
      ],
      "metadata": {
        "id": "9j7UNdUjQhlX"
      },
      "execution_count": null,
      "outputs": []
    },
    {
      "cell_type": "markdown",
      "source": [
        "<font color='red'>Exercise 5 solution</font>  \n",
        "Run the cell to see the data summarized all at once."
      ],
      "metadata": {
        "id": "dfTqbn7DXuDX"
      }
    },
    {
      "cell_type": "code",
      "source": [
        "rental_df.describe()"
      ],
      "metadata": {
        "id": "CsD2k1ujYeaX"
      },
      "execution_count": null,
      "outputs": []
    },
    {
      "cell_type": "markdown",
      "metadata": {
        "id": "E48I6l-ervev"
      },
      "source": [
        "## 3. Grouping Data\n",
        "<font color='red'>Exercise 6 solution</font>  \n",
        "Run the cell to see the output."
      ]
    },
    {
      "cell_type": "code",
      "metadata": {
        "id": "sjOCmnIDfaw8"
      },
      "source": [
        "rental_df.groupby(by = 'bedrooms').mean()"
      ],
      "execution_count": null,
      "outputs": []
    },
    {
      "cell_type": "markdown",
      "source": [
        "<font color='red'>Exercise 7</font>  \n",
        "Use the `groupby()` along with the appropriate method to show how many places are available based on the number of bedrooms."
      ],
      "metadata": {
        "id": "GgVaZkeF5-iD"
      }
    },
    {
      "cell_type": "code",
      "source": [
        "rental_df.groupby(by = 'bedrooms').count()"
      ],
      "metadata": {
        "id": "DGs9-1T-6hcI"
      },
      "execution_count": null,
      "outputs": []
    },
    {
      "cell_type": "markdown",
      "source": [
        "### 3b. Grouping by Multiple Columns\n",
        "<font color='red'>Exercise 8</font>  \n",
        "Group the `rental_df` dataframe by number of bedrooms and state to find the mean rent price per group."
      ],
      "metadata": {
        "id": "C6ScNrhh6pQP"
      }
    },
    {
      "cell_type": "code",
      "source": [
        "rental_df.groupby(by = ['bedrooms', 'state']).mean()"
      ],
      "metadata": {
        "id": "sF3VCZAR7ns5"
      },
      "execution_count": null,
      "outputs": []
    },
    {
      "cell_type": "markdown",
      "metadata": {
        "id": "m0TsiC-If58b"
      },
      "source": [
        "## 4. Statistics with `stats`\n",
        "<font color='red'>Exercise 9</font>  \n",
        "Run the cell to import the `stats` module from the `scipy` library. No output will be produced."
      ]
    },
    {
      "cell_type": "code",
      "metadata": {
        "id": "zGuiFay7gr4a"
      },
      "source": [
        "from scipy import stats"
      ],
      "execution_count": null,
      "outputs": []
    },
    {
      "cell_type": "markdown",
      "source": [
        "### 4a. Pearson's Correlation\n",
        "<font color='red'>Exercise 10</font>  \n",
        "Run the cell below to see the correlation between states' total population and Hispanic population."
      ],
      "metadata": {
        "id": "7L4_7LdKapNe"
      }
    },
    {
      "cell_type": "code",
      "source": [
        "filepath = 'https://raw.githubusercontent.com/valeriecarr/engr120/main/S21/state_pop.csv'\n",
        "states_df = pd.read_csv(filepath);\n",
        "\n",
        "stats.pearsonr(states_df['totalPop'], states_df['hispPop'])"
      ],
      "metadata": {
        "id": "jwEbCiCHkqIu"
      },
      "execution_count": null,
      "outputs": []
    }
  ]
}