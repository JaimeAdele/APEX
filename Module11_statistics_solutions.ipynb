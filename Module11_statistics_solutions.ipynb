{
  "nbformat": 4,
  "nbformat_minor": 0,
  "metadata": {
    "kernelspec": {
      "display_name": "Python 3",
      "language": "python",
      "name": "python3"
    },
    "language_info": {
      "codemirror_mode": {
        "name": "ipython",
        "version": 3
      },
      "file_extension": ".py",
      "mimetype": "text/x-python",
      "name": "python",
      "nbconvert_exporter": "python",
      "pygments_lexer": "ipython3",
      "version": "3.7.1"
    },
    "colab": {
      "name": "Module11_statistics_solutions.ipynb",
      "provenance": [],
      "collapsed_sections": [],
      "include_colab_link": true
    }
  },
  "cells": [
    {
      "cell_type": "markdown",
      "metadata": {
        "id": "view-in-github",
        "colab_type": "text"
      },
      "source": [
        "<a href=\"https://colab.research.google.com/github/JaimeAdele/APEX/blob/main/Module11_statistics_solutions.ipynb\" target=\"_parent\"><img src=\"https://colab.research.google.com/assets/colab-badge.svg\" alt=\"Open In Colab\"/></a>"
      ]
    },
    {
      "cell_type": "markdown",
      "metadata": {
        "id": "lnXOxVPEkZ5f"
      },
      "source": [
        "<img src='https://cdn.pixabay.com/photo/2015/04/15/14/55/calculator-723917_1280.jpg' width=700>  \n",
        "Photo by Edar production from Pixabay"
      ]
    },
    {
      "cell_type": "markdown",
      "metadata": {
        "id": "svAPrOFekdFH"
      },
      "source": [
        "# APEX Faculty Training, Module 11: Statistics Solutions\n",
        "\n",
        "Created by Valerie Carr and Jaime Zuspann  \n",
        "Licensed under a Creative Commons license: CC BY-NC-SA  \n",
        "Last updated: Mar 21, 2022  "
      ]
    },
    {
      "cell_type": "markdown",
      "source": [
        "<font color='red'>Exercise 1 solution</font>  \n",
        "Below, we have included code that imports the Pandas library and provides a path to a CSV file that you'll be using for the rest of the module. Your job is to add a couple new lines of code that:\n",
        "* Read in the CSV file to create a dataframe named `rental_df`\n",
        "* Check the header of the dataframe"
      ],
      "metadata": {
        "id": "g_6fH22iMn1P"
      }
    },
    {
      "cell_type": "code",
      "source": [
        "import pandas as pd\n",
        "filepath = \"https://raw.githubusercontent.com/valeriecarr/engr120/main/S21/rental_prices.csv\"\n",
        "\n",
        "# read in CSV file\n",
        "filepath = \"https://raw.githubusercontent.com/valeriecarr/engr120/main/S21/rental_prices.csv\"\n",
        "\n",
        "# display header\n",
        "rental_df = pd.read_csv(filepath)"
      ],
      "metadata": {
        "id": "zwb0bXjYMm_9"
      },
      "execution_count": 1,
      "outputs": []
    },
    {
      "cell_type": "markdown",
      "metadata": {
        "id": "DKwAYq8KJjo7"
      },
      "source": [
        "## 2. Summarizing and Describing Data\n",
        "\n",
        "<font color='red'>Exercise 2 solution</font>  \n",
        "Run each of the cells below to see examples of these methods applied to the `state` column of `rental_df`:"
      ]
    },
    {
      "cell_type": "code",
      "source": [
        "# number of observations in the state column\n",
        "rental_df['state'].count()"
      ],
      "metadata": {
        "id": "i9xlGRA5ONPw"
      },
      "execution_count": null,
      "outputs": []
    },
    {
      "cell_type": "code",
      "source": [
        "# number of unique values in the state column\n",
        "rental_df['state'].nunique()"
      ],
      "metadata": {
        "id": "B5zypx-qORdR"
      },
      "execution_count": null,
      "outputs": []
    },
    {
      "cell_type": "code",
      "source": [
        "# number of observations per unique value in the state column\n",
        "rental_df['state'].value_counts()"
      ],
      "metadata": {
        "id": "DCxRiiZWOVhs"
      },
      "execution_count": null,
      "outputs": []
    },
    {
      "cell_type": "markdown",
      "source": [
        "<font color='red'>Exercise 3 solution</font>  \n",
        "Refer to the `quantile()` method in the table above to calculate the 25th, 50th, and 75th percentile values for the `median_rent` column. As a reminder, these percentiles should be listed as decimals, e.g., 0.25 rather than 25."
      ],
      "metadata": {
        "id": "UTWCpB0FO9U7"
      }
    },
    {
      "cell_type": "code",
      "source": [
        "rental_df['median_rent'].quantile([.25, .5, .75])"
      ],
      "metadata": {
        "id": "QCqLyNldPJl0"
      },
      "execution_count": null,
      "outputs": []
    },
    {
      "cell_type": "markdown",
      "source": [
        "<font color='red'>Exercise 4 solution</font>  \n",
        "Below, we demonstrate how you might include various descriptive statistics embedded in a string, making the outputs easier to read. Run the cell to see the mean and median values for the `median_rent` column."
      ],
      "metadata": {
        "id": "oejN8BI0P3lp"
      }
    },
    {
      "cell_type": "code",
      "source": [
        "print('Mean:', rental_df['median_rent'].mean())\n",
        "print('Median:', rental_df['median_rent'].median())"
      ],
      "metadata": {
        "id": "9j7UNdUjQhlX"
      },
      "execution_count": null,
      "outputs": []
    },
    {
      "cell_type": "markdown",
      "source": [
        "<font color='red'>Exercise 5 solution</font>  \n",
        "Now you try! Using the example code in Exercise 4 as a guide, print two strings, the first of which states the standard deviation, and the second of which states the maximum value of the `median_rent` column."
      ],
      "metadata": {
        "id": "dfTqbn7DXuDX"
      }
    },
    {
      "cell_type": "code",
      "source": [
        "print('Standard deviation: ', rental_df['median_rent'].std())\n",
        "print('Max: ', rental_df['median_rent'].max())"
      ],
      "metadata": {
        "id": "CsD2k1ujYeaX"
      },
      "execution_count": null,
      "outputs": []
    },
    {
      "cell_type": "markdown",
      "metadata": {
        "id": "E48I6l-ervev"
      },
      "source": [
        "<font color='red'>Exercise 6 solution</font>  \n",
        "Computing these descriptive one-by-one for each numerical column in a dataframe could be rather tedious. Instead, we can use the method `describe()` to compute several of these measures for *all* numerical columns using the following syntax:\n",
        "\n",
        "`df_name.describe()` \n",
        "\n",
        "Below, write code that applies this method to the `rental_df` dataframe:"
      ]
    },
    {
      "cell_type": "code",
      "source": [
        "rental_df.describe()"
      ],
      "metadata": {
        "id": "hEyFUkgcT24b"
      },
      "execution_count": null,
      "outputs": []
    },
    {
      "cell_type": "markdown",
      "source": [
        "## 3. Grouping Data\n",
        "<font color='red'>Exercise 7</font>  \n",
        "Using the example syntax above, write code that groups the rental data according to number of bedrooms and displays the mean."
      ],
      "metadata": {
        "id": "GgVaZkeF5-iD"
      }
    },
    {
      "cell_type": "code",
      "source": [
        "rental_df.groupby(by = 'bedrooms').mean()"
      ],
      "metadata": {
        "id": "DGs9-1T-6hcI"
      },
      "execution_count": null,
      "outputs": []
    },
    {
      "cell_type": "markdown",
      "source": [
        "<font color='red'>Exercise 8</font>  \n",
        "Try this challenge for yourself -- group the `rental_df` dataframe by state and number of bedrooms."
      ],
      "metadata": {
        "id": "C6ScNrhh6pQP"
      }
    },
    {
      "cell_type": "code",
      "source": [
        "rental_df.groupby(by = ['state', 'bedrooms']).mean()"
      ],
      "metadata": {
        "id": "sF3VCZAR7ns5"
      },
      "execution_count": null,
      "outputs": []
    },
    {
      "cell_type": "markdown",
      "metadata": {
        "id": "m0TsiC-If58b"
      },
      "source": [
        "## 4. Statistics with `stats`\n",
        "<font color='red'>Exercise 9</font>  \n",
        "The cell below imports the `stats` module within the `scipy` library. Run the cell, keeping in mind that no output will be produced."
      ]
    },
    {
      "cell_type": "code",
      "metadata": {
        "id": "zGuiFay7gr4a"
      },
      "source": [
        "from scipy import stats"
      ],
      "execution_count": 5,
      "outputs": []
    },
    {
      "cell_type": "markdown",
      "source": [
        "<font color='red'>Exercise 10</font>  \n",
        "Below, we've included the relevant filepath for you. Your job is to:\n",
        "1. Read in the CSV file to create a dataframe called `states_df`\n",
        "2. Use the `pearsonr()` function to examine the correlation between values in the `totalPop` and `hispPop` columns within this dataframe\n",
        "3. Ask yourself whether the correlation was significant, and if so, if the correlation is positive or negative"
      ],
      "metadata": {
        "id": "7L4_7LdKapNe"
      }
    },
    {
      "cell_type": "code",
      "source": [
        "filepath = 'https://raw.githubusercontent.com/valeriecarr/engr120/main/S21/state_pop.csv'\n",
        "\n",
        "# read in CSV file\n",
        "states_df = pd.read_csv(filepath);\n",
        "\n",
        "# run correlational analysis\n",
        "stats.pearsonr(states_df['totalPop'], states_df['hispPop'])"
      ],
      "metadata": {
        "id": "jwEbCiCHkqIu"
      },
      "execution_count": null,
      "outputs": []
    }
  ]
}