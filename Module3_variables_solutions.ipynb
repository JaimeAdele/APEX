{
  "nbformat": 4,
  "nbformat_minor": 0,
  "metadata": {
    "kernelspec": {
      "display_name": "Python 3",
      "language": "python",
      "name": "python3"
    },
    "language_info": {
      "codemirror_mode": {
        "name": "ipython",
        "version": 3
      },
      "file_extension": ".py",
      "mimetype": "text/x-python",
      "name": "python",
      "nbconvert_exporter": "python",
      "pygments_lexer": "ipython3",
      "version": "3.7.1"
    },
    "colab": {
      "name": "Module3_variables_solutions.ipynb",
      "provenance": [],
      "collapsed_sections": [
        "-DFmkSC3DcrF",
        "mMoSrg_5DcrP",
        "CZws-TYVDcrP",
        "6eF88P1PDcrV",
        "whNRxjERDcrZ",
        "P_FORhr1Dcrd",
        "1XOrdHJLDcri",
        "tAI7cCJSDcrk"
      ],
      "include_colab_link": true
    }
  },
  "cells": [
    {
      "cell_type": "markdown",
      "metadata": {
        "id": "view-in-github",
        "colab_type": "text"
      },
      "source": [
        "<a href=\"https://colab.research.google.com/github/JaimeAdele/APEX/blob/main/Module3_variables_solutions.ipynb\" target=\"_parent\"><img src=\"https://colab.research.google.com/assets/colab-badge.svg\" alt=\"Open In Colab\"/></a>"
      ]
    },
    {
      "cell_type": "markdown",
      "metadata": {
        "id": "d4RBrWC-jk0h"
      },
      "source": [
        "<img src='https://cdn.pixabay.com/photo/2017/01/12/21/19/search-1975707_1280.jpg' width=700>  \n",
        "Photo by damirbelavic from Pixabay"
      ]
    },
    {
      "cell_type": "markdown",
      "metadata": {
        "id": "U2VoRlVpDcqd"
      },
      "source": [
        "# APEX Faculty Training, Module 3: Variables Solutions\n",
        "\n",
        "Created by Valerie Carr and Jaime Zuspann  \n",
        "Licensed under a Creative Commons license: CC BY-NC-SA  \n",
        "Last updated: Dec 14, 2021  "
      ]
    },
    {
      "cell_type": "markdown",
      "metadata": {
        "id": "BXnvX8m8clXv"
      },
      "source": [
        "## 2. Assigning values to variables \n",
        "<font color='red'>Exercise 1 solution</font>  \n",
        "Middle cell returns an error."
      ]
    },
    {
      "cell_type": "code",
      "metadata": {
        "id": "xFwSSGWb-bZC"
      },
      "source": [
        "x = 3"
      ],
      "execution_count": null,
      "outputs": []
    },
    {
      "cell_type": "code",
      "metadata": {
        "id": "GsXeLUgrpXbz"
      },
      "source": [
        "10 = toes"
      ],
      "execution_count": null,
      "outputs": []
    },
    {
      "cell_type": "code",
      "metadata": {
        "id": "3Shh8KoVOVoL"
      },
      "source": [
        "age = 20"
      ],
      "execution_count": null,
      "outputs": []
    },
    {
      "cell_type": "markdown",
      "metadata": {
        "id": "aw04Rfc2pisf"
      },
      "source": [
        "<font color='red'>Exercise 2 solution</font>  \n",
        "Write your own code to print the value assigned to `age`, and run the cell."
      ]
    },
    {
      "cell_type": "code",
      "metadata": {
        "id": "Z6Akz9rV_iKF"
      },
      "source": [
        "print(age)"
      ],
      "execution_count": null,
      "outputs": []
    },
    {
      "cell_type": "markdown",
      "metadata": {
        "id": "6W2iBuVortKB"
      },
      "source": [
        "<font color='red'>Exercise 3 solution</font>  \n",
        "Create a variable `fav_num` and assign to it your favorite number between 1-100. Then, on line 2, print the value assigned to this variable.  \n",
        "Note: Of course, you may have a different favorite number, but the rest of the solution should be the same."
      ]
    },
    {
      "cell_type": "code",
      "metadata": {
        "id": "XRvLGt62r9VX"
      },
      "source": [
        "fav_num = 42\n",
        "print(fav_num)"
      ],
      "execution_count": null,
      "outputs": []
    },
    {
      "cell_type": "markdown",
      "metadata": {
        "id": "hbFSFYm6_070"
      },
      "source": [
        "## 3. Updating a variable's value  \n",
        "<font color='red'>Exercise 4 solution</font>  \n",
        "Run the cell to see the successive outputs `20` and `21`."
      ]
    },
    {
      "cell_type": "code",
      "source": [
        "age = 20\n",
        "print(age)\n",
        "age = 21\n",
        "print(age)"
      ],
      "metadata": {
        "id": "bk3PokysU3Hp"
      },
      "execution_count": null,
      "outputs": []
    },
    {
      "cell_type": "markdown",
      "metadata": {
        "id": "M7MtuOIKArd_"
      },
      "source": [
        "## 4. Using Variables in Expressions  \n",
        "<font color='red'>Exercise 5 solution</font>   \n",
        "Run the cell to determine the output is `16`"
      ]
    },
    {
      "cell_type": "code",
      "source": [
        "shoe_size = 8\n",
        "2 * shoe_size"
      ],
      "metadata": {
        "id": "wl7mR5QcU-KL"
      },
      "execution_count": null,
      "outputs": []
    },
    {
      "cell_type": "markdown",
      "metadata": {
        "id": "5cWnQOzpBHn-"
      },
      "source": [
        "<font color='red'>Exercise 6 solution</font>  \n",
        "Write code that will divide the variable `fav_num` by 3.14."
      ]
    },
    {
      "cell_type": "code",
      "metadata": {
        "id": "sGyM4W_Eqm4m"
      },
      "source": [
        "fav_num / 3.14"
      ],
      "execution_count": null,
      "outputs": []
    },
    {
      "cell_type": "markdown",
      "metadata": {
        "id": "6WXwIlFQuQ9z"
      },
      "source": [
        "<font color='red'>Exercise 7 solution</font>  \n",
        "Next, write code that will determine whether the value assigned to `fav_num` is equivalent to 84."
      ]
    },
    {
      "cell_type": "code",
      "metadata": {
        "id": "r8mFrS37uiI0"
      },
      "source": [
        "fav_num == 84"
      ],
      "execution_count": null,
      "outputs": []
    },
    {
      "cell_type": "markdown",
      "metadata": {
        "id": "9szLBjzuBU-6"
      },
      "source": [
        "## 5. The basics of variable naming \n",
        "<font color='red'>Exercise 8</font>  \n",
        "Run the cells to determine that all but the second cell return a `SyntaxError`."
      ]
    },
    {
      "cell_type": "code",
      "source": [
        "stat 101 = 35"
      ],
      "metadata": {
        "id": "y5PsCFNKVu2q"
      },
      "execution_count": null,
      "outputs": []
    },
    {
      "cell_type": "code",
      "source": [
        "stat_101 = 35"
      ],
      "metadata": {
        "id": "xx4c184iVvSh"
      },
      "execution_count": null,
      "outputs": []
    },
    {
      "cell_type": "code",
      "source": [
        "101_stat = 35"
      ],
      "metadata": {
        "id": "nv7S67hZVwwh"
      },
      "execution_count": null,
      "outputs": []
    },
    {
      "cell_type": "code",
      "source": [
        "stat-101 = 35"
      ],
      "metadata": {
        "id": "n86v1CeaVzLd"
      },
      "execution_count": null,
      "outputs": []
    },
    {
      "cell_type": "markdown",
      "metadata": {
        "id": "wKghlTEtJm0o"
      },
      "source": [
        "## 7. General naming tips  \n",
        "<font color='red'>Exercise 9 possible solution</font>  \n",
        "Below, assign the value 42 to your chosen variable name (a score for player 1). \n",
        "Note: There are many possible correct solutions to this exercise. As long as you've used a short and meaningful variable name and running the cell does not return a SyntaxError, it's correct!"
      ]
    },
    {
      "cell_type": "code",
      "metadata": {
        "id": "MjazK_AhxTk0"
      },
      "source": [
        "player1 = 42"
      ],
      "execution_count": null,
      "outputs": []
    },
    {
      "cell_type": "markdown",
      "metadata": {
        "id": "IYhZVuWvLTJT"
      },
      "source": [
        "## 8. Be warned: Python is literal\n",
        "<font color='red'>Exercise 10 possible solutions</font>  \n",
        "Using your variable name from Exercise 9 (relating to the player's score), write an expression using this variable name in which you increase the player's score by 10 points (i.e., add 10). In the first cell, write the variable name correctly. In the second cell, try changing the capitalization of one letter to see what a NameError looks like.  "
      ]
    },
    {
      "cell_type": "code",
      "metadata": {
        "id": "EOkWfhuoMOao"
      },
      "source": [
        "# correct name\n",
        "player1 = player1 + 10"
      ],
      "execution_count": null,
      "outputs": []
    },
    {
      "cell_type": "code",
      "metadata": {
        "id": "rex9pgZyrwwZ"
      },
      "source": [
        "# incorrect name\n",
        "Player1 = player1 + 10"
      ],
      "execution_count": null,
      "outputs": []
    }
  ]
}