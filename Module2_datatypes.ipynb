{
  "nbformat": 4,
  "nbformat_minor": 0,
  "metadata": {
    "kernelspec": {
      "display_name": "Python 3",
      "language": "python",
      "name": "python3"
    },
    "language_info": {
      "codemirror_mode": {
        "name": "ipython",
        "version": 3
      },
      "file_extension": ".py",
      "mimetype": "text/x-python",
      "name": "python",
      "nbconvert_exporter": "python",
      "pygments_lexer": "ipython3",
      "version": "3.7.1"
    },
    "colab": {
      "name": "Module2_datatypes.ipynb",
      "provenance": [],
      "collapsed_sections": [
        "-DFmkSC3DcrF",
        "mMoSrg_5DcrP",
        "CZws-TYVDcrP",
        "6eF88P1PDcrV",
        "whNRxjERDcrZ",
        "P_FORhr1Dcrd",
        "1XOrdHJLDcri",
        "tAI7cCJSDcrk"
      ],
      "include_colab_link": true
    }
  },
  "cells": [
    {
      "cell_type": "markdown",
      "metadata": {
        "id": "view-in-github",
        "colab_type": "text"
      },
      "source": [
        "<a href=\"https://colab.research.google.com/github/JaimeAdele/APEX/blob/main/Module2_datatypes.ipynb\" target=\"_parent\"><img src=\"https://colab.research.google.com/assets/colab-badge.svg\" alt=\"Open In Colab\"/></a>"
      ]
    },
    {
      "cell_type": "markdown",
      "metadata": {
        "id": "U2VoRlVpDcqd"
      },
      "source": [
        "# APEX Faculty Training, Module 2: Datatypes\n",
        "Created by Valerie Carr and Jaime Zuspann  \n",
        "Last updated: Nov 7, 2021 \n",
        "\n",
        "**Learning Outcomes**:  \n",
        "To learn the Python datatypes:  \n",
        " • int  \n",
        " • float  \n",
        " • boolean"
      ]
    },
    {
      "cell_type": "markdown",
      "metadata": {
        "id": "YmLWJKQSDcqe"
      },
      "source": [
        "## 1. Make a Copy and Document your notebook\n",
        "* Make a copy of this notebook to your drive.  \n",
        "* Enter your name as well as today's date in the cell above (you'll need to double click the cell to edit it). As a reminder, to run a cell, use `shift` + `enter`.  \n",
        "* Also, please note that for some of the exercises below, you may see the message \"x cells hidden.\" Simply click on this message to reveal the cells."
      ]
    },
    {
      "cell_type": "markdown",
      "metadata": {
        "id": "FyjjmIBHwxdb"
      },
      "source": [
        "## Expressions  \n",
        "In Python, there are two types of expressions: Mathematical (algebraic) and Boolean."
      ]
    },
    {
      "cell_type": "markdown",
      "metadata": {
        "id": "eGtiFVkADcqf"
      },
      "source": [
        "## 2. Mathematical expressions  \n",
        "### 2a. The basics  \n",
        "  \n",
        "Mathematical expressions are essentially using Python like a calculator. In Python, it is standard to type a space before and after each operation. This helps with easier readability.  \n",
        "  \n",
        "Here are the basic mathematical operators:  \n",
        "Note: It may be useful to copy the expressions into a new code cell to run them yourself.\n",
        "  \n",
        "* Addition: `+`  \n",
        "`79 + 40 #returns 119`  \n",
        "  \n",
        "* Subtraction: `-`  \n",
        "`93 - 62 #returns 31`  \n",
        "  \n",
        "* Multiplication: `*`  \n",
        "`2 * 58 #returns 116`  \n",
        "   \n",
        "* Division: `/`  \n",
        "`482 / 16 #returns 30.125`  \n",
        "  \n",
        "* Exponentiation: `**`  \n",
        "`4 ** 2 #returns 16`"
      ]
    },
    {
      "cell_type": "markdown",
      "metadata": {
        "id": "k-TdV7td3f_R"
      },
      "source": [
        "Python can also calculate:  \n",
        "  \n",
        "* `//`  : Quotient (Integer Division) - the number of times operand1 can be divided by operand2   \n",
        "`9 // 4 #returns 2`  \n",
        "  \n",
        "* `%`   : Modulus - the remainder left over after division  \n",
        "`9 % 4 #returns 1`"
      ]
    },
    {
      "cell_type": "markdown",
      "metadata": {
        "id": "U7VrhoeZwQdd"
      },
      "source": [
        "###Try it yourself  \n",
        "In the cells below, write expressions for each of the following, just below the comments, and run the cells:"
      ]
    },
    {
      "cell_type": "code",
      "metadata": {
        "id": "tAUAsKiUDcqg"
      },
      "source": [
        "# 2a. 1) The number of continents on Earth multiplied by the number of planets in our solar system (sorry Pluto):\n"
      ],
      "execution_count": null,
      "outputs": []
    },
    {
      "cell_type": "code",
      "metadata": {
        "id": "FmT6gWQVDcqj"
      },
      "source": [
        "# 2a. 2) This Module's number, cubed (to the power of 3)\n"
      ],
      "execution_count": null,
      "outputs": []
    },
    {
      "cell_type": "code",
      "metadata": {
        "id": "GE0I91BbDcqm"
      },
      "source": [
        "# 2a. 3) The current year divided by 100\n"
      ],
      "execution_count": null,
      "outputs": []
    },
    {
      "cell_type": "markdown",
      "metadata": {
        "id": "71IXNKF_8sh3"
      },
      "source": [
        "### 2b. Data types\n",
        "Look at the code cells below, and think of what the resulting values should be before you run the cells:\n"
      ]
    },
    {
      "cell_type": "code",
      "metadata": {
        "id": "rK_8uUa79z3Y",
        "colab": {
          "base_uri": "https://localhost:8080/"
        },
        "outputId": "bd7078e1-dd6c-4bfc-f61f-f96e084828ee"
      },
      "source": [
        "2 + 1"
      ],
      "execution_count": null,
      "outputs": [
        {
          "output_type": "execute_result",
          "data": {
            "text/plain": [
              "3"
            ]
          },
          "metadata": {},
          "execution_count": 15
        }
      ]
    },
    {
      "cell_type": "code",
      "metadata": {
        "id": "SVYeewwm9x2K",
        "colab": {
          "base_uri": "https://localhost:8080/"
        },
        "outputId": "6425174f-07b6-4491-cc8b-ed8be121dec5"
      },
      "source": [
        "9 / 3"
      ],
      "execution_count": null,
      "outputs": [
        {
          "output_type": "execute_result",
          "data": {
            "text/plain": [
              "3.0"
            ]
          },
          "metadata": {},
          "execution_count": 16
        }
      ]
    },
    {
      "cell_type": "markdown",
      "metadata": {
        "id": "Qlw5EeQa9443"
      },
      "source": [
        "Now that you've run the cells, do you notice a difference between the results? While they're ultimately the same value, the addition expression results in an integer value of `3`, while the division expression results in a floating point value of `3.0`. These are two different data types, specifically, `int` and `float`.  \n",
        "  \n",
        "Here are the rules for `int` and `float`:  \n",
        "* When two `int` values are added, subtracted, or multiplied together, the result is also an `int` value.  \n",
        "* If an expression involves at least one `float` value, the result is a `float` value.  \n",
        "* Division always results in a `float` value."
      ]
    },
    {
      "cell_type": "markdown",
      "metadata": {
        "id": "qumo1zgEDcqo"
      },
      "source": [
        "In the cells below, write expressions for each of the following. Consider which operations should return an integer and which should return a float."
      ]
    },
    {
      "cell_type": "code",
      "metadata": {
        "id": "zYVZ92N8Dcqo",
        "colab": {
          "base_uri": "https://localhost:8080/"
        },
        "outputId": "33977aa5-0905-4660-fcee-341ab8dff66c"
      },
      "source": [
        "# 2b. 1) 6 plus 2"
      ],
      "execution_count": null,
      "outputs": [
        {
          "output_type": "execute_result",
          "data": {
            "text/plain": [
              "8"
            ]
          },
          "metadata": {},
          "execution_count": 4
        }
      ]
    },
    {
      "cell_type": "code",
      "metadata": {
        "id": "JaDSx069Dcqr",
        "colab": {
          "base_uri": "https://localhost:8080/"
        },
        "outputId": "7d17712f-8beb-4a5d-f61d-d740e9fdfba6"
      },
      "source": [
        "# 2b. 2) 6.0 plus 2"
      ],
      "execution_count": null,
      "outputs": [
        {
          "output_type": "execute_result",
          "data": {
            "text/plain": [
              "8.0"
            ]
          },
          "metadata": {},
          "execution_count": 5
        }
      ]
    },
    {
      "cell_type": "code",
      "metadata": {
        "id": "ji7C7AzEDcqt",
        "colab": {
          "base_uri": "https://localhost:8080/"
        },
        "outputId": "18a728ea-2af9-4f74-ffe4-c737b882ced8"
      },
      "source": [
        "# 2b. 3) 6 divided by 2"
      ],
      "execution_count": null,
      "outputs": [
        {
          "output_type": "execute_result",
          "data": {
            "text/plain": [
              "3.0"
            ]
          },
          "metadata": {},
          "execution_count": 6
        }
      ]
    },
    {
      "cell_type": "markdown",
      "metadata": {
        "id": "z6ji95ZVDcqw"
      },
      "source": [
        "### 2c. Order of operations\n",
        "Python follows the same order of operations rule as algebra:  \n",
        "* PEMDAS (Parentheses, Exponents, Multiplication/Division, Addition/Subtraction)  \n",
        "* All else being equal, left to right  "
      ]
    },
    {
      "cell_type": "markdown",
      "metadata": {
        "id": "L0dNU8RaAsk7"
      },
      "source": [
        "While not always necessary, parentheses can be helpful for clarification for human readers. Add parentheses to the expression below to help clarify the order of operations, ensuring that your answer is 24."
      ]
    },
    {
      "cell_type": "code",
      "metadata": {
        "id": "QSl75pCwDcqw",
        "colab": {
          "base_uri": "https://localhost:8080/"
        },
        "outputId": "004527b2-e8b1-4acc-903a-947397ea5ac4"
      },
      "source": [
        "# 2c. 1) Add parentheses to clarify order of operations\n",
        "20 * 1 + 2 ** 2"
      ],
      "execution_count": null,
      "outputs": [
        {
          "output_type": "execute_result",
          "data": {
            "text/plain": [
              "24"
            ]
          },
          "metadata": {},
          "execution_count": 7
        }
      ]
    },
    {
      "cell_type": "markdown",
      "metadata": {
        "id": "ClVVERidDcqy"
      },
      "source": [
        "### 2d. Built-in functions\n",
        "Python has several helpful math-related functions:  \n",
        "* Absolute Value: `abs()`  \n",
        "  `abs(-4) #returns 4`  \n",
        "  `abs(7 - 12) #returns 5`\n",
        "* Minimum Value: `min()`  \n",
        "`min(6, 19, 2, 13, 4) #returns 2`  \n",
        "* Maximum Value: `max()`  \n",
        "`max(6, 19, 2, 13, 4) #returns 19`"
      ]
    },
    {
      "cell_type": "markdown",
      "metadata": {
        "id": "6qXeb1w9BpPq"
      },
      "source": [
        "In the cells below, use built-in functions to determine the following:\n",
        "* The absolute value of the difference between two children's ages (10 and 15)\n",
        "* The lowest student grade received on a quiz: 76, 98, 83, 71\n",
        "* The highest price of a cup of coffee: 2.50, 3.49, 2.99"
      ]
    },
    {
      "cell_type": "code",
      "metadata": {
        "id": "6Sxf0gibDcqz",
        "colab": {
          "base_uri": "https://localhost:8080/"
        },
        "outputId": "01be71e9-45fe-4b23-d157-e423899020e9"
      },
      "source": [
        "# 2d. 1) Ages"
      ],
      "execution_count": null,
      "outputs": [
        {
          "output_type": "execute_result",
          "data": {
            "text/plain": [
              "5"
            ]
          },
          "metadata": {},
          "execution_count": 9
        }
      ]
    },
    {
      "cell_type": "code",
      "metadata": {
        "id": "rdM6rOpvDcq1",
        "colab": {
          "base_uri": "https://localhost:8080/"
        },
        "outputId": "fa1c9285-bb67-4add-b007-3e64640dfc80"
      },
      "source": [
        "# 2d. 2) Grade"
      ],
      "execution_count": null,
      "outputs": [
        {
          "output_type": "execute_result",
          "data": {
            "text/plain": [
              "71"
            ]
          },
          "metadata": {},
          "execution_count": 10
        }
      ]
    },
    {
      "cell_type": "code",
      "metadata": {
        "id": "-jMffkdcDcq3",
        "colab": {
          "base_uri": "https://localhost:8080/"
        },
        "outputId": "83384185-f33d-4282-c9c7-4a1145e6c05e"
      },
      "source": [
        "# 2d. 3) Coffee"
      ],
      "execution_count": null,
      "outputs": [
        {
          "output_type": "execute_result",
          "data": {
            "text/plain": [
              "3.49"
            ]
          },
          "metadata": {},
          "execution_count": 11
        }
      ]
    },
    {
      "cell_type": "markdown",
      "metadata": {
        "id": "A16PMuKtDcq5"
      },
      "source": [
        "## 3. Boolean expressions\n",
        "\n",
        "### 3a. Basic Boolean expressions\n",
        "A Boolean expression is a type of numeric expression that evaluates to `True` or `False`.  \n",
        "  \n",
        "Here are the basic Boolean operators:  \n",
        "  \n",
        "* Less than: `<`  \n",
        "`42 < 42 #returns False`  \n",
        "`15 < 51 #returns True` \n",
        "* Less than or equal to: `<=`  \n",
        "`42 <= 42 #returns True`  \n",
        "`15 <= 51 #returns True`  \n",
        "* Greater than: `>`  \n",
        "`42 > 42 #returns False`  \n",
        "`15 > 51 #returns False` \n",
        "* Greater than or equal to: `>=`  \n",
        "`42 >= 42 #returns True`  \n",
        "`15 >= 51 #returns False` \n",
        "* Equal to: `==`  \n",
        "`42 == 42 #returns True`  \n",
        "`15 == 51 #returns False`  \n",
        "* Not equal to: `!=`  \n",
        "`42 != 42 #returns False`  \n",
        "`15 != 51 #returns True` \n",
        "  \n",
        "Note above -- the single equals sign, `=`, is not a Boolean operator (we'll get to that later). To check if two values are equal to each other, `==` must be used."
      ]
    },
    {
      "cell_type": "markdown",
      "metadata": {
        "id": "4FpS2UUZKIfn"
      },
      "source": [
        "Boolean expressions can take mathematical expressions as their operands. Look at the code cell below, and try to determine the result before running it:"
      ]
    },
    {
      "cell_type": "code",
      "metadata": {
        "id": "0Ri5U_7WKVNf",
        "colab": {
          "base_uri": "https://localhost:8080/"
        },
        "outputId": "819d88f5-096e-4783-eca8-3fa97807b7f9"
      },
      "source": [
        "2 * max(14, 3, 9, 17, 11) == 7 + 3 * 9"
      ],
      "execution_count": null,
      "outputs": [
        {
          "output_type": "execute_result",
          "data": {
            "text/plain": [
              "True"
            ]
          },
          "metadata": {},
          "execution_count": 23
        }
      ]
    },
    {
      "cell_type": "markdown",
      "metadata": {
        "id": "7HSkqXHiK5jH"
      },
      "source": [
        "Did you get the result you expected? If not, can you determine why it gave that result?  \n",
        "  \n",
        "Now, try changing the mathematical expressions or even the Boolean operator and try to predict the results."
      ]
    },
    {
      "cell_type": "markdown",
      "metadata": {
        "id": "ZQQkuFBXFSKw"
      },
      "source": [
        "### Try it yourself  \n",
        "Write Boolean expressions in each cell below. Feel free to use parentheses to help clarify your expressions."
      ]
    },
    {
      "cell_type": "code",
      "metadata": {
        "id": "qWi1OQIlDcq5",
        "colab": {
          "base_uri": "https://localhost:8080/"
        },
        "outputId": "3c1ecdc2-d699-4c7f-f795-846e7d75dea9"
      },
      "source": [
        "# 3a. 1) 3 squared plus 4 is equivalent to 25 minus 12"
      ],
      "execution_count": null,
      "outputs": [
        {
          "output_type": "execute_result",
          "data": {
            "text/plain": [
              "True"
            ]
          },
          "metadata": {},
          "execution_count": 12
        }
      ]
    },
    {
      "cell_type": "code",
      "metadata": {
        "id": "UwWSKVe4Dcq8",
        "colab": {
          "base_uri": "https://localhost:8080/"
        },
        "outputId": "7f0c0677-012c-405f-e4c4-69749ad165ed"
      },
      "source": [
        "# 3a. 2) The minimum age among four siblings (14, 9, 7, 2) is less than 3"
      ],
      "execution_count": null,
      "outputs": [
        {
          "output_type": "execute_result",
          "data": {
            "text/plain": [
              "True"
            ]
          },
          "metadata": {},
          "execution_count": 13
        }
      ]
    },
    {
      "cell_type": "markdown",
      "metadata": {
        "id": "_MFIJ53KDcq-"
      },
      "source": [
        "### 3b. `and`, `or`, and `not`  \n",
        "Boolean expressions can be combined using the `and`, `or`, and `not` operators.  \n",
        "  \n",
        "* The `and` operator evaluates to `True` if **both** Boolean expressions are `True` and `False` otherwise.  \n",
        "`2 < 7 and 4 > 3 #returns True`  \n",
        "`2 < 7 and 4 > 13 #returns False`  \n",
        "* The `or` operator evaluates to `True` if **either** expression is `True`, or if both are `True`, and `False` only if both expressions are `False`.  \n",
        "`2 < 3 or 4 < 5 #returns True`  \n",
        "`2 < 3 or 4 > 5 # returns True`  \n",
        "`2 > 3 or 4 > 5 # returns False`  \n",
        "* The `not` operator is applied to a single Boolean expression, and reverses the expression.  \n",
        "In other words, `not` evaluates to `True` if the expression is false, and `False` if the expression is true.  \n",
        "`not (3 > 1) #returns False`  \n",
        "`not (3 < 1) #returns True`  \n",
        "`not (2 * 2 == 4) #returns False`"
      ]
    },
    {
      "cell_type": "markdown",
      "metadata": {
        "id": "XK-xmWuYLrVr"
      },
      "source": [
        "### Try it yourself  \n",
        "In the cells below, come up with your choice of Boolean statements for the `and`, `or`, and `not` operators. Make sure you understand why you received `True` or `False` for each one."
      ]
    },
    {
      "cell_type": "code",
      "metadata": {
        "id": "_cvqsVbQDcq-",
        "colab": {
          "base_uri": "https://localhost:8080/"
        },
        "outputId": "a310f53c-fa42-49a9-ce10-69be05b2c293"
      },
      "source": [
        "# 3b. 1) and\n"
      ],
      "execution_count": null,
      "outputs": [
        {
          "output_type": "execute_result",
          "data": {
            "text/plain": [
              "False"
            ]
          },
          "metadata": {},
          "execution_count": 15
        }
      ]
    },
    {
      "cell_type": "code",
      "metadata": {
        "id": "u881zrnLDcrA",
        "colab": {
          "base_uri": "https://localhost:8080/"
        },
        "outputId": "b870cae6-6798-4b7b-8274-1ef8e1438c40"
      },
      "source": [
        "# 3b. 2) or\n"
      ],
      "execution_count": null,
      "outputs": [
        {
          "output_type": "execute_result",
          "data": {
            "text/plain": [
              "True"
            ]
          },
          "metadata": {},
          "execution_count": 16
        }
      ]
    },
    {
      "cell_type": "code",
      "metadata": {
        "id": "35sopS0nDcrC",
        "colab": {
          "base_uri": "https://localhost:8080/"
        },
        "outputId": "cc7ec9bb-d40f-440b-b2b3-4f8f1e23c857"
      },
      "source": [
        "# 3b. 3) not\n"
      ],
      "execution_count": null,
      "outputs": [
        {
          "output_type": "execute_result",
          "data": {
            "text/plain": [
              "True"
            ]
          },
          "metadata": {},
          "execution_count": 17
        }
      ]
    },
    {
      "cell_type": "markdown",
      "metadata": {
        "collapsed": true,
        "id": "QRjGc_2gDcrY"
      },
      "source": [
        "## Congrats, you're done! \n",
        "At this point, you've learned the basics of Python datatypes, mathematical and Boolean expressions, variable names, and assignment. If you'd like more practice with these concepts, simply continue below. Next, we'll learn about variables."
      ]
    },
    {
      "cell_type": "markdown",
      "metadata": {
        "id": "whNRxjERDcrZ"
      },
      "source": [
        "### Mathematical expressions"
      ]
    },
    {
      "cell_type": "markdown",
      "metadata": {
        "id": "-YA_A-LpDcrZ"
      },
      "source": [
        "In the cells below, write expressions for each of the following, and run the cells:\n",
        "* The quotient for the number of times the current year can be divided by 100 \n",
        "* The remainder of the above expression"
      ]
    },
    {
      "cell_type": "code",
      "metadata": {
        "id": "aULWAiWYDcra",
        "colab": {
          "base_uri": "https://localhost:8080/"
        },
        "outputId": "269b0fb4-adaa-436d-e383-5fffa60fec3a"
      },
      "source": [
        "# Practice 1) Quotient\n"
      ],
      "execution_count": null,
      "outputs": [
        {
          "output_type": "execute_result",
          "data": {
            "text/plain": [
              "20"
            ]
          },
          "metadata": {},
          "execution_count": 26
        }
      ]
    },
    {
      "cell_type": "code",
      "metadata": {
        "id": "YVhk_etLDcrb",
        "colab": {
          "base_uri": "https://localhost:8080/"
        },
        "outputId": "1ac8e6d3-db6f-4b20-fa93-96ef1a0ce19e"
      },
      "source": [
        "# Practice 2) Remainder\n"
      ],
      "execution_count": null,
      "outputs": [
        {
          "output_type": "execute_result",
          "data": {
            "text/plain": [
              "21"
            ]
          },
          "metadata": {},
          "execution_count": 34
        }
      ]
    },
    {
      "cell_type": "markdown",
      "metadata": {
        "id": "P_FORhr1Dcrd"
      },
      "source": [
        "### Data types\n",
        "Write expressions for each of the following. Do you understand why both return floats?\n",
        "* 6 divided by 2\n",
        "* 6.0 divided by 2.0"
      ]
    },
    {
      "cell_type": "code",
      "metadata": {
        "id": "lU09bz4qDcre",
        "colab": {
          "base_uri": "https://localhost:8080/"
        },
        "outputId": "212c34f4-4d45-49f3-a35b-899c503dfb63"
      },
      "source": [
        "# Practice 3) 6 divided by 2\n"
      ],
      "execution_count": null,
      "outputs": [
        {
          "output_type": "execute_result",
          "data": {
            "text/plain": [
              "3.0"
            ]
          },
          "metadata": {},
          "execution_count": 28
        }
      ]
    },
    {
      "cell_type": "code",
      "metadata": {
        "id": "_6EObJDLDcrg",
        "colab": {
          "base_uri": "https://localhost:8080/"
        },
        "outputId": "b1ec8f6d-280e-4b86-b0e3-ad9caf79b07d"
      },
      "source": [
        "# Practice 4) 6.0 divided by 2.0\n"
      ],
      "execution_count": null,
      "outputs": [
        {
          "output_type": "execute_result",
          "data": {
            "text/plain": [
              "3.0"
            ]
          },
          "metadata": {},
          "execution_count": 35
        }
      ]
    },
    {
      "cell_type": "markdown",
      "metadata": {
        "id": "1XOrdHJLDcri"
      },
      "source": [
        "### Order of operations\n",
        "In the cell below, re-write the following expression to include parentheses to help clarify the order of operations, ensuring that your answer is correct (18.0):\n",
        "* 10 / 5 + 3 * 6 - 2"
      ]
    },
    {
      "cell_type": "code",
      "metadata": {
        "id": "wB7ZPS0ZDcri",
        "colab": {
          "base_uri": "https://localhost:8080/"
        },
        "outputId": "6a66c1d0-6826-4ba6-8a76-0d38465d4d15"
      },
      "source": [
        "# Practice 5) 10 / 5 + 3 * 6 - 2 with parentheses\n"
      ],
      "execution_count": null,
      "outputs": [
        {
          "output_type": "execute_result",
          "data": {
            "text/plain": [
              "18.0"
            ]
          },
          "metadata": {},
          "execution_count": 36
        }
      ]
    },
    {
      "cell_type": "markdown",
      "metadata": {
        "id": "tAI7cCJSDcrk"
      },
      "source": [
        "### Boolean expressions\n",
        "Look back at the expressions you wrote for 3b above. How would you edit these to obtain the opposite answer? I.e., if your original expression returned `True`, edit it so that it now returns `False`.  \n",
        " \n",
        " For instance, if your original statement for `and` was `1 + 1 == 2 and 1 > 3` Python would have returned `False`. You could change the result in various ways, including changing the last 1 to a 10: `1 + 1 == 2 and 10 > 3` returns `True`."
      ]
    },
    {
      "cell_type": "code",
      "metadata": {
        "id": "d1sYFTP1Dcrk",
        "colab": {
          "base_uri": "https://localhost:8080/"
        },
        "outputId": "eb37d067-02fd-4d58-dd01-877695746e20"
      },
      "source": [
        "# Practice 6) and - different result\n"
      ],
      "execution_count": null,
      "outputs": [
        {
          "output_type": "execute_result",
          "data": {
            "text/plain": [
              "True"
            ]
          },
          "metadata": {},
          "execution_count": 31
        }
      ]
    },
    {
      "cell_type": "code",
      "metadata": {
        "id": "TE79dmDVDcrm",
        "colab": {
          "base_uri": "https://localhost:8080/"
        },
        "outputId": "decbe132-63ce-48d2-d05e-6677ee0e7e89"
      },
      "source": [
        "# Practice 7) or - different result\n"
      ],
      "execution_count": null,
      "outputs": [
        {
          "output_type": "execute_result",
          "data": {
            "text/plain": [
              "False"
            ]
          },
          "metadata": {},
          "execution_count": 32
        }
      ]
    },
    {
      "cell_type": "code",
      "metadata": {
        "id": "oQTiBNdODcru",
        "colab": {
          "base_uri": "https://localhost:8080/"
        },
        "outputId": "b78da07b-ced2-4424-9afc-745304424499"
      },
      "source": [
        "# Practice 8) not - different result\n"
      ],
      "execution_count": null,
      "outputs": [
        {
          "output_type": "execute_result",
          "data": {
            "text/plain": [
              "False"
            ]
          },
          "metadata": {},
          "execution_count": 33
        }
      ]
    }
  ]
}