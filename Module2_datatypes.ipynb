{
  "nbformat": 4,
  "nbformat_minor": 0,
  "metadata": {
    "kernelspec": {
      "display_name": "Python 3",
      "language": "python",
      "name": "python3"
    },
    "language_info": {
      "codemirror_mode": {
        "name": "ipython",
        "version": 3
      },
      "file_extension": ".py",
      "mimetype": "text/x-python",
      "name": "python",
      "nbconvert_exporter": "python",
      "pygments_lexer": "ipython3",
      "version": "3.7.1"
    },
    "colab": {
      "name": "Module2_datatypes.ipynb",
      "provenance": [],
      "collapsed_sections": [
        "-DFmkSC3DcrF",
        "mMoSrg_5DcrP",
        "CZws-TYVDcrP",
        "6eF88P1PDcrV",
        "whNRxjERDcrZ",
        "P_FORhr1Dcrd",
        "1XOrdHJLDcri",
        "tAI7cCJSDcrk"
      ],
      "include_colab_link": true
    }
  },
  "cells": [
    {
      "cell_type": "markdown",
      "metadata": {
        "id": "view-in-github",
        "colab_type": "text"
      },
      "source": [
        "<a href=\"https://colab.research.google.com/github/JaimeAdele/APEX/blob/main/Module2_datatypes.ipynb\" target=\"_parent\"><img src=\"https://colab.research.google.com/assets/colab-badge.svg\" alt=\"Open In Colab\"/></a>"
      ]
    },
    {
      "cell_type": "markdown",
      "metadata": {
        "id": "dH0hUpuHsdPg"
      },
      "source": [
        "<img src='https://cdn.pixabay.com/photo/2018/11/17/12/27/mathematics-3821034_1280.jpg' width=700>\n",
        "\n"
      ]
    },
    {
      "cell_type": "markdown",
      "metadata": {
        "id": "U2VoRlVpDcqd"
      },
      "source": [
        "# APEX Faculty Training, Module 2: Datatypes\n",
        "Created by Valerie Carr and Jaime Zuspann  \n",
        "Licensed under a Creative Commons license: CC BY-NC-SA  \n",
        "Last updated: Nov 14, 2021 \n",
        "\n",
        "**Learning Outcomes**:  \n",
        "1. To learn about different different Python data types, including integers and floats\n",
        "2. To learn how to write mathematical and Boolean expressions using these data types"
      ]
    },
    {
      "cell_type": "markdown",
      "metadata": {
        "id": "YmLWJKQSDcqe"
      },
      "source": [
        "## 1. A couple notes before you start\n",
        "\n",
        "* This file is view only, meaning that you can't edit it.\n",
        "    * To create an editable copy, look towards the top of the notebook and click on `Copy to Drive`. This will cause a new tab to open with your own personal copy.\n",
        "    * If you want to refer back to your copy in the future, you can find it in Google Drive in a folder called `Colab Notebooks`.\n",
        "* To run a cell, use `shift` + `enter`.  \n",
        "* For some of the exercises below, you may see the message \"x cells hidden.\" Simply click on that message to reveal the cells."
      ]
    },
    {
      "cell_type": "markdown",
      "metadata": {
        "id": "aNu5zMO1GwK3"
      },
      "source": [
        "## 2. Data types\n",
        "Many programming languages, including Python, utilize a variety of data types, each with different properties. \n",
        "\n",
        "Today, you'll learn about two number types: integers and floats. In future modules, you'll learn about strings, lists, tuples, dictionaries, and dataframes.\n",
        "\n",
        "The difference between integers and floats is simple:  \n",
        "* Integers are whole numbers like 1 or 42 or 2097\n",
        "* Floats are numbers with decimal points, like 1.0, 42.5, or 2097.651\n",
        "\n",
        "These number types can be used for obvious purposes, such as in mathematical expressions like `2 + 2`. They can also be used in Boolean expressions, which are statements that evaluate to either True or False, such as `2.3 > 5`. You'll learn more about both types of expressions below."
      ]
    },
    {
      "cell_type": "markdown",
      "metadata": {
        "id": "eGtiFVkADcqf"
      },
      "source": [
        "## 2. Mathematical expressions  \n",
        "\n",
        "Mathematical expressions are essentially using Python like a calculator. In Python, it is standard to type a space before and after each operator. This helps with easier readability of your code. See below for some simple examples.\n",
        "  \n",
        "* Addition:  \n",
        "`79 + 40`  \n",
        "  \n",
        "* Subtraction:  \n",
        "`93 - 62`  \n",
        "  \n",
        "* Multiplication:   \n",
        "`2 * 58`  \n",
        "   \n",
        "* Division:  \n",
        "`482 / 16`  \n",
        "  \n",
        "* Exponentiation:  \n",
        "`4 ** 2`\n",
        "  \n",
        "* Quotients, i.e., the number of times one integer can be divided by another:   \n",
        "`9 // 4`  \n",
        "  \n",
        "* Modulus, i.e., the remainder left over:  \n",
        "`9 % 4`"
      ]
    },
    {
      "cell_type": "markdown",
      "metadata": {
        "id": "U7VrhoeZwQdd"
      },
      "source": [
        "### 2a. Math whiz\n",
        "Write code for each of the following exercises, making sure to run each cell when you're done writing your code.\n",
        "\n",
        "<font color='red'>Exercise 1</font>  \n",
        "The number of continents on Earth multiplied by the number of planets in our solar system (sorry Pluto):"
      ]
    },
    {
      "cell_type": "code",
      "metadata": {
        "id": "tAUAsKiUDcqg"
      },
      "source": [
        ""
      ],
      "execution_count": null,
      "outputs": []
    },
    {
      "cell_type": "markdown",
      "metadata": {
        "id": "8cfuDGcAHWYJ"
      },
      "source": [
        "<font color='red'>Exercise 2</font>  \n",
        "This Module's number, cubed (to the power of 3)"
      ]
    },
    {
      "cell_type": "code",
      "metadata": {
        "id": "FmT6gWQVDcqj"
      },
      "source": [
        ""
      ],
      "execution_count": null,
      "outputs": []
    },
    {
      "cell_type": "markdown",
      "metadata": {
        "id": "x2BQMOPPHYtW"
      },
      "source": [
        "<font color='red'>Exercise 3</font>  \n",
        "The current year divided by 100"
      ]
    },
    {
      "cell_type": "code",
      "metadata": {
        "id": "GE0I91BbDcqm"
      },
      "source": [
        ""
      ],
      "execution_count": null,
      "outputs": []
    },
    {
      "cell_type": "markdown",
      "metadata": {
        "id": "CK4M1Cs7HehN"
      },
      "source": [
        "### 2b. Which data type?\n",
        "You may have noticed that some of the expressions above returned integers, whereas others returned floats. \n",
        "\n",
        "Here are the rules for `int` and `float`:  \n",
        "* When two `int` values are added, subtracted, or multiplied together, the result is also an `int` value.  \n",
        "* If an expression involves at least one `float` value, the result is a `float` value.  \n",
        "* Division always results in a `float` value.\n",
        "\n",
        "<font color='red'>Exercise 4</font>   \n",
        "Before running each of the cells below, think about which data type they'll retrun: `int` or `float`? Run each cell to find out if you're right!\n"
      ]
    },
    {
      "cell_type": "code",
      "metadata": {
        "id": "rK_8uUa79z3Y",
        "colab": {
          "base_uri": "https://localhost:8080/"
        },
        "outputId": "bd7078e1-dd6c-4bfc-f61f-f96e084828ee"
      },
      "source": [
        "2 + 1"
      ],
      "execution_count": null,
      "outputs": [
        {
          "output_type": "execute_result",
          "data": {
            "text/plain": [
              "3"
            ]
          },
          "metadata": {},
          "execution_count": 15
        }
      ]
    },
    {
      "cell_type": "code",
      "metadata": {
        "id": "59W9hNjQIBHN"
      },
      "source": [
        "3 * 1"
      ],
      "execution_count": null,
      "outputs": []
    },
    {
      "cell_type": "code",
      "metadata": {
        "id": "r7RGJLscICfw"
      },
      "source": [
        "1.5 * 2"
      ],
      "execution_count": null,
      "outputs": []
    },
    {
      "cell_type": "code",
      "metadata": {
        "id": "SVYeewwm9x2K",
        "colab": {
          "base_uri": "https://localhost:8080/"
        },
        "outputId": "6425174f-07b6-4491-cc8b-ed8be121dec5"
      },
      "source": [
        "9 / 3"
      ],
      "execution_count": null,
      "outputs": [
        {
          "output_type": "execute_result",
          "data": {
            "text/plain": [
              "3.0"
            ]
          },
          "metadata": {},
          "execution_count": 16
        }
      ]
    },
    {
      "cell_type": "markdown",
      "metadata": {
        "id": "qDHEh4quIJH-"
      },
      "source": [
        "### 2c. Order of operations\n",
        "Python follows the same order of operations rule as algebra:  \n",
        "* PEMDAS (Parentheses, Exponents, Multiplication/Division, Addition/Subtraction)  \n",
        "* All else being equal, left to right\n",
        "\n",
        "While not always necessary, parentheses can be helpful for clarification for human readers. \n",
        "\n",
        "<font color='red'>Exercise 5</font>  \n",
        "Add parentheses to the expression below to help clarify the order of operations, ensuring that your answer is 24."
      ]
    },
    {
      "cell_type": "markdown",
      "metadata": {
        "id": "z6ji95ZVDcqw"
      },
      "source": [
        "### 2c. Order of operations\n",
        "Python follows the same order of operations rule as algebra:  \n",
        "* PEMDAS (Parentheses, Exponents, Multiplication/Division, Addition/Subtraction)  \n",
        "* All else being equal, left to right  "
      ]
    },
    {
      "cell_type": "markdown",
      "metadata": {
        "id": "L0dNU8RaAsk7"
      },
      "source": [
        "While not always necessary, parentheses can be helpful for clarification for human readers. Add parentheses to the expression below to help clarify the order of operations, ensuring that your answer is 24."
      ]
    },
    {
      "cell_type": "code",
      "metadata": {
        "id": "QSl75pCwDcqw",
        "colab": {
          "base_uri": "https://localhost:8080/"
        },
        "outputId": "004527b2-e8b1-4acc-903a-947397ea5ac4"
      },
      "source": [
        "20 * 1 + 2 ** 2"
      ],
      "execution_count": null,
      "outputs": [
        {
          "output_type": "execute_result",
          "data": {
            "text/plain": [
              "24"
            ]
          },
          "metadata": {},
          "execution_count": 7
        }
      ]
    },
    {
      "cell_type": "markdown",
      "metadata": {
        "id": "ClVVERidDcqy"
      },
      "source": [
        "### 2d. Built-in functions\n",
        "Python has several helpful math-related functions. See below for a few simple examples.  \n",
        "* Absolute Value:  \n",
        "  `abs(-4)`  \n",
        "  `abs(7 - 12)`\n",
        "* Minimum Value:  \n",
        "`min(6, 19, 2, 13, 4)`  \n",
        "* Maximum Value:  \n",
        "`max(6, 19, 2, 13, 4)`\n",
        "\n",
        "<font color='red'>Exercise 6</font>   \n",
        "Using the above examples as a guide, write code to determine the absolute value of the difference between two children's ages (10 and 15)"
      ]
    },
    {
      "cell_type": "code",
      "metadata": {
        "id": "6Sxf0gibDcqz",
        "colab": {
          "base_uri": "https://localhost:8080/"
        },
        "outputId": "01be71e9-45fe-4b23-d157-e423899020e9"
      },
      "source": [
        ""
      ],
      "execution_count": null,
      "outputs": [
        {
          "output_type": "execute_result",
          "data": {
            "text/plain": [
              "5"
            ]
          },
          "metadata": {},
          "execution_count": 9
        }
      ]
    },
    {
      "cell_type": "markdown",
      "metadata": {
        "id": "M3Topg-PIuHI"
      },
      "source": [
        "<font color='red'>Exercise 7</font>  \n",
        "Determine the lowest student grade received on a quiz: 76, 98, 83, 71 "
      ]
    },
    {
      "cell_type": "code",
      "metadata": {
        "id": "rdM6rOpvDcq1",
        "colab": {
          "base_uri": "https://localhost:8080/"
        },
        "outputId": "fa1c9285-bb67-4add-b007-3e64640dfc80"
      },
      "source": [
        ""
      ],
      "execution_count": null,
      "outputs": [
        {
          "output_type": "execute_result",
          "data": {
            "text/plain": [
              "71"
            ]
          },
          "metadata": {},
          "execution_count": 10
        }
      ]
    },
    {
      "cell_type": "markdown",
      "metadata": {
        "id": "06y0jguwIx_U"
      },
      "source": [
        "<font color='red'>Exercise 8</font>   \n",
        "Determine the highest price of a cup of coffee: 2.50, 3.49, 2.99"
      ]
    },
    {
      "cell_type": "code",
      "metadata": {
        "id": "-jMffkdcDcq3",
        "colab": {
          "base_uri": "https://localhost:8080/"
        },
        "outputId": "83384185-f33d-4282-c9c7-4a1145e6c05e"
      },
      "source": [
        ""
      ],
      "execution_count": null,
      "outputs": [
        {
          "output_type": "execute_result",
          "data": {
            "text/plain": [
              "3.49"
            ]
          },
          "metadata": {},
          "execution_count": 11
        }
      ]
    },
    {
      "cell_type": "markdown",
      "metadata": {
        "id": "A16PMuKtDcq5"
      },
      "source": [
        "## 3. Boolean expressions\n",
        "\n",
        "A Boolean expression is a type of numeric expression that evaluates to `True` or `False`. \n",
        "\n",
        "### 3a. Basic Boolean operators\n",
        "  \n",
        "Here are the basic Boolean operators:  \n",
        "  \n",
        "* Less than: `<`  \n",
        "`42 < 42 #returns False`  \n",
        "`15 < 51 #returns True` \n",
        "* Less than or equal to: `<=`  \n",
        "`42 <= 42 #returns True`  \n",
        "`15 <= 51 #returns True`  \n",
        "* Greater than: `>`  \n",
        "`42 > 42 #returns False`  \n",
        "`15 > 51 #returns False` \n",
        "* Greater than or equal to: `>=`  \n",
        "`42 >= 42 #returns True`  \n",
        "`15 >= 51 #returns False` \n",
        "* Equal to: `==`  \n",
        "`42 == 42 #returns True`  \n",
        "`15 == 51 #returns False`  \n",
        "* Not equal to: `!=`  \n",
        "`42 != 42 #returns False`  \n",
        "`15 != 51 #returns True` \n",
        "  \n",
        "Note above -- the single equals sign, `=`, is not a Boolean operator (we'll get to that later). To check if two values are equal to each other, `==` must be used."
      ]
    },
    {
      "cell_type": "markdown",
      "metadata": {
        "id": "4FpS2UUZKIfn"
      },
      "source": [
        "<font color='red'>Exercise 9</font>  \n",
        "Boolean expressions can take mathematical expressions as their operands. Look at the code cell below, and try to determine the result before running it:"
      ]
    },
    {
      "cell_type": "code",
      "metadata": {
        "id": "0Ri5U_7WKVNf",
        "colab": {
          "base_uri": "https://localhost:8080/"
        },
        "outputId": "819d88f5-096e-4783-eca8-3fa97807b7f9"
      },
      "source": [
        "2 * max(14, 3, 9, 17, 11) == 7 + 3 * 9"
      ],
      "execution_count": null,
      "outputs": [
        {
          "output_type": "execute_result",
          "data": {
            "text/plain": [
              "True"
            ]
          },
          "metadata": {},
          "execution_count": 23
        }
      ]
    },
    {
      "cell_type": "markdown",
      "metadata": {
        "id": "7HSkqXHiK5jH"
      },
      "source": [
        "Did you get the result you expected? If not, can you determine why it gave that result?  \n",
        "  \n",
        "Now, try changing the mathematical expressions or even the Boolean operator and try to predict the results."
      ]
    },
    {
      "cell_type": "markdown",
      "metadata": {
        "id": "ZQQkuFBXFSKw"
      },
      "source": [
        "<font color='red'>Exercise 10</font>  \n",
        "Write the Boolean expression for 3 squared plus 4 is equivalent to 25 minus 12. Remember the difference between the assignment operator and the equivalence operator? Feel free to use parentheses to help clarify your expressions."
      ]
    },
    {
      "cell_type": "code",
      "metadata": {
        "id": "qWi1OQIlDcq5",
        "colab": {
          "base_uri": "https://localhost:8080/"
        },
        "outputId": "3c1ecdc2-d699-4c7f-f795-846e7d75dea9"
      },
      "source": [
        ""
      ],
      "execution_count": null,
      "outputs": [
        {
          "output_type": "execute_result",
          "data": {
            "text/plain": [
              "True"
            ]
          },
          "metadata": {},
          "execution_count": 12
        }
      ]
    },
    {
      "cell_type": "markdown",
      "metadata": {
        "id": "fLgIYYNmJjDC"
      },
      "source": [
        "<font color='red'>Exercise 11</font>  \n",
        "Write the Boolean expression for the minimum age among four siblings (14, 9, 7, 2) is less than 3"
      ]
    },
    {
      "cell_type": "code",
      "metadata": {
        "id": "UwWSKVe4Dcq8",
        "colab": {
          "base_uri": "https://localhost:8080/"
        },
        "outputId": "7f0c0677-012c-405f-e4c4-69749ad165ed"
      },
      "source": [
        ""
      ],
      "execution_count": null,
      "outputs": [
        {
          "output_type": "execute_result",
          "data": {
            "text/plain": [
              "True"
            ]
          },
          "metadata": {},
          "execution_count": 13
        }
      ]
    },
    {
      "cell_type": "markdown",
      "metadata": {
        "id": "_MFIJ53KDcq-"
      },
      "source": [
        "### 3b. `and`, `or`, and `not`  \n",
        "Boolean expressions can be combined using the `and`, `or`, and `not` operators.  \n",
        "  \n",
        "* The `and` operator evaluates to `True` if **both** Boolean expressions are `True` and `False` otherwise.  \n",
        "`2 < 7 and 4 > 3 #returns True`  \n",
        "`2 < 7 and 4 > 13 #returns False`  \n",
        "* The `or` operator evaluates to `True` if **either** expression is `True`, or if both are `True`, and `False` only if both expressions are `False`.  \n",
        "`2 < 3 or 4 < 5 #returns True`  \n",
        "`2 < 3 or 4 > 5 # returns True`  \n",
        "`2 > 3 or 4 > 5 # returns False`  \n",
        "* The `not` operator is applied to a single Boolean expression, and reverses the expression.  \n",
        "In other words, `not` evaluates to `True` if the expression is false, and `False` if the expression is true.  \n",
        "`not (3 > 1) #returns False`  \n",
        "`not (3 < 1) #returns True`  \n",
        "`not (2 * 2 == 4) #returns False`"
      ]
    },
    {
      "cell_type": "markdown",
      "metadata": {
        "id": "XK-xmWuYLrVr"
      },
      "source": [
        "<font color='red'>Exercise 12</font>  \n",
        "In the cells below, come up with your choice of Boolean statements for the `and`, `or`, and `not` operators. Make sure you understand why you received `True` or `False` for each one."
      ]
    },
    {
      "cell_type": "code",
      "metadata": {
        "id": "_cvqsVbQDcq-",
        "colab": {
          "base_uri": "https://localhost:8080/"
        },
        "outputId": "a310f53c-fa42-49a9-ce10-69be05b2c293"
      },
      "source": [
        "# and\n"
      ],
      "execution_count": null,
      "outputs": [
        {
          "output_type": "execute_result",
          "data": {
            "text/plain": [
              "False"
            ]
          },
          "metadata": {},
          "execution_count": 15
        }
      ]
    },
    {
      "cell_type": "code",
      "metadata": {
        "id": "u881zrnLDcrA",
        "colab": {
          "base_uri": "https://localhost:8080/"
        },
        "outputId": "b870cae6-6798-4b7b-8274-1ef8e1438c40"
      },
      "source": [
        "# or\n"
      ],
      "execution_count": null,
      "outputs": [
        {
          "output_type": "execute_result",
          "data": {
            "text/plain": [
              "True"
            ]
          },
          "metadata": {},
          "execution_count": 16
        }
      ]
    },
    {
      "cell_type": "code",
      "metadata": {
        "id": "35sopS0nDcrC",
        "colab": {
          "base_uri": "https://localhost:8080/"
        },
        "outputId": "cc7ec9bb-d40f-440b-b2b3-4f8f1e23c857"
      },
      "source": [
        "# not\n"
      ],
      "execution_count": null,
      "outputs": [
        {
          "output_type": "execute_result",
          "data": {
            "text/plain": [
              "True"
            ]
          },
          "metadata": {},
          "execution_count": 17
        }
      ]
    },
    {
      "cell_type": "markdown",
      "metadata": {
        "collapsed": true,
        "id": "QRjGc_2gDcrY"
      },
      "source": [
        "## Congrats, you're done! \n",
        "At this point, you've learned the basics of Python datatypes, mathematical and Boolean expressions, variable names, and assignment. If you'd like more practice with these concepts, simply continue below. Next, we'll learn about variables."
      ]
    },
    {
      "cell_type": "markdown",
      "metadata": {
        "id": "whNRxjERDcrZ"
      },
      "source": [
        "### Mathematical expressions  \n",
        "In the cells below, write expressions for each of the following, and run the cells:\n",
        "* The quotient for the number of times the current year can be divided by 100 \n",
        "* The remainder of the above expression"
      ]
    },
    {
      "cell_type": "code",
      "metadata": {
        "id": "aULWAiWYDcra",
        "colab": {
          "base_uri": "https://localhost:8080/"
        },
        "outputId": "269b0fb4-adaa-436d-e383-5fffa60fec3a"
      },
      "source": [
        "# Practice 1) Quotient\n"
      ],
      "execution_count": null,
      "outputs": [
        {
          "output_type": "execute_result",
          "data": {
            "text/plain": [
              "20"
            ]
          },
          "metadata": {},
          "execution_count": 26
        }
      ]
    },
    {
      "cell_type": "code",
      "metadata": {
        "id": "YVhk_etLDcrb",
        "colab": {
          "base_uri": "https://localhost:8080/"
        },
        "outputId": "1ac8e6d3-db6f-4b20-fa93-96ef1a0ce19e"
      },
      "source": [
        "# Practice 2) Remainder\n"
      ],
      "execution_count": null,
      "outputs": [
        {
          "output_type": "execute_result",
          "data": {
            "text/plain": [
              "21"
            ]
          },
          "metadata": {},
          "execution_count": 34
        }
      ]
    },
    {
      "cell_type": "markdown",
      "metadata": {
        "id": "P_FORhr1Dcrd"
      },
      "source": [
        "### Data types\n",
        "Write expressions for each of the following. Do you understand why both return floats?\n",
        "* 6 divided by 2\n",
        "* 6.0 divided by 2.0"
      ]
    },
    {
      "cell_type": "code",
      "metadata": {
        "id": "lU09bz4qDcre",
        "colab": {
          "base_uri": "https://localhost:8080/"
        },
        "outputId": "212c34f4-4d45-49f3-a35b-899c503dfb63"
      },
      "source": [
        "# Practice 3) 6 divided by 2\n"
      ],
      "execution_count": null,
      "outputs": [
        {
          "output_type": "execute_result",
          "data": {
            "text/plain": [
              "3.0"
            ]
          },
          "metadata": {},
          "execution_count": 28
        }
      ]
    },
    {
      "cell_type": "code",
      "metadata": {
        "id": "_6EObJDLDcrg",
        "colab": {
          "base_uri": "https://localhost:8080/"
        },
        "outputId": "b1ec8f6d-280e-4b86-b0e3-ad9caf79b07d"
      },
      "source": [
        "# Practice 4) 6.0 divided by 2.0\n"
      ],
      "execution_count": null,
      "outputs": [
        {
          "output_type": "execute_result",
          "data": {
            "text/plain": [
              "3.0"
            ]
          },
          "metadata": {},
          "execution_count": 35
        }
      ]
    },
    {
      "cell_type": "markdown",
      "metadata": {
        "id": "1XOrdHJLDcri"
      },
      "source": [
        "### Order of operations\n",
        "In the cell below, re-write the following expression to include parentheses to help clarify the order of operations, ensuring that your answer is correct (18.0):\n",
        "* 10 / 5 + 3 * 6 - 2"
      ]
    },
    {
      "cell_type": "code",
      "metadata": {
        "id": "wB7ZPS0ZDcri",
        "colab": {
          "base_uri": "https://localhost:8080/"
        },
        "outputId": "6a66c1d0-6826-4ba6-8a76-0d38465d4d15"
      },
      "source": [
        "# Practice 5) 10 / 5 + 3 * 6 - 2 with parentheses\n"
      ],
      "execution_count": null,
      "outputs": [
        {
          "output_type": "execute_result",
          "data": {
            "text/plain": [
              "18.0"
            ]
          },
          "metadata": {},
          "execution_count": 36
        }
      ]
    },
    {
      "cell_type": "markdown",
      "metadata": {
        "id": "tAI7cCJSDcrk"
      },
      "source": [
        "### Boolean expressions\n",
        "Look back at the expressions you wrote for 3b above. How would you edit these to obtain the opposite answer? I.e., if your original expression returned `True`, edit it so that it now returns `False`.  \n",
        " \n",
        " For instance, if your original statement for `and` was `1 + 1 == 2 and 1 > 3` Python would have returned `False`. You could change the result in various ways, including changing the last 1 to a 10: `1 + 1 == 2 and 10 > 3` returns `True`."
      ]
    },
    {
      "cell_type": "code",
      "metadata": {
        "id": "d1sYFTP1Dcrk",
        "colab": {
          "base_uri": "https://localhost:8080/"
        },
        "outputId": "eb37d067-02fd-4d58-dd01-877695746e20"
      },
      "source": [
        "# Practice 6) and - different result\n"
      ],
      "execution_count": null,
      "outputs": [
        {
          "output_type": "execute_result",
          "data": {
            "text/plain": [
              "True"
            ]
          },
          "metadata": {},
          "execution_count": 31
        }
      ]
    },
    {
      "cell_type": "code",
      "metadata": {
        "id": "TE79dmDVDcrm",
        "colab": {
          "base_uri": "https://localhost:8080/"
        },
        "outputId": "decbe132-63ce-48d2-d05e-6677ee0e7e89"
      },
      "source": [
        "# Practice 7) or - different result\n"
      ],
      "execution_count": null,
      "outputs": [
        {
          "output_type": "execute_result",
          "data": {
            "text/plain": [
              "False"
            ]
          },
          "metadata": {},
          "execution_count": 32
        }
      ]
    },
    {
      "cell_type": "code",
      "metadata": {
        "id": "oQTiBNdODcru",
        "colab": {
          "base_uri": "https://localhost:8080/"
        },
        "outputId": "b78da07b-ced2-4424-9afc-745304424499"
      },
      "source": [
        "# Practice 8) not - different result\n"
      ],
      "execution_count": null,
      "outputs": [
        {
          "output_type": "execute_result",
          "data": {
            "text/plain": [
              "False"
            ]
          },
          "metadata": {},
          "execution_count": 33
        }
      ]
    }
  ]
}